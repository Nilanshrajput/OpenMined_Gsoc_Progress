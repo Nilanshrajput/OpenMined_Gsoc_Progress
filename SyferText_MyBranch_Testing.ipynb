{
  "nbformat": 4,
  "nbformat_minor": 0,
  "metadata": {
    "colab": {
      "name": "SyferText_MyBranch_Testing.ipynb",
      "provenance": [],
      "authorship_tag": "ABX9TyMOReOKl6CIBKXjEsUmEBM4",
      "include_colab_link": true
    },
    "kernelspec": {
      "name": "python3",
      "display_name": "Python 3"
    }
  },
  "cells": [
    {
      "cell_type": "markdown",
      "metadata": {
        "id": "view-in-github",
        "colab_type": "text"
      },
      "source": [
        "<a href=\"https://colab.research.google.com/github/Nilanshrajput/OpenMined_Gsoc_Progress/blob/master/SyferText_MyBranch_Testing.ipynb\" target=\"_parent\"><img src=\"https://colab.research.google.com/assets/colab-badge.svg\" alt=\"Open In Colab\"/></a>"
      ]
    },
    {
      "cell_type": "code",
      "metadata": {
        "id": "iO1fAZ7qGIWf",
        "colab_type": "code",
        "outputId": "85721750-1fcd-4f25-b2cc-38e5098f11be",
        "colab": {
          "base_uri": "https://localhost:8080/",
          "height": 1000
        }
      },
      "source": [
        "# Install Git LFS\n",
        "!curl -s https://packagecloud.io/install/repositories/github/git-lfs/script.deb.sh | sudo bash\n",
        "!sudo apt-get install git-lfs\n",
        "!git lfs install\\''\n",
        "# Install syfertext language model\n",
        "!pip install git+git://github.com/Nilanshrajput/syfertext_en_core_web_lg@master"
      ],
      "execution_count": 1,
      "outputs": [
        {
          "output_type": "stream",
          "text": [
            "Detected operating system as Ubuntu/bionic.\n",
            "Checking for curl...\n",
            "Detected curl...\n",
            "Checking for gpg...\n",
            "Detected gpg...\n",
            "Running apt-get update... done.\n",
            "Installing apt-transport-https... done.\n",
            "Installing /etc/apt/sources.list.d/github_git-lfs.list...done.\n",
            "Importing packagecloud gpg key... done.\n",
            "Running apt-get update... done.\n",
            "\n",
            "The repository is setup! You can now install packages.\n",
            "Reading package lists... Done\n",
            "Building dependency tree       \n",
            "Reading state information... Done\n",
            "The following NEW packages will be installed:\n",
            "  git-lfs\n",
            "0 upgraded, 1 newly installed, 0 to remove and 56 not upgraded.\n",
            "Need to get 6,877 kB of archives.\n",
            "After this operation, 16.4 MB of additional disk space will be used.\n",
            "Get:1 https://packagecloud.io/github/git-lfs/ubuntu bionic/main amd64 git-lfs amd64 2.11.0 [6,877 kB]\n",
            "Fetched 6,877 kB in 0s (14.5 MB/s)\n",
            "debconf: unable to initialize frontend: Dialog\n",
            "debconf: (No usable dialog-like program is installed, so the dialog based frontend cannot be used. at /usr/share/perl5/Debconf/FrontEnd/Dialog.pm line 76, <> line 1.)\n",
            "debconf: falling back to frontend: Readline\n",
            "debconf: unable to initialize frontend: Readline\n",
            "debconf: (This frontend requires a controlling tty.)\n",
            "debconf: falling back to frontend: Teletype\n",
            "dpkg-preconfigure: unable to re-open stdin: \n",
            "Selecting previously unselected package git-lfs.\n",
            "(Reading database ... 144471 files and directories currently installed.)\n",
            "Preparing to unpack .../git-lfs_2.11.0_amd64.deb ...\n",
            "Unpacking git-lfs (2.11.0) ...\n",
            "Setting up git-lfs (2.11.0) ...\n",
            "Git LFS initialized.\n",
            "Processing triggers for man-db (2.8.3-2ubuntu0.1) ...\n",
            "/bin/bash: -c: line 0: unexpected EOF while looking for matching `''\n",
            "/bin/bash: -c: line 1: syntax error: unexpected end of file\n",
            "Collecting git+git://github.com/Nilanshrajput/syfertext_en_core_web_lg@master\n",
            "  Cloning git://github.com/Nilanshrajput/syfertext_en_core_web_lg (to revision master) to /tmp/pip-req-build-a_6u2ytf\n",
            "  Running command git clone -q git://github.com/Nilanshrajput/syfertext_en_core_web_lg /tmp/pip-req-build-a_6u2ytf\n",
            "  Filtering content: 100% (3/3), 820.61 MiB | 52.66 MiB/s, done.\n",
            "Collecting numpy==1.18.2\n",
            "\u001b[?25l  Downloading https://files.pythonhosted.org/packages/07/08/a549ba8b061005bb629b76adc000f3caaaf881028b963c2e18f811c6edc1/numpy-1.18.2-cp36-cp36m-manylinux1_x86_64.whl (20.2MB)\n",
            "\u001b[K     |████████████████████████████████| 20.2MB 1.3MB/s \n",
            "\u001b[?25hBuilding wheels for collected packages: syfertext-en-core-web-lg\n",
            "  Building wheel for syfertext-en-core-web-lg (setup.py) ... \u001b[?25l\u001b[?25hdone\n",
            "  Created wheel for syfertext-en-core-web-lg: filename=syfertext_en_core_web_lg-0.0.1-cp36-none-any.whl size=774464161 sha256=bd8695f388c35e31184fa82c4a74a5133b26e9bb99e3153695bf2158daac58f1\n",
            "  Stored in directory: /tmp/pip-ephem-wheel-cache-pzrfk0m5/wheels/59/55/ab/309821e4cc31d9f53129229bd3ad759276e30fb8daef7ddeef\n",
            "Successfully built syfertext-en-core-web-lg\n",
            "\u001b[31mERROR: datascience 0.10.6 has requirement folium==0.2.1, but you'll have folium 0.8.3 which is incompatible.\u001b[0m\n",
            "\u001b[31mERROR: albumentations 0.1.12 has requirement imgaug<0.2.7,>=0.2.5, but you'll have imgaug 0.2.9 which is incompatible.\u001b[0m\n",
            "Installing collected packages: numpy, syfertext-en-core-web-lg\n",
            "  Found existing installation: numpy 1.18.4\n",
            "    Uninstalling numpy-1.18.4:\n",
            "      Successfully uninstalled numpy-1.18.4\n",
            "Successfully installed numpy-1.18.2 syfertext-en-core-web-lg-0.0.1\n"
          ],
          "name": "stdout"
        },
        {
          "output_type": "display_data",
          "data": {
            "application/vnd.colab-display-data+json": {
              "pip_warning": {
                "packages": [
                  "numpy"
                ]
              }
            }
          },
          "metadata": {
            "tags": []
          }
        }
      ]
    },
    {
      "cell_type": "code",
      "metadata": {
        "id": "osRUv2uJlsRI",
        "colab_type": "code",
        "outputId": "f359ba5b-8474-40c6-8c17-a8c33c02f27d",
        "colab": {
          "base_uri": "https://localhost:8080/",
          "height": 433
        }
      },
      "source": [
        "!pip install git+git://github.com/Nilanshrajput/syfertext_en_core_web_lg@master"
      ],
      "execution_count": 0,
      "outputs": [
        {
          "output_type": "stream",
          "text": [
            "Collecting git+git://github.com/Nilanshrajput/syfertext_en_core_web_lg@master\n",
            "  Cloning git://github.com/Nilanshrajput/syfertext_en_core_web_lg (to revision master) to /tmp/pip-req-build-_k3wnxqs\n",
            "  Running command git clone -q git://github.com/Nilanshrajput/syfertext_en_core_web_lg /tmp/pip-req-build-_k3wnxqs\n",
            "Collecting numpy==1.18.2\n",
            "\u001b[?25l  Downloading https://files.pythonhosted.org/packages/07/08/a549ba8b061005bb629b76adc000f3caaaf881028b963c2e18f811c6edc1/numpy-1.18.2-cp36-cp36m-manylinux1_x86_64.whl (20.2MB)\n",
            "\u001b[K     |████████████████████████████████| 20.2MB 4.5MB/s \n",
            "\u001b[?25hBuilding wheels for collected packages: syfertext-en-core-web-lg\n",
            "  Building wheel for syfertext-en-core-web-lg (setup.py) ... \u001b[?25l\u001b[?25hdone\n",
            "  Created wheel for syfertext-en-core-web-lg: filename=syfertext_en_core_web_lg-0.0.1-cp36-none-any.whl size=3976 sha256=6b8af0f536658f6d941914f600912810f5fe1d19783cfa5ca73a028a44b8c051\n",
            "  Stored in directory: /tmp/pip-ephem-wheel-cache-l8xuy3dp/wheels/59/55/ab/309821e4cc31d9f53129229bd3ad759276e30fb8daef7ddeef\n",
            "Successfully built syfertext-en-core-web-lg\n",
            "\u001b[31mERROR: datascience 0.10.6 has requirement folium==0.2.1, but you'll have folium 0.8.3 which is incompatible.\u001b[0m\n",
            "\u001b[31mERROR: albumentations 0.1.12 has requirement imgaug<0.2.7,>=0.2.5, but you'll have imgaug 0.2.9 which is incompatible.\u001b[0m\n",
            "Installing collected packages: numpy, syfertext-en-core-web-lg\n",
            "  Found existing installation: numpy 1.18.4\n",
            "    Uninstalling numpy-1.18.4:\n",
            "      Successfully uninstalled numpy-1.18.4\n",
            "Successfully installed numpy-1.18.2 syfertext-en-core-web-lg-0.0.1\n"
          ],
          "name": "stdout"
        },
        {
          "output_type": "display_data",
          "data": {
            "application/vnd.colab-display-data+json": {
              "pip_warning": {
                "packages": [
                  "numpy"
                ]
              }
            }
          },
          "metadata": {
            "tags": []
          }
        }
      ]
    },
    {
      "cell_type": "code",
      "metadata": {
        "id": "-YcsDDiolyCT",
        "colab_type": "code",
        "outputId": "7c7dc4e7-2cef-47b3-e478-bbd84eb125ce",
        "colab": {
          "base_uri": "https://localhost:8080/",
          "height": 138
        }
      },
      "source": [
        "!git clone https://github.com/OpenMined/SyferText.git"
      ],
      "execution_count": 0,
      "outputs": [
        {
          "output_type": "stream",
          "text": [
            "Cloning into 'SyferText'...\n",
            "remote: Enumerating objects: 25, done.\u001b[K\n",
            "remote: Counting objects: 100% (25/25), done.\u001b[K\n",
            "remote: Compressing objects: 100% (19/19), done.\u001b[K\n",
            "remote: Total 1655 (delta 11), reused 14 (delta 6), pack-reused 1630\u001b[K\n",
            "Receiving objects: 100% (1655/1655), 757.70 KiB | 1.05 MiB/s, done.\n",
            "Resolving deltas: 100% (1070/1070), done.\n"
          ],
          "name": "stdout"
        }
      ]
    },
    {
      "cell_type": "code",
      "metadata": {
        "id": "ao3MiEzc7iaX",
        "colab_type": "code",
        "outputId": "185acef9-c45a-45c5-a39a-65a48b15c70d",
        "colab": {
          "base_uri": "https://localhost:8080/",
          "height": 138
        }
      },
      "source": [
        "!git clone --single-branch --branch Lexeme https://github.com/Nilanshrajput/SyferText.git"
      ],
      "execution_count": 13,
      "outputs": [
        {
          "output_type": "stream",
          "text": [
            "Cloning into 'SyferText'...\n",
            "remote: Enumerating objects: 228, done.\u001b[K\n",
            "remote: Counting objects:   0% (1/228)\u001b[K\rremote: Counting objects:   1% (3/228)\u001b[K\rremote: Counting objects:   2% (5/228)\u001b[K\rremote: Counting objects:   3% (7/228)\u001b[K\rremote: Counting objects:   4% (10/228)\u001b[K\rremote: Counting objects:   5% (12/228)\u001b[K\rremote: Counting objects:   6% (14/228)\u001b[K\rremote: Counting objects:   7% (16/228)\u001b[K\rremote: Counting objects:   8% (19/228)\u001b[K\rremote: Counting objects:   9% (21/228)\u001b[K\rremote: Counting objects:  10% (23/228)\u001b[K\rremote: Counting objects:  11% (26/228)\u001b[K\rremote: Counting objects:  12% (28/228)\u001b[K\rremote: Counting objects:  13% (30/228)\u001b[K\rremote: Counting objects:  14% (32/228)\u001b[K\rremote: Counting objects:  15% (35/228)\u001b[K\rremote: Counting objects:  16% (37/228)\u001b[K\rremote: Counting objects:  17% (39/228)\u001b[K\rremote: Counting objects:  18% (42/228)\u001b[K\rremote: Counting objects:  19% (44/228)\u001b[K\rremote: Counting objects:  20% (46/228)\u001b[K\rremote: Counting objects:  21% (48/228)\u001b[K\rremote: Counting objects:  22% (51/228)\u001b[K\rremote: Counting objects:  23% (53/228)\u001b[K\rremote: Counting objects:  24% (55/228)\u001b[K\rremote: Counting objects:  25% (57/228)\u001b[K\rremote: Counting objects:  26% (60/228)\u001b[K\rremote: Counting objects:  27% (62/228)\u001b[K\rremote: Counting objects:  28% (64/228)\u001b[K\rremote: Counting objects:  29% (67/228)\u001b[K\rremote: Counting objects:  30% (69/228)\u001b[K\rremote: Counting objects:  31% (71/228)\u001b[K\rremote: Counting objects:  32% (73/228)\u001b[K\rremote: Counting objects:  33% (76/228)\u001b[K\rremote: Counting objects:  34% (78/228)\u001b[K\rremote: Counting objects:  35% (80/228)\u001b[K\rremote: Counting objects:  36% (83/228)\u001b[K\rremote: Counting objects:  37% (85/228)\u001b[K\rremote: Counting objects:  38% (87/228)\u001b[K\rremote: Counting objects:  39% (89/228)\u001b[K\rremote: Counting objects:  40% (92/228)\u001b[K\rremote: Counting objects:  41% (94/228)\u001b[K\rremote: Counting objects:  42% (96/228)\u001b[K\rremote: Counting objects:  43% (99/228)\u001b[K\rremote: Counting objects:  44% (101/228)\u001b[K\rremote: Counting objects:  45% (103/228)\u001b[K\rremote: Counting objects:  46% (105/228)\u001b[K\rremote: Counting objects:  47% (108/228)\u001b[K\rremote: Counting objects:  48% (110/228)\u001b[K\rremote: Counting objects:  49% (112/228)\u001b[K\rremote: Counting objects:  50% (114/228)\u001b[K\rremote: Counting objects:  51% (117/228)\u001b[K\rremote: Counting objects:  52% (119/228)\u001b[K\rremote: Counting objects:  53% (121/228)\u001b[K\rremote: Counting objects:  54% (124/228)\u001b[K\rremote: Counting objects:  55% (126/228)\u001b[K\rremote: Counting objects:  56% (128/228)\u001b[K\rremote: Counting objects:  57% (130/228)\u001b[K\rremote: Counting objects:  58% (133/228)\u001b[K\rremote: Counting objects:  59% (135/228)\u001b[K\rremote: Counting objects:  60% (137/228)\u001b[K\rremote: Counting objects:  61% (140/228)\u001b[K\rremote: Counting objects:  62% (142/228)\u001b[K\rremote: Counting objects:  63% (144/228)\u001b[K\rremote: Counting objects:  64% (146/228)\u001b[K\rremote: Counting objects:  65% (149/228)\u001b[K\rremote: Counting objects:  66% (151/228)\u001b[K\rremote: Counting objects:  67% (153/228)\u001b[K\rremote: Counting objects:  68% (156/228)\u001b[K\rremote: Counting objects:  69% (158/228)\u001b[K\rremote: Counting objects:  70% (160/228)\u001b[K\rremote: Counting objects:  71% (162/228)\u001b[K\rremote: Counting objects:  72% (165/228)\u001b[K\rremote: Counting objects:  73% (167/228)\u001b[K\rremote: Counting objects:  74% (169/228)\u001b[K\rremote: Counting objects:  75% (171/228)\u001b[K\rremote: Counting objects:  76% (174/228)\u001b[K\rremote: Counting objects:  77% (176/228)\u001b[K\rremote: Counting objects:  78% (178/228)\u001b[K\rremote: Counting objects:  79% (181/228)\u001b[K\rremote: Counting objects:  80% (183/228)\u001b[K\rremote: Counting objects:  81% (185/228)\u001b[K\rremote: Counting objects:  82% (187/228)\u001b[K\rremote: Counting objects:  83% (190/228)\u001b[K\rremote: Counting objects:  84% (192/228)\u001b[K\rremote: Counting objects:  85% (194/228)\u001b[K\rremote: Counting objects:  86% (197/228)\u001b[K\rremote: Counting objects:  87% (199/228)\u001b[K\rremote: Counting objects:  88% (201/228)\u001b[K\rremote: Counting objects:  89% (203/228)\u001b[K\rremote: Counting objects:  90% (206/228)\u001b[K\rremote: Counting objects:  91% (208/228)\u001b[K\rremote: Counting objects:  92% (210/228)\u001b[K\rremote: Counting objects:  93% (213/228)\u001b[K\rremote: Counting objects:  94% (215/228)\u001b[K\rremote: Counting objects:  95% (217/228)\u001b[K\rremote: Counting objects:  96% (219/228)\u001b[K\rremote: Counting objects:  97% (222/228)\u001b[K\rremote: Counting objects:  98% (224/228)\u001b[K\rremote: Counting objects:  99% (226/228)\u001b[K\rremote: Counting objects: 100% (228/228)\u001b[K\rremote: Counting objects: 100% (228/228), done.\u001b[K\n",
            "remote: Compressing objects:   0% (1/154)\u001b[K\rremote: Compressing objects:   1% (2/154)\u001b[K\rremote: Compressing objects:   2% (4/154)\u001b[K\rremote: Compressing objects:   3% (5/154)\u001b[K\rremote: Compressing objects:   4% (7/154)\u001b[K\rremote: Compressing objects:   5% (8/154)\u001b[K\rremote: Compressing objects:   6% (10/154)\u001b[K\rremote: Compressing objects:   7% (11/154)\u001b[K\rremote: Compressing objects:   8% (13/154)\u001b[K\rremote: Compressing objects:   9% (14/154)\u001b[K\rremote: Compressing objects:  10% (16/154)\u001b[K\rremote: Compressing objects:  11% (17/154)\u001b[K\rremote: Compressing objects:  12% (19/154)\u001b[K\rremote: Compressing objects:  13% (21/154)\u001b[K\rremote: Compressing objects:  14% (22/154)\u001b[K\rremote: Compressing objects:  15% (24/154)\u001b[K\rremote: Compressing objects:  16% (25/154)\u001b[K\rremote: Compressing objects:  17% (27/154)\u001b[K\rremote: Compressing objects:  18% (28/154)\u001b[K\rremote: Compressing objects:  19% (30/154)\u001b[K\rremote: Compressing objects:  20% (31/154)\u001b[K\rremote: Compressing objects:  21% (33/154)\u001b[K\rremote: Compressing objects:  22% (34/154)\u001b[K\rremote: Compressing objects:  23% (36/154)\u001b[K\rremote: Compressing objects:  24% (37/154)\u001b[K\rremote: Compressing objects:  25% (39/154)\u001b[K\rremote: Compressing objects:  26% (41/154)\u001b[K\rremote: Compressing objects:  27% (42/154)\u001b[K\rremote: Compressing objects:  28% (44/154)\u001b[K\rremote: Compressing objects:  29% (45/154)\u001b[K\rremote: Compressing objects:  30% (47/154)\u001b[K\rremote: Compressing objects:  31% (48/154)\u001b[K\rremote: Compressing objects:  32% (50/154)\u001b[K\rremote: Compressing objects:  33% (51/154)\u001b[K\rremote: Compressing objects:  34% (53/154)\u001b[K\rremote: Compressing objects:  35% (54/154)\u001b[K\rremote: Compressing objects:  36% (56/154)\u001b[K\rremote: Compressing objects:  37% (57/154)\u001b[K\rremote: Compressing objects:  38% (59/154)\u001b[K\rremote: Compressing objects:  39% (61/154)\u001b[K\rremote: Compressing objects:  40% (62/154)\u001b[K\rremote: Compressing objects:  41% (64/154)\u001b[K\rremote: Compressing objects:  42% (65/154)\u001b[K\rremote: Compressing objects:  43% (67/154)\u001b[K\rremote: Compressing objects:  44% (68/154)\u001b[K\rremote: Compressing objects:  45% (70/154)\u001b[K\rremote: Compressing objects:  46% (71/154)\u001b[K\rremote: Compressing objects:  47% (73/154)\u001b[K\rremote: Compressing objects:  48% (74/154)\u001b[K\rremote: Compressing objects:  49% (76/154)\u001b[K\rremote: Compressing objects:  50% (77/154)\u001b[K\rremote: Compressing objects:  51% (79/154)\u001b[K\rremote: Compressing objects:  52% (81/154)\u001b[K\rremote: Compressing objects:  53% (82/154)\u001b[K\rremote: Compressing objects:  54% (84/154)\u001b[K\rremote: Compressing objects:  55% (85/154)\u001b[K\rremote: Compressing objects:  56% (87/154)\u001b[K\rremote: Compressing objects:  57% (88/154)\u001b[K\rremote: Compressing objects:  58% (90/154)\u001b[K\rremote: Compressing objects:  59% (91/154)\u001b[K\rremote: Compressing objects:  60% (93/154)\u001b[K\rremote: Compressing objects:  61% (94/154)\u001b[K\rremote: Compressing objects:  62% (96/154)\u001b[K\rremote: Compressing objects:  63% (98/154)\u001b[K\rremote: Compressing objects:  64% (99/154)\u001b[K\rremote: Compressing objects:  65% (101/154)\u001b[K\rremote: Compressing objects:  66% (102/154)\u001b[K\rremote: Compressing objects:  67% (104/154)\u001b[K\rremote: Compressing objects:  68% (105/154)\u001b[K\rremote: Compressing objects:  69% (107/154)\u001b[K\rremote: Compressing objects:  70% (108/154)\u001b[K\rremote: Compressing objects:  71% (110/154)\u001b[K\rremote: Compressing objects:  72% (111/154)\u001b[K\rremote: Compressing objects:  73% (113/154)\u001b[K\rremote: Compressing objects:  74% (114/154)\u001b[K\rremote: Compressing objects:  75% (116/154)\u001b[K\rremote: Compressing objects:  76% (118/154)\u001b[K\rremote: Compressing objects:  77% (119/154)\u001b[K\rremote: Compressing objects:  78% (121/154)\u001b[K\rremote: Compressing objects:  79% (122/154)\u001b[K\rremote: Compressing objects:  80% (124/154)\u001b[K\rremote: Compressing objects:  81% (125/154)\u001b[K\rremote: Compressing objects:  82% (127/154)\u001b[K\rremote: Compressing objects:  83% (128/154)\u001b[K\rremote: Compressing objects:  84% (130/154)\u001b[K\rremote: Compressing objects:  85% (131/154)\u001b[K\rremote: Compressing objects:  86% (133/154)\u001b[K\rremote: Compressing objects:  87% (134/154)\u001b[K\rremote: Compressing objects:  88% (136/154)\u001b[K\rremote: Compressing objects:  89% (138/154)\u001b[K\rremote: Compressing objects:  90% (139/154)\u001b[K\rremote: Compressing objects:  91% (141/154)\u001b[K\rremote: Compressing objects:  92% (142/154)\u001b[K\rremote: Compressing objects:  93% (144/154)\u001b[K\rremote: Compressing objects:  94% (145/154)\u001b[K\rremote: Compressing objects:  95% (147/154)\u001b[K\rremote: Compressing objects:  96% (148/154)\u001b[K\rremote: Compressing objects:  97% (150/154)\u001b[K\rremote: Compressing objects:  98% (151/154)\u001b[K\rremote: Compressing objects:  99% (153/154)\u001b[K\rremote: Compressing objects: 100% (154/154)\u001b[K\rremote: Compressing objects: 100% (154/154), done.\u001b[K\n",
            "Receiving objects:   0% (1/2082)   \rReceiving objects:   1% (21/2082)   \rReceiving objects:   2% (42/2082)   \rReceiving objects:   3% (63/2082)   \rReceiving objects:   4% (84/2082)   \rReceiving objects:   5% (105/2082)   \rReceiving objects:   6% (125/2082)   \rReceiving objects:   7% (146/2082)   \rReceiving objects:   8% (167/2082)   \rReceiving objects:   9% (188/2082)   \rReceiving objects:  10% (209/2082)   \rReceiving objects:  11% (230/2082)   \rReceiving objects:  12% (250/2082)   \rReceiving objects:  13% (271/2082)   \rReceiving objects:  14% (292/2082)   \rReceiving objects:  15% (313/2082)   \rReceiving objects:  16% (334/2082)   \rReceiving objects:  17% (354/2082)   \rReceiving objects:  18% (375/2082)   \rReceiving objects:  19% (396/2082)   \rReceiving objects:  20% (417/2082)   \rReceiving objects:  21% (438/2082)   \rReceiving objects:  22% (459/2082)   \rReceiving objects:  23% (479/2082)   \rReceiving objects:  24% (500/2082)   \rReceiving objects:  25% (521/2082)   \rReceiving objects:  26% (542/2082)   \rReceiving objects:  27% (563/2082)   \rReceiving objects:  28% (583/2082)   \rReceiving objects:  29% (604/2082)   \rReceiving objects:  30% (625/2082)   \rReceiving objects:  31% (646/2082)   \rReceiving objects:  32% (667/2082)   \rReceiving objects:  33% (688/2082)   \rReceiving objects:  34% (708/2082)   \rReceiving objects:  35% (729/2082)   \rReceiving objects:  36% (750/2082)   \rReceiving objects:  37% (771/2082)   \rReceiving objects:  38% (792/2082)   \rReceiving objects:  39% (812/2082)   \rReceiving objects:  40% (833/2082)   \rReceiving objects:  41% (854/2082)   \rReceiving objects:  42% (875/2082)   \rReceiving objects:  43% (896/2082)   \rReceiving objects:  44% (917/2082)   \rReceiving objects:  45% (937/2082)   \rReceiving objects:  46% (958/2082)   \rReceiving objects:  47% (979/2082)   \rReceiving objects:  48% (1000/2082)   \rReceiving objects:  49% (1021/2082)   \rReceiving objects:  50% (1041/2082)   \rReceiving objects:  51% (1062/2082)   \rReceiving objects:  52% (1083/2082)   \rReceiving objects:  53% (1104/2082)   \rReceiving objects:  54% (1125/2082)   \rReceiving objects:  55% (1146/2082)   \rReceiving objects:  56% (1166/2082)   \rReceiving objects:  57% (1187/2082)   \rReceiving objects:  58% (1208/2082)   \rReceiving objects:  59% (1229/2082)   \rReceiving objects:  60% (1250/2082)   \rReceiving objects:  61% (1271/2082)   \rReceiving objects:  62% (1291/2082)   \rReceiving objects:  63% (1312/2082)   \rReceiving objects:  64% (1333/2082)   \rReceiving objects:  65% (1354/2082)   \rReceiving objects:  66% (1375/2082)   \rReceiving objects:  67% (1395/2082)   \rReceiving objects:  68% (1416/2082)   \rReceiving objects:  69% (1437/2082)   \rReceiving objects:  70% (1458/2082)   \rReceiving objects:  71% (1479/2082)   \rReceiving objects:  72% (1500/2082)   \rReceiving objects:  73% (1520/2082)   \rReceiving objects:  74% (1541/2082)   \rReceiving objects:  75% (1562/2082)   \rReceiving objects:  76% (1583/2082)   \rReceiving objects:  77% (1604/2082)   \rReceiving objects:  78% (1624/2082)   \rReceiving objects:  79% (1645/2082)   \rReceiving objects:  80% (1666/2082)   \rReceiving objects:  81% (1687/2082)   \rReceiving objects:  82% (1708/2082)   \rReceiving objects:  83% (1729/2082)   \rReceiving objects:  84% (1749/2082)   \rReceiving objects:  85% (1770/2082)   \rReceiving objects:  86% (1791/2082)   \rReceiving objects:  87% (1812/2082)   \rReceiving objects:  88% (1833/2082)   \rReceiving objects:  89% (1853/2082)   \rremote: Total 2082 (delta 159), reused 123 (delta 74), pack-reused 1854\u001b[K\n",
            "Receiving objects:  90% (1874/2082)   \rReceiving objects:  91% (1895/2082)   \rReceiving objects:  92% (1916/2082)   \rReceiving objects:  93% (1937/2082)   \rReceiving objects:  94% (1958/2082)   \rReceiving objects:  95% (1978/2082)   \rReceiving objects:  96% (1999/2082)   \rReceiving objects:  97% (2020/2082)   \rReceiving objects:  98% (2041/2082)   \rReceiving objects:  99% (2062/2082)   \rReceiving objects: 100% (2082/2082)   \rReceiving objects: 100% (2082/2082), 887.32 KiB | 8.07 MiB/s, done.\n",
            "Resolving deltas:   0% (0/1383)   \rResolving deltas:   1% (14/1383)   \rResolving deltas:   2% (28/1383)   \rResolving deltas:   3% (54/1383)   \rResolving deltas:   4% (58/1383)   \rResolving deltas:   5% (72/1383)   \rResolving deltas:   6% (88/1383)   \rResolving deltas:   8% (121/1383)   \rResolving deltas:   9% (125/1383)   \rResolving deltas:  10% (140/1383)   \rResolving deltas:  11% (153/1383)   \rResolving deltas:  12% (167/1383)   \rResolving deltas:  13% (182/1383)   \rResolving deltas:  14% (195/1383)   \rResolving deltas:  15% (208/1383)   \rResolving deltas:  17% (239/1383)   \rResolving deltas:  18% (260/1383)   \rResolving deltas:  19% (268/1383)   \rResolving deltas:  20% (279/1383)   \rResolving deltas:  21% (301/1383)   \rResolving deltas:  22% (305/1383)   \rResolving deltas:  25% (357/1383)   \rResolving deltas:  27% (380/1383)   \rResolving deltas:  28% (395/1383)   \rResolving deltas:  30% (419/1383)   \rResolving deltas:  31% (434/1383)   \rResolving deltas:  32% (444/1383)   \rResolving deltas:  33% (466/1383)   \rResolving deltas:  34% (474/1383)   \rResolving deltas:  40% (554/1383)   \rResolving deltas:  45% (628/1383)   \rResolving deltas:  47% (661/1383)   \rResolving deltas:  48% (666/1383)   \rResolving deltas:  50% (705/1383)   \rResolving deltas:  52% (720/1383)   \rResolving deltas:  53% (733/1383)   \rResolving deltas:  54% (757/1383)   \rResolving deltas:  55% (765/1383)   \rResolving deltas:  57% (791/1383)   \rResolving deltas:  58% (804/1383)   \rResolving deltas:  60% (832/1383)   \rResolving deltas:  61% (844/1383)   \rResolving deltas:  67% (937/1383)   \rResolving deltas:  68% (941/1383)   \rResolving deltas:  69% (955/1383)   \rResolving deltas:  70% (978/1383)   \rResolving deltas:  71% (985/1383)   \rResolving deltas:  74% (1025/1383)   \rResolving deltas:  75% (1038/1383)   \rResolving deltas:  77% (1070/1383)   \rResolving deltas:  78% (1083/1383)   \rResolving deltas:  79% (1094/1383)   \rResolving deltas:  80% (1113/1383)   \rResolving deltas:  81% (1125/1383)   \rResolving deltas:  82% (1135/1383)   \rResolving deltas:  83% (1150/1383)   \rResolving deltas:  84% (1164/1383)   \rResolving deltas:  85% (1178/1383)   \rResolving deltas:  86% (1190/1383)   \rResolving deltas:  87% (1215/1383)   \rResolving deltas:  88% (1221/1383)   \rResolving deltas:  90% (1250/1383)   \rResolving deltas:  91% (1262/1383)   \rResolving deltas:  92% (1276/1383)   \rResolving deltas:  94% (1311/1383)   \rResolving deltas:  95% (1316/1383)   \rResolving deltas:  96% (1328/1383)   \rResolving deltas:  97% (1344/1383)   \rResolving deltas:  98% (1365/1383)   \rResolving deltas:  99% (1377/1383)   \rResolving deltas: 100% (1383/1383)   \rResolving deltas: 100% (1383/1383), done.\n"
          ],
          "name": "stdout"
        }
      ]
    },
    {
      "cell_type": "code",
      "metadata": {
        "id": "327vcYMy-4MS",
        "colab_type": "code",
        "colab": {}
      },
      "source": [
        "!rm -r SyferText"
      ],
      "execution_count": 0,
      "outputs": []
    },
    {
      "cell_type": "code",
      "metadata": {
        "id": "eSez6Nqi85tJ",
        "colab_type": "code",
        "colab": {}
      },
      "source": [
        "import os\n",
        "os.chdir('/content/SyferText')"
      ],
      "execution_count": 0,
      "outputs": []
    },
    {
      "cell_type": "code",
      "metadata": {
        "id": "N4kCeiUp9ArT",
        "colab_type": "code",
        "outputId": "03fa858d-9b3f-4d89-fcf6-1b304579cd8f",
        "colab": {
          "base_uri": "https://localhost:8080/",
          "height": 1000
        }
      },
      "source": [
        "!python setup.py install"
      ],
      "execution_count": 15,
      "outputs": [
        {
          "output_type": "stream",
          "text": [
            "/usr/lib/python3.6/distutils/dist.py:261: UserWarning: Unknown distribution option: 'classifier'\n",
            "  warnings.warn(msg)\n",
            "running install\n",
            "running bdist_egg\n",
            "running egg_info\n",
            "creating syfertext.egg-info\n",
            "writing syfertext.egg-info/PKG-INFO\n",
            "writing dependency_links to syfertext.egg-info/dependency_links.txt\n",
            "writing requirements to syfertext.egg-info/requires.txt\n",
            "writing top-level names to syfertext.egg-info/top_level.txt\n",
            "writing manifest file 'syfertext.egg-info/SOURCES.txt'\n",
            "writing manifest file 'syfertext.egg-info/SOURCES.txt'\n",
            "installing library code to build/bdist.linux-x86_64/egg\n",
            "running install_lib\n",
            "running build_py\n",
            "creating build\n",
            "creating build/lib\n",
            "creating build/lib/syfertext\n",
            "copying syfertext/tokenizer.py -> build/lib/syfertext\n",
            "copying syfertext/char_classes.py -> build/lib/syfertext\n",
            "copying syfertext/vocab.py -> build/lib/syfertext\n",
            "copying syfertext/utils.py -> build/lib/syfertext\n",
            "copying syfertext/doc.py -> build/lib/syfertext\n",
            "copying syfertext/stop_words.py -> build/lib/syfertext\n",
            "copying syfertext/vectors.py -> build/lib/syfertext\n",
            "copying syfertext/token.py -> build/lib/syfertext\n",
            "copying syfertext/string_store.py -> build/lib/syfertext\n",
            "copying syfertext/span.py -> build/lib/syfertext\n",
            "copying syfertext/__init__.py -> build/lib/syfertext\n",
            "copying syfertext/underscore.py -> build/lib/syfertext\n",
            "copying syfertext/lexeme.py -> build/lib/syfertext\n",
            "copying syfertext/language.py -> build/lib/syfertext\n",
            "copying syfertext/token_exception.py -> build/lib/syfertext\n",
            "copying syfertext/punctuations.py -> build/lib/syfertext\n",
            "copying syfertext/attrs.py -> build/lib/syfertext\n",
            "copying syfertext/lex_attrs.py -> build/lib/syfertext\n",
            "creating build/lib/syfertext/pointers\n",
            "copying syfertext/pointers/__init__.py -> build/lib/syfertext/pointers\n",
            "copying syfertext/pointers/doc_pointer.py -> build/lib/syfertext/pointers\n",
            "copying syfertext/pointers/span_pointer.py -> build/lib/syfertext/pointers\n",
            "creating build/lib/syfertext/pipeline\n",
            "copying syfertext/pipeline/subpipeline.py -> build/lib/syfertext/pipeline\n",
            "copying syfertext/pipeline/simple_tagger.py -> build/lib/syfertext/pipeline\n",
            "copying syfertext/pipeline/__init__.py -> build/lib/syfertext/pipeline\n",
            "creating build/lib/syfertext/pipeline/pointers\n",
            "copying syfertext/pipeline/pointers/__init__.py -> build/lib/syfertext/pipeline/pointers\n",
            "copying syfertext/pipeline/pointers/subpipeline_pointer.py -> build/lib/syfertext/pipeline/pointers\n",
            "creating build/bdist.linux-x86_64\n",
            "creating build/bdist.linux-x86_64/egg\n",
            "creating build/bdist.linux-x86_64/egg/syfertext\n",
            "copying build/lib/syfertext/tokenizer.py -> build/bdist.linux-x86_64/egg/syfertext\n",
            "copying build/lib/syfertext/char_classes.py -> build/bdist.linux-x86_64/egg/syfertext\n",
            "copying build/lib/syfertext/vocab.py -> build/bdist.linux-x86_64/egg/syfertext\n",
            "copying build/lib/syfertext/utils.py -> build/bdist.linux-x86_64/egg/syfertext\n",
            "copying build/lib/syfertext/doc.py -> build/bdist.linux-x86_64/egg/syfertext\n",
            "copying build/lib/syfertext/stop_words.py -> build/bdist.linux-x86_64/egg/syfertext\n",
            "copying build/lib/syfertext/vectors.py -> build/bdist.linux-x86_64/egg/syfertext\n",
            "copying build/lib/syfertext/token.py -> build/bdist.linux-x86_64/egg/syfertext\n",
            "copying build/lib/syfertext/string_store.py -> build/bdist.linux-x86_64/egg/syfertext\n",
            "copying build/lib/syfertext/span.py -> build/bdist.linux-x86_64/egg/syfertext\n",
            "copying build/lib/syfertext/__init__.py -> build/bdist.linux-x86_64/egg/syfertext\n",
            "copying build/lib/syfertext/underscore.py -> build/bdist.linux-x86_64/egg/syfertext\n",
            "creating build/bdist.linux-x86_64/egg/syfertext/pointers\n",
            "copying build/lib/syfertext/pointers/__init__.py -> build/bdist.linux-x86_64/egg/syfertext/pointers\n",
            "copying build/lib/syfertext/pointers/doc_pointer.py -> build/bdist.linux-x86_64/egg/syfertext/pointers\n",
            "copying build/lib/syfertext/pointers/span_pointer.py -> build/bdist.linux-x86_64/egg/syfertext/pointers\n",
            "copying build/lib/syfertext/lexeme.py -> build/bdist.linux-x86_64/egg/syfertext\n",
            "copying build/lib/syfertext/language.py -> build/bdist.linux-x86_64/egg/syfertext\n",
            "copying build/lib/syfertext/token_exception.py -> build/bdist.linux-x86_64/egg/syfertext\n",
            "copying build/lib/syfertext/punctuations.py -> build/bdist.linux-x86_64/egg/syfertext\n",
            "creating build/bdist.linux-x86_64/egg/syfertext/pipeline\n",
            "copying build/lib/syfertext/pipeline/subpipeline.py -> build/bdist.linux-x86_64/egg/syfertext/pipeline\n",
            "copying build/lib/syfertext/pipeline/simple_tagger.py -> build/bdist.linux-x86_64/egg/syfertext/pipeline\n",
            "copying build/lib/syfertext/pipeline/__init__.py -> build/bdist.linux-x86_64/egg/syfertext/pipeline\n",
            "creating build/bdist.linux-x86_64/egg/syfertext/pipeline/pointers\n",
            "copying build/lib/syfertext/pipeline/pointers/__init__.py -> build/bdist.linux-x86_64/egg/syfertext/pipeline/pointers\n",
            "copying build/lib/syfertext/pipeline/pointers/subpipeline_pointer.py -> build/bdist.linux-x86_64/egg/syfertext/pipeline/pointers\n",
            "copying build/lib/syfertext/attrs.py -> build/bdist.linux-x86_64/egg/syfertext\n",
            "copying build/lib/syfertext/lex_attrs.py -> build/bdist.linux-x86_64/egg/syfertext\n",
            "byte-compiling build/bdist.linux-x86_64/egg/syfertext/tokenizer.py to tokenizer.cpython-36.pyc\n",
            "byte-compiling build/bdist.linux-x86_64/egg/syfertext/char_classes.py to char_classes.cpython-36.pyc\n",
            "byte-compiling build/bdist.linux-x86_64/egg/syfertext/vocab.py to vocab.cpython-36.pyc\n",
            "byte-compiling build/bdist.linux-x86_64/egg/syfertext/utils.py to utils.cpython-36.pyc\n",
            "byte-compiling build/bdist.linux-x86_64/egg/syfertext/doc.py to doc.cpython-36.pyc\n",
            "byte-compiling build/bdist.linux-x86_64/egg/syfertext/stop_words.py to stop_words.cpython-36.pyc\n",
            "byte-compiling build/bdist.linux-x86_64/egg/syfertext/vectors.py to vectors.cpython-36.pyc\n",
            "byte-compiling build/bdist.linux-x86_64/egg/syfertext/token.py to token.cpython-36.pyc\n",
            "byte-compiling build/bdist.linux-x86_64/egg/syfertext/string_store.py to string_store.cpython-36.pyc\n",
            "byte-compiling build/bdist.linux-x86_64/egg/syfertext/span.py to span.cpython-36.pyc\n",
            "byte-compiling build/bdist.linux-x86_64/egg/syfertext/__init__.py to __init__.cpython-36.pyc\n",
            "byte-compiling build/bdist.linux-x86_64/egg/syfertext/underscore.py to underscore.cpython-36.pyc\n",
            "byte-compiling build/bdist.linux-x86_64/egg/syfertext/pointers/__init__.py to __init__.cpython-36.pyc\n",
            "byte-compiling build/bdist.linux-x86_64/egg/syfertext/pointers/doc_pointer.py to doc_pointer.cpython-36.pyc\n",
            "byte-compiling build/bdist.linux-x86_64/egg/syfertext/pointers/span_pointer.py to span_pointer.cpython-36.pyc\n",
            "byte-compiling build/bdist.linux-x86_64/egg/syfertext/lexeme.py to lexeme.cpython-36.pyc\n",
            "byte-compiling build/bdist.linux-x86_64/egg/syfertext/language.py to language.cpython-36.pyc\n",
            "byte-compiling build/bdist.linux-x86_64/egg/syfertext/token_exception.py to token_exception.cpython-36.pyc\n",
            "byte-compiling build/bdist.linux-x86_64/egg/syfertext/punctuations.py to punctuations.cpython-36.pyc\n",
            "byte-compiling build/bdist.linux-x86_64/egg/syfertext/pipeline/subpipeline.py to subpipeline.cpython-36.pyc\n",
            "byte-compiling build/bdist.linux-x86_64/egg/syfertext/pipeline/simple_tagger.py to simple_tagger.cpython-36.pyc\n",
            "byte-compiling build/bdist.linux-x86_64/egg/syfertext/pipeline/__init__.py to __init__.cpython-36.pyc\n",
            "byte-compiling build/bdist.linux-x86_64/egg/syfertext/pipeline/pointers/__init__.py to __init__.cpython-36.pyc\n",
            "byte-compiling build/bdist.linux-x86_64/egg/syfertext/pipeline/pointers/subpipeline_pointer.py to subpipeline_pointer.cpython-36.pyc\n",
            "byte-compiling build/bdist.linux-x86_64/egg/syfertext/attrs.py to attrs.cpython-36.pyc\n",
            "byte-compiling build/bdist.linux-x86_64/egg/syfertext/lex_attrs.py to lex_attrs.cpython-36.pyc\n",
            "creating build/bdist.linux-x86_64/egg/EGG-INFO\n",
            "copying syfertext.egg-info/PKG-INFO -> build/bdist.linux-x86_64/egg/EGG-INFO\n",
            "copying syfertext.egg-info/SOURCES.txt -> build/bdist.linux-x86_64/egg/EGG-INFO\n",
            "copying syfertext.egg-info/dependency_links.txt -> build/bdist.linux-x86_64/egg/EGG-INFO\n",
            "copying syfertext.egg-info/requires.txt -> build/bdist.linux-x86_64/egg/EGG-INFO\n",
            "copying syfertext.egg-info/top_level.txt -> build/bdist.linux-x86_64/egg/EGG-INFO\n",
            "zip_safe flag not set; analyzing archive contents...\n",
            "creating dist\n",
            "creating 'dist/syfertext-0.0.1-py3.6.egg' and adding 'build/bdist.linux-x86_64/egg' to it\n",
            "removing 'build/bdist.linux-x86_64/egg' (and everything under it)\n",
            "Processing syfertext-0.0.1-py3.6.egg\n",
            "Removing /usr/local/lib/python3.6/dist-packages/syfertext-0.0.1-py3.6.egg\n",
            "Copying syfertext-0.0.1-py3.6.egg to /usr/local/lib/python3.6/dist-packages\n",
            "syfertext 0.0.1 is already the active version in easy-install.pth\n",
            "\n",
            "Installed /usr/local/lib/python3.6/dist-packages/syfertext-0.0.1-py3.6.egg\n",
            "Processing dependencies for syfertext==0.0.1\n",
            "Searching for requests==2.22.0\n",
            "Best match: requests 2.22.0\n",
            "Processing requests-2.22.0-py3.6.egg\n",
            "requests 2.22.0 is already the active version in easy-install.pth\n",
            "\n",
            "Using /usr/local/lib/python3.6/dist-packages/requests-2.22.0-py3.6.egg\n",
            "Searching for syft==0.2.6\n",
            "Best match: syft 0.2.6\n",
            "Adding syft 0.2.6 to easy-install.pth file\n",
            "\n",
            "Using /usr/local/lib/python3.6/dist-packages\n",
            "Searching for mmh3==2.5.1\n",
            "Best match: mmh3 2.5.1\n",
            "Processing mmh3-2.5.1-py3.6-linux-x86_64.egg\n",
            "mmh3 2.5.1 is already the active version in easy-install.pth\n",
            "\n",
            "Using /usr/local/lib/python3.6/dist-packages/mmh3-2.5.1-py3.6-linux-x86_64.egg\n",
            "Searching for tqdm==4.36.1\n",
            "Best match: tqdm 4.36.1\n",
            "Processing tqdm-4.36.1-py3.6.egg\n",
            "tqdm 4.36.1 is already the active version in easy-install.pth\n",
            "Installing tqdm script to /usr/local/bin\n",
            "\n",
            "Using /usr/local/lib/python3.6/dist-packages/tqdm-4.36.1-py3.6.egg\n",
            "Searching for urllib3==1.24.3\n",
            "Best match: urllib3 1.24.3\n",
            "Adding urllib3 1.24.3 to easy-install.pth file\n",
            "\n",
            "Using /usr/local/lib/python3.6/dist-packages\n",
            "Searching for idna==2.8\n",
            "Best match: idna 2.8\n",
            "Processing idna-2.8-py3.6.egg\n",
            "idna 2.8 is already the active version in easy-install.pth\n",
            "\n",
            "Using /usr/local/lib/python3.6/dist-packages/idna-2.8-py3.6.egg\n",
            "Searching for chardet==3.0.4\n",
            "Best match: chardet 3.0.4\n",
            "Adding chardet 3.0.4 to easy-install.pth file\n",
            "Installing chardetect script to /usr/local/bin\n",
            "\n",
            "Using /usr/local/lib/python3.6/dist-packages\n",
            "Searching for certifi==2020.4.5.1\n",
            "Best match: certifi 2020.4.5.1\n",
            "Adding certifi 2020.4.5.1 to easy-install.pth file\n",
            "\n",
            "Using /usr/local/lib/python3.6/dist-packages\n",
            "Searching for numpy==1.18.2\n",
            "Best match: numpy 1.18.2\n",
            "Adding numpy 1.18.2 to easy-install.pth file\n",
            "Installing f2py script to /usr/local/bin\n",
            "Installing f2py3 script to /usr/local/bin\n",
            "Installing f2py3.6 script to /usr/local/bin\n",
            "\n",
            "Using /usr/local/lib/python3.6/dist-packages\n",
            "Searching for Flask==1.1.2\n",
            "Best match: Flask 1.1.2\n",
            "Adding Flask 1.1.2 to easy-install.pth file\n",
            "Installing flask script to /usr/local/bin\n",
            "\n",
            "Using /usr/local/lib/python3.6/dist-packages\n",
            "Searching for phe==1.4.0\n",
            "Best match: phe 1.4.0\n",
            "Processing phe-1.4.0-py3.6.egg\n",
            "phe 1.4.0 is already the active version in easy-install.pth\n",
            "Installing pheutil script to /usr/local/bin\n",
            "\n",
            "Using /usr/local/lib/python3.6/dist-packages/phe-1.4.0-py3.6.egg\n",
            "Searching for Flask-SocketIO==4.2.1\n",
            "Best match: Flask-SocketIO 4.2.1\n",
            "Processing Flask_SocketIO-4.2.1-py3.6.egg\n",
            "Flask-SocketIO 4.2.1 is already the active version in easy-install.pth\n",
            "\n",
            "Using /usr/local/lib/python3.6/dist-packages/Flask_SocketIO-4.2.1-py3.6.egg\n",
            "Searching for websockets==8.1\n",
            "Best match: websockets 8.1\n",
            "Processing websockets-8.1-py3.6-linux-x86_64.egg\n",
            "websockets 8.1 is already the active version in easy-install.pth\n",
            "\n",
            "Using /usr/local/lib/python3.6/dist-packages/websockets-8.1-py3.6-linux-x86_64.egg\n",
            "Searching for websocket-client==0.57.0\n",
            "Best match: websocket-client 0.57.0\n",
            "Processing websocket_client-0.57.0-py3.6.egg\n",
            "websocket-client 0.57.0 is already the active version in easy-install.pth\n",
            "Installing wsdump.py script to /usr/local/bin\n",
            "\n",
            "Using /usr/local/lib/python3.6/dist-packages/websocket_client-0.57.0-py3.6.egg\n",
            "Searching for torchvision==0.5.0\n",
            "Best match: torchvision 0.5.0\n",
            "Processing torchvision-0.5.0-py3.6-linux-x86_64.egg\n",
            "torchvision 0.5.0 is already the active version in easy-install.pth\n",
            "\n",
            "Using /usr/local/lib/python3.6/dist-packages/torchvision-0.5.0-py3.6-linux-x86_64.egg\n",
            "Searching for lz4==3.0.2\n",
            "Best match: lz4 3.0.2\n",
            "Processing lz4-3.0.2-py3.6-linux-x86_64.egg\n",
            "lz4 3.0.2 is already the active version in easy-install.pth\n",
            "\n",
            "Using /usr/local/lib/python3.6/dist-packages/lz4-3.0.2-py3.6-linux-x86_64.egg\n",
            "Searching for msgpack==1.0.0\n",
            "Best match: msgpack 1.0.0\n",
            "Adding msgpack 1.0.0 to easy-install.pth file\n",
            "\n",
            "Using /usr/local/lib/python3.6/dist-packages\n",
            "Searching for scipy==1.4.1\n",
            "Best match: scipy 1.4.1\n",
            "Adding scipy 1.4.1 to easy-install.pth file\n",
            "\n",
            "Using /usr/local/lib/python3.6/dist-packages\n",
            "Searching for Pillow==6.2.2\n",
            "Best match: Pillow 6.2.2\n",
            "Processing Pillow-6.2.2-py3.6-linux-x86_64.egg\n",
            "Pillow 6.2.2 is already the active version in easy-install.pth\n",
            "\n",
            "Using /usr/local/lib/python3.6/dist-packages/Pillow-6.2.2-py3.6-linux-x86_64.egg\n",
            "Searching for psutil==5.7.0\n",
            "Best match: psutil 5.7.0\n",
            "Processing psutil-5.7.0-py3.6-linux-x86_64.egg\n",
            "psutil 5.7.0 is already the active version in easy-install.pth\n",
            "\n",
            "Using /usr/local/lib/python3.6/dist-packages/psutil-5.7.0-py3.6-linux-x86_64.egg\n",
            "Searching for notebook==5.7.8\n",
            "Best match: notebook 5.7.8\n",
            "Adding notebook 5.7.8 to easy-install.pth file\n",
            "Installing jupyter-bundlerextension script to /usr/local/bin\n",
            "Installing jupyter-nbextension script to /usr/local/bin\n",
            "Installing jupyter-notebook script to /usr/local/bin\n",
            "Installing jupyter-serverextension script to /usr/local/bin\n",
            "\n",
            "Using /usr/local/lib/python3.6/dist-packages\n",
            "Searching for torch==1.4.0\n",
            "Best match: torch 1.4.0\n",
            "Processing torch-1.4.0-py3.6-linux-x86_64.egg\n",
            "torch 1.4.0 is already the active version in easy-install.pth\n",
            "Installing convert-caffe2-to-onnx script to /usr/local/bin\n",
            "Installing convert-onnx-to-caffe2 script to /usr/local/bin\n",
            "\n",
            "Using /usr/local/lib/python3.6/dist-packages/torch-1.4.0-py3.6-linux-x86_64.egg\n",
            "Searching for tblib==1.6.0\n",
            "Best match: tblib 1.6.0\n",
            "Adding tblib 1.6.0 to easy-install.pth file\n",
            "\n",
            "Using /usr/local/lib/python3.6/dist-packages\n",
            "Searching for syft-proto==0.4.7\n",
            "Best match: syft-proto 0.4.7\n",
            "Processing syft_proto-0.4.7-py3.6.egg\n",
            "syft-proto 0.4.7 is already the active version in easy-install.pth\n",
            "\n",
            "Using /usr/local/lib/python3.6/dist-packages/syft_proto-0.4.7-py3.6.egg\n",
            "Searching for aiortc==0.9.28\n",
            "Best match: aiortc 0.9.28\n",
            "Processing aiortc-0.9.28-py3.6-linux-x86_64.egg\n",
            "aiortc 0.9.28 is already the active version in easy-install.pth\n",
            "\n",
            "Using /usr/local/lib/python3.6/dist-packages/aiortc-0.9.28-py3.6-linux-x86_64.egg\n",
            "Searching for tornado==4.5.3\n",
            "Best match: tornado 4.5.3\n",
            "Adding tornado 4.5.3 to easy-install.pth file\n",
            "\n",
            "Using /usr/local/lib/python3.6/dist-packages\n",
            "Searching for Werkzeug==1.0.1\n",
            "Best match: Werkzeug 1.0.1\n",
            "Adding Werkzeug 1.0.1 to easy-install.pth file\n",
            "\n",
            "Using /usr/local/lib/python3.6/dist-packages\n",
            "Searching for click==7.1.2\n",
            "Best match: click 7.1.2\n",
            "Adding click 7.1.2 to easy-install.pth file\n",
            "\n",
            "Using /usr/local/lib/python3.6/dist-packages\n",
            "Searching for Jinja2==2.11.2\n",
            "Best match: Jinja2 2.11.2\n",
            "Adding Jinja2 2.11.2 to easy-install.pth file\n",
            "\n",
            "Using /usr/local/lib/python3.6/dist-packages\n",
            "Searching for itsdangerous==1.1.0\n",
            "Best match: itsdangerous 1.1.0\n",
            "Adding itsdangerous 1.1.0 to easy-install.pth file\n",
            "\n",
            "Using /usr/local/lib/python3.6/dist-packages\n",
            "Searching for python-socketio==4.6.0\n",
            "Best match: python-socketio 4.6.0\n",
            "Processing python_socketio-4.6.0-py3.6.egg\n",
            "python-socketio 4.6.0 is already the active version in easy-install.pth\n",
            "\n",
            "Using /usr/local/lib/python3.6/dist-packages/python_socketio-4.6.0-py3.6.egg\n",
            "Searching for six==1.12.0\n",
            "Best match: six 1.12.0\n",
            "Adding six 1.12.0 to easy-install.pth file\n",
            "\n",
            "Using /usr/local/lib/python3.6/dist-packages\n",
            "Searching for ipykernel==4.10.1\n",
            "Best match: ipykernel 4.10.1\n",
            "Adding ipykernel 4.10.1 to easy-install.pth file\n",
            "\n",
            "Using /usr/local/lib/python3.6/dist-packages\n",
            "Searching for pyzmq==19.0.1\n",
            "Best match: pyzmq 19.0.1\n",
            "Adding pyzmq 19.0.1 to easy-install.pth file\n",
            "\n",
            "Using /usr/local/lib/python3.6/dist-packages\n",
            "Searching for nbformat==5.0.6\n",
            "Best match: nbformat 5.0.6\n",
            "Adding nbformat 5.0.6 to easy-install.pth file\n",
            "Installing jupyter-trust script to /usr/local/bin\n",
            "\n",
            "Using /usr/local/lib/python3.6/dist-packages\n",
            "Searching for ipython-genutils==0.2.0\n",
            "Best match: ipython-genutils 0.2.0\n",
            "Adding ipython-genutils 0.2.0 to easy-install.pth file\n",
            "\n",
            "Using /usr/local/lib/python3.6/dist-packages\n",
            "Searching for nbconvert==5.6.1\n",
            "Best match: nbconvert 5.6.1\n",
            "Adding nbconvert 5.6.1 to easy-install.pth file\n",
            "Installing jupyter-nbconvert script to /usr/local/bin\n",
            "\n",
            "Using /usr/local/lib/python3.6/dist-packages\n",
            "Searching for terminado==0.8.3\n",
            "Best match: terminado 0.8.3\n",
            "Adding terminado 0.8.3 to easy-install.pth file\n",
            "\n",
            "Using /usr/local/lib/python3.6/dist-packages\n",
            "Searching for jupyter-core==4.6.3\n",
            "Best match: jupyter-core 4.6.3\n",
            "Adding jupyter-core 4.6.3 to easy-install.pth file\n",
            "Installing jupyter script to /usr/local/bin\n",
            "Installing jupyter-migrate script to /usr/local/bin\n",
            "Installing jupyter-troubleshoot script to /usr/local/bin\n",
            "\n",
            "Using /usr/local/lib/python3.6/dist-packages\n",
            "Searching for jupyter-client==5.3.4\n",
            "Best match: jupyter-client 5.3.4\n",
            "Adding jupyter-client 5.3.4 to easy-install.pth file\n",
            "Installing jupyter-kernel script to /usr/local/bin\n",
            "Installing jupyter-kernelspec script to /usr/local/bin\n",
            "Installing jupyter-run script to /usr/local/bin\n",
            "\n",
            "Using /usr/local/lib/python3.6/dist-packages\n",
            "Searching for prometheus-client==0.8.0\n",
            "Best match: prometheus-client 0.8.0\n",
            "Adding prometheus-client 0.8.0 to easy-install.pth file\n",
            "\n",
            "Using /usr/local/lib/python3.6/dist-packages\n",
            "Searching for traitlets==4.3.3\n",
            "Best match: traitlets 4.3.3\n",
            "Adding traitlets 4.3.3 to easy-install.pth file\n",
            "\n",
            "Using /usr/local/lib/python3.6/dist-packages\n",
            "Searching for Send2Trash==1.5.0\n",
            "Best match: Send2Trash 1.5.0\n",
            "Adding Send2Trash 1.5.0 to easy-install.pth file\n",
            "\n",
            "Using /usr/local/lib/python3.6/dist-packages\n",
            "Searching for protobuf==3.12.2\n",
            "Best match: protobuf 3.12.2\n",
            "Processing protobuf-3.12.2-py3.6.egg\n",
            "protobuf 3.12.2 is already the active version in easy-install.pth\n",
            "\n",
            "Using /usr/local/lib/python3.6/dist-packages/protobuf-3.12.2-py3.6.egg\n",
            "Searching for pylibsrtp==0.6.6\n",
            "Best match: pylibsrtp 0.6.6\n",
            "Processing pylibsrtp-0.6.6-py3.6-linux-x86_64.egg\n",
            "pylibsrtp 0.6.6 is already the active version in easy-install.pth\n",
            "\n",
            "Using /usr/local/lib/python3.6/dist-packages/pylibsrtp-0.6.6-py3.6-linux-x86_64.egg\n",
            "Searching for pyee==7.0.2\n",
            "Best match: pyee 7.0.2\n",
            "Processing pyee-7.0.2-py3.6.egg\n",
            "pyee 7.0.2 is already the active version in easy-install.pth\n",
            "\n",
            "Using /usr/local/lib/python3.6/dist-packages/pyee-7.0.2-py3.6.egg\n",
            "Searching for dataclasses==0.7\n",
            "Best match: dataclasses 0.7\n",
            "Adding dataclasses 0.7 to easy-install.pth file\n",
            "\n",
            "Using /usr/local/lib/python3.6/dist-packages\n",
            "Searching for cryptography==2.9.2\n",
            "Best match: cryptography 2.9.2\n",
            "Processing cryptography-2.9.2-py3.6-linux-x86_64.egg\n",
            "cryptography 2.9.2 is already the active version in easy-install.pth\n",
            "\n",
            "Using /usr/local/lib/python3.6/dist-packages/cryptography-2.9.2-py3.6-linux-x86_64.egg\n",
            "Searching for crc32c==2.0\n",
            "Best match: crc32c 2.0\n",
            "Processing crc32c-2.0-py3.6-linux-x86_64.egg\n",
            "crc32c 2.0 is already the active version in easy-install.pth\n",
            "\n",
            "Using /usr/local/lib/python3.6/dist-packages/crc32c-2.0-py3.6-linux-x86_64.egg\n",
            "Searching for cffi==1.14.0\n",
            "Best match: cffi 1.14.0\n",
            "Adding cffi 1.14.0 to easy-install.pth file\n",
            "\n",
            "Using /usr/local/lib/python3.6/dist-packages\n",
            "Searching for av==8.0.2\n",
            "Best match: av 8.0.2\n",
            "Processing av-8.0.2-py3.6-linux-x86_64.egg\n",
            "av 8.0.2 is already the active version in easy-install.pth\n",
            "Installing pyav script to /usr/local/bin\n",
            "\n",
            "Using /usr/local/lib/python3.6/dist-packages/av-8.0.2-py3.6-linux-x86_64.egg\n",
            "Searching for aioice==0.6.18\n",
            "Best match: aioice 0.6.18\n",
            "Processing aioice-0.6.18-py3.6.egg\n",
            "aioice 0.6.18 is already the active version in easy-install.pth\n",
            "\n",
            "Using /usr/local/lib/python3.6/dist-packages/aioice-0.6.18-py3.6.egg\n",
            "Searching for MarkupSafe==1.1.1\n",
            "Best match: MarkupSafe 1.1.1\n",
            "Adding MarkupSafe 1.1.1 to easy-install.pth file\n",
            "\n",
            "Using /usr/local/lib/python3.6/dist-packages\n",
            "Searching for python-engineio==3.13.0\n",
            "Best match: python-engineio 3.13.0\n",
            "Processing python_engineio-3.13.0-py3.6.egg\n",
            "python-engineio 3.13.0 is already the active version in easy-install.pth\n",
            "\n",
            "Using /usr/local/lib/python3.6/dist-packages/python_engineio-3.13.0-py3.6.egg\n",
            "Searching for ipython==5.5.0\n",
            "Best match: ipython 5.5.0\n",
            "Adding ipython 5.5.0 to easy-install.pth file\n",
            "Installing iptest script to /usr/local/bin\n",
            "Installing iptest3 script to /usr/local/bin\n",
            "Installing ipython script to /usr/local/bin\n",
            "Installing ipython3 script to /usr/local/bin\n",
            "\n",
            "Using /usr/local/lib/python3.6/dist-packages\n",
            "Searching for jsonschema==2.6.0\n",
            "Best match: jsonschema 2.6.0\n",
            "Adding jsonschema 2.6.0 to easy-install.pth file\n",
            "Installing jsonschema script to /usr/local/bin\n",
            "\n",
            "Using /usr/local/lib/python3.6/dist-packages\n",
            "Searching for testpath==0.4.4\n",
            "Best match: testpath 0.4.4\n",
            "Adding testpath 0.4.4 to easy-install.pth file\n",
            "\n",
            "Using /usr/local/lib/python3.6/dist-packages\n",
            "Searching for pandocfilters==1.4.2\n",
            "Best match: pandocfilters 1.4.2\n",
            "Adding pandocfilters 1.4.2 to easy-install.pth file\n",
            "\n",
            "Using /usr/local/lib/python3.6/dist-packages\n",
            "Searching for mistune==0.8.4\n",
            "Best match: mistune 0.8.4\n",
            "Adding mistune 0.8.4 to easy-install.pth file\n",
            "\n",
            "Using /usr/local/lib/python3.6/dist-packages\n",
            "Searching for entrypoints==0.3\n",
            "Best match: entrypoints 0.3\n",
            "Adding entrypoints 0.3 to easy-install.pth file\n",
            "\n",
            "Using /usr/local/lib/python3.6/dist-packages\n",
            "Searching for defusedxml==0.6.0\n",
            "Best match: defusedxml 0.6.0\n",
            "Adding defusedxml 0.6.0 to easy-install.pth file\n",
            "\n",
            "Using /usr/local/lib/python3.6/dist-packages\n",
            "Searching for Pygments==2.1.3\n",
            "Best match: Pygments 2.1.3\n",
            "Adding Pygments 2.1.3 to easy-install.pth file\n",
            "Installing pygmentize script to /usr/local/bin\n",
            "\n",
            "Using /usr/local/lib/python3.6/dist-packages\n",
            "Searching for bleach==3.1.5\n",
            "Best match: bleach 3.1.5\n",
            "Adding bleach 3.1.5 to easy-install.pth file\n",
            "\n",
            "Using /usr/local/lib/python3.6/dist-packages\n",
            "Searching for ptyprocess==0.6.0\n",
            "Best match: ptyprocess 0.6.0\n",
            "Adding ptyprocess 0.6.0 to easy-install.pth file\n",
            "\n",
            "Using /usr/local/lib/python3.6/dist-packages\n",
            "Searching for python-dateutil==2.8.1\n",
            "Best match: python-dateutil 2.8.1\n",
            "Adding python-dateutil 2.8.1 to easy-install.pth file\n",
            "\n",
            "Using /usr/local/lib/python3.6/dist-packages\n",
            "Searching for decorator==4.4.2\n",
            "Best match: decorator 4.4.2\n",
            "Adding decorator 4.4.2 to easy-install.pth file\n",
            "\n",
            "Using /usr/local/lib/python3.6/dist-packages\n",
            "Searching for setuptools==47.1.1\n",
            "Best match: setuptools 47.1.1\n",
            "Adding setuptools 47.1.1 to easy-install.pth file\n",
            "Installing easy_install script to /usr/local/bin\n",
            "Installing easy_install-3.8 script to /usr/local/bin\n",
            "\n",
            "Using /usr/local/lib/python3.6/dist-packages\n",
            "Searching for pycparser==2.20\n",
            "Best match: pycparser 2.20\n",
            "Adding pycparser 2.20 to easy-install.pth file\n",
            "\n",
            "Using /usr/local/lib/python3.6/dist-packages\n",
            "Searching for netifaces==0.10.9\n",
            "Best match: netifaces 0.10.9\n",
            "Processing netifaces-0.10.9-py3.6-linux-x86_64.egg\n",
            "netifaces 0.10.9 is already the active version in easy-install.pth\n",
            "\n",
            "Using /usr/local/lib/python3.6/dist-packages/netifaces-0.10.9-py3.6-linux-x86_64.egg\n",
            "Searching for simplegeneric==0.8.1\n",
            "Best match: simplegeneric 0.8.1\n",
            "Adding simplegeneric 0.8.1 to easy-install.pth file\n",
            "\n",
            "Using /usr/local/lib/python3.6/dist-packages\n",
            "Searching for pexpect==4.8.0\n",
            "Best match: pexpect 4.8.0\n",
            "Adding pexpect 4.8.0 to easy-install.pth file\n",
            "\n",
            "Using /usr/local/lib/python3.6/dist-packages\n",
            "Searching for pickleshare==0.7.5\n",
            "Best match: pickleshare 0.7.5\n",
            "Adding pickleshare 0.7.5 to easy-install.pth file\n",
            "\n",
            "Using /usr/local/lib/python3.6/dist-packages\n",
            "Searching for prompt-toolkit==1.0.18\n",
            "Best match: prompt-toolkit 1.0.18\n",
            "Adding prompt-toolkit 1.0.18 to easy-install.pth file\n",
            "\n",
            "Using /usr/local/lib/python3.6/dist-packages\n",
            "Searching for webencodings==0.5.1\n",
            "Best match: webencodings 0.5.1\n",
            "Adding webencodings 0.5.1 to easy-install.pth file\n",
            "\n",
            "Using /usr/local/lib/python3.6/dist-packages\n",
            "Searching for packaging==20.4\n",
            "Best match: packaging 20.4\n",
            "Adding packaging 20.4 to easy-install.pth file\n",
            "\n",
            "Using /usr/local/lib/python3.6/dist-packages\n",
            "Searching for wcwidth==0.2.2\n",
            "Best match: wcwidth 0.2.2\n",
            "Adding wcwidth 0.2.2 to easy-install.pth file\n",
            "\n",
            "Using /usr/local/lib/python3.6/dist-packages\n",
            "Searching for pyparsing==2.4.7\n",
            "Best match: pyparsing 2.4.7\n",
            "Adding pyparsing 2.4.7 to easy-install.pth file\n",
            "\n",
            "Using /usr/local/lib/python3.6/dist-packages\n",
            "Finished processing dependencies for syfertext==0.0.1\n"
          ],
          "name": "stdout"
        }
      ]
    },
    {
      "cell_type": "code",
      "metadata": {
        "id": "2fOcWq2Mkhq_",
        "colab_type": "code",
        "colab": {}
      },
      "source": [
        "! pip install pytest-black"
      ],
      "execution_count": 0,
      "outputs": []
    },
    {
      "cell_type": "code",
      "metadata": {
        "id": "CI5f5iXYOnUU",
        "colab_type": "code",
        "colab": {
          "base_uri": "https://localhost:8080/",
          "height": 310
        },
        "outputId": "1fd155af-6b68-4530-fe57-a9dadd000807"
      },
      "source": [
        "!python -m pytest --black --verbose"
      ],
      "execution_count": 11,
      "outputs": [
        {
          "output_type": "stream",
          "text": [
            "\u001b[1m============================= test session starts ==============================\u001b[0m\n",
            "platform linux -- Python 3.6.9, pytest-3.6.4, py-1.8.1, pluggy-0.7.1 -- /usr/bin/python3\n",
            "cachedir: .pytest_cache\n",
            "rootdir: /content, inifile:\n",
            "plugins: typeguard-2.7.1, black-0.3.9\n",
            "collected 107 items / 1 errors                                                 \u001b[0m\n",
            "\n",
            "==================================== ERRORS ====================================\n",
            "______________ ERROR collecting SyferText/tests/test_notebooks.py ______________\n",
            "\u001b[31mImportError while importing test module '/content/SyferText/tests/test_notebooks.py'.\n",
            "Hint: make sure your test modules/packages have valid Python names.\n",
            "Traceback:\n",
            "SyferText/tests/test_notebooks.py:4: in <module>\n",
            "    import papermill as pm\n",
            "E   ModuleNotFoundError: No module named 'papermill'\u001b[0m\n",
            "!!!!!!!!!!!!!!!!!!! Interrupted: 1 errors during collection !!!!!!!!!!!!!!!!!!!!\n",
            "\u001b[31m\u001b[1m=========================== 1 error in 4.24 seconds ============================\u001b[0m\n"
          ],
          "name": "stdout"
        }
      ]
    },
    {
      "cell_type": "code",
      "metadata": {
        "id": "SkboSPgRk9Gm",
        "colab_type": "code",
        "outputId": "ed29a212-6ea4-4bb1-ef69-c0bb1fbd2ee6",
        "colab": {
          "base_uri": "https://localhost:8080/",
          "height": 310
        }
      },
      "source": [
        "!python -m  pytest --rootdir=\"SyferText\" --verbose "
      ],
      "execution_count": 10,
      "outputs": [
        {
          "output_type": "stream",
          "text": [
            "\u001b[1m============================= test session starts ==============================\u001b[0m\n",
            "platform linux -- Python 3.6.9, pytest-3.6.4, py-1.8.1, pluggy-0.7.1 -- /usr/bin/python3\n",
            "cachedir: SyferText/.pytest_cache\n",
            "rootdir: /content/SyferText, inifile:\n",
            "plugins: typeguard-2.7.1, black-0.3.9\n",
            "collected 69 items / 1 errors                                                  \u001b[0m\n",
            "\n",
            "==================================== ERRORS ====================================\n",
            "___________________ ERROR collecting tests/test_notebooks.py ___________________\n",
            "\u001b[31mImportError while importing test module '/content/SyferText/tests/test_notebooks.py'.\n",
            "Hint: make sure your test modules/packages have valid Python names.\n",
            "Traceback:\n",
            "SyferText/tests/test_notebooks.py:4: in <module>\n",
            "    import papermill as pm\n",
            "E   ModuleNotFoundError: No module named 'papermill'\u001b[0m\n",
            "!!!!!!!!!!!!!!!!!!! Interrupted: 1 errors during collection !!!!!!!!!!!!!!!!!!!!\n",
            "\u001b[31m\u001b[1m=========================== 1 error in 4.34 seconds ============================\u001b[0m\n"
          ],
          "name": "stdout"
        }
      ]
    },
    {
      "cell_type": "code",
      "metadata": {
        "id": "7JZF1kc3n31a",
        "colab_type": "code",
        "colab": {
          "base_uri": "https://localhost:8080/",
          "height": 103
        },
        "outputId": "87e4426f-b591-4099-83b3-8e9020eaa13b"
      },
      "source": [
        "!pip uninstall syft"
      ],
      "execution_count": 2,
      "outputs": [
        {
          "output_type": "stream",
          "text": [
            "Uninstalling syft-0.2.5:\n",
            "  Would remove:\n",
            "    /usr/local/lib/python3.6/dist-packages/syft-0.2.5-py3.6.egg\n",
            "Proceed (y/n)? y\n",
            "  Successfully uninstalled syft-0.2.5\n"
          ],
          "name": "stdout"
        }
      ]
    },
    {
      "cell_type": "code",
      "metadata": {
        "id": "JB4KamctEB7h",
        "colab_type": "code",
        "colab": {}
      },
      "source": [
        "!pip install  git+https://github.com/OpenMined/PySyft@1eb369ae3a1865789f5809bec59f066ac1cbe58d"
      ],
      "execution_count": 0,
      "outputs": []
    },
    {
      "cell_type": "code",
      "metadata": {
        "id": "rpDf_CI29EHU",
        "colab_type": "code",
        "outputId": "6c49ac2a-a5c3-4b9e-b442-e8a1c177954a",
        "colab": {
          "base_uri": "https://localhost:8080/",
          "height": 86
        }
      },
      "source": [
        "\n",
        "import syft as sy\n",
        "import torch\n",
        "\n",
        "import syfertext\n",
        "import numpy as np\n",
        "from syfertext.attrs import  Attributes\n",
        "\n",
        "hook = sy.TorchHook(torch)\n",
        "me = hook.local_worker\n",
        "\n",
        "nlp = syfertext.load(\"en_core_web_lg\", owner=me)"
      ],
      "execution_count": 1,
      "outputs": [
        {
          "output_type": "stream",
          "text": [
            "WARNING:root:Torch was already hooked... skipping hooking process\n",
            "WARNING:root:Torch was already hooked... skipping hooking process\n",
            "WARNING:root:Torch was already hooked... skipping hooking process\n",
            "WARNING:root:Torch was already hooked... skipping hooking process\n"
          ],
          "name": "stderr"
        }
      ]
    },
    {
      "cell_type": "code",
      "metadata": {
        "id": "aQ90bmu59zex",
        "colab_type": "code",
        "colab": {}
      },
      "source": [
        "vocab = nlp.vocab"
      ],
      "execution_count": 0,
      "outputs": []
    },
    {
      "cell_type": "code",
      "metadata": {
        "id": "XZZBoa8Kt6Wu",
        "colab_type": "code",
        "colab": {}
      },
      "source": [
        "\n",
        "text = \"Green Apple \"\n",
        "doc = nlp(text)\n",
        "tok1 = doc[0]\n",
        "tok2 = doc[1]\n",
        "\n",
        "#assert tok1.text_with_ws + tok2.text_with_ws == text"
      ],
      "execution_count": 0,
      "outputs": []
    },
    {
      "cell_type": "code",
      "metadata": {
        "id": "vUG3nCcBdI7q",
        "colab_type": "code",
        "colab": {}
      },
      "source": [
        "tok1.set_flag(flag_id = Attributes.IS_DIGIT, value=True)"
      ],
      "execution_count": 0,
      "outputs": []
    },
    {
      "cell_type": "code",
      "metadata": {
        "id": "pr-Iqxh0dNdf",
        "colab_type": "code",
        "colab": {
          "base_uri": "https://localhost:8080/",
          "height": 34
        },
        "outputId": "65af7f32-87b4-48fa-c39c-c8352312083e"
      },
      "source": [
        "tok1.is_digit"
      ],
      "execution_count": 7,
      "outputs": [
        {
          "output_type": "execute_result",
          "data": {
            "text/plain": [
              "True"
            ]
          },
          "metadata": {
            "tags": []
          },
          "execution_count": 7
        }
      ]
    },
    {
      "cell_type": "code",
      "metadata": {
        "id": "u_zTfwkOt6TR",
        "colab_type": "code",
        "outputId": "3ec7c58b-8f08-404a-b9ee-57c4006e3108",
        "colab": {
          "base_uri": "https://localhost:8080/",
          "height": 34
        }
      },
      "source": [
        "len(tok1.text_with_ws)"
      ],
      "execution_count": 8,
      "outputs": [
        {
          "output_type": "execute_result",
          "data": {
            "text/plain": [
              "6"
            ]
          },
          "metadata": {
            "tags": []
          },
          "execution_count": 8
        }
      ]
    },
    {
      "cell_type": "code",
      "metadata": {
        "id": "n513Aj6ruMHw",
        "colab_type": "code",
        "outputId": "072ada04-7e5f-4a5e-ce25-c2cde3432f87",
        "colab": {
          "base_uri": "https://localhost:8080/",
          "height": 34
        }
      },
      "source": [
        "tok1.space_after"
      ],
      "execution_count": 9,
      "outputs": [
        {
          "output_type": "execute_result",
          "data": {
            "text/plain": [
              "True"
            ]
          },
          "metadata": {
            "tags": []
          },
          "execution_count": 9
        }
      ]
    },
    {
      "cell_type": "code",
      "metadata": {
        "id": "6kdNH-Qb95kM",
        "colab_type": "code",
        "colab": {}
      },
      "source": [
        "lexeme = vocab[\"sg'\"]"
      ],
      "execution_count": 0,
      "outputs": []
    },
    {
      "cell_type": "code",
      "metadata": {
        "id": "PWQ9EknD-Nyo",
        "colab_type": "code",
        "outputId": "1aa9c779-855a-4287-a1f3-38dd186ded7e",
        "colab": {
          "base_uri": "https://localhost:8080/",
          "height": 34
        }
      },
      "source": [
        "lexeme.is_alpha"
      ],
      "execution_count": 11,
      "outputs": [
        {
          "output_type": "execute_result",
          "data": {
            "text/plain": [
              "False"
            ]
          },
          "metadata": {
            "tags": []
          },
          "execution_count": 11
        }
      ]
    },
    {
      "cell_type": "code",
      "metadata": {
        "id": "VjDHT382ukwd",
        "colab_type": "code",
        "colab": {}
      },
      "source": [
        "doc = nlp(\"Momento Imdb rattings = 8.4\")\n",
        "token1 = doc[0]\n",
        "token2 = doc[1]\n",
        "\n",
        "# Sets a new flag on all the current entries in Vocab, \n",
        "# will be added on future entries also\n",
        "IS_MOMENTO = vocab.add_flag(lambda text: text==\"Momento\")\n",
        "\n",
        "assert token1.check_flag(flag_id = IS_MOMENTO)==True\n",
        "assert token2.check_flag(flag_id = IS_MOMENTO)==False\n",
        "\n",
        "# lets add another entry in vocab to see if the new flag is added\n",
        "lex = vocab[\"Inception\"]\n",
        "\n",
        "assert lex.check_flag(flag_id = IS_MOMENTO) is not None"
      ],
      "execution_count": 0,
      "outputs": []
    },
    {
      "cell_type": "code",
      "metadata": {
        "id": "sNegOCa3_MjH",
        "colab_type": "code",
        "colab": {}
      },
      "source": [
        "def test_correctness_of_tokens_created():\n",
        "    \"\"\"Test that tokens created by the tokenizer are correct\"\"\"\n",
        "\n",
        "    doc = nlp(\"I 'love  app-le!\")\n",
        "    actual_tokens = [\"I\", \"'\", \"love\", \" \", \"app\", \"-\", \"le\", \"!\"]\n",
        "\n",
        "    # check that tokenizer is correctly tokenizing the text.\n",
        "    for i, token_created in enumerate(doc):\n",
        "        assert str(token_created) == actual_tokens[i]\n",
        "\n",
        "    # check correct infix are tokenized only\n",
        "    str1 = \"Hell#o\"  # this string does not contain infix.\n",
        "    str2 = \"Hell-o\"  # This string contains logical infix.\n",
        "\n",
        "    assert len(nlp(str1)) == 1  # ['Hell#o']\n",
        "    assert len(nlp(str2)) == 3  # ['Hell', '-', 'o']\n",
        "\n",
        "    # check exception cases are tokenized correctly\n",
        "    excep = \"U.S.A\"\n",
        "\n",
        "    assert len(nlp(excep)) == 1  # ['U.S.A']\n",
        "def test_token_rank():\n",
        "    text = \"Apple outofvocabulary\"\n",
        "    doc = nlp(text)\n",
        "\n",
        "    # Get the token object of text from doc\n",
        "    token1 = doc[0]\n",
        "    token2 = doc[1]\n",
        "\n",
        "    # get the rank of tokens\n",
        "    rank1 = token1.rank\n",
        "    rank2 = token2.rank\n",
        "\n",
        "    # test rank is an integer for an\n",
        "    # string which exist in vocabulary\n",
        "    assert rank1 >= 0\n",
        "\n",
        "    # Test for out of vocabulary strings\n",
        "    # rank doesn't exist\n",
        "    assert rank2 is None"
      ],
      "execution_count": 0,
      "outputs": []
    },
    {
      "cell_type": "code",
      "metadata": {
        "id": "ccIT6niLpIeP",
        "colab_type": "code",
        "colab": {}
      },
      "source": [
        "doc = nlp(\"I 'love  app-le!\")\n",
        "actual_tokens = [\"I\", \"'\", \"love\", \" \", \"app\", \"-\", \"le\", \"!\"]\n",
        "\n",
        "# check that tokenizer is correctly tokenizing the text.\n",
        "for i, token_created in enumerate(doc):\n",
        "    assert str(token_created) == actual_tokens[i]\n",
        "\n",
        "# check correct infix are tokenized only\n",
        "str1 = \"Hell#o\"  # this string does not contain infix.\n",
        "str2 = \"Hell-o\"  # This string contains logical infix.\n",
        "\n",
        "assert len(nlp(str1)) == 1  # ['Hell#o']\n",
        "assert len(nlp(str2)) == 3  # ['Hell', '-', 'o']\n",
        "\n",
        "# check exception cases are tokenized correctly\n",
        "excep = \"U.S.A\""
      ],
      "execution_count": 0,
      "outputs": []
    },
    {
      "cell_type": "code",
      "metadata": {
        "id": "5P6dxTqQpIU0",
        "colab_type": "code",
        "outputId": "0cb4282e-d674-4890-cdc2-c90e349b3ea9",
        "colab": {
          "base_uri": "https://localhost:8080/",
          "height": 155
        }
      },
      "source": [
        "doc = nlp(\"I 'love  app-le!\")\n",
        "for tok in doc:\n",
        "    print(str(tok))"
      ],
      "execution_count": 15,
      "outputs": [
        {
          "output_type": "stream",
          "text": [
            "I\n",
            "'\n",
            "love\n",
            " \n",
            "app\n",
            "-\n",
            "le\n",
            "!\n"
          ],
          "name": "stdout"
        }
      ]
    },
    {
      "cell_type": "code",
      "metadata": {
        "id": "u3mitia4U7Tl",
        "colab_type": "code",
        "colab": {}
      },
      "source": [
        "text = \"Apple outofvocabulary\"\n",
        "doc = nlp(text)\n",
        "\n",
        "# Get the token object of text from doc\n",
        "token1 = doc[0]\n",
        "token2 = doc[1]\n",
        "\n",
        "# get the rank of tokens\n",
        "rank1 = token1.rank\n",
        "rank2 = token2.rank\n",
        "\n",
        "# test rank is an integer for an\n",
        "# string which exist in vocabulary\n",
        "assert rank1 >= 0\n",
        "\n",
        "# Test for out of vocabulary strings\n",
        "# rank doesn't exist\n",
        "assert rank2 is None"
      ],
      "execution_count": 0,
      "outputs": []
    },
    {
      "cell_type": "code",
      "metadata": {
        "id": "syEpuxVEZlXM",
        "colab_type": "code",
        "colab": {
          "base_uri": "https://localhost:8080/",
          "height": 34
        },
        "outputId": "f5c6c3ff-7c3f-49bc-ef26-7643273771f8"
      },
      "source": [
        "token1.lex_id"
      ],
      "execution_count": 17,
      "outputs": [
        {
          "output_type": "execute_result",
          "data": {
            "text/plain": [
              "1896"
            ]
          },
          "metadata": {
            "tags": []
          },
          "execution_count": 17
        }
      ]
    },
    {
      "cell_type": "code",
      "metadata": {
        "id": "H-P7STUIZsSd",
        "colab_type": "code",
        "colab": {
          "base_uri": "https://localhost:8080/",
          "height": 34
        },
        "outputId": "4609b3bf-1324-4229-b737-841c125d73b1"
      },
      "source": [
        "token1.id"
      ],
      "execution_count": 10,
      "outputs": [
        {
          "output_type": "execute_result",
          "data": {
            "text/plain": [
              "61649122471"
            ]
          },
          "metadata": {
            "tags": []
          },
          "execution_count": 10
        }
      ]
    },
    {
      "cell_type": "code",
      "metadata": {
        "id": "1whO2z9w3ooB",
        "colab_type": "code",
        "colab": {}
      },
      "source": [
        "# define strings for checking\n",
        "# corresponding attributes\n",
        "text = \"apple\"\n",
        "stop = \"did\"\n",
        "alpha = \"Apple\"\n",
        "not_alpha = \"5Apple\"\n",
        "ascii = \",\"\n",
        "not_ascii = \"£\"\n",
        "punct = \"'\"\n",
        "right_punct = \"’\"\n",
        "left_punct = \"‛\"\n",
        "oov = \"outofvocabulary\"\n",
        "digit = \"104\"\n",
        "lower = \"apple\"\n",
        "upper = \"APPLE\"\n",
        "space = \"  \"\n",
        "bracket = \"(\"\n",
        "quote = \"'\"\n",
        "currency = \"¥\"\n",
        "title = \"Openmined Syfertext\"\n",
        "\n",
        "# Test is_oov (if out of vocabulary)\n",
        "assert vocab[oov].is_oov == True\n",
        "assert vocab[text].is_oov == False\n",
        "\n",
        "# test is_stop (if string is in SyferText stop words list defined)\n",
        "assert vocab[stop].is_stop == True\n",
        "assert vocab[text].is_stop == False\n",
        "\n",
        "# test is_alpha (if string contains alpha chars)\n",
        "assert vocab[alpha].is_alpha == True\n",
        "assert vocab[not_alpha].is_alpha == False\n",
        "\n",
        "# test is_ascii (if string is composed of ascii characters)\n",
        "assert vocab[ascii].is_ascii == True\n",
        "assert vocab[not_ascii].is_ascii == False\n",
        "\n",
        "# test is_digit (if string is a digit)\n",
        "assert vocab[digit].is_digit == True\n",
        "assert vocab[text].is_digit == False\n",
        "\n",
        "# test is_lower (if string is in lowercase)\n",
        "assert vocab[lower].is_lower == True\n",
        "assert vocab[upper].is_lower == False\n",
        "\n",
        "# test is_title (if string is in title case)\n",
        "assert vocab[title].is_title == True\n",
        "assert vocab[text].is_title == False\n",
        "\n",
        "# test is_punct (if string is a punctuation)\n",
        "assert vocab[punct].is_punct == True\n",
        "assert vocab[text].is_punct == False\n",
        "\n",
        "# test is_space (if string is composed of space character only )\n",
        "assert vocab[space].is_space == True\n",
        "assert vocab[text].is_space == False\n",
        "\n",
        "# test is_quote (if string is a quote char)\n",
        "#assert vocab[quote].is_quote == True\n",
        "assert vocab[text].is_quote == False\n",
        "\n",
        "# test is_left_punct (if string is a left punctuation char)\n",
        "assert vocab[left_punct].is_left_punct == True\n",
        "assert vocab[text].is_left_punct == False\n",
        "\n",
        "# test is_right_punct (if string is a right punctuation char)\n",
        "assert vocab[right_punct].is_right_punct == True\n",
        "assert vocab[text].is_right_punct == False\n",
        "\n",
        "# test is_currency (if string is a currency char)\n",
        "assert vocab[currency].is_currency == True\n",
        "assert vocab[text].is_currency == False\n",
        "\n",
        "# test is_bracket (if string is a bracket char)\n",
        "assert vocab[bracket].is_bracket == True\n",
        "assert vocab[text].is_bracket == False\n"
      ],
      "execution_count": 0,
      "outputs": []
    },
    {
      "cell_type": "code",
      "metadata": {
        "id": "gKqMWWLO9N7N",
        "colab_type": "code",
        "colab": {}
      },
      "source": [
        ""
      ],
      "execution_count": 0,
      "outputs": []
    },
    {
      "cell_type": "code",
      "metadata": {
        "id": "XeUC2olj-D9E",
        "colab_type": "code",
        "colab": {
          "base_uri": "https://localhost:8080/",
          "height": 34
        },
        "outputId": "558babab-ba7e-4c16-bcfc-ef417e7a4b4e"
      },
      "source": [
        "lex.is_quote"
      ],
      "execution_count": 21,
      "outputs": [
        {
          "output_type": "execute_result",
          "data": {
            "text/plain": [
              "False"
            ]
          },
          "metadata": {
            "tags": []
          },
          "execution_count": 21
        }
      ]
    },
    {
      "cell_type": "code",
      "metadata": {
        "id": "sVMbwhVZ-Kk4",
        "colab_type": "code",
        "colab": {}
      },
      "source": [
        "def is_quote(text):\n",
        "    quotes = (\n",
        "        '\"',\n",
        "        \"'\",\n",
        "        \"`\",\n",
        "        \"«\",\n",
        "        \"»\",\n",
        "        \"‘\",\n",
        "        \"’\",\n",
        "        \"‚\",\n",
        "        \"‛\",\n",
        "        \"“\",\n",
        "        \"”\",\n",
        "        \"„\",\n",
        "        \"‟\",\n",
        "        \"‹\",\n",
        "        \"›\",\n",
        "        \"❮\",\n",
        "        \"❯\",\n",
        "        \"''\",\n",
        "        \"``\",\n",
        "    )\n",
        "    return text in quotes"
      ],
      "execution_count": 0,
      "outputs": []
    },
    {
      "cell_type": "code",
      "metadata": {
        "id": "Ws7GFebZ-679",
        "colab_type": "code",
        "colab": {}
      },
      "source": [
        "lex  = vocab[\"❮\"]"
      ],
      "execution_count": 0,
      "outputs": []
    },
    {
      "cell_type": "code",
      "metadata": {
        "id": "yvN9Wnfn-UX4",
        "colab_type": "code",
        "colab": {
          "base_uri": "https://localhost:8080/",
          "height": 34
        },
        "outputId": "f1e816ce-a7aa-4bfd-f82a-3580ce113490"
      },
      "source": [
        "is_quote(\"❮\")"
      ],
      "execution_count": 26,
      "outputs": [
        {
          "output_type": "execute_result",
          "data": {
            "text/plain": [
              "True"
            ]
          },
          "metadata": {
            "tags": []
          },
          "execution_count": 26
        }
      ]
    },
    {
      "cell_type": "code",
      "metadata": {
        "id": "PUlv40ft-X5Y",
        "colab_type": "code",
        "colab": {
          "base_uri": "https://localhost:8080/",
          "height": 34
        },
        "outputId": "918a397a-e390-4a7d-f714-05e5c13b806a"
      },
      "source": [
        "lex.check_flag(Attributes.IS_QUOTE)"
      ],
      "execution_count": 28,
      "outputs": [
        {
          "output_type": "execute_result",
          "data": {
            "text/plain": [
              "False"
            ]
          },
          "metadata": {
            "tags": []
          },
          "execution_count": 28
        }
      ]
    },
    {
      "cell_type": "code",
      "metadata": {
        "id": "UU6zQbUh-qFA",
        "colab_type": "code",
        "colab": {}
      },
      "source": [
        ""
      ],
      "execution_count": 0,
      "outputs": []
    }
  ]
}