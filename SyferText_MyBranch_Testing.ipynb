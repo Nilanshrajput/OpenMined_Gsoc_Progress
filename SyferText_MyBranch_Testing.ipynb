{
  "nbformat": 4,
  "nbformat_minor": 0,
  "metadata": {
    "colab": {
      "name": "SyferText_MyBranch_Testing.ipynb",
      "provenance": [],
      "authorship_tag": "ABX9TyNtCN8tQRISojHGqAqkRXkV",
      "include_colab_link": true
    },
    "kernelspec": {
      "name": "python3",
      "display_name": "Python 3"
    }
  },
  "cells": [
    {
      "cell_type": "markdown",
      "metadata": {
        "id": "view-in-github",
        "colab_type": "text"
      },
      "source": [
        "<a href=\"https://colab.research.google.com/github/Nilanshrajput/OpenMined_Gsoc_Progress/blob/master/SyferText_MyBranch_Testing.ipynb\" target=\"_parent\"><img src=\"https://colab.research.google.com/assets/colab-badge.svg\" alt=\"Open In Colab\"/></a>"
      ]
    },
    {
      "cell_type": "code",
      "metadata": {
        "id": "ao3MiEzc7iaX",
        "colab_type": "code",
        "outputId": "e9b8b277-f836-42b2-f4dd-b41c62c6c2e3",
        "colab": {
          "base_uri": "https://localhost:8080/",
          "height": 139
        }
      },
      "source": [
        "!git clone --single-branch --branch Lexeme https://github.com/Nilanshrajput/SyferText.git"
      ],
      "execution_count": 2,
      "outputs": [
        {
          "output_type": "stream",
          "text": [
            "Cloning into 'SyferText'...\n",
            "remote: Enumerating objects: 103, done.\u001b[K\n",
            "remote: Counting objects:   0% (1/103)\u001b[K\rremote: Counting objects:   1% (2/103)\u001b[K\rremote: Counting objects:   2% (3/103)\u001b[K\rremote: Counting objects:   3% (4/103)\u001b[K\rremote: Counting objects:   4% (5/103)\u001b[K\rremote: Counting objects:   5% (6/103)\u001b[K\rremote: Counting objects:   6% (7/103)\u001b[K\rremote: Counting objects:   7% (8/103)\u001b[K\rremote: Counting objects:   8% (9/103)\u001b[K\rremote: Counting objects:   9% (10/103)\u001b[K\rremote: Counting objects:  10% (11/103)\u001b[K\rremote: Counting objects:  11% (12/103)\u001b[K\rremote: Counting objects:  12% (13/103)\u001b[K\rremote: Counting objects:  13% (14/103)\u001b[K\rremote: Counting objects:  14% (15/103)\u001b[K\rremote: Counting objects:  15% (16/103)\u001b[K\rremote: Counting objects:  16% (17/103)\u001b[K\rremote: Counting objects:  17% (18/103)\u001b[K\rremote: Counting objects:  18% (19/103)\u001b[K\rremote: Counting objects:  19% (20/103)\u001b[K\rremote: Counting objects:  20% (21/103)\u001b[K\rremote: Counting objects:  21% (22/103)\u001b[K\rremote: Counting objects:  22% (23/103)\u001b[K\rremote: Counting objects:  23% (24/103)\u001b[K\rremote: Counting objects:  24% (25/103)\u001b[K\rremote: Counting objects:  25% (26/103)\u001b[K\rremote: Counting objects:  26% (27/103)\u001b[K\rremote: Counting objects:  27% (28/103)\u001b[K\rremote: Counting objects:  28% (29/103)\u001b[K\rremote: Counting objects:  29% (30/103)\u001b[K\rremote: Counting objects:  30% (31/103)\u001b[K\rremote: Counting objects:  31% (32/103)\u001b[K\rremote: Counting objects:  32% (33/103)\u001b[K\rremote: Counting objects:  33% (34/103)\u001b[K\rremote: Counting objects:  34% (36/103)\u001b[K\rremote: Counting objects:  35% (37/103)\u001b[K\rremote: Counting objects:  36% (38/103)\u001b[K\rremote: Counting objects:  37% (39/103)\u001b[K\rremote: Counting objects:  38% (40/103)\u001b[K\rremote: Counting objects:  39% (41/103)\u001b[K\rremote: Counting objects:  40% (42/103)\u001b[K\rremote: Counting objects:  41% (43/103)\u001b[K\rremote: Counting objects:  42% (44/103)\u001b[K\rremote: Counting objects:  43% (45/103)\u001b[K\rremote: Counting objects:  44% (46/103)\u001b[K\rremote: Counting objects:  45% (47/103)\u001b[K\rremote: Counting objects:  46% (48/103)\u001b[K\rremote: Counting objects:  47% (49/103)\u001b[K\rremote: Counting objects:  48% (50/103)\u001b[K\rremote: Counting objects:  49% (51/103)\u001b[K\rremote: Counting objects:  50% (52/103)\u001b[K\rremote: Counting objects:  51% (53/103)\u001b[K\rremote: Counting objects:  52% (54/103)\u001b[K\rremote: Counting objects:  53% (55/103)\u001b[K\rremote: Counting objects:  54% (56/103)\u001b[K\rremote: Counting objects:  55% (57/103)\u001b[K\rremote: Counting objects:  56% (58/103)\u001b[K\rremote: Counting objects:  57% (59/103)\u001b[K\rremote: Counting objects:  58% (60/103)\u001b[K\rremote: Counting objects:  59% (61/103)\u001b[K\rremote: Counting objects:  60% (62/103)\u001b[K\rremote: Counting objects:  61% (63/103)\u001b[K\rremote: Counting objects:  62% (64/103)\u001b[K\rremote: Counting objects:  63% (65/103)\u001b[K\rremote: Counting objects:  64% (66/103)\u001b[K\rremote: Counting objects:  65% (67/103)\u001b[K\rremote: Counting objects:  66% (68/103)\u001b[K\rremote: Counting objects:  67% (70/103)\u001b[K\rremote: Counting objects:  68% (71/103)\u001b[K\rremote: Counting objects:  69% (72/103)\u001b[K\rremote: Counting objects:  70% (73/103)\u001b[K\rremote: Counting objects:  71% (74/103)\u001b[K\rremote: Counting objects:  72% (75/103)\u001b[K\rremote: Counting objects:  73% (76/103)\u001b[K\rremote: Counting objects:  74% (77/103)\u001b[K\rremote: Counting objects:  75% (78/103)\u001b[K\rremote: Counting objects:  76% (79/103)\u001b[K\rremote: Counting objects:  77% (80/103)\u001b[K\rremote: Counting objects:  78% (81/103)\u001b[K\rremote: Counting objects:  79% (82/103)\u001b[K\rremote: Counting objects:  80% (83/103)\u001b[K\rremote: Counting objects:  81% (84/103)\u001b[K\rremote: Counting objects:  82% (85/103)\u001b[K\rremote: Counting objects:  83% (86/103)\u001b[K\rremote: Counting objects:  84% (87/103)\u001b[K\rremote: Counting objects:  85% (88/103)\u001b[K\rremote: Counting objects:  86% (89/103)\u001b[K\rremote: Counting objects:  87% (90/103)\u001b[K\rremote: Counting objects:  88% (91/103)\u001b[K\rremote: Counting objects:  89% (92/103)\u001b[K\rremote: Counting objects:  90% (93/103)\u001b[K\rremote: Counting objects:  91% (94/103)\u001b[K\rremote: Counting objects:  92% (95/103)\u001b[K\rremote: Counting objects:  93% (96/103)\u001b[K\rremote: Counting objects:  94% (97/103)\u001b[K\rremote: Counting objects:  95% (98/103)\u001b[K\rremote: Counting objects:  96% (99/103)\u001b[K\rremote: Counting objects:  97% (100/103)\u001b[K\rremote: Counting objects:  98% (101/103)\u001b[K\rremote: Counting objects:  99% (102/103)\u001b[K\rremote: Counting objects: 100% (103/103)\u001b[K\rremote: Counting objects: 100% (103/103), done.\u001b[K\n",
            "remote: Compressing objects:   2% (1/50)\u001b[K\rremote: Compressing objects:   4% (2/50)\u001b[K\rremote: Compressing objects:   6% (3/50)\u001b[K\rremote: Compressing objects:   8% (4/50)\u001b[K\rremote: Compressing objects:  10% (5/50)\u001b[K\rremote: Compressing objects:  12% (6/50)\u001b[K\rremote: Compressing objects:  14% (7/50)\u001b[K\rremote: Compressing objects:  16% (8/50)\u001b[K\rremote: Compressing objects:  18% (9/50)\u001b[K\rremote: Compressing objects:  20% (10/50)\u001b[K\rremote: Compressing objects:  22% (11/50)\u001b[K\rremote: Compressing objects:  24% (12/50)\u001b[K\rremote: Compressing objects:  26% (13/50)\u001b[K\rremote: Compressing objects:  28% (14/50)\u001b[K\rremote: Compressing objects:  30% (15/50)\u001b[K\rremote: Compressing objects:  32% (16/50)\u001b[K\rremote: Compressing objects:  34% (17/50)\u001b[K\rremote: Compressing objects:  36% (18/50)\u001b[K\rremote: Compressing objects:  38% (19/50)\u001b[K\rremote: Compressing objects:  40% (20/50)\u001b[K\rremote: Compressing objects:  42% (21/50)\u001b[K\rremote: Compressing objects:  44% (22/50)\u001b[K\rremote: Compressing objects:  46% (23/50)\u001b[K\rremote: Compressing objects:  48% (24/50)\u001b[K\rremote: Compressing objects:  50% (25/50)\u001b[K\rremote: Compressing objects:  52% (26/50)\u001b[K\rremote: Compressing objects:  54% (27/50)\u001b[K\rremote: Compressing objects:  56% (28/50)\u001b[K\rremote: Compressing objects:  58% (29/50)\u001b[K\rremote: Compressing objects:  60% (30/50)\u001b[K\rremote: Compressing objects:  62% (31/50)\u001b[K\rremote: Compressing objects:  64% (32/50)\u001b[K\rremote: Compressing objects:  66% (33/50)\u001b[K\rremote: Compressing objects:  68% (34/50)\u001b[K\rremote: Compressing objects:  70% (35/50)\u001b[K\rremote: Compressing objects:  72% (36/50)\u001b[K\rremote: Compressing objects:  74% (37/50)\u001b[K\rremote: Compressing objects:  76% (38/50)\u001b[K\rremote: Compressing objects:  78% (39/50)\u001b[K\rremote: Compressing objects:  80% (40/50)\u001b[K\rremote: Compressing objects:  82% (41/50)\u001b[K\rremote: Compressing objects:  84% (42/50)\u001b[K\rremote: Compressing objects:  86% (43/50)\u001b[K\rremote: Compressing objects:  88% (44/50)\u001b[K\rremote: Compressing objects:  90% (45/50)\u001b[K\rremote: Compressing objects:  92% (46/50)\u001b[K\rremote: Compressing objects:  94% (47/50)\u001b[K\rremote: Compressing objects:  96% (48/50)\u001b[K\rremote: Compressing objects:  98% (49/50)\u001b[K\rremote: Compressing objects: 100% (50/50)\u001b[K\rremote: Compressing objects: 100% (50/50), done.\u001b[K\n",
            "Receiving objects:   0% (1/1129)   \rReceiving objects:   1% (12/1129)   \rReceiving objects:   2% (23/1129)   \rReceiving objects:   3% (34/1129)   \rReceiving objects:   4% (46/1129)   \rReceiving objects:   5% (57/1129)   \rReceiving objects:   6% (68/1129)   \rReceiving objects:   7% (80/1129)   \rReceiving objects:   8% (91/1129)   \rReceiving objects:   9% (102/1129)   \rReceiving objects:  10% (113/1129)   \rReceiving objects:  11% (125/1129)   \rReceiving objects:  12% (136/1129)   \rReceiving objects:  13% (147/1129)   \rReceiving objects:  14% (159/1129)   \rReceiving objects:  15% (170/1129)   \rReceiving objects:  16% (181/1129)   \rReceiving objects:  17% (192/1129)   \rReceiving objects:  18% (204/1129)   \rReceiving objects:  19% (215/1129)   \rReceiving objects:  20% (226/1129)   \rReceiving objects:  21% (238/1129)   \rReceiving objects:  22% (249/1129)   \rReceiving objects:  23% (260/1129)   \rReceiving objects:  24% (271/1129)   \rReceiving objects:  25% (283/1129)   \rReceiving objects:  26% (294/1129)   \rReceiving objects:  27% (305/1129)   \rReceiving objects:  28% (317/1129)   \rReceiving objects:  29% (328/1129)   \rReceiving objects:  30% (339/1129)   \rReceiving objects:  31% (350/1129)   \rReceiving objects:  32% (362/1129)   \rReceiving objects:  33% (373/1129)   \rReceiving objects:  34% (384/1129)   \rReceiving objects:  35% (396/1129)   \rReceiving objects:  36% (407/1129)   \rReceiving objects:  37% (418/1129)   \rReceiving objects:  38% (430/1129)   \rReceiving objects:  39% (441/1129)   \rReceiving objects:  40% (452/1129)   \rReceiving objects:  41% (463/1129)   \rReceiving objects:  42% (475/1129)   \rReceiving objects:  43% (486/1129)   \rReceiving objects:  44% (497/1129)   \rReceiving objects:  45% (509/1129)   \rReceiving objects:  46% (520/1129)   \rReceiving objects:  47% (531/1129)   \rReceiving objects:  48% (542/1129)   \rReceiving objects:  49% (554/1129)   \rReceiving objects:  50% (565/1129)   \rReceiving objects:  51% (576/1129)   \rReceiving objects:  52% (588/1129)   \rReceiving objects:  53% (599/1129)   \rReceiving objects:  54% (610/1129)   \rReceiving objects:  55% (621/1129)   \rReceiving objects:  56% (633/1129)   \rReceiving objects:  57% (644/1129)   \rReceiving objects:  58% (655/1129)   \rReceiving objects:  59% (667/1129)   \rReceiving objects:  60% (678/1129)   \rReceiving objects:  61% (689/1129)   \rReceiving objects:  62% (700/1129)   \rReceiving objects:  63% (712/1129)   \rReceiving objects:  64% (723/1129)   \rReceiving objects:  65% (734/1129)   \rReceiving objects:  66% (746/1129)   \rReceiving objects:  67% (757/1129)   \rReceiving objects:  68% (768/1129)   \rReceiving objects:  69% (780/1129)   \rReceiving objects:  70% (791/1129)   \rReceiving objects:  71% (802/1129)   \rReceiving objects:  72% (813/1129)   \rReceiving objects:  73% (825/1129)   \rReceiving objects:  74% (836/1129)   \rReceiving objects:  75% (847/1129)   \rReceiving objects:  76% (859/1129)   \rReceiving objects:  77% (870/1129)   \rReceiving objects:  78% (881/1129)   \rReceiving objects:  79% (892/1129)   \rReceiving objects:  80% (904/1129)   \rReceiving objects:  81% (915/1129)   \rReceiving objects:  82% (926/1129)   \rremote: Total 1129 (delta 70), reused 75 (delta 53), pack-reused 1026\u001b[K\n",
            "Receiving objects:  83% (938/1129)   \rReceiving objects:  84% (949/1129)   \rReceiving objects:  85% (960/1129)   \rReceiving objects:  86% (971/1129)   \rReceiving objects:  87% (983/1129)   \rReceiving objects:  88% (994/1129)   \rReceiving objects:  89% (1005/1129)   \rReceiving objects:  90% (1017/1129)   \rReceiving objects:  91% (1028/1129)   \rReceiving objects:  92% (1039/1129)   \rReceiving objects:  93% (1050/1129)   \rReceiving objects:  94% (1062/1129)   \rReceiving objects:  95% (1073/1129)   \rReceiving objects:  96% (1084/1129)   \rReceiving objects:  97% (1096/1129)   \rReceiving objects:  98% (1107/1129)   \rReceiving objects:  99% (1118/1129)   \rReceiving objects: 100% (1129/1129)   \rReceiving objects: 100% (1129/1129), 359.52 KiB | 8.56 MiB/s, done.\n",
            "Resolving deltas:   0% (0/696)   \rResolving deltas:   1% (7/696)   \rResolving deltas:   2% (14/696)   \rResolving deltas:   3% (22/696)   \rResolving deltas:   5% (36/696)   \rResolving deltas:   6% (48/696)   \rResolving deltas:   7% (54/696)   \rResolving deltas:   8% (56/696)   \rResolving deltas:   9% (68/696)   \rResolving deltas:  10% (76/696)   \rResolving deltas:  11% (78/696)   \rResolving deltas:  12% (90/696)   \rResolving deltas:  13% (94/696)   \rResolving deltas:  14% (101/696)   \rResolving deltas:  15% (106/696)   \rResolving deltas:  16% (113/696)   \rResolving deltas:  18% (132/696)   \rResolving deltas:  19% (134/696)   \rResolving deltas:  21% (150/696)   \rResolving deltas:  22% (154/696)   \rResolving deltas:  23% (166/696)   \rResolving deltas:  27% (189/696)   \rResolving deltas:  28% (199/696)   \rResolving deltas:  30% (214/696)   \rResolving deltas:  31% (222/696)   \rResolving deltas:  32% (224/696)   \rResolving deltas:  33% (233/696)   \rResolving deltas:  34% (241/696)   \rResolving deltas:  35% (246/696)   \rResolving deltas:  37% (258/696)   \rResolving deltas:  38% (271/696)   \rResolving deltas:  42% (297/696)   \rResolving deltas:  43% (304/696)   \rResolving deltas:  46% (324/696)   \rResolving deltas:  47% (330/696)   \rResolving deltas:  53% (371/696)   \rResolving deltas:  54% (379/696)   \rResolving deltas:  55% (384/696)   \rResolving deltas:  56% (391/696)   \rResolving deltas:  59% (412/696)   \rResolving deltas:  60% (423/696)   \rResolving deltas:  61% (425/696)   \rResolving deltas:  63% (444/696)   \rResolving deltas:  64% (450/696)   \rResolving deltas:  69% (485/696)   \rResolving deltas:  70% (488/696)   \rResolving deltas:  71% (497/696)   \rResolving deltas:  72% (502/696)   \rResolving deltas:  73% (511/696)   \rResolving deltas:  74% (519/696)   \rResolving deltas:  76% (535/696)   \rResolving deltas:  77% (539/696)   \rResolving deltas:  78% (544/696)   \rResolving deltas:  79% (551/696)   \rResolving deltas:  81% (565/696)   \rResolving deltas:  82% (572/696)   \rResolving deltas:  83% (580/696)   \rResolving deltas:  84% (585/696)   \rResolving deltas:  85% (595/696)   \rResolving deltas:  87% (606/696)   \rResolving deltas:  88% (619/696)   \rResolving deltas:  91% (635/696)   \rResolving deltas:  92% (642/696)   \rResolving deltas:  93% (653/696)   \rResolving deltas:  94% (655/696)   \rResolving deltas:  95% (662/696)   \rResolving deltas:  97% (676/696)   \rResolving deltas:  98% (683/696)   \rResolving deltas:  99% (690/696)   \rResolving deltas: 100% (696/696)   \rResolving deltas: 100% (696/696), done.\n"
          ],
          "name": "stdout"
        }
      ]
    },
    {
      "cell_type": "code",
      "metadata": {
        "id": "327vcYMy-4MS",
        "colab_type": "code",
        "colab": {}
      },
      "source": [
        "#!rm -r SyferText"
      ],
      "execution_count": 0,
      "outputs": []
    },
    {
      "cell_type": "code",
      "metadata": {
        "id": "eSez6Nqi85tJ",
        "colab_type": "code",
        "colab": {}
      },
      "source": [
        "import os\n",
        "os.chdir('/content/SyferText')"
      ],
      "execution_count": 0,
      "outputs": []
    },
    {
      "cell_type": "code",
      "metadata": {
        "id": "N4kCeiUp9ArT",
        "colab_type": "code",
        "outputId": "ea2e5596-1325-4836-b289-5cb46956780f",
        "colab": {
          "base_uri": "https://localhost:8080/",
          "height": 1000
        }
      },
      "source": [
        "!python setup.py install"
      ],
      "execution_count": 4,
      "outputs": [
        {
          "output_type": "stream",
          "text": [
            "/usr/lib/python3.6/distutils/dist.py:261: UserWarning: Unknown distribution option: 'classifier'\n",
            "  warnings.warn(msg)\n",
            "running install\n",
            "running bdist_egg\n",
            "running egg_info\n",
            "creating syfertext.egg-info\n",
            "writing syfertext.egg-info/PKG-INFO\n",
            "writing dependency_links to syfertext.egg-info/dependency_links.txt\n",
            "writing requirements to syfertext.egg-info/requires.txt\n",
            "writing top-level names to syfertext.egg-info/top_level.txt\n",
            "writing manifest file 'syfertext.egg-info/SOURCES.txt'\n",
            "writing manifest file 'syfertext.egg-info/SOURCES.txt'\n",
            "installing library code to build/bdist.linux-x86_64/egg\n",
            "running install_lib\n",
            "running build_py\n",
            "creating build\n",
            "creating build/lib\n",
            "creating build/lib/syfertext\n",
            "copying syfertext/vectors.py -> build/lib/syfertext\n",
            "copying syfertext/utils.py -> build/lib/syfertext\n",
            "copying syfertext/language.py -> build/lib/syfertext\n",
            "copying syfertext/doc.py -> build/lib/syfertext\n",
            "copying syfertext/__init__.py -> build/lib/syfertext\n",
            "copying syfertext/token_exception.py -> build/lib/syfertext\n",
            "copying syfertext/token.py -> build/lib/syfertext\n",
            "copying syfertext/string_store.py -> build/lib/syfertext\n",
            "copying syfertext/underscore.py -> build/lib/syfertext\n",
            "copying syfertext/char_classes.py -> build/lib/syfertext\n",
            "copying syfertext/tokenizer.py -> build/lib/syfertext\n",
            "copying syfertext/stop_words.py -> build/lib/syfertext\n",
            "copying syfertext/vocab.py -> build/lib/syfertext\n",
            "copying syfertext/punctuations.py -> build/lib/syfertext\n",
            "copying syfertext/lex_attrs.py -> build/lib/syfertext\n",
            "copying syfertext/lexeme.py -> build/lib/syfertext\n",
            "copying syfertext/attrs.py -> build/lib/syfertext\n",
            "creating build/lib/syfertext/pointers\n",
            "copying syfertext/pointers/__init__.py -> build/lib/syfertext/pointers\n",
            "copying syfertext/pointers/doc_pointer.py -> build/lib/syfertext/pointers\n",
            "creating build/lib/syfertext/pipeline\n",
            "copying syfertext/pipeline/subpipeline.py -> build/lib/syfertext/pipeline\n",
            "copying syfertext/pipeline/__init__.py -> build/lib/syfertext/pipeline\n",
            "copying syfertext/pipeline/simple_tagger.py -> build/lib/syfertext/pipeline\n",
            "creating build/lib/syfertext/pipeline/pointers\n",
            "copying syfertext/pipeline/pointers/subpipeline_pointer.py -> build/lib/syfertext/pipeline/pointers\n",
            "copying syfertext/pipeline/pointers/__init__.py -> build/lib/syfertext/pipeline/pointers\n",
            "creating build/bdist.linux-x86_64\n",
            "creating build/bdist.linux-x86_64/egg\n",
            "creating build/bdist.linux-x86_64/egg/syfertext\n",
            "copying build/lib/syfertext/vectors.py -> build/bdist.linux-x86_64/egg/syfertext\n",
            "copying build/lib/syfertext/utils.py -> build/bdist.linux-x86_64/egg/syfertext\n",
            "creating build/bdist.linux-x86_64/egg/syfertext/pointers\n",
            "copying build/lib/syfertext/pointers/__init__.py -> build/bdist.linux-x86_64/egg/syfertext/pointers\n",
            "copying build/lib/syfertext/pointers/doc_pointer.py -> build/bdist.linux-x86_64/egg/syfertext/pointers\n",
            "copying build/lib/syfertext/language.py -> build/bdist.linux-x86_64/egg/syfertext\n",
            "copying build/lib/syfertext/doc.py -> build/bdist.linux-x86_64/egg/syfertext\n",
            "copying build/lib/syfertext/__init__.py -> build/bdist.linux-x86_64/egg/syfertext\n",
            "copying build/lib/syfertext/token_exception.py -> build/bdist.linux-x86_64/egg/syfertext\n",
            "copying build/lib/syfertext/token.py -> build/bdist.linux-x86_64/egg/syfertext\n",
            "copying build/lib/syfertext/string_store.py -> build/bdist.linux-x86_64/egg/syfertext\n",
            "copying build/lib/syfertext/underscore.py -> build/bdist.linux-x86_64/egg/syfertext\n",
            "copying build/lib/syfertext/char_classes.py -> build/bdist.linux-x86_64/egg/syfertext\n",
            "copying build/lib/syfertext/tokenizer.py -> build/bdist.linux-x86_64/egg/syfertext\n",
            "copying build/lib/syfertext/stop_words.py -> build/bdist.linux-x86_64/egg/syfertext\n",
            "copying build/lib/syfertext/vocab.py -> build/bdist.linux-x86_64/egg/syfertext\n",
            "copying build/lib/syfertext/punctuations.py -> build/bdist.linux-x86_64/egg/syfertext\n",
            "copying build/lib/syfertext/lex_attrs.py -> build/bdist.linux-x86_64/egg/syfertext\n",
            "copying build/lib/syfertext/lexeme.py -> build/bdist.linux-x86_64/egg/syfertext\n",
            "creating build/bdist.linux-x86_64/egg/syfertext/pipeline\n",
            "creating build/bdist.linux-x86_64/egg/syfertext/pipeline/pointers\n",
            "copying build/lib/syfertext/pipeline/pointers/subpipeline_pointer.py -> build/bdist.linux-x86_64/egg/syfertext/pipeline/pointers\n",
            "copying build/lib/syfertext/pipeline/pointers/__init__.py -> build/bdist.linux-x86_64/egg/syfertext/pipeline/pointers\n",
            "copying build/lib/syfertext/pipeline/subpipeline.py -> build/bdist.linux-x86_64/egg/syfertext/pipeline\n",
            "copying build/lib/syfertext/pipeline/__init__.py -> build/bdist.linux-x86_64/egg/syfertext/pipeline\n",
            "copying build/lib/syfertext/pipeline/simple_tagger.py -> build/bdist.linux-x86_64/egg/syfertext/pipeline\n",
            "copying build/lib/syfertext/attrs.py -> build/bdist.linux-x86_64/egg/syfertext\n",
            "byte-compiling build/bdist.linux-x86_64/egg/syfertext/vectors.py to vectors.cpython-36.pyc\n",
            "byte-compiling build/bdist.linux-x86_64/egg/syfertext/utils.py to utils.cpython-36.pyc\n",
            "byte-compiling build/bdist.linux-x86_64/egg/syfertext/pointers/__init__.py to __init__.cpython-36.pyc\n",
            "byte-compiling build/bdist.linux-x86_64/egg/syfertext/pointers/doc_pointer.py to doc_pointer.cpython-36.pyc\n",
            "byte-compiling build/bdist.linux-x86_64/egg/syfertext/language.py to language.cpython-36.pyc\n",
            "byte-compiling build/bdist.linux-x86_64/egg/syfertext/doc.py to doc.cpython-36.pyc\n",
            "byte-compiling build/bdist.linux-x86_64/egg/syfertext/__init__.py to __init__.cpython-36.pyc\n",
            "byte-compiling build/bdist.linux-x86_64/egg/syfertext/token_exception.py to token_exception.cpython-36.pyc\n",
            "byte-compiling build/bdist.linux-x86_64/egg/syfertext/token.py to token.cpython-36.pyc\n",
            "byte-compiling build/bdist.linux-x86_64/egg/syfertext/string_store.py to string_store.cpython-36.pyc\n",
            "byte-compiling build/bdist.linux-x86_64/egg/syfertext/underscore.py to underscore.cpython-36.pyc\n",
            "byte-compiling build/bdist.linux-x86_64/egg/syfertext/char_classes.py to char_classes.cpython-36.pyc\n",
            "byte-compiling build/bdist.linux-x86_64/egg/syfertext/tokenizer.py to tokenizer.cpython-36.pyc\n",
            "byte-compiling build/bdist.linux-x86_64/egg/syfertext/stop_words.py to stop_words.cpython-36.pyc\n",
            "byte-compiling build/bdist.linux-x86_64/egg/syfertext/vocab.py to vocab.cpython-36.pyc\n",
            "byte-compiling build/bdist.linux-x86_64/egg/syfertext/punctuations.py to punctuations.cpython-36.pyc\n",
            "byte-compiling build/bdist.linux-x86_64/egg/syfertext/lex_attrs.py to lex_attrs.cpython-36.pyc\n",
            "byte-compiling build/bdist.linux-x86_64/egg/syfertext/lexeme.py to lexeme.cpython-36.pyc\n",
            "byte-compiling build/bdist.linux-x86_64/egg/syfertext/pipeline/pointers/subpipeline_pointer.py to subpipeline_pointer.cpython-36.pyc\n",
            "byte-compiling build/bdist.linux-x86_64/egg/syfertext/pipeline/pointers/__init__.py to __init__.cpython-36.pyc\n",
            "byte-compiling build/bdist.linux-x86_64/egg/syfertext/pipeline/subpipeline.py to subpipeline.cpython-36.pyc\n",
            "byte-compiling build/bdist.linux-x86_64/egg/syfertext/pipeline/__init__.py to __init__.cpython-36.pyc\n",
            "byte-compiling build/bdist.linux-x86_64/egg/syfertext/pipeline/simple_tagger.py to simple_tagger.cpython-36.pyc\n",
            "byte-compiling build/bdist.linux-x86_64/egg/syfertext/attrs.py to attrs.cpython-36.pyc\n",
            "creating build/bdist.linux-x86_64/egg/EGG-INFO\n",
            "copying syfertext.egg-info/PKG-INFO -> build/bdist.linux-x86_64/egg/EGG-INFO\n",
            "copying syfertext.egg-info/SOURCES.txt -> build/bdist.linux-x86_64/egg/EGG-INFO\n",
            "copying syfertext.egg-info/dependency_links.txt -> build/bdist.linux-x86_64/egg/EGG-INFO\n",
            "copying syfertext.egg-info/requires.txt -> build/bdist.linux-x86_64/egg/EGG-INFO\n",
            "copying syfertext.egg-info/top_level.txt -> build/bdist.linux-x86_64/egg/EGG-INFO\n",
            "zip_safe flag not set; analyzing archive contents...\n",
            "creating dist\n",
            "creating 'dist/syfertext-0.1.0.dev2-py3.6.egg' and adding 'build/bdist.linux-x86_64/egg' to it\n",
            "removing 'build/bdist.linux-x86_64/egg' (and everything under it)\n",
            "Processing syfertext-0.1.0.dev2-py3.6.egg\n",
            "Copying syfertext-0.1.0.dev2-py3.6.egg to /usr/local/lib/python3.6/dist-packages\n",
            "Adding syfertext 0.1.0.dev2 to easy-install.pth file\n",
            "\n",
            "Installed /usr/local/lib/python3.6/dist-packages/syfertext-0.1.0.dev2-py3.6.egg\n",
            "Processing dependencies for syfertext==0.1.0.dev2\n",
            "Searching for requests==2.22.0\n",
            "Reading https://pypi.org/simple/requests/\n",
            "Downloading https://files.pythonhosted.org/packages/51/bd/23c926cd341ea6b7dd0b2a00aba99ae0f828be89d72b2190f27c11d4b7fb/requests-2.22.0-py2.py3-none-any.whl#sha256=9cf5292fcd0f598c671cfc1e0d7d1a7f13bb8085e9a590f48c010551dc6c4b31\n",
            "Best match: requests 2.22.0\n",
            "Processing requests-2.22.0-py2.py3-none-any.whl\n",
            "Installing requests-2.22.0-py2.py3-none-any.whl to /usr/local/lib/python3.6/dist-packages\n",
            "Adding requests 2.22.0 to easy-install.pth file\n",
            "\n",
            "Installed /usr/local/lib/python3.6/dist-packages/requests-2.22.0-py3.6.egg\n",
            "Searching for syft==0.2.4\n",
            "Reading https://pypi.org/simple/syft/\n",
            "Downloading https://files.pythonhosted.org/packages/1f/8b/dc9a253392908d480322466832d618d85cdb1b66a1781604cf1064b50c32/syft-0.2.4-py3-none-any.whl#sha256=1a836fc9bb3344cf50ff76fffe73218c932adb1c388a72ab63f033dfcfe627e6\n",
            "Best match: syft 0.2.4\n",
            "Processing syft-0.2.4-py3-none-any.whl\n",
            "Installing syft-0.2.4-py3-none-any.whl to /usr/local/lib/python3.6/dist-packages\n",
            "Adding syft 0.2.4 to easy-install.pth file\n",
            "\n",
            "Installed /usr/local/lib/python3.6/dist-packages/syft-0.2.4-py3.6.egg\n",
            "Searching for mmh3==2.5.1\n",
            "Reading https://pypi.org/simple/mmh3/\n",
            "Downloading https://files.pythonhosted.org/packages/fa/7e/3ddcab0a9fcea034212c02eb411433db9330e34d626360b97333368b4052/mmh3-2.5.1.tar.gz#sha256=185209a217c52afe43e079e5b232d0ef0f3a262601eaaf4371326ab6dcbec508\n",
            "Best match: mmh3 2.5.1\n",
            "Processing mmh3-2.5.1.tar.gz\n",
            "Writing /tmp/easy_install-nao79r9w/mmh3-2.5.1/setup.cfg\n",
            "Running mmh3-2.5.1/setup.py -q bdist_egg --dist-dir /tmp/easy_install-nao79r9w/mmh3-2.5.1/egg-dist-tmp-mb61m60w\n",
            "zip_safe flag not set; analyzing archive contents...\n",
            "__pycache__.mmh3.cpython-36: module references __file__\n",
            "creating /usr/local/lib/python3.6/dist-packages/mmh3-2.5.1-py3.6-linux-x86_64.egg\n",
            "Extracting mmh3-2.5.1-py3.6-linux-x86_64.egg to /usr/local/lib/python3.6/dist-packages\n",
            "Adding mmh3 2.5.1 to easy-install.pth file\n",
            "\n",
            "Installed /usr/local/lib/python3.6/dist-packages/mmh3-2.5.1-py3.6-linux-x86_64.egg\n",
            "Searching for tqdm==4.36.1\n",
            "Reading https://pypi.org/simple/tqdm/\n",
            "Downloading https://files.pythonhosted.org/packages/e1/c1/bc1dba38b48f4ae3c4428aea669c5e27bd5a7642a74c8348451e0bd8ff86/tqdm-4.36.1-py2.py3-none-any.whl#sha256=dd3fcca8488bb1d416aa7469d2f277902f26260c45aa86b667b074cd44b3b115\n",
            "Best match: tqdm 4.36.1\n",
            "Processing tqdm-4.36.1-py2.py3-none-any.whl\n",
            "Installing tqdm-4.36.1-py2.py3-none-any.whl to /usr/local/lib/python3.6/dist-packages\n",
            "Adding tqdm 4.36.1 to easy-install.pth file\n",
            "Installing tqdm script to /usr/local/bin\n",
            "\n",
            "Installed /usr/local/lib/python3.6/dist-packages/tqdm-4.36.1-py3.6.egg\n",
            "Searching for websockets~=8.1.0\n",
            "Reading https://pypi.org/simple/websockets/\n",
            "Downloading https://files.pythonhosted.org/packages/cf/cb/c35513c4a0ff24ca13e33f7336ba8c1a864449fad9fea8e37abdad11c38d/websockets-8.1-cp36-cp36m-manylinux1_x86_64.whl#sha256=4f9f7d28ce1d8f1295717c2c25b732c2bc0645db3215cf757551c392177d7cb8\n",
            "Best match: websockets 8.1\n",
            "Processing websockets-8.1-cp36-cp36m-manylinux1_x86_64.whl\n",
            "Installing websockets-8.1-cp36-cp36m-manylinux1_x86_64.whl to /usr/local/lib/python3.6/dist-packages\n",
            "Adding websockets 8.1 to easy-install.pth file\n",
            "\n",
            "Installed /usr/local/lib/python3.6/dist-packages/websockets-8.1-py3.6-linux-x86_64.egg\n",
            "Searching for websocket-client~=0.57.0\n",
            "Reading https://pypi.org/simple/websocket-client/\n",
            "Downloading https://files.pythonhosted.org/packages/4c/5f/f61b420143ed1c8dc69f9eaec5ff1ac36109d52c80de49d66e0c36c3dfdf/websocket_client-0.57.0-py2.py3-none-any.whl#sha256=0fc45c961324d79c781bab301359d5a1b00b13ad1b10415a4780229ef71a5549\n",
            "Best match: websocket-client 0.57.0\n",
            "Processing websocket_client-0.57.0-py2.py3-none-any.whl\n",
            "Installing websocket_client-0.57.0-py2.py3-none-any.whl to /usr/local/lib/python3.6/dist-packages\n",
            "Adding websocket-client 0.57.0 to easy-install.pth file\n",
            "Installing wsdump.py script to /usr/local/bin\n",
            "\n",
            "Installed /usr/local/lib/python3.6/dist-packages/websocket_client-0.57.0-py3.6.egg\n",
            "Searching for syft-proto~=0.2.5.a1\n",
            "Reading https://pypi.org/simple/syft-proto/\n",
            "Downloading https://files.pythonhosted.org/packages/c7/ab/849e6ef6c0e7af1a2a1d7a18f478fa07cd2217ed63867ab101ad5abff302/syft_proto-0.2.5a1-py3-none-any.whl#sha256=cdb0d67c1a70af83e5611e083fe63097eae207716c62aa5f3291bc2fb1aa55d2\n",
            "Best match: syft-proto 0.2.5a1\n",
            "Processing syft_proto-0.2.5a1-py3-none-any.whl\n",
            "Installing syft_proto-0.2.5a1-py3-none-any.whl to /usr/local/lib/python3.6/dist-packages\n",
            "Adding syft-proto 0.2.5a1 to easy-install.pth file\n",
            "\n",
            "Installed /usr/local/lib/python3.6/dist-packages/syft_proto-0.2.5a1-py3.6.egg\n",
            "Searching for phe~=1.4.0\n",
            "Reading https://pypi.org/simple/phe/\n",
            "Downloading https://files.pythonhosted.org/packages/32/0e/568e97b014eb14e794a1258a341361e9da351dc6240c63b89e1541e3341c/phe-1.4.0.tar.gz#sha256=b5785c8e824eb7b02ebbe9b1e2080982d48a10db7b827a6771e04e22da99f473\n",
            "Best match: phe 1.4.0\n",
            "Processing phe-1.4.0.tar.gz\n",
            "Writing /tmp/easy_install-d_inpkzs/phe-1.4.0/setup.cfg\n",
            "Running phe-1.4.0/setup.py -q bdist_egg --dist-dir /tmp/easy_install-d_inpkzs/phe-1.4.0/egg-dist-tmp-ot5q5hvx\n",
            "zip_safe flag not set; analyzing archive contents...\n",
            "Moving phe-1.4.0-py3.6.egg to /usr/local/lib/python3.6/dist-packages\n",
            "Adding phe 1.4.0 to easy-install.pth file\n",
            "Installing pheutil script to /usr/local/bin\n",
            "\n",
            "Installed /usr/local/lib/python3.6/dist-packages/phe-1.4.0-py3.6.egg\n",
            "Searching for lz4~=3.0.2\n",
            "Reading https://pypi.org/simple/lz4/\n",
            "Downloading https://files.pythonhosted.org/packages/e7/81/011fef8766fb0ef681037ad6fee96168ee03a864464986cbaa23e5357704/lz4-3.0.2-cp36-cp36m-manylinux2010_x86_64.whl#sha256=fc26c3902df2a8bfc0c8451bf08e265aa586fdf8f64add1d5286a12cd91e4e4a\n",
            "Best match: lz4 3.0.2\n",
            "Processing lz4-3.0.2-cp36-cp36m-manylinux2010_x86_64.whl\n",
            "Installing lz4-3.0.2-cp36-cp36m-manylinux2010_x86_64.whl to /usr/local/lib/python3.6/dist-packages\n",
            "Adding lz4 3.0.2 to easy-install.pth file\n",
            "\n",
            "Installed /usr/local/lib/python3.6/dist-packages/lz4-3.0.2-py3.6-linux-x86_64.egg\n",
            "Searching for flask-socketio~=4.2.1\n",
            "Reading https://pypi.org/simple/flask-socketio/\n",
            "Downloading https://files.pythonhosted.org/packages/66/44/edc4715af85671b943c18ac8345d0207972284a0cd630126ff5251faa08b/Flask_SocketIO-4.2.1-py2.py3-none-any.whl#sha256=7ff5b2f5edde23e875a8b0abf868584e5706e11741557449bc5147df2cd78268\n",
            "Best match: Flask-SocketIO 4.2.1\n",
            "Processing Flask_SocketIO-4.2.1-py2.py3-none-any.whl\n",
            "Installing Flask_SocketIO-4.2.1-py2.py3-none-any.whl to /usr/local/lib/python3.6/dist-packages\n",
            "Adding Flask-SocketIO 4.2.1 to easy-install.pth file\n",
            "\n",
            "Installed /usr/local/lib/python3.6/dist-packages/Flask_SocketIO-4.2.1-py3.6.egg\n",
            "Searching for Pillow~=6.2.2\n",
            "Reading https://pypi.org/simple/Pillow/\n",
            "Downloading https://files.pythonhosted.org/packages/8a/fd/bbbc569f98f47813c50a116b539d97b3b17a86ac7a309f83b2022d26caf2/Pillow-6.2.2-cp36-cp36m-manylinux1_x86_64.whl#sha256=92b83b380f9181cacc994f4c983d95a9c8b00b50bf786c66d235716b526a3332\n",
            "Best match: Pillow 6.2.2\n",
            "Processing Pillow-6.2.2-cp36-cp36m-manylinux1_x86_64.whl\n",
            "Installing Pillow-6.2.2-cp36-cp36m-manylinux1_x86_64.whl to /usr/local/lib/python3.6/dist-packages\n",
            "Adding Pillow 6.2.2 to easy-install.pth file\n",
            "\n",
            "Installed /usr/local/lib/python3.6/dist-packages/Pillow-6.2.2-py3.6-linux-x86_64.egg\n",
            "Searching for protobuf>=3.11.1\n",
            "Reading https://pypi.org/simple/protobuf/\n",
            "Downloading https://files.pythonhosted.org/packages/57/02/5432412c162989260fab61fa65e0a490c1872739eb91a659896e4d554b26/protobuf-3.11.3-cp36-cp36m-manylinux1_x86_64.whl#sha256=adf0e4d57b33881d0c63bb11e7f9038f98ee0c3e334c221f0858f826e8fb0151\n",
            "Best match: protobuf 3.11.3\n",
            "Processing protobuf-3.11.3-cp36-cp36m-manylinux1_x86_64.whl\n",
            "Installing protobuf-3.11.3-cp36-cp36m-manylinux1_x86_64.whl to /usr/local/lib/python3.6/dist-packages\n",
            "Adding protobuf 3.11.3 to easy-install.pth file\n",
            "\n",
            "Installed /usr/local/lib/python3.6/dist-packages/protobuf-3.11.3-py3.6-linux-x86_64.egg\n",
            "Searching for python-socketio>=4.3.0\n",
            "Reading https://pypi.org/simple/python-socketio/\n",
            "Downloading https://files.pythonhosted.org/packages/10/cb/631c0b713daea3938e66d4c0923e88f3c0b57b026f860ea76e0337bc9c7a/python_socketio-4.5.1-py2.py3-none-any.whl#sha256=81280cbbb7018d8ecdd006bf6025979733d347c0f2612282c1e21f6ed7d3b55b\n",
            "Best match: python-socketio 4.5.1\n",
            "Processing python_socketio-4.5.1-py2.py3-none-any.whl\n",
            "Installing python_socketio-4.5.1-py2.py3-none-any.whl to /usr/local/lib/python3.6/dist-packages\n",
            "Adding python-socketio 4.5.1 to easy-install.pth file\n",
            "\n",
            "Installed /usr/local/lib/python3.6/dist-packages/python_socketio-4.5.1-py3.6.egg\n",
            "Searching for python-engineio>=3.9.0\n",
            "Reading https://pypi.org/simple/python-engineio/\n",
            "Downloading https://files.pythonhosted.org/packages/6c/aa/c975982df73c4bcd087732db14b05306e8a3f3f24596cc18647746539290/python_engineio-3.12.1-py2.py3-none-any.whl#sha256=222926adb4bc6e03a8fc8e0ef2a3309f030c1c3f8e0fcc94c9ba214574565f02\n",
            "Best match: python-engineio 3.12.1\n",
            "Processing python_engineio-3.12.1-py2.py3-none-any.whl\n",
            "Installing python_engineio-3.12.1-py2.py3-none-any.whl to /usr/local/lib/python3.6/dist-packages\n",
            "Adding python-engineio 3.12.1 to easy-install.pth file\n",
            "\n",
            "Installed /usr/local/lib/python3.6/dist-packages/python_engineio-3.12.1-py3.6.egg\n",
            "Searching for urllib3==1.24.3\n",
            "Best match: urllib3 1.24.3\n",
            "Adding urllib3 1.24.3 to easy-install.pth file\n",
            "\n",
            "Using /usr/local/lib/python3.6/dist-packages\n",
            "Searching for idna==2.8\n",
            "Best match: idna 2.8\n",
            "Adding idna 2.8 to easy-install.pth file\n",
            "\n",
            "Using /usr/local/lib/python3.6/dist-packages\n",
            "Searching for chardet==3.0.4\n",
            "Best match: chardet 3.0.4\n",
            "Adding chardet 3.0.4 to easy-install.pth file\n",
            "Installing chardetect script to /usr/local/bin\n",
            "\n",
            "Using /usr/local/lib/python3.6/dist-packages\n",
            "Searching for certifi==2020.4.5.1\n",
            "Best match: certifi 2020.4.5.1\n",
            "Adding certifi 2020.4.5.1 to easy-install.pth file\n",
            "\n",
            "Using /usr/local/lib/python3.6/dist-packages\n",
            "Searching for tornado==4.5.3\n",
            "Best match: tornado 4.5.3\n",
            "Adding tornado 4.5.3 to easy-install.pth file\n",
            "\n",
            "Using /usr/local/lib/python3.6/dist-packages\n",
            "Searching for torch==1.4.0\n",
            "Best match: torch 1.4.0\n",
            "Adding torch 1.4.0 to easy-install.pth file\n",
            "Installing convert-caffe2-to-onnx script to /usr/local/bin\n",
            "Installing convert-onnx-to-caffe2 script to /usr/local/bin\n",
            "\n",
            "Using /usr/local/lib/python3.6/dist-packages\n",
            "Searching for torchvision==0.5.0\n",
            "Best match: torchvision 0.5.0\n",
            "Adding torchvision 0.5.0 to easy-install.pth file\n",
            "\n",
            "Using /usr/local/lib/python3.6/dist-packages\n",
            "Searching for tblib==1.6.0\n",
            "Best match: tblib 1.6.0\n",
            "Adding tblib 1.6.0 to easy-install.pth file\n",
            "\n",
            "Using /usr/local/lib/python3.6/dist-packages\n",
            "Searching for scipy==1.4.1\n",
            "Best match: scipy 1.4.1\n",
            "Adding scipy 1.4.1 to easy-install.pth file\n",
            "\n",
            "Using /usr/local/lib/python3.6/dist-packages\n",
            "Searching for numpy==1.18.2\n",
            "Best match: numpy 1.18.2\n",
            "Adding numpy 1.18.2 to easy-install.pth file\n",
            "Installing f2py script to /usr/local/bin\n",
            "Installing f2py3 script to /usr/local/bin\n",
            "Installing f2py3.6 script to /usr/local/bin\n",
            "\n",
            "Using /usr/local/lib/python3.6/dist-packages\n",
            "Searching for msgpack==1.0.0\n",
            "Best match: msgpack 1.0.0\n",
            "Adding msgpack 1.0.0 to easy-install.pth file\n",
            "\n",
            "Using /usr/local/lib/python3.6/dist-packages\n",
            "Searching for Flask==1.1.2\n",
            "Best match: Flask 1.1.2\n",
            "Adding Flask 1.1.2 to easy-install.pth file\n",
            "Installing flask script to /usr/local/bin\n",
            "\n",
            "Using /usr/local/lib/python3.6/dist-packages\n",
            "Searching for six==1.12.0\n",
            "Best match: six 1.12.0\n",
            "Adding six 1.12.0 to easy-install.pth file\n",
            "\n",
            "Using /usr/local/lib/python3.6/dist-packages\n",
            "Searching for Jinja2==2.11.1\n",
            "Best match: Jinja2 2.11.1\n",
            "Adding Jinja2 2.11.1 to easy-install.pth file\n",
            "\n",
            "Using /usr/local/lib/python3.6/dist-packages\n",
            "Searching for itsdangerous==1.1.0\n",
            "Best match: itsdangerous 1.1.0\n",
            "Adding itsdangerous 1.1.0 to easy-install.pth file\n",
            "\n",
            "Using /usr/local/lib/python3.6/dist-packages\n",
            "Searching for click==7.1.1\n",
            "Best match: click 7.1.1\n",
            "Adding click 7.1.1 to easy-install.pth file\n",
            "\n",
            "Using /usr/local/lib/python3.6/dist-packages\n",
            "Searching for Werkzeug==1.0.1\n",
            "Best match: Werkzeug 1.0.1\n",
            "Adding Werkzeug 1.0.1 to easy-install.pth file\n",
            "\n",
            "Using /usr/local/lib/python3.6/dist-packages\n",
            "Searching for setuptools==46.1.3\n",
            "Best match: setuptools 46.1.3\n",
            "Adding setuptools 46.1.3 to easy-install.pth file\n",
            "Installing easy_install script to /usr/local/bin\n",
            "Installing easy_install-3.8 script to /usr/local/bin\n",
            "\n",
            "Using /usr/local/lib/python3.6/dist-packages\n",
            "Searching for MarkupSafe==1.1.1\n",
            "Best match: MarkupSafe 1.1.1\n",
            "Adding MarkupSafe 1.1.1 to easy-install.pth file\n",
            "\n",
            "Using /usr/local/lib/python3.6/dist-packages\n",
            "Finished processing dependencies for syfertext==0.1.0.dev2\n"
          ],
          "name": "stdout"
        }
      ]
    },
    {
      "cell_type": "code",
      "metadata": {
        "id": "2fOcWq2Mkhq_",
        "colab_type": "code",
        "colab": {
          "base_uri": "https://localhost:8080/",
          "height": 454
        },
        "outputId": "90b5ac3b-c9e5-4ef5-d128-ee3b9d19f6bc"
      },
      "source": [
        "! pip install pytest-black"
      ],
      "execution_count": 5,
      "outputs": [
        {
          "output_type": "stream",
          "text": [
            "Collecting pytest-black\n",
            "  Downloading https://files.pythonhosted.org/packages/3d/e9/2f3605f3922c1650cd43433be704a58773ee9baeb78731cc896822c2cc57/pytest-black-0.3.8.tar.gz\n",
            "Requirement already satisfied: pytest>=3.5.0 in /usr/local/lib/python3.6/dist-packages (from pytest-black) (3.6.4)\n",
            "Requirement already satisfied: toml in /usr/local/lib/python3.6/dist-packages (from pytest-black) (0.10.0)\n",
            "Requirement already satisfied: black>=19.3b0 in /usr/local/lib/python3.6/dist-packages (from pytest-black) (19.10b0)\n",
            "Requirement already satisfied: pluggy<0.8,>=0.5 in /usr/local/lib/python3.6/dist-packages (from pytest>=3.5.0->pytest-black) (0.7.1)\n",
            "Requirement already satisfied: more-itertools>=4.0.0 in /usr/local/lib/python3.6/dist-packages (from pytest>=3.5.0->pytest-black) (8.2.0)\n",
            "Requirement already satisfied: six>=1.10.0 in /usr/local/lib/python3.6/dist-packages (from pytest>=3.5.0->pytest-black) (1.12.0)\n",
            "Requirement already satisfied: py>=1.5.0 in /usr/local/lib/python3.6/dist-packages (from pytest>=3.5.0->pytest-black) (1.8.1)\n",
            "Requirement already satisfied: setuptools in /usr/local/lib/python3.6/dist-packages (from pytest>=3.5.0->pytest-black) (46.1.3)\n",
            "Requirement already satisfied: attrs>=17.4.0 in /usr/local/lib/python3.6/dist-packages (from pytest>=3.5.0->pytest-black) (19.3.0)\n",
            "Requirement already satisfied: atomicwrites>=1.0 in /usr/local/lib/python3.6/dist-packages (from pytest>=3.5.0->pytest-black) (1.3.0)\n",
            "Requirement already satisfied: regex in /usr/local/lib/python3.6/dist-packages (from black>=19.3b0->pytest-black) (2019.12.20)\n",
            "Requirement already satisfied: pathspec<1,>=0.6 in /usr/local/lib/python3.6/dist-packages (from black>=19.3b0->pytest-black) (0.8.0)\n",
            "Requirement already satisfied: appdirs in /usr/local/lib/python3.6/dist-packages (from black>=19.3b0->pytest-black) (1.4.3)\n",
            "Requirement already satisfied: typed-ast>=1.4.0 in /usr/local/lib/python3.6/dist-packages (from black>=19.3b0->pytest-black) (1.4.1)\n",
            "Requirement already satisfied: click>=6.5 in /usr/local/lib/python3.6/dist-packages (from black>=19.3b0->pytest-black) (7.1.1)\n",
            "Building wheels for collected packages: pytest-black\n",
            "  Building wheel for pytest-black (setup.py) ... \u001b[?25l\u001b[?25hdone\n",
            "  Created wheel for pytest-black: filename=pytest_black-0.3.8-cp36-none-any.whl size=4201 sha256=aa27c0b487b94cc282087cb30977473437121bb3ecb8e72d1edfff83ac5ec7e4\n",
            "  Stored in directory: /root/.cache/pip/wheels/a4/13/d3/ea8abf09938bdd97f8caf35980b1bdd082084ded93bed2ab9f\n",
            "Successfully built pytest-black\n",
            "Installing collected packages: pytest-black\n",
            "Successfully installed pytest-black-0.3.8\n"
          ],
          "name": "stdout"
        }
      ]
    },
    {
      "cell_type": "code",
      "metadata": {
        "id": "SkboSPgRk9Gm",
        "colab_type": "code",
        "colab": {
          "base_uri": "https://localhost:8080/",
          "height": 136
        },
        "outputId": "6a10447a-be8b-40f6-c42e-765f1223e1c0"
      },
      "source": [
        "!python -m  pytest --rootdir=\"SyferText\" --black --verbose "
      ],
      "execution_count": 0,
      "outputs": [
        {
          "output_type": "stream",
          "text": [
            "\u001b[1m============================= test session starts ==============================\u001b[0m\n",
            "platform linux -- Python 3.6.9, pytest-3.6.4, py-1.8.1, pluggy-0.7.1 -- /usr/bin/python3\n",
            "cachedir: SyferText/.pytest_cache\n",
            "rootdir: /content/SyferText, inifile:\n",
            "plugins: typeguard-2.7.1, black-0.3.8\n",
            "collecting 53 items / 1 errors                                                 \u001b[0m"
          ],
          "name": "stdout"
        }
      ]
    },
    {
      "cell_type": "code",
      "metadata": {
        "id": "rpDf_CI29EHU",
        "colab_type": "code",
        "outputId": "71e77d9d-3da0-4507-994a-341af20606db",
        "colab": {
          "base_uri": "https://localhost:8080/",
          "height": 69
        }
      },
      "source": [
        "\n",
        "import syft as sy\n",
        "import torch\n",
        "import syfertext\n",
        "import numpy as np\n",
        "\n",
        "hook = sy.TorchHook(torch)\n",
        "me = hook.local_worker\n",
        "\n",
        "nlp = syfertext.load(\"en_core_web_lg\", owner=me)"
      ],
      "execution_count": 0,
      "outputs": [
        {
          "output_type": "stream",
          "text": [
            "WARNING:root:Torch was already hooked... skipping hooking process\n",
            "WARNING:root:Torch was already hooked... skipping hooking process\n",
            "WARNING:root:Torch was already hooked... skipping hooking process\n"
          ],
          "name": "stderr"
        }
      ]
    },
    {
      "cell_type": "code",
      "metadata": {
        "id": "aQ90bmu59zex",
        "colab_type": "code",
        "colab": {}
      },
      "source": [
        "vocab = nlp.vocab"
      ],
      "execution_count": 0,
      "outputs": []
    },
    {
      "cell_type": "code",
      "metadata": {
        "id": "6kdNH-Qb95kM",
        "colab_type": "code",
        "colab": {}
      },
      "source": [
        "lexeme = vocab[\"apple\"]"
      ],
      "execution_count": 0,
      "outputs": []
    },
    {
      "cell_type": "code",
      "metadata": {
        "id": "PWQ9EknD-Nyo",
        "colab_type": "code",
        "outputId": "63a2f722-18ae-4710-cddb-de490117f2e9",
        "colab": {
          "base_uri": "https://localhost:8080/",
          "height": 435
        }
      },
      "source": [
        "lexeme.vector_norm"
      ],
      "execution_count": 0,
      "outputs": [
        {
          "output_type": "error",
          "ename": "AttributeError",
          "evalue": "ignored",
          "traceback": [
            "\u001b[0;31m---------------------------------------------------------------------------\u001b[0m",
            "\u001b[0;31mAttributeError\u001b[0m                            Traceback (most recent call last)",
            "\u001b[0;32m<ipython-input-8-513da0a75771>\u001b[0m in \u001b[0;36m<module>\u001b[0;34m()\u001b[0m\n\u001b[0;32m----> 1\u001b[0;31m \u001b[0mlexeme\u001b[0m\u001b[0;34m.\u001b[0m\u001b[0mvector_norm\u001b[0m\u001b[0;34m\u001b[0m\u001b[0;34m\u001b[0m\u001b[0m\n\u001b[0m",
            "\u001b[0;32m/usr/local/lib/python3.6/dist-packages/syfertext-0.1.0.dev2-py3.6.egg/syfertext/lexeme.py\u001b[0m in \u001b[0;36mvector_norm\u001b[0;34m(self)\u001b[0m\n\u001b[1;32m     80\u001b[0m     \u001b[0;32mdef\u001b[0m \u001b[0mvector_norm\u001b[0m\u001b[0;34m(\u001b[0m\u001b[0mself\u001b[0m\u001b[0;34m)\u001b[0m\u001b[0;34m:\u001b[0m\u001b[0;34m\u001b[0m\u001b[0;34m\u001b[0m\u001b[0m\n\u001b[1;32m     81\u001b[0m         \u001b[0;34m\"\"\"RETURNS (float): The L2 norm of the vector representation.\"\"\"\u001b[0m\u001b[0;34m\u001b[0m\u001b[0;34m\u001b[0m\u001b[0m\n\u001b[0;32m---> 82\u001b[0;31m         \u001b[0mvector\u001b[0m \u001b[0;34m=\u001b[0m \u001b[0mself\u001b[0m\u001b[0;34m.\u001b[0m\u001b[0mvector\u001b[0m\u001b[0;34m\u001b[0m\u001b[0;34m\u001b[0m\u001b[0m\n\u001b[0m\u001b[1;32m     83\u001b[0m         \u001b[0;32mreturn\u001b[0m \u001b[0mnumpy\u001b[0m\u001b[0;34m.\u001b[0m\u001b[0msqrt\u001b[0m\u001b[0;34m(\u001b[0m\u001b[0;34m(\u001b[0m\u001b[0mvector\u001b[0m\u001b[0;34m**\u001b[0m\u001b[0;36m2\u001b[0m\u001b[0;34m)\u001b[0m\u001b[0;34m.\u001b[0m\u001b[0msum\u001b[0m\u001b[0;34m(\u001b[0m\u001b[0;34m)\u001b[0m\u001b[0;34m)\u001b[0m\u001b[0;34m\u001b[0m\u001b[0;34m\u001b[0m\u001b[0m\n\u001b[1;32m     84\u001b[0m \u001b[0;34m\u001b[0m\u001b[0m\n",
            "\u001b[0;32m/usr/local/lib/python3.6/dist-packages/syfertext-0.1.0.dev2-py3.6.egg/syfertext/lexeme.py\u001b[0m in \u001b[0;36mvector\u001b[0;34m(self)\u001b[0m\n\u001b[1;32m     87\u001b[0m     \u001b[0;32mdef\u001b[0m \u001b[0mvector\u001b[0m\u001b[0;34m(\u001b[0m\u001b[0mself\u001b[0m\u001b[0;34m)\u001b[0m\u001b[0;34m:\u001b[0m\u001b[0;34m\u001b[0m\u001b[0;34m\u001b[0m\u001b[0m\n\u001b[1;32m     88\u001b[0m         \u001b[0;31m#To do add custom error message, and functionality of setting a vector.\u001b[0m\u001b[0;34m\u001b[0m\u001b[0;34m\u001b[0m\u001b[0;34m\u001b[0m\u001b[0m\n\u001b[0;32m---> 89\u001b[0;31m         \u001b[0;32mreturn\u001b[0m \u001b[0mself\u001b[0m\u001b[0;34m.\u001b[0m\u001b[0mvocab\u001b[0m\u001b[0;34m.\u001b[0m\u001b[0mget_vector\u001b[0m\u001b[0;34m(\u001b[0m\u001b[0mself\u001b[0m\u001b[0;34m.\u001b[0m\u001b[0mlex\u001b[0m\u001b[0;34m.\u001b[0m\u001b[0morth\u001b[0m\u001b[0;34m)\u001b[0m\u001b[0;34m\u001b[0m\u001b[0;34m\u001b[0m\u001b[0m\n\u001b[0m\u001b[1;32m     90\u001b[0m \u001b[0;34m\u001b[0m\u001b[0m\n\u001b[1;32m     91\u001b[0m     \u001b[0;34m@\u001b[0m\u001b[0mproperty\u001b[0m\u001b[0;34m\u001b[0m\u001b[0;34m\u001b[0m\u001b[0m\n",
            "\u001b[0;31mAttributeError\u001b[0m: 'Vocab' object has no attribute 'get_vector'"
          ]
        }
      ]
    },
    {
      "cell_type": "code",
      "metadata": {
        "id": "sNegOCa3_MjH",
        "colab_type": "code",
        "colab": {}
      },
      "source": [
        ""
      ],
      "execution_count": 0,
      "outputs": []
    }
  ]
}