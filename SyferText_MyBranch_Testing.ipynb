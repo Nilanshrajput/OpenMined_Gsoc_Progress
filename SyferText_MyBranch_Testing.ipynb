{
  "nbformat": 4,
  "nbformat_minor": 0,
  "metadata": {
    "colab": {
      "name": "SyferText_MyBranch_Testing.ipynb",
      "provenance": [],
      "authorship_tag": "ABX9TyOcK6RubgLA8QiJ2v/klnpZ",
      "include_colab_link": true
    },
    "kernelspec": {
      "name": "python3",
      "display_name": "Python 3"
    }
  },
  "cells": [
    {
      "cell_type": "markdown",
      "metadata": {
        "id": "view-in-github",
        "colab_type": "text"
      },
      "source": [
        "<a href=\"https://colab.research.google.com/github/Nilanshrajput/OpenMined_Gsoc_Progress/blob/master/SyferText_MyBranch_Testing.ipynb\" target=\"_parent\"><img src=\"https://colab.research.google.com/assets/colab-badge.svg\" alt=\"Open In Colab\"/></a>"
      ]
    },
    {
      "cell_type": "code",
      "metadata": {
        "id": "iO1fAZ7qGIWf",
        "colab_type": "code",
        "colab": {
          "base_uri": "https://localhost:8080/",
          "height": 1000
        },
        "outputId": "1eeaf20f-b77c-4cd4-c655-7fa38ce507c1"
      },
      "source": [
        "# Install Git LFS\n",
        "!curl -s https://packagecloud.io/install/repositories/github/git-lfs/script.deb.sh | sudo bash\n",
        "!sudo apt-get install git-lfs\n",
        "!git lfs install\n",
        "# Install syfertext language model\n",
        "!pip install git+git://github.com/Nilanshrajput/syfertext_en_core_web_lg@master"
      ],
      "execution_count": 1,
      "outputs": [
        {
          "output_type": "stream",
          "text": [
            "Detected operating system as Ubuntu/bionic.\n",
            "Checking for curl...\n",
            "Detected curl...\n",
            "Checking for gpg...\n",
            "Detected gpg...\n",
            "Running apt-get update... done.\n",
            "Installing apt-transport-https... done.\n",
            "Installing /etc/apt/sources.list.d/github_git-lfs.list...done.\n",
            "Importing packagecloud gpg key... done.\n",
            "Running apt-get update... done.\n",
            "\n",
            "The repository is setup! You can now install packages.\n",
            "Reading package lists... Done\n",
            "Building dependency tree       \n",
            "Reading state information... Done\n",
            "The following NEW packages will be installed:\n",
            "  git-lfs\n",
            "0 upgraded, 1 newly installed, 0 to remove and 32 not upgraded.\n",
            "Need to get 6,877 kB of archives.\n",
            "After this operation, 16.4 MB of additional disk space will be used.\n",
            "Get:1 https://packagecloud.io/github/git-lfs/ubuntu bionic/main amd64 git-lfs amd64 2.11.0 [6,877 kB]\n",
            "Fetched 6,877 kB in 1s (8,880 kB/s)\n",
            "debconf: unable to initialize frontend: Dialog\n",
            "debconf: (No usable dialog-like program is installed, so the dialog based frontend cannot be used. at /usr/share/perl5/Debconf/FrontEnd/Dialog.pm line 76, <> line 1.)\n",
            "debconf: falling back to frontend: Readline\n",
            "debconf: unable to initialize frontend: Readline\n",
            "debconf: (This frontend requires a controlling tty.)\n",
            "debconf: falling back to frontend: Teletype\n",
            "dpkg-preconfigure: unable to re-open stdin: \n",
            "Selecting previously unselected package git-lfs.\n",
            "(Reading database ... 144433 files and directories currently installed.)\n",
            "Preparing to unpack .../git-lfs_2.11.0_amd64.deb ...\n",
            "Unpacking git-lfs (2.11.0) ...\n",
            "Setting up git-lfs (2.11.0) ...\n",
            "Git LFS initialized.\n",
            "Processing triggers for man-db (2.8.3-2ubuntu0.1) ...\n",
            "Git LFS initialized.\n",
            "Collecting git+git://github.com/Nilanshrajput/syfertext_en_core_web_lg@master\n",
            "  Cloning git://github.com/Nilanshrajput/syfertext_en_core_web_lg (to revision master) to /tmp/pip-req-build-6c70_jgy\n",
            "  Running command git clone -q git://github.com/Nilanshrajput/syfertext_en_core_web_lg /tmp/pip-req-build-6c70_jgy\n",
            "  Filtering content: 100% (3/3), 820.61 MiB | 54.38 MiB/s, done.\n",
            "Collecting numpy==1.18.2\n",
            "\u001b[?25l  Downloading https://files.pythonhosted.org/packages/07/08/a549ba8b061005bb629b76adc000f3caaaf881028b963c2e18f811c6edc1/numpy-1.18.2-cp36-cp36m-manylinux1_x86_64.whl (20.2MB)\n",
            "\u001b[K     |████████████████████████████████| 20.2MB 1.5MB/s \n",
            "\u001b[?25hBuilding wheels for collected packages: syfertext-en-core-web-lg\n",
            "  Building wheel for syfertext-en-core-web-lg (setup.py) ... \u001b[?25l\u001b[?25hdone\n",
            "  Created wheel for syfertext-en-core-web-lg: filename=syfertext_en_core_web_lg-0.0.1-cp36-none-any.whl size=774464161 sha256=2a0b75cd9667f62a9eb468cb30c3fb06fae668e79e0ea130535b5f92c399142c\n",
            "  Stored in directory: /tmp/pip-ephem-wheel-cache-3hz2vkqo/wheels/59/55/ab/309821e4cc31d9f53129229bd3ad759276e30fb8daef7ddeef\n",
            "Successfully built syfertext-en-core-web-lg\n",
            "\u001b[31mERROR: datascience 0.10.6 has requirement folium==0.2.1, but you'll have folium 0.8.3 which is incompatible.\u001b[0m\n",
            "\u001b[31mERROR: albumentations 0.1.12 has requirement imgaug<0.2.7,>=0.2.5, but you'll have imgaug 0.2.9 which is incompatible.\u001b[0m\n",
            "Installing collected packages: numpy, syfertext-en-core-web-lg\n",
            "  Found existing installation: numpy 1.18.4\n",
            "    Uninstalling numpy-1.18.4:\n",
            "      Successfully uninstalled numpy-1.18.4\n",
            "Successfully installed numpy-1.18.2 syfertext-en-core-web-lg-0.0.1\n"
          ],
          "name": "stdout"
        },
        {
          "output_type": "display_data",
          "data": {
            "application/vnd.colab-display-data+json": {
              "pip_warning": {
                "packages": [
                  "numpy"
                ]
              }
            }
          },
          "metadata": {
            "tags": []
          }
        }
      ]
    },
    {
      "cell_type": "code",
      "metadata": {
        "id": "osRUv2uJlsRI",
        "colab_type": "code",
        "outputId": "f359ba5b-8474-40c6-8c17-a8c33c02f27d",
        "colab": {
          "base_uri": "https://localhost:8080/",
          "height": 433
        }
      },
      "source": [
        "!pip install git+git://github.com/Nilanshrajput/syfertext_en_core_web_lg@master"
      ],
      "execution_count": 1,
      "outputs": [
        {
          "output_type": "stream",
          "text": [
            "Collecting git+git://github.com/Nilanshrajput/syfertext_en_core_web_lg@master\n",
            "  Cloning git://github.com/Nilanshrajput/syfertext_en_core_web_lg (to revision master) to /tmp/pip-req-build-_k3wnxqs\n",
            "  Running command git clone -q git://github.com/Nilanshrajput/syfertext_en_core_web_lg /tmp/pip-req-build-_k3wnxqs\n",
            "Collecting numpy==1.18.2\n",
            "\u001b[?25l  Downloading https://files.pythonhosted.org/packages/07/08/a549ba8b061005bb629b76adc000f3caaaf881028b963c2e18f811c6edc1/numpy-1.18.2-cp36-cp36m-manylinux1_x86_64.whl (20.2MB)\n",
            "\u001b[K     |████████████████████████████████| 20.2MB 4.5MB/s \n",
            "\u001b[?25hBuilding wheels for collected packages: syfertext-en-core-web-lg\n",
            "  Building wheel for syfertext-en-core-web-lg (setup.py) ... \u001b[?25l\u001b[?25hdone\n",
            "  Created wheel for syfertext-en-core-web-lg: filename=syfertext_en_core_web_lg-0.0.1-cp36-none-any.whl size=3976 sha256=6b8af0f536658f6d941914f600912810f5fe1d19783cfa5ca73a028a44b8c051\n",
            "  Stored in directory: /tmp/pip-ephem-wheel-cache-l8xuy3dp/wheels/59/55/ab/309821e4cc31d9f53129229bd3ad759276e30fb8daef7ddeef\n",
            "Successfully built syfertext-en-core-web-lg\n",
            "\u001b[31mERROR: datascience 0.10.6 has requirement folium==0.2.1, but you'll have folium 0.8.3 which is incompatible.\u001b[0m\n",
            "\u001b[31mERROR: albumentations 0.1.12 has requirement imgaug<0.2.7,>=0.2.5, but you'll have imgaug 0.2.9 which is incompatible.\u001b[0m\n",
            "Installing collected packages: numpy, syfertext-en-core-web-lg\n",
            "  Found existing installation: numpy 1.18.4\n",
            "    Uninstalling numpy-1.18.4:\n",
            "      Successfully uninstalled numpy-1.18.4\n",
            "Successfully installed numpy-1.18.2 syfertext-en-core-web-lg-0.0.1\n"
          ],
          "name": "stdout"
        },
        {
          "output_type": "display_data",
          "data": {
            "application/vnd.colab-display-data+json": {
              "pip_warning": {
                "packages": [
                  "numpy"
                ]
              }
            }
          },
          "metadata": {
            "tags": []
          }
        }
      ]
    },
    {
      "cell_type": "code",
      "metadata": {
        "id": "ao3MiEzc7iaX",
        "colab_type": "code",
        "outputId": "381b4dd2-c392-4cce-99d7-ac17dcf4f24f",
        "colab": {
          "base_uri": "https://localhost:8080/",
          "height": 138
        }
      },
      "source": [
        "!git clone --single-branch --branch Lexeme https://github.com/Nilanshrajput/SyferText.git"
      ],
      "execution_count": 3,
      "outputs": [
        {
          "output_type": "stream",
          "text": [
            "Cloning into 'SyferText'...\n",
            "remote: Enumerating objects: 19, done.\u001b[K\n",
            "remote: Counting objects:   5% (1/19)\u001b[K\rremote: Counting objects:  10% (2/19)\u001b[K\rremote: Counting objects:  15% (3/19)\u001b[K\rremote: Counting objects:  21% (4/19)\u001b[K\rremote: Counting objects:  26% (5/19)\u001b[K\rremote: Counting objects:  31% (6/19)\u001b[K\rremote: Counting objects:  36% (7/19)\u001b[K\rremote: Counting objects:  42% (8/19)\u001b[K\rremote: Counting objects:  47% (9/19)\u001b[K\rremote: Counting objects:  52% (10/19)\u001b[K\rremote: Counting objects:  57% (11/19)\u001b[K\rremote: Counting objects:  63% (12/19)\u001b[K\rremote: Counting objects:  68% (13/19)\u001b[K\rremote: Counting objects:  73% (14/19)\u001b[K\rremote: Counting objects:  78% (15/19)\u001b[K\rremote: Counting objects:  84% (16/19)\u001b[K\rremote: Counting objects:  89% (17/19)\u001b[K\rremote: Counting objects:  94% (18/19)\u001b[K\rremote: Counting objects: 100% (19/19)\u001b[K\rremote: Counting objects: 100% (19/19), done.\u001b[K\n",
            "remote: Compressing objects:   6% (1/15)\u001b[K\rremote: Compressing objects:  13% (2/15)\u001b[K\rremote: Compressing objects:  20% (3/15)\u001b[K\rremote: Compressing objects:  26% (4/15)\u001b[K\rremote: Compressing objects:  33% (5/15)\u001b[K\rremote: Compressing objects:  40% (6/15)\u001b[K\rremote: Compressing objects:  46% (7/15)\u001b[K\rremote: Compressing objects:  53% (8/15)\u001b[K\rremote: Compressing objects:  60% (9/15)\u001b[K\rremote: Compressing objects:  66% (10/15)\u001b[K\rremote: Compressing objects:  73% (11/15)\u001b[K\rremote: Compressing objects:  80% (12/15)\u001b[K\rremote: Compressing objects:  86% (13/15)\u001b[K\rremote: Compressing objects:  93% (14/15)\u001b[K\rremote: Compressing objects: 100% (15/15)\u001b[K\rremote: Compressing objects: 100% (15/15), done.\u001b[K\n",
            "Receiving objects:   0% (1/1734)   \rReceiving objects:   1% (18/1734)   \rReceiving objects:   2% (35/1734)   \rReceiving objects:   3% (53/1734)   \rReceiving objects:   4% (70/1734)   \rReceiving objects:   5% (87/1734)   \rReceiving objects:   6% (105/1734)   \rReceiving objects:   7% (122/1734)   \rReceiving objects:   8% (139/1734)   \rReceiving objects:   9% (157/1734)   \rReceiving objects:  10% (174/1734)   \rReceiving objects:  11% (191/1734)   \rReceiving objects:  12% (209/1734)   \rReceiving objects:  13% (226/1734)   \rReceiving objects:  14% (243/1734)   \rReceiving objects:  15% (261/1734)   \rReceiving objects:  16% (278/1734)   \rReceiving objects:  17% (295/1734)   \rReceiving objects:  18% (313/1734)   \rReceiving objects:  19% (330/1734)   \rReceiving objects:  20% (347/1734)   \rReceiving objects:  21% (365/1734)   \rReceiving objects:  22% (382/1734)   \rReceiving objects:  23% (399/1734)   \rReceiving objects:  24% (417/1734)   \rReceiving objects:  25% (434/1734)   \rReceiving objects:  26% (451/1734)   \rReceiving objects:  27% (469/1734)   \rReceiving objects:  28% (486/1734)   \rReceiving objects:  29% (503/1734)   \rReceiving objects:  30% (521/1734)   \rReceiving objects:  31% (538/1734)   \rReceiving objects:  32% (555/1734)   \rReceiving objects:  33% (573/1734)   \rReceiving objects:  34% (590/1734)   \rReceiving objects:  35% (607/1734)   \rReceiving objects:  36% (625/1734)   \rReceiving objects:  37% (642/1734)   \rReceiving objects:  38% (659/1734)   \rReceiving objects:  39% (677/1734)   \rReceiving objects:  40% (694/1734)   \rReceiving objects:  41% (711/1734)   \rReceiving objects:  42% (729/1734)   \rReceiving objects:  43% (746/1734)   \rReceiving objects:  44% (763/1734)   \rReceiving objects:  45% (781/1734)   \rReceiving objects:  46% (798/1734)   \rReceiving objects:  47% (815/1734)   \rReceiving objects:  48% (833/1734)   \rReceiving objects:  49% (850/1734)   \rReceiving objects:  50% (867/1734)   \rReceiving objects:  51% (885/1734)   \rReceiving objects:  52% (902/1734)   \rReceiving objects:  53% (920/1734)   \rReceiving objects:  54% (937/1734)   \rReceiving objects:  55% (954/1734)   \rReceiving objects:  56% (972/1734)   \rReceiving objects:  57% (989/1734)   \rReceiving objects:  58% (1006/1734)   \rReceiving objects:  59% (1024/1734)   \rReceiving objects:  60% (1041/1734)   \rReceiving objects:  61% (1058/1734)   \rReceiving objects:  62% (1076/1734)   \rReceiving objects:  63% (1093/1734)   \rReceiving objects:  64% (1110/1734)   \rReceiving objects:  65% (1128/1734)   \rReceiving objects:  66% (1145/1734)   \rReceiving objects:  67% (1162/1734)   \rReceiving objects:  68% (1180/1734)   \rReceiving objects:  69% (1197/1734)   \rReceiving objects:  70% (1214/1734)   \rReceiving objects:  71% (1232/1734)   \rReceiving objects:  72% (1249/1734)   \rReceiving objects:  73% (1266/1734)   \rReceiving objects:  74% (1284/1734)   \rReceiving objects:  75% (1301/1734)   \rReceiving objects:  76% (1318/1734)   \rReceiving objects:  77% (1336/1734)   \rReceiving objects:  78% (1353/1734)   \rReceiving objects:  79% (1370/1734)   \rReceiving objects:  80% (1388/1734)   \rReceiving objects:  81% (1405/1734)   \rReceiving objects:  82% (1422/1734)   \rReceiving objects:  83% (1440/1734)   \rReceiving objects:  84% (1457/1734)   \rReceiving objects:  85% (1474/1734)   \rReceiving objects:  86% (1492/1734)   \rReceiving objects:  87% (1509/1734)   \rReceiving objects:  88% (1526/1734)   \rReceiving objects:  89% (1544/1734)   \rReceiving objects:  90% (1561/1734)   \rReceiving objects:  91% (1578/1734)   \rReceiving objects:  92% (1596/1734)   \rremote: Total 1734 (delta 5), reused 11 (delta 4), pack-reused 1715\u001b[K\n",
            "Receiving objects:  93% (1613/1734)   \rReceiving objects:  94% (1630/1734)   \rReceiving objects:  95% (1648/1734)   \rReceiving objects:  96% (1665/1734)   \rReceiving objects:  97% (1682/1734)   \rReceiving objects:  98% (1700/1734)   \rReceiving objects:  99% (1717/1734)   \rReceiving objects: 100% (1734/1734)   \rReceiving objects: 100% (1734/1734), 797.84 KiB | 14.51 MiB/s, done.\n",
            "Resolving deltas:   0% (0/1128)   \rResolving deltas:   1% (12/1128)   \rResolving deltas:   2% (25/1128)   \rResolving deltas:   3% (38/1128)   \rResolving deltas:   4% (48/1128)   \rResolving deltas:   5% (60/1128)   \rResolving deltas:   7% (89/1128)   \rResolving deltas:   8% (96/1128)   \rResolving deltas:   9% (110/1128)   \rResolving deltas:  11% (134/1128)   \rResolving deltas:  12% (137/1128)   \rResolving deltas:  13% (152/1128)   \rResolving deltas:  14% (159/1128)   \rResolving deltas:  15% (173/1128)   \rResolving deltas:  16% (189/1128)   \rResolving deltas:  17% (200/1128)   \rResolving deltas:  19% (222/1128)   \rResolving deltas:  20% (229/1128)   \rResolving deltas:  21% (238/1128)   \rResolving deltas:  26% (296/1128)   \rResolving deltas:  27% (310/1128)   \rResolving deltas:  28% (319/1128)   \rResolving deltas:  29% (330/1128)   \rResolving deltas:  32% (364/1128)   \rResolving deltas:  34% (388/1128)   \rResolving deltas:  35% (402/1128)   \rResolving deltas:  41% (466/1128)   \rResolving deltas:  45% (515/1128)   \rResolving deltas:  46% (519/1128)   \rResolving deltas:  47% (536/1128)   \rResolving deltas:  56% (641/1128)   \rResolving deltas:  58% (663/1128)   \rResolving deltas:  59% (670/1128)   \rResolving deltas:  63% (720/1128)   \rResolving deltas:  64% (724/1128)   \rResolving deltas:  65% (744/1128)   \rResolving deltas:  66% (746/1128)   \rResolving deltas:  68% (776/1128)   \rResolving deltas:  69% (787/1128)   \rResolving deltas:  70% (800/1128)   \rResolving deltas:  71% (807/1128)   \rResolving deltas:  72% (815/1128)   \rResolving deltas:  74% (835/1128)   \rResolving deltas:  76% (859/1128)   \rResolving deltas:  77% (869/1128)   \rResolving deltas:  78% (888/1128)   \rResolving deltas:  79% (892/1128)   \rResolving deltas:  81% (921/1128)   \rResolving deltas:  82% (936/1128)   \rResolving deltas:  83% (943/1128)   \rResolving deltas:  84% (948/1128)   \rResolving deltas:  85% (967/1128)   \rResolving deltas:  87% (990/1128)   \rResolving deltas:  88% (1002/1128)   \rResolving deltas:  89% (1005/1128)   \rResolving deltas:  90% (1023/1128)   \rResolving deltas:  91% (1027/1128)   \rResolving deltas:  92% (1044/1128)   \rResolving deltas:  93% (1051/1128)   \rResolving deltas:  94% (1065/1128)   \rResolving deltas:  96% (1085/1128)   \rResolving deltas:  97% (1095/1128)   \rResolving deltas:  98% (1112/1128)   \rResolving deltas:  99% (1119/1128)   \rResolving deltas: 100% (1128/1128)   \rResolving deltas: 100% (1128/1128), done.\n"
          ],
          "name": "stdout"
        }
      ]
    },
    {
      "cell_type": "code",
      "metadata": {
        "id": "-YcsDDiolyCT",
        "colab_type": "code",
        "outputId": "4355b51e-e603-4428-eb0f-05d1ce7720c6",
        "colab": {
          "base_uri": "https://localhost:8080/",
          "height": 103
        }
      },
      "source": [
        "#!git clone https://github.com/OpenMined/SyferText.git"
      ],
      "execution_count": 5,
      "outputs": [
        {
          "output_type": "stream",
          "text": [
            "Cloning into 'SyferText'...\n",
            "remote: Enumerating objects: 1595, done.\u001b[K\n",
            "Receiving objects:   0% (1/1595)   \rReceiving objects:   1% (16/1595)   \rReceiving objects:   2% (32/1595)   \rReceiving objects:   3% (48/1595)   \rReceiving objects:   4% (64/1595)   \rReceiving objects:   5% (80/1595)   \rReceiving objects:   6% (96/1595)   \rReceiving objects:   7% (112/1595)   \rReceiving objects:   8% (128/1595)   \rReceiving objects:   9% (144/1595)   \rReceiving objects:  10% (160/1595)   \rReceiving objects:  11% (176/1595)   \rReceiving objects:  12% (192/1595)   \rReceiving objects:  13% (208/1595)   \rReceiving objects:  14% (224/1595)   \rReceiving objects:  15% (240/1595)   \rReceiving objects:  16% (256/1595)   \rReceiving objects:  17% (272/1595)   \rReceiving objects:  18% (288/1595)   \rReceiving objects:  19% (304/1595)   \rReceiving objects:  20% (319/1595)   \rReceiving objects:  21% (335/1595)   \rReceiving objects:  22% (351/1595)   \rReceiving objects:  23% (367/1595)   \rReceiving objects:  24% (383/1595)   \rReceiving objects:  25% (399/1595)   \rReceiving objects:  26% (415/1595)   \rReceiving objects:  27% (431/1595)   \rReceiving objects:  28% (447/1595)   \rReceiving objects:  29% (463/1595)   \rReceiving objects:  30% (479/1595)   \rReceiving objects:  31% (495/1595)   \rReceiving objects:  32% (511/1595)   \rReceiving objects:  33% (527/1595)   \rReceiving objects:  34% (543/1595)   \rReceiving objects:  35% (559/1595)   \rReceiving objects:  36% (575/1595)   \rReceiving objects:  37% (591/1595)   \rReceiving objects:  38% (607/1595)   \rReceiving objects:  39% (623/1595)   \rReceiving objects:  40% (638/1595)   \rReceiving objects:  41% (654/1595)   \rReceiving objects:  42% (670/1595)   \rReceiving objects:  43% (686/1595)   \rReceiving objects:  44% (702/1595)   \rReceiving objects:  45% (718/1595)   \rReceiving objects:  46% (734/1595)   \rReceiving objects:  47% (750/1595)   \rReceiving objects:  48% (766/1595)   \rReceiving objects:  49% (782/1595)   \rReceiving objects:  50% (798/1595)   \rReceiving objects:  51% (814/1595)   \rReceiving objects:  52% (830/1595)   \rReceiving objects:  53% (846/1595)   \rReceiving objects:  54% (862/1595)   \rReceiving objects:  55% (878/1595)   \rReceiving objects:  56% (894/1595)   \rReceiving objects:  57% (910/1595)   \rReceiving objects:  58% (926/1595)   \rReceiving objects:  59% (942/1595)   \rReceiving objects:  60% (957/1595)   \rReceiving objects:  61% (973/1595)   \rReceiving objects:  62% (989/1595)   \rReceiving objects:  63% (1005/1595)   \rReceiving objects:  64% (1021/1595)   \rReceiving objects:  65% (1037/1595)   \rReceiving objects:  66% (1053/1595)   \rReceiving objects:  67% (1069/1595)   \rremote: Total 1595 (delta 0), reused 0 (delta 0), pack-reused 1595\u001b[K\n",
            "Receiving objects:  68% (1085/1595)   \rReceiving objects:  69% (1101/1595)   \rReceiving objects:  70% (1117/1595)   \rReceiving objects:  71% (1133/1595)   \rReceiving objects:  72% (1149/1595)   \rReceiving objects:  73% (1165/1595)   \rReceiving objects:  74% (1181/1595)   \rReceiving objects:  75% (1197/1595)   \rReceiving objects:  76% (1213/1595)   \rReceiving objects:  77% (1229/1595)   \rReceiving objects:  78% (1245/1595)   \rReceiving objects:  79% (1261/1595)   \rReceiving objects:  80% (1276/1595)   \rReceiving objects:  81% (1292/1595)   \rReceiving objects:  82% (1308/1595)   \rReceiving objects:  83% (1324/1595)   \rReceiving objects:  84% (1340/1595)   \rReceiving objects:  85% (1356/1595)   \rReceiving objects:  86% (1372/1595)   \rReceiving objects:  87% (1388/1595)   \rReceiving objects:  88% (1404/1595)   \rReceiving objects:  89% (1420/1595)   \rReceiving objects:  90% (1436/1595)   \rReceiving objects:  91% (1452/1595)   \rReceiving objects:  92% (1468/1595)   \rReceiving objects:  93% (1484/1595)   \rReceiving objects:  94% (1500/1595)   \rReceiving objects:  95% (1516/1595)   \rReceiving objects:  96% (1532/1595)   \rReceiving objects:  97% (1548/1595)   \rReceiving objects:  98% (1564/1595)   \rReceiving objects:  99% (1580/1595)   \rReceiving objects: 100% (1595/1595)   \rReceiving objects: 100% (1595/1595), 731.91 KiB | 12.00 MiB/s, done.\n",
            "Resolving deltas:   0% (0/1030)   \rResolving deltas:   1% (11/1030)   \rResolving deltas:   2% (22/1030)   \rResolving deltas:   3% (38/1030)   \rResolving deltas:   4% (49/1030)   \rResolving deltas:   5% (54/1030)   \rResolving deltas:   8% (86/1030)   \rResolving deltas:   9% (94/1030)   \rResolving deltas:  10% (108/1030)   \rResolving deltas:  12% (129/1030)   \rResolving deltas:  13% (138/1030)   \rResolving deltas:  14% (151/1030)   \rResolving deltas:  15% (161/1030)   \rResolving deltas:  16% (165/1030)   \rResolving deltas:  17% (181/1030)   \rResolving deltas:  18% (193/1030)   \rResolving deltas:  20% (214/1030)   \rResolving deltas:  21% (221/1030)   \rResolving deltas:  22% (230/1030)   \rResolving deltas:  27% (282/1030)   \rResolving deltas:  28% (292/1030)   \rResolving deltas:  29% (307/1030)   \rResolving deltas:  33% (341/1030)   \rResolving deltas:  35% (364/1030)   \rResolving deltas:  36% (378/1030)   \rResolving deltas:  41% (428/1030)   \rResolving deltas:  46% (479/1030)   \rResolving deltas:  47% (485/1030)   \rResolving deltas:  48% (501/1030)   \rResolving deltas:  49% (505/1030)   \rResolving deltas:  57% (588/1030)   \rResolving deltas:  58% (605/1030)   \rResolving deltas:  59% (611/1030)   \rResolving deltas:  63% (659/1030)   \rResolving deltas:  64% (663/1030)   \rResolving deltas:  65% (670/1030)   \rResolving deltas:  66% (683/1030)   \rResolving deltas:  69% (715/1030)   \rResolving deltas:  70% (728/1030)   \rResolving deltas:  71% (734/1030)   \rResolving deltas:  72% (742/1030)   \rResolving deltas:  73% (752/1030)   \rResolving deltas:  74% (768/1030)   \rResolving deltas:  77% (797/1030)   \rResolving deltas:  78% (808/1030)   \rResolving deltas:  79% (822/1030)   \rResolving deltas:  80% (834/1030)   \rResolving deltas:  81% (835/1030)   \rResolving deltas:  82% (854/1030)   \rResolving deltas:  83% (860/1030)   \rResolving deltas:  84% (870/1030)   \rResolving deltas:  86% (891/1030)   \rResolving deltas:  89% (917/1030)   \rResolving deltas:  90% (932/1030)   \rResolving deltas:  91% (940/1030)   \rResolving deltas:  92% (949/1030)   \rResolving deltas:  93% (958/1030)   \rResolving deltas:  95% (983/1030)   \rResolving deltas:  96% (995/1030)   \rResolving deltas:  97% (1005/1030)   \rResolving deltas:  98% (1019/1030)   \rResolving deltas:  99% (1023/1030)   \rResolving deltas: 100% (1030/1030)   \rResolving deltas: 100% (1030/1030), done.\n"
          ],
          "name": "stdout"
        }
      ]
    },
    {
      "cell_type": "code",
      "metadata": {
        "id": "3OADwgErpEtF",
        "colab_type": "code",
        "outputId": "b39a975c-b389-4a15-d742-09271606a25f",
        "colab": {
          "base_uri": "https://localhost:8080/",
          "height": 121
        }
      },
      "source": [
        "#!git clone https://github.com/Nilanshrajput/syfertext_en_core_web_lg.git"
      ],
      "execution_count": 0,
      "outputs": [
        {
          "output_type": "stream",
          "text": [
            "Cloning into 'syfertext_en_core_web_lg'...\n",
            "remote: Enumerating objects: 12, done.\u001b[K\n",
            "remote: Counting objects: 100% (12/12), done.\u001b[K\n",
            "remote: Compressing objects: 100% (12/12), done.\u001b[K\n",
            "remote: Total 12 (delta 0), reused 12 (delta 0), pack-reused 0\u001b[K\n",
            "Unpacking objects: 100% (12/12), done.\n"
          ],
          "name": "stdout"
        }
      ]
    },
    {
      "cell_type": "code",
      "metadata": {
        "id": "327vcYMy-4MS",
        "colab_type": "code",
        "colab": {}
      },
      "source": [
        "#!rm -r SyferText"
      ],
      "execution_count": 0,
      "outputs": []
    },
    {
      "cell_type": "code",
      "metadata": {
        "id": "eSez6Nqi85tJ",
        "colab_type": "code",
        "colab": {}
      },
      "source": [
        "import os\n",
        "os.chdir('/content/SyferText')"
      ],
      "execution_count": 0,
      "outputs": []
    },
    {
      "cell_type": "code",
      "metadata": {
        "id": "N4kCeiUp9ArT",
        "colab_type": "code",
        "outputId": "ef76c9c9-7545-4ea5-a82f-2dfc8f5fe282",
        "colab": {
          "base_uri": "https://localhost:8080/",
          "height": 1000
        }
      },
      "source": [
        "!python setup.py install"
      ],
      "execution_count": 7,
      "outputs": [
        {
          "output_type": "stream",
          "text": [
            "/usr/lib/python3.6/distutils/dist.py:261: UserWarning: Unknown distribution option: 'classifier'\n",
            "  warnings.warn(msg)\n",
            "running install\n",
            "running bdist_egg\n",
            "running egg_info\n",
            "creating syfertext.egg-info\n",
            "writing syfertext.egg-info/PKG-INFO\n",
            "writing dependency_links to syfertext.egg-info/dependency_links.txt\n",
            "writing requirements to syfertext.egg-info/requires.txt\n",
            "writing top-level names to syfertext.egg-info/top_level.txt\n",
            "writing manifest file 'syfertext.egg-info/SOURCES.txt'\n",
            "writing manifest file 'syfertext.egg-info/SOURCES.txt'\n",
            "installing library code to build/bdist.linux-x86_64/egg\n",
            "running install_lib\n",
            "running build_py\n",
            "creating build\n",
            "creating build/lib\n",
            "creating build/lib/syfertext\n",
            "copying syfertext/vectors.py -> build/lib/syfertext\n",
            "copying syfertext/punctuations.py -> build/lib/syfertext\n",
            "copying syfertext/string_store.py -> build/lib/syfertext\n",
            "copying syfertext/span.py -> build/lib/syfertext\n",
            "copying syfertext/language.py -> build/lib/syfertext\n",
            "copying syfertext/token_exception.py -> build/lib/syfertext\n",
            "copying syfertext/vocab.py -> build/lib/syfertext\n",
            "copying syfertext/char_classes.py -> build/lib/syfertext\n",
            "copying syfertext/tokenizer.py -> build/lib/syfertext\n",
            "copying syfertext/__init__.py -> build/lib/syfertext\n",
            "copying syfertext/token.py -> build/lib/syfertext\n",
            "copying syfertext/doc.py -> build/lib/syfertext\n",
            "copying syfertext/underscore.py -> build/lib/syfertext\n",
            "copying syfertext/utils.py -> build/lib/syfertext\n",
            "creating build/lib/syfertext/pipeline\n",
            "copying syfertext/pipeline/simple_tagger.py -> build/lib/syfertext/pipeline\n",
            "copying syfertext/pipeline/__init__.py -> build/lib/syfertext/pipeline\n",
            "copying syfertext/pipeline/subpipeline.py -> build/lib/syfertext/pipeline\n",
            "creating build/lib/syfertext/pointers\n",
            "copying syfertext/pointers/doc_pointer.py -> build/lib/syfertext/pointers\n",
            "copying syfertext/pointers/span_pointer.py -> build/lib/syfertext/pointers\n",
            "copying syfertext/pointers/__init__.py -> build/lib/syfertext/pointers\n",
            "creating build/lib/syfertext/pipeline/pointers\n",
            "copying syfertext/pipeline/pointers/subpipeline_pointer.py -> build/lib/syfertext/pipeline/pointers\n",
            "copying syfertext/pipeline/pointers/__init__.py -> build/lib/syfertext/pipeline/pointers\n",
            "creating build/bdist.linux-x86_64\n",
            "creating build/bdist.linux-x86_64/egg\n",
            "creating build/bdist.linux-x86_64/egg/syfertext\n",
            "copying build/lib/syfertext/vectors.py -> build/bdist.linux-x86_64/egg/syfertext\n",
            "copying build/lib/syfertext/punctuations.py -> build/bdist.linux-x86_64/egg/syfertext\n",
            "copying build/lib/syfertext/string_store.py -> build/bdist.linux-x86_64/egg/syfertext\n",
            "copying build/lib/syfertext/span.py -> build/bdist.linux-x86_64/egg/syfertext\n",
            "copying build/lib/syfertext/language.py -> build/bdist.linux-x86_64/egg/syfertext\n",
            "copying build/lib/syfertext/token_exception.py -> build/bdist.linux-x86_64/egg/syfertext\n",
            "copying build/lib/syfertext/vocab.py -> build/bdist.linux-x86_64/egg/syfertext\n",
            "creating build/bdist.linux-x86_64/egg/syfertext/pipeline\n",
            "copying build/lib/syfertext/pipeline/simple_tagger.py -> build/bdist.linux-x86_64/egg/syfertext/pipeline\n",
            "copying build/lib/syfertext/pipeline/__init__.py -> build/bdist.linux-x86_64/egg/syfertext/pipeline\n",
            "creating build/bdist.linux-x86_64/egg/syfertext/pipeline/pointers\n",
            "copying build/lib/syfertext/pipeline/pointers/subpipeline_pointer.py -> build/bdist.linux-x86_64/egg/syfertext/pipeline/pointers\n",
            "copying build/lib/syfertext/pipeline/pointers/__init__.py -> build/bdist.linux-x86_64/egg/syfertext/pipeline/pointers\n",
            "copying build/lib/syfertext/pipeline/subpipeline.py -> build/bdist.linux-x86_64/egg/syfertext/pipeline\n",
            "copying build/lib/syfertext/char_classes.py -> build/bdist.linux-x86_64/egg/syfertext\n",
            "copying build/lib/syfertext/tokenizer.py -> build/bdist.linux-x86_64/egg/syfertext\n",
            "copying build/lib/syfertext/__init__.py -> build/bdist.linux-x86_64/egg/syfertext\n",
            "copying build/lib/syfertext/token.py -> build/bdist.linux-x86_64/egg/syfertext\n",
            "copying build/lib/syfertext/doc.py -> build/bdist.linux-x86_64/egg/syfertext\n",
            "copying build/lib/syfertext/underscore.py -> build/bdist.linux-x86_64/egg/syfertext\n",
            "creating build/bdist.linux-x86_64/egg/syfertext/pointers\n",
            "copying build/lib/syfertext/pointers/doc_pointer.py -> build/bdist.linux-x86_64/egg/syfertext/pointers\n",
            "copying build/lib/syfertext/pointers/span_pointer.py -> build/bdist.linux-x86_64/egg/syfertext/pointers\n",
            "copying build/lib/syfertext/pointers/__init__.py -> build/bdist.linux-x86_64/egg/syfertext/pointers\n",
            "copying build/lib/syfertext/utils.py -> build/bdist.linux-x86_64/egg/syfertext\n",
            "byte-compiling build/bdist.linux-x86_64/egg/syfertext/vectors.py to vectors.cpython-36.pyc\n",
            "byte-compiling build/bdist.linux-x86_64/egg/syfertext/punctuations.py to punctuations.cpython-36.pyc\n",
            "byte-compiling build/bdist.linux-x86_64/egg/syfertext/string_store.py to string_store.cpython-36.pyc\n",
            "byte-compiling build/bdist.linux-x86_64/egg/syfertext/span.py to span.cpython-36.pyc\n",
            "byte-compiling build/bdist.linux-x86_64/egg/syfertext/language.py to language.cpython-36.pyc\n",
            "byte-compiling build/bdist.linux-x86_64/egg/syfertext/token_exception.py to token_exception.cpython-36.pyc\n",
            "byte-compiling build/bdist.linux-x86_64/egg/syfertext/vocab.py to vocab.cpython-36.pyc\n",
            "byte-compiling build/bdist.linux-x86_64/egg/syfertext/pipeline/simple_tagger.py to simple_tagger.cpython-36.pyc\n",
            "byte-compiling build/bdist.linux-x86_64/egg/syfertext/pipeline/__init__.py to __init__.cpython-36.pyc\n",
            "byte-compiling build/bdist.linux-x86_64/egg/syfertext/pipeline/pointers/subpipeline_pointer.py to subpipeline_pointer.cpython-36.pyc\n",
            "byte-compiling build/bdist.linux-x86_64/egg/syfertext/pipeline/pointers/__init__.py to __init__.cpython-36.pyc\n",
            "byte-compiling build/bdist.linux-x86_64/egg/syfertext/pipeline/subpipeline.py to subpipeline.cpython-36.pyc\n",
            "byte-compiling build/bdist.linux-x86_64/egg/syfertext/char_classes.py to char_classes.cpython-36.pyc\n",
            "byte-compiling build/bdist.linux-x86_64/egg/syfertext/tokenizer.py to tokenizer.cpython-36.pyc\n",
            "byte-compiling build/bdist.linux-x86_64/egg/syfertext/__init__.py to __init__.cpython-36.pyc\n",
            "byte-compiling build/bdist.linux-x86_64/egg/syfertext/token.py to token.cpython-36.pyc\n",
            "byte-compiling build/bdist.linux-x86_64/egg/syfertext/doc.py to doc.cpython-36.pyc\n",
            "byte-compiling build/bdist.linux-x86_64/egg/syfertext/underscore.py to underscore.cpython-36.pyc\n",
            "byte-compiling build/bdist.linux-x86_64/egg/syfertext/pointers/doc_pointer.py to doc_pointer.cpython-36.pyc\n",
            "byte-compiling build/bdist.linux-x86_64/egg/syfertext/pointers/span_pointer.py to span_pointer.cpython-36.pyc\n",
            "byte-compiling build/bdist.linux-x86_64/egg/syfertext/pointers/__init__.py to __init__.cpython-36.pyc\n",
            "byte-compiling build/bdist.linux-x86_64/egg/syfertext/utils.py to utils.cpython-36.pyc\n",
            "creating build/bdist.linux-x86_64/egg/EGG-INFO\n",
            "copying syfertext.egg-info/PKG-INFO -> build/bdist.linux-x86_64/egg/EGG-INFO\n",
            "copying syfertext.egg-info/SOURCES.txt -> build/bdist.linux-x86_64/egg/EGG-INFO\n",
            "copying syfertext.egg-info/dependency_links.txt -> build/bdist.linux-x86_64/egg/EGG-INFO\n",
            "copying syfertext.egg-info/requires.txt -> build/bdist.linux-x86_64/egg/EGG-INFO\n",
            "copying syfertext.egg-info/top_level.txt -> build/bdist.linux-x86_64/egg/EGG-INFO\n",
            "zip_safe flag not set; analyzing archive contents...\n",
            "creating dist\n",
            "creating 'dist/syfertext-0.1.0.dev2-py3.6.egg' and adding 'build/bdist.linux-x86_64/egg' to it\n",
            "removing 'build/bdist.linux-x86_64/egg' (and everything under it)\n",
            "Processing syfertext-0.1.0.dev2-py3.6.egg\n",
            "Copying syfertext-0.1.0.dev2-py3.6.egg to /usr/local/lib/python3.6/dist-packages\n",
            "Adding syfertext 0.1.0.dev2 to easy-install.pth file\n",
            "\n",
            "Installed /usr/local/lib/python3.6/dist-packages/syfertext-0.1.0.dev2-py3.6.egg\n",
            "Processing dependencies for syfertext==0.1.0.dev2\n",
            "Searching for requests==2.22.0\n",
            "Reading https://pypi.org/simple/requests/\n",
            "Downloading https://files.pythonhosted.org/packages/51/bd/23c926cd341ea6b7dd0b2a00aba99ae0f828be89d72b2190f27c11d4b7fb/requests-2.22.0-py2.py3-none-any.whl#sha256=9cf5292fcd0f598c671cfc1e0d7d1a7f13bb8085e9a590f48c010551dc6c4b31\n",
            "Best match: requests 2.22.0\n",
            "Processing requests-2.22.0-py2.py3-none-any.whl\n",
            "Installing requests-2.22.0-py2.py3-none-any.whl to /usr/local/lib/python3.6/dist-packages\n",
            "Adding requests 2.22.0 to easy-install.pth file\n",
            "\n",
            "Installed /usr/local/lib/python3.6/dist-packages/requests-2.22.0-py3.6.egg\n",
            "Searching for syft\n",
            "Doing git clone from git://github.com/OpenMined/PySyft to /tmp/easy_install-jksaiiry/PySyft@master\n",
            "Checking out master\n",
            "Best match: syft [unknown version]\n",
            "Processing PySyft@master\n",
            "Writing /tmp/easy_install-jksaiiry/PySyft@master/setup.cfg\n",
            "Running setup.py -q bdist_egg --dist-dir /tmp/easy_install-jksaiiry/PySyft@master/egg-dist-tmp-90pvd41w\n",
            "zip_safe flag not set; analyzing archive contents...\n",
            "examples.tutorials.advanced.websockets_mnist.__pycache__.start_websocket_servers.cpython-36: module references __file__\n",
            "examples.tutorials.advanced.websockets_mnist_parallel.__pycache__.start_websocket_servers.cpython-36: module references __file__\n",
            "examples.tutorials.websocket.pen_testing.steal_data_over_sockets.__pycache__.start_websocket_servers.cpython-36: module references __file__\n",
            "syft.execution.__pycache__.plan.cpython-36: module MAY be using inspect.trace\n",
            "syft.execution.__pycache__.protocol.cpython-36: module MAY be using inspect.trace\n",
            "test.__pycache__.run_websocket_server.cpython-36: module references __file__\n",
            "test.scripts.__pycache__.run_websocket_server.cpython-36: module references __file__\n",
            "creating /usr/local/lib/python3.6/dist-packages/syft-0.2.5-py3.6.egg\n",
            "Extracting syft-0.2.5-py3.6.egg to /usr/local/lib/python3.6/dist-packages\n",
            "Adding syft 0.2.5 to easy-install.pth file\n",
            "\n",
            "Installed /usr/local/lib/python3.6/dist-packages/syft-0.2.5-py3.6.egg\n",
            "Searching for mmh3==2.5.1\n",
            "Reading https://pypi.org/simple/mmh3/\n",
            "Downloading https://files.pythonhosted.org/packages/fa/7e/3ddcab0a9fcea034212c02eb411433db9330e34d626360b97333368b4052/mmh3-2.5.1.tar.gz#sha256=185209a217c52afe43e079e5b232d0ef0f3a262601eaaf4371326ab6dcbec508\n",
            "Best match: mmh3 2.5.1\n",
            "Processing mmh3-2.5.1.tar.gz\n",
            "Writing /tmp/easy_install-5qqfv5l9/mmh3-2.5.1/setup.cfg\n",
            "Running mmh3-2.5.1/setup.py -q bdist_egg --dist-dir /tmp/easy_install-5qqfv5l9/mmh3-2.5.1/egg-dist-tmp-_1l0eatc\n",
            "zip_safe flag not set; analyzing archive contents...\n",
            "__pycache__.mmh3.cpython-36: module references __file__\n",
            "creating /usr/local/lib/python3.6/dist-packages/mmh3-2.5.1-py3.6-linux-x86_64.egg\n",
            "Extracting mmh3-2.5.1-py3.6-linux-x86_64.egg to /usr/local/lib/python3.6/dist-packages\n",
            "Adding mmh3 2.5.1 to easy-install.pth file\n",
            "\n",
            "Installed /usr/local/lib/python3.6/dist-packages/mmh3-2.5.1-py3.6-linux-x86_64.egg\n",
            "Searching for tqdm==4.36.1\n",
            "Reading https://pypi.org/simple/tqdm/\n",
            "Downloading https://files.pythonhosted.org/packages/e1/c1/bc1dba38b48f4ae3c4428aea669c5e27bd5a7642a74c8348451e0bd8ff86/tqdm-4.36.1-py2.py3-none-any.whl#sha256=dd3fcca8488bb1d416aa7469d2f277902f26260c45aa86b667b074cd44b3b115\n",
            "Best match: tqdm 4.36.1\n",
            "Processing tqdm-4.36.1-py2.py3-none-any.whl\n",
            "Installing tqdm-4.36.1-py2.py3-none-any.whl to /usr/local/lib/python3.6/dist-packages\n",
            "Adding tqdm 4.36.1 to easy-install.pth file\n",
            "Installing tqdm script to /usr/local/bin\n",
            "\n",
            "Installed /usr/local/lib/python3.6/dist-packages/tqdm-4.36.1-py3.6.egg\n",
            "Searching for idna<2.9,>=2.5\n",
            "Reading https://pypi.org/simple/idna/\n",
            "Downloading https://files.pythonhosted.org/packages/14/2c/cd551d81dbe15200be1cf41cd03869a46fe7226e7450af7a6545bfc474c9/idna-2.8-py2.py3-none-any.whl#sha256=ea8b7f6188e6fa117537c3df7da9fc686d485087abf6ac197f9c46432f7e4a3c\n",
            "Best match: idna 2.8\n",
            "Processing idna-2.8-py2.py3-none-any.whl\n",
            "Installing idna-2.8-py2.py3-none-any.whl to /usr/local/lib/python3.6/dist-packages\n",
            "Adding idna 2.8 to easy-install.pth file\n",
            "\n",
            "Installed /usr/local/lib/python3.6/dist-packages/idna-2.8-py3.6.egg\n",
            "Searching for websockets~=8.1.0\n",
            "Reading https://pypi.org/simple/websockets/\n",
            "Downloading https://files.pythonhosted.org/packages/cf/cb/c35513c4a0ff24ca13e33f7336ba8c1a864449fad9fea8e37abdad11c38d/websockets-8.1-cp36-cp36m-manylinux1_x86_64.whl#sha256=4f9f7d28ce1d8f1295717c2c25b732c2bc0645db3215cf757551c392177d7cb8\n",
            "Best match: websockets 8.1\n",
            "Processing websockets-8.1-cp36-cp36m-manylinux1_x86_64.whl\n",
            "Installing websockets-8.1-cp36-cp36m-manylinux1_x86_64.whl to /usr/local/lib/python3.6/dist-packages\n",
            "Adding websockets 8.1 to easy-install.pth file\n",
            "\n",
            "Installed /usr/local/lib/python3.6/dist-packages/websockets-8.1-py3.6-linux-x86_64.egg\n",
            "Searching for websocket_client~=0.57.0\n",
            "Reading https://pypi.org/simple/websocket_client/\n",
            "Downloading https://files.pythonhosted.org/packages/4c/5f/f61b420143ed1c8dc69f9eaec5ff1ac36109d52c80de49d66e0c36c3dfdf/websocket_client-0.57.0-py2.py3-none-any.whl#sha256=0fc45c961324d79c781bab301359d5a1b00b13ad1b10415a4780229ef71a5549\n",
            "Best match: websocket-client 0.57.0\n",
            "Processing websocket_client-0.57.0-py2.py3-none-any.whl\n",
            "Installing websocket_client-0.57.0-py2.py3-none-any.whl to /usr/local/lib/python3.6/dist-packages\n",
            "Adding websocket-client 0.57.0 to easy-install.pth file\n",
            "Installing wsdump.py script to /usr/local/bin\n",
            "\n",
            "Installed /usr/local/lib/python3.6/dist-packages/websocket_client-0.57.0-py3.6.egg\n",
            "Searching for torch~=1.4.0\n",
            "Reading https://pypi.org/simple/torch/\n",
            "Downloading https://files.pythonhosted.org/packages/24/19/4804aea17cd136f1705a5e98a00618cb8f6ccc375ad8bfa437408e09d058/torch-1.4.0-cp36-cp36m-manylinux1_x86_64.whl#sha256=8856f334aa9ecb742c1504bd2563d0ffb8dceb97149c8d72a04afa357f667dbc\n",
            "Best match: torch 1.4.0\n",
            "Processing torch-1.4.0-cp36-cp36m-manylinux1_x86_64.whl\n",
            "Installing torch-1.4.0-cp36-cp36m-manylinux1_x86_64.whl to /usr/local/lib/python3.6/dist-packages\n",
            "Adding torch 1.4.0 to easy-install.pth file\n",
            "Installing convert-caffe2-to-onnx script to /usr/local/bin\n",
            "Installing convert-onnx-to-caffe2 script to /usr/local/bin\n",
            "\n",
            "Installed /usr/local/lib/python3.6/dist-packages/torch-1.4.0-py3.6-linux-x86_64.egg\n",
            "Searching for torchvision~=0.5.0\n",
            "Reading https://pypi.org/simple/torchvision/\n",
            "Downloading https://files.pythonhosted.org/packages/7e/90/6141bf41f5655c78e24f40f710fdd4f8a8aff6c8b7c6f0328240f649bdbe/torchvision-0.5.0-cp36-cp36m-manylinux1_x86_64.whl#sha256=fea3d431bf639c0719afff5972eb568ebe143eba447c1c8bb491c7dfb0025ed6\n",
            "Best match: torchvision 0.5.0\n",
            "Processing torchvision-0.5.0-cp36-cp36m-manylinux1_x86_64.whl\n",
            "Installing torchvision-0.5.0-cp36-cp36m-manylinux1_x86_64.whl to /usr/local/lib/python3.6/dist-packages\n",
            "Adding torchvision 0.5.0 to easy-install.pth file\n",
            "\n",
            "Installed /usr/local/lib/python3.6/dist-packages/torchvision-0.5.0-py3.6-linux-x86_64.egg\n",
            "Searching for syft-proto~=0.4.1\n",
            "Reading https://pypi.org/simple/syft-proto/\n",
            "Downloading https://files.pythonhosted.org/packages/b1/77/a43839b0d61d25148428ee38e1b511c13702fae0ff567f5f1d3898ba07fe/syft_proto-0.4.2-py3-none-any.whl#sha256=5ae6e0388645fb129401f2c0f9ea2456dc07cd7488e8db838fe3fdc09c3ed7c0\n",
            "Best match: syft-proto 0.4.2\n",
            "Processing syft_proto-0.4.2-py3-none-any.whl\n",
            "Installing syft_proto-0.4.2-py3-none-any.whl to /usr/local/lib/python3.6/dist-packages\n",
            "Adding syft-proto 0.4.2 to easy-install.pth file\n",
            "\n",
            "Installed /usr/local/lib/python3.6/dist-packages/syft_proto-0.4.2-py3.6.egg\n",
            "Searching for Pillow~=6.2.2\n",
            "Reading https://pypi.org/simple/Pillow/\n",
            "Downloading https://files.pythonhosted.org/packages/8a/fd/bbbc569f98f47813c50a116b539d97b3b17a86ac7a309f83b2022d26caf2/Pillow-6.2.2-cp36-cp36m-manylinux1_x86_64.whl#sha256=92b83b380f9181cacc994f4c983d95a9c8b00b50bf786c66d235716b526a3332\n",
            "Best match: Pillow 6.2.2\n",
            "Processing Pillow-6.2.2-cp36-cp36m-manylinux1_x86_64.whl\n",
            "Installing Pillow-6.2.2-cp36-cp36m-manylinux1_x86_64.whl to /usr/local/lib/python3.6/dist-packages\n",
            "Adding Pillow 6.2.2 to easy-install.pth file\n",
            "\n",
            "Installed /usr/local/lib/python3.6/dist-packages/Pillow-6.2.2-py3.6-linux-x86_64.egg\n",
            "Searching for phe~=1.4.0\n",
            "Reading https://pypi.org/simple/phe/\n",
            "Downloading https://files.pythonhosted.org/packages/32/0e/568e97b014eb14e794a1258a341361e9da351dc6240c63b89e1541e3341c/phe-1.4.0.tar.gz#sha256=b5785c8e824eb7b02ebbe9b1e2080982d48a10db7b827a6771e04e22da99f473\n",
            "Best match: phe 1.4.0\n",
            "Processing phe-1.4.0.tar.gz\n",
            "Writing /tmp/easy_install-zme2nhyf/phe-1.4.0/setup.cfg\n",
            "Running phe-1.4.0/setup.py -q bdist_egg --dist-dir /tmp/easy_install-zme2nhyf/phe-1.4.0/egg-dist-tmp-6jm67ecd\n",
            "zip_safe flag not set; analyzing archive contents...\n",
            "Moving phe-1.4.0-py3.6.egg to /usr/local/lib/python3.6/dist-packages\n",
            "Adding phe 1.4.0 to easy-install.pth file\n",
            "Installing pheutil script to /usr/local/bin\n",
            "\n",
            "Installed /usr/local/lib/python3.6/dist-packages/phe-1.4.0-py3.6.egg\n",
            "Searching for lz4~=3.0.2\n",
            "Reading https://pypi.org/simple/lz4/\n",
            "Downloading https://files.pythonhosted.org/packages/e7/81/011fef8766fb0ef681037ad6fee96168ee03a864464986cbaa23e5357704/lz4-3.0.2-cp36-cp36m-manylinux2010_x86_64.whl#sha256=fc26c3902df2a8bfc0c8451bf08e265aa586fdf8f64add1d5286a12cd91e4e4a\n",
            "Best match: lz4 3.0.2\n",
            "Processing lz4-3.0.2-cp36-cp36m-manylinux2010_x86_64.whl\n",
            "Installing lz4-3.0.2-cp36-cp36m-manylinux2010_x86_64.whl to /usr/local/lib/python3.6/dist-packages\n",
            "Adding lz4 3.0.2 to easy-install.pth file\n",
            "\n",
            "Installed /usr/local/lib/python3.6/dist-packages/lz4-3.0.2-py3.6-linux-x86_64.egg\n",
            "Searching for flask_socketio~=4.2.1\n",
            "Reading https://pypi.org/simple/flask_socketio/\n",
            "Downloading https://files.pythonhosted.org/packages/66/44/edc4715af85671b943c18ac8345d0207972284a0cd630126ff5251faa08b/Flask_SocketIO-4.2.1-py2.py3-none-any.whl#sha256=7ff5b2f5edde23e875a8b0abf868584e5706e11741557449bc5147df2cd78268\n",
            "Best match: Flask-SocketIO 4.2.1\n",
            "Processing Flask_SocketIO-4.2.1-py2.py3-none-any.whl\n",
            "Installing Flask_SocketIO-4.2.1-py2.py3-none-any.whl to /usr/local/lib/python3.6/dist-packages\n",
            "Adding Flask-SocketIO 4.2.1 to easy-install.pth file\n",
            "\n",
            "Installed /usr/local/lib/python3.6/dist-packages/Flask_SocketIO-4.2.1-py3.6.egg\n",
            "Searching for protobuf>=3.11.1\n",
            "Reading https://pypi.org/simple/protobuf/\n",
            "Downloading https://files.pythonhosted.org/packages/86/43/793024ceeeeafb63b6cfb3bac9e897dfc74ec11b8dde203a458a90bb33b3/protobuf-3.12.0rc1-cp36-cp36m-manylinux1_x86_64.whl#sha256=0b845c1fb8f36be203cd2ca9e405a22ee2cec2ed87d180b067d7c063f5701633\n",
            "Best match: protobuf 3.12.0rc1\n",
            "Processing protobuf-3.12.0rc1-cp36-cp36m-manylinux1_x86_64.whl\n",
            "Installing protobuf-3.12.0rc1-cp36-cp36m-manylinux1_x86_64.whl to /usr/local/lib/python3.6/dist-packages\n",
            "Adding protobuf 3.12.0rc1 to easy-install.pth file\n",
            "\n",
            "Installed /usr/local/lib/python3.6/dist-packages/protobuf-3.12.0rc1-py3.6-linux-x86_64.egg\n",
            "Searching for python-socketio>=4.3.0\n",
            "Reading https://pypi.org/simple/python-socketio/\n",
            "Downloading https://files.pythonhosted.org/packages/10/cb/631c0b713daea3938e66d4c0923e88f3c0b57b026f860ea76e0337bc9c7a/python_socketio-4.5.1-py2.py3-none-any.whl#sha256=81280cbbb7018d8ecdd006bf6025979733d347c0f2612282c1e21f6ed7d3b55b\n",
            "Best match: python-socketio 4.5.1\n",
            "Processing python_socketio-4.5.1-py2.py3-none-any.whl\n",
            "Installing python_socketio-4.5.1-py2.py3-none-any.whl to /usr/local/lib/python3.6/dist-packages\n",
            "Adding python-socketio 4.5.1 to easy-install.pth file\n",
            "\n",
            "Installed /usr/local/lib/python3.6/dist-packages/python_socketio-4.5.1-py3.6.egg\n",
            "Searching for python-engineio>=3.9.0\n",
            "Reading https://pypi.org/simple/python-engineio/\n",
            "Downloading https://files.pythonhosted.org/packages/6c/aa/c975982df73c4bcd087732db14b05306e8a3f3f24596cc18647746539290/python_engineio-3.12.1-py2.py3-none-any.whl#sha256=222926adb4bc6e03a8fc8e0ef2a3309f030c1c3f8e0fcc94c9ba214574565f02\n",
            "Best match: python-engineio 3.12.1\n",
            "Processing python_engineio-3.12.1-py2.py3-none-any.whl\n",
            "Installing python_engineio-3.12.1-py2.py3-none-any.whl to /usr/local/lib/python3.6/dist-packages\n",
            "Adding python-engineio 3.12.1 to easy-install.pth file\n",
            "\n",
            "Installed /usr/local/lib/python3.6/dist-packages/python_engineio-3.12.1-py3.6.egg\n",
            "Searching for urllib3==1.24.3\n",
            "Best match: urllib3 1.24.3\n",
            "Adding urllib3 1.24.3 to easy-install.pth file\n",
            "\n",
            "Using /usr/local/lib/python3.6/dist-packages\n",
            "Searching for chardet==3.0.4\n",
            "Best match: chardet 3.0.4\n",
            "Adding chardet 3.0.4 to easy-install.pth file\n",
            "Installing chardetect script to /usr/local/bin\n",
            "\n",
            "Using /usr/local/lib/python3.6/dist-packages\n",
            "Searching for certifi==2020.4.5.1\n",
            "Best match: certifi 2020.4.5.1\n",
            "Adding certifi 2020.4.5.1 to easy-install.pth file\n",
            "\n",
            "Using /usr/local/lib/python3.6/dist-packages\n",
            "Searching for tornado==4.5.3\n",
            "Best match: tornado 4.5.3\n",
            "Adding tornado 4.5.3 to easy-install.pth file\n",
            "\n",
            "Using /usr/local/lib/python3.6/dist-packages\n",
            "Searching for tblib==1.6.0\n",
            "Best match: tblib 1.6.0\n",
            "Adding tblib 1.6.0 to easy-install.pth file\n",
            "\n",
            "Using /usr/local/lib/python3.6/dist-packages\n",
            "Searching for scipy==1.4.1\n",
            "Best match: scipy 1.4.1\n",
            "Adding scipy 1.4.1 to easy-install.pth file\n",
            "\n",
            "Using /usr/local/lib/python3.6/dist-packages\n",
            "Searching for numpy==1.18.2\n",
            "Best match: numpy 1.18.2\n",
            "Adding numpy 1.18.2 to easy-install.pth file\n",
            "Installing f2py script to /usr/local/bin\n",
            "Installing f2py3 script to /usr/local/bin\n",
            "Installing f2py3.6 script to /usr/local/bin\n",
            "\n",
            "Using /usr/local/lib/python3.6/dist-packages\n",
            "Searching for msgpack==1.0.0\n",
            "Best match: msgpack 1.0.0\n",
            "Adding msgpack 1.0.0 to easy-install.pth file\n",
            "\n",
            "Using /usr/local/lib/python3.6/dist-packages\n",
            "Searching for Flask==1.1.2\n",
            "Best match: Flask 1.1.2\n",
            "Adding Flask 1.1.2 to easy-install.pth file\n",
            "Installing flask script to /usr/local/bin\n",
            "\n",
            "Using /usr/local/lib/python3.6/dist-packages\n",
            "Searching for six==1.12.0\n",
            "Best match: six 1.12.0\n",
            "Adding six 1.12.0 to easy-install.pth file\n",
            "\n",
            "Using /usr/local/lib/python3.6/dist-packages\n",
            "Searching for Werkzeug==1.0.1\n",
            "Best match: Werkzeug 1.0.1\n",
            "Adding Werkzeug 1.0.1 to easy-install.pth file\n",
            "\n",
            "Using /usr/local/lib/python3.6/dist-packages\n",
            "Searching for Jinja2==2.11.2\n",
            "Best match: Jinja2 2.11.2\n",
            "Adding Jinja2 2.11.2 to easy-install.pth file\n",
            "\n",
            "Using /usr/local/lib/python3.6/dist-packages\n",
            "Searching for click==7.1.2\n",
            "Best match: click 7.1.2\n",
            "Adding click 7.1.2 to easy-install.pth file\n",
            "\n",
            "Using /usr/local/lib/python3.6/dist-packages\n",
            "Searching for itsdangerous==1.1.0\n",
            "Best match: itsdangerous 1.1.0\n",
            "Adding itsdangerous 1.1.0 to easy-install.pth file\n",
            "\n",
            "Using /usr/local/lib/python3.6/dist-packages\n",
            "Searching for setuptools==46.1.3\n",
            "Best match: setuptools 46.1.3\n",
            "Adding setuptools 46.1.3 to easy-install.pth file\n",
            "Installing easy_install script to /usr/local/bin\n",
            "Installing easy_install-3.8 script to /usr/local/bin\n",
            "\n",
            "Using /usr/local/lib/python3.6/dist-packages\n",
            "Searching for MarkupSafe==1.1.1\n",
            "Best match: MarkupSafe 1.1.1\n",
            "Adding MarkupSafe 1.1.1 to easy-install.pth file\n",
            "\n",
            "Using /usr/local/lib/python3.6/dist-packages\n",
            "Finished processing dependencies for syfertext==0.1.0.dev2\n"
          ],
          "name": "stdout"
        }
      ]
    },
    {
      "cell_type": "code",
      "metadata": {
        "id": "2fOcWq2Mkhq_",
        "colab_type": "code",
        "colab": {}
      },
      "source": [
        "! pip install pytest-black"
      ],
      "execution_count": 0,
      "outputs": []
    },
    {
      "cell_type": "code",
      "metadata": {
        "id": "SkboSPgRk9Gm",
        "colab_type": "code",
        "outputId": "82fbdd66-e005-4bb7-e250-985745dc093c",
        "colab": {
          "base_uri": "https://localhost:8080/",
          "height": 136
        }
      },
      "source": [
        "!python -m  pytest --rootdir=\"SyferText\" --black --verbose "
      ],
      "execution_count": 0,
      "outputs": [
        {
          "output_type": "stream",
          "text": [
            "\u001b[1m============================= test session starts ==============================\u001b[0m\n",
            "platform linux -- Python 3.6.9, pytest-3.6.4, py-1.8.1, pluggy-0.7.1 -- /usr/bin/python3\n",
            "cachedir: SyferText/.pytest_cache\n",
            "rootdir: /content/SyferText, inifile:\n",
            "plugins: typeguard-2.7.1, black-0.3.8\n",
            "collecting 40 items                                                            \u001b[0m"
          ],
          "name": "stdout"
        }
      ]
    },
    {
      "cell_type": "code",
      "metadata": {
        "id": "rpDf_CI29EHU",
        "colab_type": "code",
        "outputId": "66573f34-fa5f-4f75-fa2a-6ae6181d8d05",
        "colab": {
          "base_uri": "https://localhost:8080/",
          "height": 86
        }
      },
      "source": [
        "\n",
        "import syft as sy\n",
        "import torch\n",
        "\n",
        "import syfertext\n",
        "import numpy as np\n",
        "\n",
        "hook = sy.TorchHook(torch)\n",
        "me = hook.local_worker\n",
        "\n",
        "nlp = syfertext.load(\"en_core_web_lg\", owner=me)"
      ],
      "execution_count": 1,
      "outputs": [
        {
          "output_type": "stream",
          "text": [
            "WARNING:root:Torch was already hooked... skipping hooking process\n",
            "WARNING:root:Torch was already hooked... skipping hooking process\n",
            "WARNING:root:Torch was already hooked... skipping hooking process\n",
            "WARNING:root:Torch was already hooked... skipping hooking process\n"
          ],
          "name": "stderr"
        }
      ]
    },
    {
      "cell_type": "code",
      "metadata": {
        "id": "aQ90bmu59zex",
        "colab_type": "code",
        "colab": {}
      },
      "source": [
        "vocab = nlp.vocab"
      ],
      "execution_count": 0,
      "outputs": []
    },
    {
      "cell_type": "code",
      "metadata": {
        "id": "XZZBoa8Kt6Wu",
        "colab_type": "code",
        "outputId": "826735db-dae7-4f0b-c491-2dafe8693dab",
        "colab": {
          "base_uri": "https://localhost:8080/",
          "height": 378
        }
      },
      "source": [
        "\n",
        "text = \"Green Apple \"\n",
        "doc = nlp(text)\n",
        "tok1 = doc[0]\n",
        "tok2 = doc[1]\n",
        "\n",
        "#assert tok1.text_with_ws + tok2.text_with_ws == text"
      ],
      "execution_count": 3,
      "outputs": [
        {
          "output_type": "error",
          "ename": "UnpicklingError",
          "evalue": "ignored",
          "traceback": [
            "\u001b[0;31m---------------------------------------------------------------------------\u001b[0m",
            "\u001b[0;31mUnpicklingError\u001b[0m                           Traceback (most recent call last)",
            "\u001b[0;32m<ipython-input-3-49c0444c4b96>\u001b[0m in \u001b[0;36m<module>\u001b[0;34m()\u001b[0m\n\u001b[1;32m      2\u001b[0m \u001b[0mtext\u001b[0m \u001b[0;34m=\u001b[0m \u001b[0;34m\"Green Apple \"\u001b[0m\u001b[0;34m\u001b[0m\u001b[0;34m\u001b[0m\u001b[0m\n\u001b[1;32m      3\u001b[0m \u001b[0mdoc\u001b[0m \u001b[0;34m=\u001b[0m \u001b[0mnlp\u001b[0m\u001b[0;34m(\u001b[0m\u001b[0mtext\u001b[0m\u001b[0;34m)\u001b[0m\u001b[0;34m\u001b[0m\u001b[0;34m\u001b[0m\u001b[0m\n\u001b[0;32m----> 4\u001b[0;31m \u001b[0mtok1\u001b[0m \u001b[0;34m=\u001b[0m \u001b[0mdoc\u001b[0m\u001b[0;34m[\u001b[0m\u001b[0;36m0\u001b[0m\u001b[0;34m]\u001b[0m\u001b[0;34m\u001b[0m\u001b[0;34m\u001b[0m\u001b[0m\n\u001b[0m\u001b[1;32m      5\u001b[0m \u001b[0mtok2\u001b[0m \u001b[0;34m=\u001b[0m \u001b[0mdoc\u001b[0m\u001b[0;34m[\u001b[0m\u001b[0;36m1\u001b[0m\u001b[0;34m]\u001b[0m\u001b[0;34m\u001b[0m\u001b[0;34m\u001b[0m\u001b[0m\n\u001b[1;32m      6\u001b[0m \u001b[0;34m\u001b[0m\u001b[0m\n",
            "\u001b[0;32m/usr/local/lib/python3.6/dist-packages/syfertext-0.1.0.dev2-py3.6.egg/syfertext/doc.py\u001b[0m in \u001b[0;36m__getitem__\u001b[0;34m(self, key)\u001b[0m\n\u001b[1;32m     88\u001b[0m \u001b[0;34m\u001b[0m\u001b[0m\n\u001b[1;32m     89\u001b[0m             \u001b[0;31m# Create a Token object with owner same as the doc object\u001b[0m\u001b[0;34m\u001b[0m\u001b[0;34m\u001b[0m\u001b[0;34m\u001b[0m\u001b[0m\n\u001b[0;32m---> 90\u001b[0;31m             \u001b[0mtoken\u001b[0m \u001b[0;34m=\u001b[0m \u001b[0mToken\u001b[0m\u001b[0;34m(\u001b[0m\u001b[0mdoc\u001b[0m\u001b[0;34m=\u001b[0m\u001b[0mself\u001b[0m\u001b[0;34m,\u001b[0m \u001b[0mtoken_meta\u001b[0m\u001b[0;34m=\u001b[0m\u001b[0mtoken_meta\u001b[0m\u001b[0;34m,\u001b[0m \u001b[0mowner\u001b[0m\u001b[0;34m=\u001b[0m\u001b[0mself\u001b[0m\u001b[0;34m.\u001b[0m\u001b[0mowner\u001b[0m\u001b[0;34m)\u001b[0m\u001b[0;34m\u001b[0m\u001b[0;34m\u001b[0m\u001b[0m\n\u001b[0m\u001b[1;32m     91\u001b[0m \u001b[0;34m\u001b[0m\u001b[0m\n\u001b[1;32m     92\u001b[0m             \u001b[0;32mreturn\u001b[0m \u001b[0mtoken\u001b[0m\u001b[0;34m\u001b[0m\u001b[0;34m\u001b[0m\u001b[0m\n",
            "\u001b[0;32m/usr/local/lib/python3.6/dist-packages/syfertext-0.1.0.dev2-py3.6.egg/syfertext/token.py\u001b[0m in \u001b[0;36m__init__\u001b[0;34m(self, doc, token_meta, id, owner)\u001b[0m\n\u001b[1;32m     37\u001b[0m \u001b[0;34m\u001b[0m\u001b[0m\n\u001b[1;32m     38\u001b[0m         \u001b[0;31m# Whether this token has a vector or not\u001b[0m\u001b[0;34m\u001b[0m\u001b[0;34m\u001b[0m\u001b[0;34m\u001b[0m\u001b[0m\n\u001b[0;32m---> 39\u001b[0;31m         \u001b[0mself\u001b[0m\u001b[0;34m.\u001b[0m\u001b[0mhas_vector\u001b[0m \u001b[0;34m=\u001b[0m \u001b[0mself\u001b[0m\u001b[0;34m.\u001b[0m\u001b[0mdoc\u001b[0m\u001b[0;34m.\u001b[0m\u001b[0mvocab\u001b[0m\u001b[0;34m.\u001b[0m\u001b[0mvectors\u001b[0m\u001b[0;34m.\u001b[0m\u001b[0mhas_vector\u001b[0m\u001b[0;34m(\u001b[0m\u001b[0mself\u001b[0m\u001b[0;34m.\u001b[0m\u001b[0morth_\u001b[0m\u001b[0;34m)\u001b[0m\u001b[0;34m\u001b[0m\u001b[0;34m\u001b[0m\u001b[0m\n\u001b[0m\u001b[1;32m     40\u001b[0m \u001b[0;34m\u001b[0m\u001b[0m\n\u001b[1;32m     41\u001b[0m     \u001b[0;32mdef\u001b[0m \u001b[0m__str__\u001b[0m\u001b[0;34m(\u001b[0m\u001b[0mself\u001b[0m\u001b[0;34m)\u001b[0m\u001b[0;34m:\u001b[0m\u001b[0;34m\u001b[0m\u001b[0;34m\u001b[0m\u001b[0m\n",
            "\u001b[0;32m/usr/local/lib/python3.6/dist-packages/syfertext-0.1.0.dev2-py3.6.egg/syfertext/vectors.py\u001b[0m in \u001b[0;36mhas_vector\u001b[0;34m(self, word)\u001b[0m\n\u001b[1;32m     52\u001b[0m         \u001b[0;31m# If data is not yet loaded, then load it\u001b[0m\u001b[0;34m\u001b[0m\u001b[0;34m\u001b[0m\u001b[0;34m\u001b[0m\u001b[0m\n\u001b[1;32m     53\u001b[0m         \u001b[0;32mif\u001b[0m \u001b[0;32mnot\u001b[0m \u001b[0mself\u001b[0m\u001b[0;34m.\u001b[0m\u001b[0mloaded\u001b[0m\u001b[0;34m:\u001b[0m\u001b[0;34m\u001b[0m\u001b[0;34m\u001b[0m\u001b[0m\n\u001b[0;32m---> 54\u001b[0;31m             \u001b[0mself\u001b[0m\u001b[0;34m.\u001b[0m\u001b[0m_load_data\u001b[0m\u001b[0;34m(\u001b[0m\u001b[0;34m)\u001b[0m\u001b[0;34m\u001b[0m\u001b[0;34m\u001b[0m\u001b[0m\n\u001b[0m\u001b[1;32m     55\u001b[0m \u001b[0;34m\u001b[0m\u001b[0m\n\u001b[1;32m     56\u001b[0m         \u001b[0;31m# Create the word hash key\u001b[0m\u001b[0;34m\u001b[0m\u001b[0;34m\u001b[0m\u001b[0;34m\u001b[0m\u001b[0m\n",
            "\u001b[0;32m/usr/local/lib/python3.6/dist-packages/syfertext-0.1.0.dev2-py3.6.egg/syfertext/vectors.py\u001b[0m in \u001b[0;36m_load_data\u001b[0;34m(self)\u001b[0m\n\u001b[1;32m     32\u001b[0m \u001b[0;34m\u001b[0m\u001b[0m\n\u001b[1;32m     33\u001b[0m         \u001b[0;31m# Load the array holding the word vectors\u001b[0m\u001b[0;34m\u001b[0m\u001b[0;34m\u001b[0m\u001b[0;34m\u001b[0m\u001b[0m\n\u001b[0;32m---> 34\u001b[0;31m         \u001b[0mself\u001b[0m\u001b[0;34m.\u001b[0m\u001b[0mdata\u001b[0m\u001b[0;34m,\u001b[0m \u001b[0mself\u001b[0m\u001b[0;34m.\u001b[0m\u001b[0mdefault_vector\u001b[0m \u001b[0;34m=\u001b[0m \u001b[0mLOADERS\u001b[0m\u001b[0;34m[\u001b[0m\u001b[0;34m\"vectors\"\u001b[0m\u001b[0;34m]\u001b[0m\u001b[0;34m(\u001b[0m\u001b[0;34m)\u001b[0m\u001b[0;34m\u001b[0m\u001b[0;34m\u001b[0m\u001b[0m\n\u001b[0m\u001b[1;32m     35\u001b[0m \u001b[0;34m\u001b[0m\u001b[0m\n\u001b[1;32m     36\u001b[0m         \u001b[0;31m# Load the mappings between word hashes and row indices in 'self.data'\u001b[0m\u001b[0;34m\u001b[0m\u001b[0;34m\u001b[0m\u001b[0;34m\u001b[0m\u001b[0m\n",
            "\u001b[0;32m/usr/local/lib/python3.6/dist-packages/syfertext_en_core_web_lg/__init__.py\u001b[0m in \u001b[0;36m_load_vectors\u001b[0;34m()\u001b[0m\n\u001b[1;32m     24\u001b[0m     \u001b[0;31m# Unpickle the vectors\u001b[0m\u001b[0;34m\u001b[0m\u001b[0;34m\u001b[0m\u001b[0;34m\u001b[0m\u001b[0m\n\u001b[1;32m     25\u001b[0m     \u001b[0;32mwith\u001b[0m \u001b[0mopen\u001b[0m\u001b[0;34m(\u001b[0m\u001b[0mvectors_path\u001b[0m\u001b[0;34m,\u001b[0m \u001b[0;34m\"rb\"\u001b[0m\u001b[0;34m)\u001b[0m \u001b[0;32mas\u001b[0m \u001b[0mvectors_file\u001b[0m\u001b[0;34m:\u001b[0m\u001b[0;34m\u001b[0m\u001b[0;34m\u001b[0m\u001b[0m\n\u001b[0;32m---> 26\u001b[0;31m         \u001b[0mvectors\u001b[0m \u001b[0;34m=\u001b[0m \u001b[0mpickle\u001b[0m\u001b[0;34m.\u001b[0m\u001b[0mload\u001b[0m\u001b[0;34m(\u001b[0m\u001b[0mvectors_file\u001b[0m\u001b[0;34m)\u001b[0m\u001b[0;34m\u001b[0m\u001b[0;34m\u001b[0m\u001b[0m\n\u001b[0m\u001b[1;32m     27\u001b[0m \u001b[0;34m\u001b[0m\u001b[0m\n\u001b[1;32m     28\u001b[0m     \u001b[0;31m# Create a default vector that is returned\u001b[0m\u001b[0;34m\u001b[0m\u001b[0;34m\u001b[0m\u001b[0;34m\u001b[0m\u001b[0m\n",
            "\u001b[0;31mUnpicklingError\u001b[0m: invalid load key, 'v'."
          ]
        }
      ]
    },
    {
      "cell_type": "code",
      "metadata": {
        "id": "u_zTfwkOt6TR",
        "colab_type": "code",
        "outputId": "ea90c189-1574-40e0-8d01-e36cabd3629a",
        "colab": {
          "base_uri": "https://localhost:8080/",
          "height": 164
        }
      },
      "source": [
        "len(tok1.text_with_ws)"
      ],
      "execution_count": 4,
      "outputs": [
        {
          "output_type": "error",
          "ename": "NameError",
          "evalue": "ignored",
          "traceback": [
            "\u001b[0;31m---------------------------------------------------------------------------\u001b[0m",
            "\u001b[0;31mNameError\u001b[0m                                 Traceback (most recent call last)",
            "\u001b[0;32m<ipython-input-4-c5780bf2e3d9>\u001b[0m in \u001b[0;36m<module>\u001b[0;34m()\u001b[0m\n\u001b[0;32m----> 1\u001b[0;31m \u001b[0mlen\u001b[0m\u001b[0;34m(\u001b[0m\u001b[0mtok1\u001b[0m\u001b[0;34m.\u001b[0m\u001b[0mtext_with_ws\u001b[0m\u001b[0;34m)\u001b[0m\u001b[0;34m\u001b[0m\u001b[0;34m\u001b[0m\u001b[0m\n\u001b[0m",
            "\u001b[0;31mNameError\u001b[0m: name 'tok1' is not defined"
          ]
        }
      ]
    },
    {
      "cell_type": "code",
      "metadata": {
        "id": "n513Aj6ruMHw",
        "colab_type": "code",
        "outputId": "06a9e453-9d20-4c49-dc06-a9dccf2ed1ac",
        "colab": {
          "base_uri": "https://localhost:8080/",
          "height": 34
        }
      },
      "source": [
        "tok1.space_after"
      ],
      "execution_count": 0,
      "outputs": [
        {
          "output_type": "execute_result",
          "data": {
            "text/plain": [
              "True"
            ]
          },
          "metadata": {
            "tags": []
          },
          "execution_count": 10
        }
      ]
    },
    {
      "cell_type": "code",
      "metadata": {
        "id": "6kdNH-Qb95kM",
        "colab_type": "code",
        "colab": {}
      },
      "source": [
        "lexeme = vocab[\"sg'\"]"
      ],
      "execution_count": 0,
      "outputs": []
    },
    {
      "cell_type": "code",
      "metadata": {
        "id": "PWQ9EknD-Nyo",
        "colab_type": "code",
        "outputId": "0e543a84-79f2-4837-8996-7d11292350fa",
        "colab": {
          "base_uri": "https://localhost:8080/",
          "height": 34
        }
      },
      "source": [
        "lexeme.is_alpha"
      ],
      "execution_count": 0,
      "outputs": [
        {
          "output_type": "execute_result",
          "data": {
            "text/plain": [
              "False"
            ]
          },
          "metadata": {
            "tags": []
          },
          "execution_count": 12
        }
      ]
    },
    {
      "cell_type": "code",
      "metadata": {
        "id": "sNegOCa3_MjH",
        "colab_type": "code",
        "colab": {}
      },
      "source": [
        ""
      ],
      "execution_count": 0,
      "outputs": []
    },
    {
      "cell_type": "code",
      "metadata": {
        "id": "ccIT6niLpIeP",
        "colab_type": "code",
        "colab": {}
      },
      "source": [
        "import pickle\n",
        "import numpy as np\n",
        "\n",
        "def _load_vectors():\n",
        "        \"\"\"Loads the embedding vectors of the vocabulary string from disk.\n",
        "\n",
        "        Returns:\n",
        "            vectors (array): a numpy array which as much rows as words in the vocabulary.\n",
        "                                the number of columns is equal to the vector's dimensions.\n",
        "            default_vector (array): a numpy array of size (number of vector's dimensions,)\n",
        "                                    this vector is used for out-of-vocabulary tokens.\n",
        "        \"\"\"\n",
        "\n",
        "        # Get the path to the file where vectors are stored\n",
        "        vectors_path = \"/content/syfertext_en_core_web_lg/syfertext_en_core_web_lg/data/vectors\"\n",
        "\n",
        "        # Unpickle the vectors\n",
        "        with open(vectors_path, \"rb\") as vectors_file:\n",
        "            vectors = pickle.load(vectors_file)\n",
        "\n",
        "        # Create a default vector that is returned\n",
        "        # when an out-of-vocabulary token is encountered\n",
        "        default_vector = np.zeros(vectors.shape[1], dtype=vectors.dtype)\n",
        "\n",
        "        return vectors, default_vector"
      ],
      "execution_count": 0,
      "outputs": []
    },
    {
      "cell_type": "code",
      "metadata": {
        "id": "5P6dxTqQpIU0",
        "colab_type": "code",
        "outputId": "d82c66af-20f4-4a0c-a21e-951158f6876b",
        "colab": {
          "base_uri": "https://localhost:8080/",
          "height": 287
        }
      },
      "source": [
        "_load_vectors()"
      ],
      "execution_count": 0,
      "outputs": [
        {
          "output_type": "error",
          "ename": "UnpicklingError",
          "evalue": "ignored",
          "traceback": [
            "\u001b[0;31m---------------------------------------------------------------------------\u001b[0m",
            "\u001b[0;31mUnpicklingError\u001b[0m                           Traceback (most recent call last)",
            "\u001b[0;32m<ipython-input-6-6e54dd6a7230>\u001b[0m in \u001b[0;36m<module>\u001b[0;34m()\u001b[0m\n\u001b[0;32m----> 1\u001b[0;31m \u001b[0m_load_vectors\u001b[0m\u001b[0;34m(\u001b[0m\u001b[0;34m)\u001b[0m\u001b[0;34m\u001b[0m\u001b[0;34m\u001b[0m\u001b[0m\n\u001b[0m",
            "\u001b[0;32m<ipython-input-5-46d2095e32aa>\u001b[0m in \u001b[0;36m_load_vectors\u001b[0;34m()\u001b[0m\n\u001b[1;32m     17\u001b[0m         \u001b[0;31m# Unpickle the vectors\u001b[0m\u001b[0;34m\u001b[0m\u001b[0;34m\u001b[0m\u001b[0;34m\u001b[0m\u001b[0m\n\u001b[1;32m     18\u001b[0m         \u001b[0;32mwith\u001b[0m \u001b[0mopen\u001b[0m\u001b[0;34m(\u001b[0m\u001b[0mvectors_path\u001b[0m\u001b[0;34m,\u001b[0m \u001b[0;34m\"rb\"\u001b[0m\u001b[0;34m)\u001b[0m \u001b[0;32mas\u001b[0m \u001b[0mvectors_file\u001b[0m\u001b[0;34m:\u001b[0m\u001b[0;34m\u001b[0m\u001b[0;34m\u001b[0m\u001b[0m\n\u001b[0;32m---> 19\u001b[0;31m             \u001b[0mvectors\u001b[0m \u001b[0;34m=\u001b[0m \u001b[0mpickle\u001b[0m\u001b[0;34m.\u001b[0m\u001b[0mload\u001b[0m\u001b[0;34m(\u001b[0m\u001b[0mvectors_file\u001b[0m\u001b[0;34m)\u001b[0m\u001b[0;34m\u001b[0m\u001b[0;34m\u001b[0m\u001b[0m\n\u001b[0m\u001b[1;32m     20\u001b[0m \u001b[0;34m\u001b[0m\u001b[0m\n\u001b[1;32m     21\u001b[0m         \u001b[0;31m# Create a default vector that is returned\u001b[0m\u001b[0;34m\u001b[0m\u001b[0;34m\u001b[0m\u001b[0;34m\u001b[0m\u001b[0m\n",
            "\u001b[0;31mUnpicklingError\u001b[0m: invalid load key, 'v'."
          ]
        }
      ]
    }
  ]
}