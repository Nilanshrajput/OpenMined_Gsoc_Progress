{
  "nbformat": 4,
  "nbformat_minor": 0,
  "metadata": {
    "colab": {
      "name": "SyferText_MyBranch_Testing.ipynb",
      "provenance": [],
      "authorship_tag": "ABX9TyMNVD07BkpuVZyfuBwzQ866",
      "include_colab_link": true
    },
    "kernelspec": {
      "name": "python3",
      "display_name": "Python 3"
    }
  },
  "cells": [
    {
      "cell_type": "markdown",
      "metadata": {
        "id": "view-in-github",
        "colab_type": "text"
      },
      "source": [
        "<a href=\"https://colab.research.google.com/github/Nilanshrajput/OpenMined_Gsoc_Progress/blob/master/SyferText_MyBranch_Testing.ipynb\" target=\"_parent\"><img src=\"https://colab.research.google.com/assets/colab-badge.svg\" alt=\"Open In Colab\"/></a>"
      ]
    },
    {
      "cell_type": "code",
      "metadata": {
        "id": "iO1fAZ7qGIWf",
        "colab_type": "code",
        "outputId": "4a37cacc-8566-4273-a399-a66257cf8cc5",
        "colab": {
          "base_uri": "https://localhost:8080/",
          "height": 1000
        }
      },
      "source": [
        "# Install Git LFS\n",
        "!curl -s https://packagecloud.io/install/repositories/github/git-lfs/script.deb.sh | sudo bash\n",
        "!sudo apt-get install git-lfs\n",
        "!git lfs install\n",
        "# Install syfertext language model\n",
        "!pip install git+git://github.com/Nilanshrajput/syfertext_en_core_web_lg@master"
      ],
      "execution_count": 1,
      "outputs": [
        {
          "output_type": "stream",
          "text": [
            "Detected operating system as Ubuntu/bionic.\n",
            "Checking for curl...\n",
            "Detected curl...\n",
            "Checking for gpg...\n",
            "Detected gpg...\n",
            "Running apt-get update... done.\n",
            "Installing apt-transport-https... done.\n",
            "Installing /etc/apt/sources.list.d/github_git-lfs.list...done.\n",
            "Importing packagecloud gpg key... done.\n",
            "Running apt-get update... done.\n",
            "\n",
            "The repository is setup! You can now install packages.\n",
            "Reading package lists... Done\n",
            "Building dependency tree       \n",
            "Reading state information... Done\n",
            "The following NEW packages will be installed:\n",
            "  git-lfs\n",
            "0 upgraded, 1 newly installed, 0 to remove and 35 not upgraded.\n",
            "Need to get 6,877 kB of archives.\n",
            "After this operation, 16.4 MB of additional disk space will be used.\n",
            "Get:1 https://packagecloud.io/github/git-lfs/ubuntu bionic/main amd64 git-lfs amd64 2.11.0 [6,877 kB]\n",
            "Fetched 6,877 kB in 1s (8,531 kB/s)\n",
            "debconf: unable to initialize frontend: Dialog\n",
            "debconf: (No usable dialog-like program is installed, so the dialog based frontend cannot be used. at /usr/share/perl5/Debconf/FrontEnd/Dialog.pm line 76, <> line 1.)\n",
            "debconf: falling back to frontend: Readline\n",
            "debconf: unable to initialize frontend: Readline\n",
            "debconf: (This frontend requires a controlling tty.)\n",
            "debconf: falling back to frontend: Teletype\n",
            "dpkg-preconfigure: unable to re-open stdin: \n",
            "Selecting previously unselected package git-lfs.\n",
            "(Reading database ... 144433 files and directories currently installed.)\n",
            "Preparing to unpack .../git-lfs_2.11.0_amd64.deb ...\n",
            "Unpacking git-lfs (2.11.0) ...\n",
            "Setting up git-lfs (2.11.0) ...\n",
            "Git LFS initialized.\n",
            "Processing triggers for man-db (2.8.3-2ubuntu0.1) ...\n",
            "Git LFS initialized.\n",
            "Collecting git+git://github.com/Nilanshrajput/syfertext_en_core_web_lg@master\n",
            "  Cloning git://github.com/Nilanshrajput/syfertext_en_core_web_lg (to revision master) to /tmp/pip-req-build-3bmqzxlp\n",
            "  Running command git clone -q git://github.com/Nilanshrajput/syfertext_en_core_web_lg /tmp/pip-req-build-3bmqzxlp\n",
            "  Filtering content: 100% (3/3), 820.61 MiB | 59.48 MiB/s, done.\n",
            "Collecting numpy==1.18.2\n",
            "\u001b[?25l  Downloading https://files.pythonhosted.org/packages/07/08/a549ba8b061005bb629b76adc000f3caaaf881028b963c2e18f811c6edc1/numpy-1.18.2-cp36-cp36m-manylinux1_x86_64.whl (20.2MB)\n",
            "\u001b[K     |████████████████████████████████| 20.2MB 1.3MB/s \n",
            "\u001b[?25hBuilding wheels for collected packages: syfertext-en-core-web-lg\n",
            "  Building wheel for syfertext-en-core-web-lg (setup.py) ... \u001b[?25l\u001b[?25hdone\n",
            "  Created wheel for syfertext-en-core-web-lg: filename=syfertext_en_core_web_lg-0.0.1-cp36-none-any.whl size=774464161 sha256=b2dd12b0366a1ad09f71366a414f156cbd0fc409d0b9bf093422b61a30a0fe54\n",
            "  Stored in directory: /tmp/pip-ephem-wheel-cache-s2k801rf/wheels/59/55/ab/309821e4cc31d9f53129229bd3ad759276e30fb8daef7ddeef\n",
            "Successfully built syfertext-en-core-web-lg\n",
            "\u001b[31mERROR: datascience 0.10.6 has requirement folium==0.2.1, but you'll have folium 0.8.3 which is incompatible.\u001b[0m\n",
            "\u001b[31mERROR: albumentations 0.1.12 has requirement imgaug<0.2.7,>=0.2.5, but you'll have imgaug 0.2.9 which is incompatible.\u001b[0m\n",
            "Installing collected packages: numpy, syfertext-en-core-web-lg\n",
            "  Found existing installation: numpy 1.18.4\n",
            "    Uninstalling numpy-1.18.4:\n",
            "      Successfully uninstalled numpy-1.18.4\n",
            "Successfully installed numpy-1.18.2 syfertext-en-core-web-lg-0.0.1\n"
          ],
          "name": "stdout"
        },
        {
          "output_type": "display_data",
          "data": {
            "application/vnd.colab-display-data+json": {
              "pip_warning": {
                "packages": [
                  "numpy"
                ]
              }
            }
          },
          "metadata": {
            "tags": []
          }
        }
      ]
    },
    {
      "cell_type": "code",
      "metadata": {
        "id": "osRUv2uJlsRI",
        "colab_type": "code",
        "outputId": "f359ba5b-8474-40c6-8c17-a8c33c02f27d",
        "colab": {
          "base_uri": "https://localhost:8080/",
          "height": 433
        }
      },
      "source": [
        "!pip install git+git://github.com/Nilanshrajput/syfertext_en_core_web_lg@master"
      ],
      "execution_count": 0,
      "outputs": [
        {
          "output_type": "stream",
          "text": [
            "Collecting git+git://github.com/Nilanshrajput/syfertext_en_core_web_lg@master\n",
            "  Cloning git://github.com/Nilanshrajput/syfertext_en_core_web_lg (to revision master) to /tmp/pip-req-build-_k3wnxqs\n",
            "  Running command git clone -q git://github.com/Nilanshrajput/syfertext_en_core_web_lg /tmp/pip-req-build-_k3wnxqs\n",
            "Collecting numpy==1.18.2\n",
            "\u001b[?25l  Downloading https://files.pythonhosted.org/packages/07/08/a549ba8b061005bb629b76adc000f3caaaf881028b963c2e18f811c6edc1/numpy-1.18.2-cp36-cp36m-manylinux1_x86_64.whl (20.2MB)\n",
            "\u001b[K     |████████████████████████████████| 20.2MB 4.5MB/s \n",
            "\u001b[?25hBuilding wheels for collected packages: syfertext-en-core-web-lg\n",
            "  Building wheel for syfertext-en-core-web-lg (setup.py) ... \u001b[?25l\u001b[?25hdone\n",
            "  Created wheel for syfertext-en-core-web-lg: filename=syfertext_en_core_web_lg-0.0.1-cp36-none-any.whl size=3976 sha256=6b8af0f536658f6d941914f600912810f5fe1d19783cfa5ca73a028a44b8c051\n",
            "  Stored in directory: /tmp/pip-ephem-wheel-cache-l8xuy3dp/wheels/59/55/ab/309821e4cc31d9f53129229bd3ad759276e30fb8daef7ddeef\n",
            "Successfully built syfertext-en-core-web-lg\n",
            "\u001b[31mERROR: datascience 0.10.6 has requirement folium==0.2.1, but you'll have folium 0.8.3 which is incompatible.\u001b[0m\n",
            "\u001b[31mERROR: albumentations 0.1.12 has requirement imgaug<0.2.7,>=0.2.5, but you'll have imgaug 0.2.9 which is incompatible.\u001b[0m\n",
            "Installing collected packages: numpy, syfertext-en-core-web-lg\n",
            "  Found existing installation: numpy 1.18.4\n",
            "    Uninstalling numpy-1.18.4:\n",
            "      Successfully uninstalled numpy-1.18.4\n",
            "Successfully installed numpy-1.18.2 syfertext-en-core-web-lg-0.0.1\n"
          ],
          "name": "stdout"
        },
        {
          "output_type": "display_data",
          "data": {
            "application/vnd.colab-display-data+json": {
              "pip_warning": {
                "packages": [
                  "numpy"
                ]
              }
            }
          },
          "metadata": {
            "tags": []
          }
        }
      ]
    },
    {
      "cell_type": "code",
      "metadata": {
        "id": "ao3MiEzc7iaX",
        "colab_type": "code",
        "outputId": "3d902aed-466a-4e60-cede-3a897b12c3b1",
        "colab": {
          "base_uri": "https://localhost:8080/",
          "height": 138
        }
      },
      "source": [
        "!git clone --single-branch --branch Lexeme https://github.com/Nilanshrajput/SyferText.git"
      ],
      "execution_count": 2,
      "outputs": [
        {
          "output_type": "stream",
          "text": [
            "Cloning into 'SyferText'...\n",
            "remote: Enumerating objects: 40, done.\u001b[K\n",
            "remote: Counting objects:   2% (1/40)\u001b[K\rremote: Counting objects:   5% (2/40)\u001b[K\rremote: Counting objects:   7% (3/40)\u001b[K\rremote: Counting objects:  10% (4/40)\u001b[K\rremote: Counting objects:  12% (5/40)\u001b[K\rremote: Counting objects:  15% (6/40)\u001b[K\rremote: Counting objects:  17% (7/40)\u001b[K\rremote: Counting objects:  20% (8/40)\u001b[K\rremote: Counting objects:  22% (9/40)\u001b[K\rremote: Counting objects:  25% (10/40)\u001b[K\rremote: Counting objects:  27% (11/40)\u001b[K\rremote: Counting objects:  30% (12/40)\u001b[K\rremote: Counting objects:  32% (13/40)\u001b[K\rremote: Counting objects:  35% (14/40)\u001b[K\rremote: Counting objects:  37% (15/40)\u001b[K\rremote: Counting objects:  40% (16/40)\u001b[K\rremote: Counting objects:  42% (17/40)\u001b[K\rremote: Counting objects:  45% (18/40)\u001b[K\rremote: Counting objects:  47% (19/40)\u001b[K\rremote: Counting objects:  50% (20/40)\u001b[K\rremote: Counting objects:  52% (21/40)\u001b[K\rremote: Counting objects:  55% (22/40)\u001b[K\rremote: Counting objects:  57% (23/40)\u001b[K\rremote: Counting objects:  60% (24/40)\u001b[K\rremote: Counting objects:  62% (25/40)\u001b[K\rremote: Counting objects:  65% (26/40)\u001b[K\rremote: Counting objects:  67% (27/40)\u001b[K\rremote: Counting objects:  70% (28/40)\u001b[K\rremote: Counting objects:  72% (29/40)\u001b[K\rremote: Counting objects:  75% (30/40)\u001b[K\rremote: Counting objects:  77% (31/40)\u001b[K\rremote: Counting objects:  80% (32/40)\u001b[K\rremote: Counting objects:  82% (33/40)\u001b[K\rremote: Counting objects:  85% (34/40)\u001b[K\rremote: Counting objects:  87% (35/40)\u001b[K\rremote: Counting objects:  90% (36/40)\u001b[K\rremote: Counting objects:  92% (37/40)\u001b[K\rremote: Counting objects:  95% (38/40)\u001b[K\rremote: Counting objects:  97% (39/40)\u001b[K\rremote: Counting objects: 100% (40/40)\u001b[K\rremote: Counting objects: 100% (40/40), done.\u001b[K\n",
            "remote: Compressing objects:   3% (1/31)\u001b[K\rremote: Compressing objects:   6% (2/31)\u001b[K\rremote: Compressing objects:   9% (3/31)\u001b[K\rremote: Compressing objects:  12% (4/31)\u001b[K\rremote: Compressing objects:  16% (5/31)\u001b[K\rremote: Compressing objects:  19% (6/31)\u001b[K\rremote: Compressing objects:  22% (7/31)\u001b[K\rremote: Compressing objects:  25% (8/31)\u001b[K\rremote: Compressing objects:  29% (9/31)\u001b[K\rremote: Compressing objects:  32% (10/31)\u001b[K\rremote: Compressing objects:  35% (11/31)\u001b[K\rremote: Compressing objects:  38% (12/31)\u001b[K\rremote: Compressing objects:  41% (13/31)\u001b[K\rremote: Compressing objects:  45% (14/31)\u001b[K\rremote: Compressing objects:  48% (15/31)\u001b[K\rremote: Compressing objects:  51% (16/31)\u001b[K\rremote: Compressing objects:  54% (17/31)\u001b[K\rremote: Compressing objects:  58% (18/31)\u001b[K\rremote: Compressing objects:  61% (19/31)\u001b[K\rremote: Compressing objects:  64% (20/31)\u001b[K\rremote: Compressing objects:  67% (21/31)\u001b[K\rremote: Compressing objects:  70% (22/31)\u001b[K\rremote: Compressing objects:  74% (23/31)\u001b[K\rremote: Compressing objects:  77% (24/31)\u001b[K\rremote: Compressing objects:  80% (25/31)\u001b[K\rremote: Compressing objects:  83% (26/31)\u001b[K\rremote: Compressing objects:  87% (27/31)\u001b[K\rremote: Compressing objects:  90% (28/31)\u001b[K\rremote: Compressing objects:  93% (29/31)\u001b[K\rremote: Compressing objects:  96% (30/31)\u001b[K\rremote: Compressing objects: 100% (31/31)\u001b[K\rremote: Compressing objects: 100% (31/31), done.\u001b[K\n",
            "Receiving objects:   0% (1/1790)   \rReceiving objects:   1% (18/1790)   \rReceiving objects:   2% (36/1790)   \rReceiving objects:   3% (54/1790)   \rReceiving objects:   4% (72/1790)   \rReceiving objects:   5% (90/1790)   \rReceiving objects:   6% (108/1790)   \rReceiving objects:   7% (126/1790)   \rReceiving objects:   8% (144/1790)   \rReceiving objects:   9% (162/1790)   \rReceiving objects:  10% (179/1790)   \rReceiving objects:  11% (197/1790)   \rReceiving objects:  12% (215/1790)   \rReceiving objects:  13% (233/1790)   \rReceiving objects:  14% (251/1790)   \rReceiving objects:  15% (269/1790)   \rReceiving objects:  16% (287/1790)   \rReceiving objects:  17% (305/1790)   \rReceiving objects:  18% (323/1790)   \rReceiving objects:  19% (341/1790)   \rReceiving objects:  20% (358/1790)   \rReceiving objects:  21% (376/1790)   \rReceiving objects:  22% (394/1790)   \rReceiving objects:  23% (412/1790)   \rReceiving objects:  24% (430/1790)   \rReceiving objects:  25% (448/1790)   \rReceiving objects:  26% (466/1790)   \rReceiving objects:  27% (484/1790)   \rReceiving objects:  28% (502/1790)   \rReceiving objects:  29% (520/1790)   \rReceiving objects:  30% (537/1790)   \rReceiving objects:  31% (555/1790)   \rReceiving objects:  32% (573/1790)   \rReceiving objects:  33% (591/1790)   \rReceiving objects:  34% (609/1790)   \rReceiving objects:  35% (627/1790)   \rReceiving objects:  36% (645/1790)   \rReceiving objects:  37% (663/1790)   \rReceiving objects:  38% (681/1790)   \rReceiving objects:  39% (699/1790)   \rReceiving objects:  40% (716/1790)   \rReceiving objects:  41% (734/1790)   \rReceiving objects:  42% (752/1790)   \rReceiving objects:  43% (770/1790)   \rReceiving objects:  44% (788/1790)   \rReceiving objects:  45% (806/1790)   \rReceiving objects:  46% (824/1790)   \rReceiving objects:  47% (842/1790)   \rReceiving objects:  48% (860/1790)   \rReceiving objects:  49% (878/1790)   \rReceiving objects:  50% (895/1790)   \rReceiving objects:  51% (913/1790)   \rReceiving objects:  52% (931/1790)   \rReceiving objects:  53% (949/1790)   \rReceiving objects:  54% (967/1790)   \rReceiving objects:  55% (985/1790)   \rReceiving objects:  56% (1003/1790)   \rReceiving objects:  57% (1021/1790)   \rReceiving objects:  58% (1039/1790)   \rReceiving objects:  59% (1057/1790)   \rReceiving objects:  60% (1074/1790)   \rReceiving objects:  61% (1092/1790)   \rReceiving objects:  62% (1110/1790)   \rReceiving objects:  63% (1128/1790)   \rReceiving objects:  64% (1146/1790)   \rReceiving objects:  65% (1164/1790)   \rReceiving objects:  66% (1182/1790)   \rReceiving objects:  67% (1200/1790)   \rReceiving objects:  68% (1218/1790)   \rReceiving objects:  69% (1236/1790)   \rReceiving objects:  70% (1253/1790)   \rReceiving objects:  71% (1271/1790)   \rReceiving objects:  72% (1289/1790)   \rReceiving objects:  73% (1307/1790)   \rReceiving objects:  74% (1325/1790)   \rReceiving objects:  75% (1343/1790)   \rReceiving objects:  76% (1361/1790)   \rReceiving objects:  77% (1379/1790)   \rReceiving objects:  78% (1397/1790)   \rReceiving objects:  79% (1415/1790)   \rReceiving objects:  80% (1432/1790)   \rReceiving objects:  81% (1450/1790)   \rReceiving objects:  82% (1468/1790)   \rReceiving objects:  83% (1486/1790)   \rReceiving objects:  84% (1504/1790)   \rReceiving objects:  85% (1522/1790)   \rReceiving objects:  86% (1540/1790)   \rReceiving objects:  87% (1558/1790)   \rReceiving objects:  88% (1576/1790)   \rReceiving objects:  89% (1594/1790)   \rReceiving objects:  90% (1611/1790)   \rReceiving objects:  91% (1629/1790)   \rremote: Total 1790 (delta 19), reused 23 (delta 9), pack-reused 1750\u001b[K\n",
            "Receiving objects:  92% (1647/1790)   \rReceiving objects:  93% (1665/1790)   \rReceiving objects:  94% (1683/1790)   \rReceiving objects:  95% (1701/1790)   \rReceiving objects:  96% (1719/1790)   \rReceiving objects:  97% (1737/1790)   \rReceiving objects:  98% (1755/1790)   \rReceiving objects:  99% (1773/1790)   \rReceiving objects: 100% (1790/1790)   \rReceiving objects: 100% (1790/1790), 809.77 KiB | 15.28 MiB/s, done.\n",
            "Resolving deltas:   0% (0/1170)   \rResolving deltas:   1% (12/1170)   \rResolving deltas:   2% (26/1170)   \rResolving deltas:   3% (38/1170)   \rResolving deltas:   4% (48/1170)   \rResolving deltas:   5% (59/1170)   \rResolving deltas:   8% (97/1170)   \rResolving deltas:   9% (106/1170)   \rResolving deltas:  10% (121/1170)   \rResolving deltas:  12% (146/1170)   \rResolving deltas:  13% (156/1170)   \rResolving deltas:  14% (166/1170)   \rResolving deltas:  15% (178/1170)   \rResolving deltas:  16% (189/1170)   \rResolving deltas:  17% (205/1170)   \rResolving deltas:  18% (216/1170)   \rResolving deltas:  20% (241/1170)   \rResolving deltas:  21% (249/1170)   \rResolving deltas:  22% (258/1170)   \rResolving deltas:  27% (317/1170)   \rResolving deltas:  28% (333/1170)   \rResolving deltas:  29% (348/1170)   \rResolving deltas:  32% (382/1170)   \rResolving deltas:  33% (391/1170)   \rResolving deltas:  34% (407/1170)   \rResolving deltas:  36% (423/1170)   \rResolving deltas:  41% (491/1170)   \rResolving deltas:  46% (544/1170)   \rResolving deltas:  48% (566/1170)   \rResolving deltas:  57% (671/1170)   \rResolving deltas:  59% (693/1170)   \rResolving deltas:  60% (704/1170)   \rResolving deltas:  64% (749/1170)   \rResolving deltas:  65% (772/1170)   \rResolving deltas:  66% (774/1170)   \rResolving deltas:  68% (804/1170)   \rResolving deltas:  69% (815/1170)   \rResolving deltas:  70% (827/1170)   \rResolving deltas:  71% (834/1170)   \rResolving deltas:  72% (848/1170)   \rResolving deltas:  74% (870/1170)   \rResolving deltas:  75% (887/1170)   \rResolving deltas:  76% (892/1170)   \rResolving deltas:  77% (907/1170)   \rResolving deltas:  78% (923/1170)   \rResolving deltas:  80% (937/1170)   \rResolving deltas:  81% (958/1170)   \rResolving deltas:  82% (967/1170)   \rResolving deltas:  83% (973/1170)   \rResolving deltas:  84% (983/1170)   \rResolving deltas:  85% (995/1170)   \rResolving deltas:  87% (1018/1170)   \rResolving deltas:  88% (1031/1170)   \rResolving deltas:  89% (1050/1170)   \rResolving deltas:  90% (1057/1170)   \rResolving deltas:  91% (1075/1170)   \rResolving deltas:  92% (1078/1170)   \rResolving deltas:  93% (1092/1170)   \rResolving deltas:  95% (1114/1170)   \rResolving deltas:  96% (1124/1170)   \rResolving deltas:  97% (1141/1170)   \rResolving deltas:  98% (1147/1170)   \rResolving deltas:  99% (1160/1170)   \rResolving deltas: 100% (1170/1170)   \rResolving deltas: 100% (1170/1170), done.\n"
          ],
          "name": "stdout"
        }
      ]
    },
    {
      "cell_type": "code",
      "metadata": {
        "id": "-YcsDDiolyCT",
        "colab_type": "code",
        "outputId": "7c7dc4e7-2cef-47b3-e478-bbd84eb125ce",
        "colab": {
          "base_uri": "https://localhost:8080/",
          "height": 138
        }
      },
      "source": [
        "!git clone https://github.com/OpenMined/SyferText.git"
      ],
      "execution_count": 2,
      "outputs": [
        {
          "output_type": "stream",
          "text": [
            "Cloning into 'SyferText'...\n",
            "remote: Enumerating objects: 25, done.\u001b[K\n",
            "remote: Counting objects: 100% (25/25), done.\u001b[K\n",
            "remote: Compressing objects: 100% (19/19), done.\u001b[K\n",
            "remote: Total 1655 (delta 11), reused 14 (delta 6), pack-reused 1630\u001b[K\n",
            "Receiving objects: 100% (1655/1655), 757.70 KiB | 1.05 MiB/s, done.\n",
            "Resolving deltas: 100% (1070/1070), done.\n"
          ],
          "name": "stdout"
        }
      ]
    },
    {
      "cell_type": "code",
      "metadata": {
        "id": "3OADwgErpEtF",
        "colab_type": "code",
        "outputId": "b39a975c-b389-4a15-d742-09271606a25f",
        "colab": {
          "base_uri": "https://localhost:8080/",
          "height": 121
        }
      },
      "source": [
        "#!git clone https://github.com/Nilanshrajput/syfertext_en_core_web_lg.git"
      ],
      "execution_count": 0,
      "outputs": [
        {
          "output_type": "stream",
          "text": [
            "Cloning into 'syfertext_en_core_web_lg'...\n",
            "remote: Enumerating objects: 12, done.\u001b[K\n",
            "remote: Counting objects: 100% (12/12), done.\u001b[K\n",
            "remote: Compressing objects: 100% (12/12), done.\u001b[K\n",
            "remote: Total 12 (delta 0), reused 12 (delta 0), pack-reused 0\u001b[K\n",
            "Unpacking objects: 100% (12/12), done.\n"
          ],
          "name": "stdout"
        }
      ]
    },
    {
      "cell_type": "code",
      "metadata": {
        "id": "327vcYMy-4MS",
        "colab_type": "code",
        "colab": {}
      },
      "source": [
        "!rm -r SyferText"
      ],
      "execution_count": 0,
      "outputs": []
    },
    {
      "cell_type": "code",
      "metadata": {
        "id": "eSez6Nqi85tJ",
        "colab_type": "code",
        "colab": {}
      },
      "source": [
        "import os\n",
        "os.chdir('/content/SyferText')"
      ],
      "execution_count": 0,
      "outputs": []
    },
    {
      "cell_type": "code",
      "metadata": {
        "id": "N4kCeiUp9ArT",
        "colab_type": "code",
        "outputId": "beba4849-720f-4397-eb7a-581c5a92257b",
        "colab": {
          "base_uri": "https://localhost:8080/",
          "height": 1000
        }
      },
      "source": [
        "!python setup.py install"
      ],
      "execution_count": 4,
      "outputs": [
        {
          "output_type": "stream",
          "text": [
            "/usr/lib/python3.6/distutils/dist.py:261: UserWarning: Unknown distribution option: 'classifier'\n",
            "  warnings.warn(msg)\n",
            "running install\n",
            "running bdist_egg\n",
            "running egg_info\n",
            "creating syfertext.egg-info\n",
            "writing syfertext.egg-info/PKG-INFO\n",
            "writing dependency_links to syfertext.egg-info/dependency_links.txt\n",
            "writing requirements to syfertext.egg-info/requires.txt\n",
            "writing top-level names to syfertext.egg-info/top_level.txt\n",
            "writing manifest file 'syfertext.egg-info/SOURCES.txt'\n",
            "writing manifest file 'syfertext.egg-info/SOURCES.txt'\n",
            "installing library code to build/bdist.linux-x86_64/egg\n",
            "running install_lib\n",
            "running build_py\n",
            "creating build\n",
            "creating build/lib\n",
            "creating build/lib/syfertext\n",
            "copying syfertext/vectors.py -> build/lib/syfertext\n",
            "copying syfertext/punctuations.py -> build/lib/syfertext\n",
            "copying syfertext/string_store.py -> build/lib/syfertext\n",
            "copying syfertext/span.py -> build/lib/syfertext\n",
            "copying syfertext/language.py -> build/lib/syfertext\n",
            "copying syfertext/token_exception.py -> build/lib/syfertext\n",
            "copying syfertext/lexeme.py -> build/lib/syfertext\n",
            "copying syfertext/attrs.py -> build/lib/syfertext\n",
            "copying syfertext/vocab.py -> build/lib/syfertext\n",
            "copying syfertext/char_classes.py -> build/lib/syfertext\n",
            "copying syfertext/tokenizer.py -> build/lib/syfertext\n",
            "copying syfertext/__init__.py -> build/lib/syfertext\n",
            "copying syfertext/token.py -> build/lib/syfertext\n",
            "copying syfertext/doc.py -> build/lib/syfertext\n",
            "copying syfertext/underscore.py -> build/lib/syfertext\n",
            "copying syfertext/utils.py -> build/lib/syfertext\n",
            "copying syfertext/lex_attrs.py -> build/lib/syfertext\n",
            "copying syfertext/stop_words.py -> build/lib/syfertext\n",
            "creating build/lib/syfertext/pipeline\n",
            "copying syfertext/pipeline/simple_tagger.py -> build/lib/syfertext/pipeline\n",
            "copying syfertext/pipeline/__init__.py -> build/lib/syfertext/pipeline\n",
            "copying syfertext/pipeline/subpipeline.py -> build/lib/syfertext/pipeline\n",
            "creating build/lib/syfertext/pointers\n",
            "copying syfertext/pointers/doc_pointer.py -> build/lib/syfertext/pointers\n",
            "copying syfertext/pointers/span_pointer.py -> build/lib/syfertext/pointers\n",
            "copying syfertext/pointers/__init__.py -> build/lib/syfertext/pointers\n",
            "creating build/lib/syfertext/pipeline/pointers\n",
            "copying syfertext/pipeline/pointers/subpipeline_pointer.py -> build/lib/syfertext/pipeline/pointers\n",
            "copying syfertext/pipeline/pointers/__init__.py -> build/lib/syfertext/pipeline/pointers\n",
            "creating build/bdist.linux-x86_64\n",
            "creating build/bdist.linux-x86_64/egg\n",
            "creating build/bdist.linux-x86_64/egg/syfertext\n",
            "copying build/lib/syfertext/vectors.py -> build/bdist.linux-x86_64/egg/syfertext\n",
            "copying build/lib/syfertext/punctuations.py -> build/bdist.linux-x86_64/egg/syfertext\n",
            "copying build/lib/syfertext/string_store.py -> build/bdist.linux-x86_64/egg/syfertext\n",
            "copying build/lib/syfertext/span.py -> build/bdist.linux-x86_64/egg/syfertext\n",
            "copying build/lib/syfertext/language.py -> build/bdist.linux-x86_64/egg/syfertext\n",
            "copying build/lib/syfertext/token_exception.py -> build/bdist.linux-x86_64/egg/syfertext\n",
            "copying build/lib/syfertext/lexeme.py -> build/bdist.linux-x86_64/egg/syfertext\n",
            "copying build/lib/syfertext/attrs.py -> build/bdist.linux-x86_64/egg/syfertext\n",
            "copying build/lib/syfertext/vocab.py -> build/bdist.linux-x86_64/egg/syfertext\n",
            "creating build/bdist.linux-x86_64/egg/syfertext/pipeline\n",
            "copying build/lib/syfertext/pipeline/simple_tagger.py -> build/bdist.linux-x86_64/egg/syfertext/pipeline\n",
            "copying build/lib/syfertext/pipeline/__init__.py -> build/bdist.linux-x86_64/egg/syfertext/pipeline\n",
            "creating build/bdist.linux-x86_64/egg/syfertext/pipeline/pointers\n",
            "copying build/lib/syfertext/pipeline/pointers/subpipeline_pointer.py -> build/bdist.linux-x86_64/egg/syfertext/pipeline/pointers\n",
            "copying build/lib/syfertext/pipeline/pointers/__init__.py -> build/bdist.linux-x86_64/egg/syfertext/pipeline/pointers\n",
            "copying build/lib/syfertext/pipeline/subpipeline.py -> build/bdist.linux-x86_64/egg/syfertext/pipeline\n",
            "copying build/lib/syfertext/char_classes.py -> build/bdist.linux-x86_64/egg/syfertext\n",
            "copying build/lib/syfertext/tokenizer.py -> build/bdist.linux-x86_64/egg/syfertext\n",
            "copying build/lib/syfertext/__init__.py -> build/bdist.linux-x86_64/egg/syfertext\n",
            "copying build/lib/syfertext/token.py -> build/bdist.linux-x86_64/egg/syfertext\n",
            "copying build/lib/syfertext/doc.py -> build/bdist.linux-x86_64/egg/syfertext\n",
            "copying build/lib/syfertext/underscore.py -> build/bdist.linux-x86_64/egg/syfertext\n",
            "creating build/bdist.linux-x86_64/egg/syfertext/pointers\n",
            "copying build/lib/syfertext/pointers/doc_pointer.py -> build/bdist.linux-x86_64/egg/syfertext/pointers\n",
            "copying build/lib/syfertext/pointers/span_pointer.py -> build/bdist.linux-x86_64/egg/syfertext/pointers\n",
            "copying build/lib/syfertext/pointers/__init__.py -> build/bdist.linux-x86_64/egg/syfertext/pointers\n",
            "copying build/lib/syfertext/utils.py -> build/bdist.linux-x86_64/egg/syfertext\n",
            "copying build/lib/syfertext/lex_attrs.py -> build/bdist.linux-x86_64/egg/syfertext\n",
            "copying build/lib/syfertext/stop_words.py -> build/bdist.linux-x86_64/egg/syfertext\n",
            "byte-compiling build/bdist.linux-x86_64/egg/syfertext/vectors.py to vectors.cpython-36.pyc\n",
            "byte-compiling build/bdist.linux-x86_64/egg/syfertext/punctuations.py to punctuations.cpython-36.pyc\n",
            "byte-compiling build/bdist.linux-x86_64/egg/syfertext/string_store.py to string_store.cpython-36.pyc\n",
            "byte-compiling build/bdist.linux-x86_64/egg/syfertext/span.py to span.cpython-36.pyc\n",
            "byte-compiling build/bdist.linux-x86_64/egg/syfertext/language.py to language.cpython-36.pyc\n",
            "byte-compiling build/bdist.linux-x86_64/egg/syfertext/token_exception.py to token_exception.cpython-36.pyc\n",
            "byte-compiling build/bdist.linux-x86_64/egg/syfertext/lexeme.py to lexeme.cpython-36.pyc\n",
            "byte-compiling build/bdist.linux-x86_64/egg/syfertext/attrs.py to attrs.cpython-36.pyc\n",
            "byte-compiling build/bdist.linux-x86_64/egg/syfertext/vocab.py to vocab.cpython-36.pyc\n",
            "byte-compiling build/bdist.linux-x86_64/egg/syfertext/pipeline/simple_tagger.py to simple_tagger.cpython-36.pyc\n",
            "byte-compiling build/bdist.linux-x86_64/egg/syfertext/pipeline/__init__.py to __init__.cpython-36.pyc\n",
            "byte-compiling build/bdist.linux-x86_64/egg/syfertext/pipeline/pointers/subpipeline_pointer.py to subpipeline_pointer.cpython-36.pyc\n",
            "byte-compiling build/bdist.linux-x86_64/egg/syfertext/pipeline/pointers/__init__.py to __init__.cpython-36.pyc\n",
            "byte-compiling build/bdist.linux-x86_64/egg/syfertext/pipeline/subpipeline.py to subpipeline.cpython-36.pyc\n",
            "byte-compiling build/bdist.linux-x86_64/egg/syfertext/char_classes.py to char_classes.cpython-36.pyc\n",
            "byte-compiling build/bdist.linux-x86_64/egg/syfertext/tokenizer.py to tokenizer.cpython-36.pyc\n",
            "byte-compiling build/bdist.linux-x86_64/egg/syfertext/__init__.py to __init__.cpython-36.pyc\n",
            "byte-compiling build/bdist.linux-x86_64/egg/syfertext/token.py to token.cpython-36.pyc\n",
            "byte-compiling build/bdist.linux-x86_64/egg/syfertext/doc.py to doc.cpython-36.pyc\n",
            "byte-compiling build/bdist.linux-x86_64/egg/syfertext/underscore.py to underscore.cpython-36.pyc\n",
            "byte-compiling build/bdist.linux-x86_64/egg/syfertext/pointers/doc_pointer.py to doc_pointer.cpython-36.pyc\n",
            "byte-compiling build/bdist.linux-x86_64/egg/syfertext/pointers/span_pointer.py to span_pointer.cpython-36.pyc\n",
            "byte-compiling build/bdist.linux-x86_64/egg/syfertext/pointers/__init__.py to __init__.cpython-36.pyc\n",
            "byte-compiling build/bdist.linux-x86_64/egg/syfertext/utils.py to utils.cpython-36.pyc\n",
            "byte-compiling build/bdist.linux-x86_64/egg/syfertext/lex_attrs.py to lex_attrs.cpython-36.pyc\n",
            "byte-compiling build/bdist.linux-x86_64/egg/syfertext/stop_words.py to stop_words.cpython-36.pyc\n",
            "creating build/bdist.linux-x86_64/egg/EGG-INFO\n",
            "copying syfertext.egg-info/PKG-INFO -> build/bdist.linux-x86_64/egg/EGG-INFO\n",
            "copying syfertext.egg-info/SOURCES.txt -> build/bdist.linux-x86_64/egg/EGG-INFO\n",
            "copying syfertext.egg-info/dependency_links.txt -> build/bdist.linux-x86_64/egg/EGG-INFO\n",
            "copying syfertext.egg-info/requires.txt -> build/bdist.linux-x86_64/egg/EGG-INFO\n",
            "copying syfertext.egg-info/top_level.txt -> build/bdist.linux-x86_64/egg/EGG-INFO\n",
            "zip_safe flag not set; analyzing archive contents...\n",
            "creating dist\n",
            "creating 'dist/syfertext-0.1.0.dev2-py3.6.egg' and adding 'build/bdist.linux-x86_64/egg' to it\n",
            "removing 'build/bdist.linux-x86_64/egg' (and everything under it)\n",
            "Processing syfertext-0.1.0.dev2-py3.6.egg\n",
            "Copying syfertext-0.1.0.dev2-py3.6.egg to /usr/local/lib/python3.6/dist-packages\n",
            "Adding syfertext 0.1.0.dev2 to easy-install.pth file\n",
            "\n",
            "Installed /usr/local/lib/python3.6/dist-packages/syfertext-0.1.0.dev2-py3.6.egg\n",
            "Processing dependencies for syfertext==0.1.0.dev2\n",
            "Searching for requests==2.22.0\n",
            "Reading https://pypi.org/simple/requests/\n",
            "Downloading https://files.pythonhosted.org/packages/51/bd/23c926cd341ea6b7dd0b2a00aba99ae0f828be89d72b2190f27c11d4b7fb/requests-2.22.0-py2.py3-none-any.whl#sha256=9cf5292fcd0f598c671cfc1e0d7d1a7f13bb8085e9a590f48c010551dc6c4b31\n",
            "Best match: requests 2.22.0\n",
            "Processing requests-2.22.0-py2.py3-none-any.whl\n",
            "Installing requests-2.22.0-py2.py3-none-any.whl to /usr/local/lib/python3.6/dist-packages\n",
            "Adding requests 2.22.0 to easy-install.pth file\n",
            "\n",
            "Installed /usr/local/lib/python3.6/dist-packages/requests-2.22.0-py3.6.egg\n",
            "Searching for syft\n",
            "Doing git clone from git://github.com/OpenMined/PySyft to /tmp/easy_install-7o8itmeh/PySyft@master\n",
            "Checking out master\n",
            "Best match: syft [unknown version]\n",
            "Processing PySyft@master\n",
            "Writing /tmp/easy_install-7o8itmeh/PySyft@master/setup.cfg\n",
            "Running setup.py -q bdist_egg --dist-dir /tmp/easy_install-7o8itmeh/PySyft@master/egg-dist-tmp-_ywsbaht\n",
            "zip_safe flag not set; analyzing archive contents...\n",
            "examples.tutorials.advanced.websockets_mnist.__pycache__.start_websocket_servers.cpython-36: module references __file__\n",
            "examples.tutorials.advanced.websockets_mnist_parallel.__pycache__.start_websocket_servers.cpython-36: module references __file__\n",
            "examples.tutorials.websocket.pen_testing.steal_data_over_sockets.__pycache__.start_websocket_servers.cpython-36: module references __file__\n",
            "syft.execution.__pycache__.plan.cpython-36: module MAY be using inspect.trace\n",
            "syft.execution.__pycache__.protocol.cpython-36: module MAY be using inspect.trace\n",
            "test.__pycache__.run_websocket_server.cpython-36: module references __file__\n",
            "test.scripts.__pycache__.run_websocket_server.cpython-36: module references __file__\n",
            "creating /usr/local/lib/python3.6/dist-packages/syft-0.2.5-py3.6.egg\n",
            "Extracting syft-0.2.5-py3.6.egg to /usr/local/lib/python3.6/dist-packages\n",
            "Adding syft 0.2.5 to easy-install.pth file\n",
            "\n",
            "Installed /usr/local/lib/python3.6/dist-packages/syft-0.2.5-py3.6.egg\n",
            "Searching for mmh3==2.5.1\n",
            "Reading https://pypi.org/simple/mmh3/\n",
            "Downloading https://files.pythonhosted.org/packages/fa/7e/3ddcab0a9fcea034212c02eb411433db9330e34d626360b97333368b4052/mmh3-2.5.1.tar.gz#sha256=185209a217c52afe43e079e5b232d0ef0f3a262601eaaf4371326ab6dcbec508\n",
            "Best match: mmh3 2.5.1\n",
            "Processing mmh3-2.5.1.tar.gz\n",
            "Writing /tmp/easy_install-a70pyjg4/mmh3-2.5.1/setup.cfg\n",
            "Running mmh3-2.5.1/setup.py -q bdist_egg --dist-dir /tmp/easy_install-a70pyjg4/mmh3-2.5.1/egg-dist-tmp-zc84g0ua\n",
            "zip_safe flag not set; analyzing archive contents...\n",
            "__pycache__.mmh3.cpython-36: module references __file__\n",
            "creating /usr/local/lib/python3.6/dist-packages/mmh3-2.5.1-py3.6-linux-x86_64.egg\n",
            "Extracting mmh3-2.5.1-py3.6-linux-x86_64.egg to /usr/local/lib/python3.6/dist-packages\n",
            "Adding mmh3 2.5.1 to easy-install.pth file\n",
            "\n",
            "Installed /usr/local/lib/python3.6/dist-packages/mmh3-2.5.1-py3.6-linux-x86_64.egg\n",
            "Searching for tqdm==4.36.1\n",
            "Reading https://pypi.org/simple/tqdm/\n",
            "Downloading https://files.pythonhosted.org/packages/e1/c1/bc1dba38b48f4ae3c4428aea669c5e27bd5a7642a74c8348451e0bd8ff86/tqdm-4.36.1-py2.py3-none-any.whl#sha256=dd3fcca8488bb1d416aa7469d2f277902f26260c45aa86b667b074cd44b3b115\n",
            "Best match: tqdm 4.36.1\n",
            "Processing tqdm-4.36.1-py2.py3-none-any.whl\n",
            "Installing tqdm-4.36.1-py2.py3-none-any.whl to /usr/local/lib/python3.6/dist-packages\n",
            "Adding tqdm 4.36.1 to easy-install.pth file\n",
            "Installing tqdm script to /usr/local/bin\n",
            "\n",
            "Installed /usr/local/lib/python3.6/dist-packages/tqdm-4.36.1-py3.6.egg\n",
            "Searching for idna<2.9,>=2.5\n",
            "Reading https://pypi.org/simple/idna/\n",
            "Downloading https://files.pythonhosted.org/packages/14/2c/cd551d81dbe15200be1cf41cd03869a46fe7226e7450af7a6545bfc474c9/idna-2.8-py2.py3-none-any.whl#sha256=ea8b7f6188e6fa117537c3df7da9fc686d485087abf6ac197f9c46432f7e4a3c\n",
            "Best match: idna 2.8\n",
            "Processing idna-2.8-py2.py3-none-any.whl\n",
            "Installing idna-2.8-py2.py3-none-any.whl to /usr/local/lib/python3.6/dist-packages\n",
            "Adding idna 2.8 to easy-install.pth file\n",
            "\n",
            "Installed /usr/local/lib/python3.6/dist-packages/idna-2.8-py3.6.egg\n",
            "Searching for websockets~=8.1.0\n",
            "Reading https://pypi.org/simple/websockets/\n",
            "Downloading https://files.pythonhosted.org/packages/cf/cb/c35513c4a0ff24ca13e33f7336ba8c1a864449fad9fea8e37abdad11c38d/websockets-8.1-cp36-cp36m-manylinux1_x86_64.whl#sha256=4f9f7d28ce1d8f1295717c2c25b732c2bc0645db3215cf757551c392177d7cb8\n",
            "Best match: websockets 8.1\n",
            "Processing websockets-8.1-cp36-cp36m-manylinux1_x86_64.whl\n",
            "Installing websockets-8.1-cp36-cp36m-manylinux1_x86_64.whl to /usr/local/lib/python3.6/dist-packages\n",
            "Adding websockets 8.1 to easy-install.pth file\n",
            "\n",
            "Installed /usr/local/lib/python3.6/dist-packages/websockets-8.1-py3.6-linux-x86_64.egg\n",
            "Searching for websocket_client~=0.57.0\n",
            "Reading https://pypi.org/simple/websocket_client/\n",
            "Downloading https://files.pythonhosted.org/packages/4c/5f/f61b420143ed1c8dc69f9eaec5ff1ac36109d52c80de49d66e0c36c3dfdf/websocket_client-0.57.0-py2.py3-none-any.whl#sha256=0fc45c961324d79c781bab301359d5a1b00b13ad1b10415a4780229ef71a5549\n",
            "Best match: websocket-client 0.57.0\n",
            "Processing websocket_client-0.57.0-py2.py3-none-any.whl\n",
            "Installing websocket_client-0.57.0-py2.py3-none-any.whl to /usr/local/lib/python3.6/dist-packages\n",
            "Adding websocket-client 0.57.0 to easy-install.pth file\n",
            "Installing wsdump.py script to /usr/local/bin\n",
            "\n",
            "Installed /usr/local/lib/python3.6/dist-packages/websocket_client-0.57.0-py3.6.egg\n",
            "Searching for torch~=1.4.0\n",
            "Reading https://pypi.org/simple/torch/\n",
            "Downloading https://files.pythonhosted.org/packages/24/19/4804aea17cd136f1705a5e98a00618cb8f6ccc375ad8bfa437408e09d058/torch-1.4.0-cp36-cp36m-manylinux1_x86_64.whl#sha256=8856f334aa9ecb742c1504bd2563d0ffb8dceb97149c8d72a04afa357f667dbc\n",
            "Best match: torch 1.4.0\n",
            "Processing torch-1.4.0-cp36-cp36m-manylinux1_x86_64.whl\n",
            "Installing torch-1.4.0-cp36-cp36m-manylinux1_x86_64.whl to /usr/local/lib/python3.6/dist-packages\n",
            "Adding torch 1.4.0 to easy-install.pth file\n",
            "Installing convert-caffe2-to-onnx script to /usr/local/bin\n",
            "Installing convert-onnx-to-caffe2 script to /usr/local/bin\n",
            "\n",
            "Installed /usr/local/lib/python3.6/dist-packages/torch-1.4.0-py3.6-linux-x86_64.egg\n",
            "Searching for torchvision~=0.5.0\n",
            "Reading https://pypi.org/simple/torchvision/\n",
            "Downloading https://files.pythonhosted.org/packages/7e/90/6141bf41f5655c78e24f40f710fdd4f8a8aff6c8b7c6f0328240f649bdbe/torchvision-0.5.0-cp36-cp36m-manylinux1_x86_64.whl#sha256=fea3d431bf639c0719afff5972eb568ebe143eba447c1c8bb491c7dfb0025ed6\n",
            "Best match: torchvision 0.5.0\n",
            "Processing torchvision-0.5.0-cp36-cp36m-manylinux1_x86_64.whl\n",
            "Installing torchvision-0.5.0-cp36-cp36m-manylinux1_x86_64.whl to /usr/local/lib/python3.6/dist-packages\n",
            "Adding torchvision 0.5.0 to easy-install.pth file\n",
            "\n",
            "Installed /usr/local/lib/python3.6/dist-packages/torchvision-0.5.0-py3.6-linux-x86_64.egg\n",
            "Searching for syft-proto~=0.4.3\n",
            "Reading https://pypi.org/simple/syft-proto/\n",
            "Downloading https://files.pythonhosted.org/packages/ac/e4/d979874b7aa29eea0731138b0842fc11d24720ade0159dcdf3a7ab52a185/syft_proto-0.4.3-py3-none-any.whl#sha256=dd9462823e590567c0d7a64edcc40753cd7f05530414f9db6623823a29c80383\n",
            "Best match: syft-proto 0.4.3\n",
            "Processing syft_proto-0.4.3-py3-none-any.whl\n",
            "Installing syft_proto-0.4.3-py3-none-any.whl to /usr/local/lib/python3.6/dist-packages\n",
            "Adding syft-proto 0.4.3 to easy-install.pth file\n",
            "\n",
            "Installed /usr/local/lib/python3.6/dist-packages/syft_proto-0.4.3-py3.6.egg\n",
            "Searching for Pillow~=6.2.2\n",
            "Reading https://pypi.org/simple/Pillow/\n",
            "Downloading https://files.pythonhosted.org/packages/8a/fd/bbbc569f98f47813c50a116b539d97b3b17a86ac7a309f83b2022d26caf2/Pillow-6.2.2-cp36-cp36m-manylinux1_x86_64.whl#sha256=92b83b380f9181cacc994f4c983d95a9c8b00b50bf786c66d235716b526a3332\n",
            "Best match: Pillow 6.2.2\n",
            "Processing Pillow-6.2.2-cp36-cp36m-manylinux1_x86_64.whl\n",
            "Installing Pillow-6.2.2-cp36-cp36m-manylinux1_x86_64.whl to /usr/local/lib/python3.6/dist-packages\n",
            "Adding Pillow 6.2.2 to easy-install.pth file\n",
            "\n",
            "Installed /usr/local/lib/python3.6/dist-packages/Pillow-6.2.2-py3.6-linux-x86_64.egg\n",
            "Searching for phe~=1.4.0\n",
            "Reading https://pypi.org/simple/phe/\n",
            "Downloading https://files.pythonhosted.org/packages/32/0e/568e97b014eb14e794a1258a341361e9da351dc6240c63b89e1541e3341c/phe-1.4.0.tar.gz#sha256=b5785c8e824eb7b02ebbe9b1e2080982d48a10db7b827a6771e04e22da99f473\n",
            "Best match: phe 1.4.0\n",
            "Processing phe-1.4.0.tar.gz\n",
            "Writing /tmp/easy_install-t4hki4fn/phe-1.4.0/setup.cfg\n",
            "Running phe-1.4.0/setup.py -q bdist_egg --dist-dir /tmp/easy_install-t4hki4fn/phe-1.4.0/egg-dist-tmp-u4bnmsos\n",
            "zip_safe flag not set; analyzing archive contents...\n",
            "Moving phe-1.4.0-py3.6.egg to /usr/local/lib/python3.6/dist-packages\n",
            "Adding phe 1.4.0 to easy-install.pth file\n",
            "Installing pheutil script to /usr/local/bin\n",
            "\n",
            "Installed /usr/local/lib/python3.6/dist-packages/phe-1.4.0-py3.6.egg\n",
            "Searching for lz4~=3.0.2\n",
            "Reading https://pypi.org/simple/lz4/\n",
            "Downloading https://files.pythonhosted.org/packages/e7/81/011fef8766fb0ef681037ad6fee96168ee03a864464986cbaa23e5357704/lz4-3.0.2-cp36-cp36m-manylinux2010_x86_64.whl#sha256=fc26c3902df2a8bfc0c8451bf08e265aa586fdf8f64add1d5286a12cd91e4e4a\n",
            "Best match: lz4 3.0.2\n",
            "Processing lz4-3.0.2-cp36-cp36m-manylinux2010_x86_64.whl\n",
            "Installing lz4-3.0.2-cp36-cp36m-manylinux2010_x86_64.whl to /usr/local/lib/python3.6/dist-packages\n",
            "Adding lz4 3.0.2 to easy-install.pth file\n",
            "\n",
            "Installed /usr/local/lib/python3.6/dist-packages/lz4-3.0.2-py3.6-linux-x86_64.egg\n",
            "Searching for flask_socketio~=4.2.1\n",
            "Reading https://pypi.org/simple/flask_socketio/\n",
            "Downloading https://files.pythonhosted.org/packages/66/44/edc4715af85671b943c18ac8345d0207972284a0cd630126ff5251faa08b/Flask_SocketIO-4.2.1-py2.py3-none-any.whl#sha256=7ff5b2f5edde23e875a8b0abf868584e5706e11741557449bc5147df2cd78268\n",
            "Best match: Flask-SocketIO 4.2.1\n",
            "Processing Flask_SocketIO-4.2.1-py2.py3-none-any.whl\n",
            "Installing Flask_SocketIO-4.2.1-py2.py3-none-any.whl to /usr/local/lib/python3.6/dist-packages\n",
            "Adding Flask-SocketIO 4.2.1 to easy-install.pth file\n",
            "\n",
            "Installed /usr/local/lib/python3.6/dist-packages/Flask_SocketIO-4.2.1-py3.6.egg\n",
            "Searching for protobuf>=3.11.1\n",
            "Reading https://pypi.org/simple/protobuf/\n",
            "Downloading https://files.pythonhosted.org/packages/86/43/793024ceeeeafb63b6cfb3bac9e897dfc74ec11b8dde203a458a90bb33b3/protobuf-3.12.0rc1-cp36-cp36m-manylinux1_x86_64.whl#sha256=0b845c1fb8f36be203cd2ca9e405a22ee2cec2ed87d180b067d7c063f5701633\n",
            "Best match: protobuf 3.12.0rc1\n",
            "Processing protobuf-3.12.0rc1-cp36-cp36m-manylinux1_x86_64.whl\n",
            "Installing protobuf-3.12.0rc1-cp36-cp36m-manylinux1_x86_64.whl to /usr/local/lib/python3.6/dist-packages\n",
            "Adding protobuf 3.12.0rc1 to easy-install.pth file\n",
            "\n",
            "Installed /usr/local/lib/python3.6/dist-packages/protobuf-3.12.0rc1-py3.6-linux-x86_64.egg\n",
            "Searching for python-socketio>=4.3.0\n",
            "Reading https://pypi.org/simple/python-socketio/\n",
            "Downloading https://files.pythonhosted.org/packages/10/cb/631c0b713daea3938e66d4c0923e88f3c0b57b026f860ea76e0337bc9c7a/python_socketio-4.5.1-py2.py3-none-any.whl#sha256=81280cbbb7018d8ecdd006bf6025979733d347c0f2612282c1e21f6ed7d3b55b\n",
            "Best match: python-socketio 4.5.1\n",
            "Processing python_socketio-4.5.1-py2.py3-none-any.whl\n",
            "Installing python_socketio-4.5.1-py2.py3-none-any.whl to /usr/local/lib/python3.6/dist-packages\n",
            "Adding python-socketio 4.5.1 to easy-install.pth file\n",
            "\n",
            "Installed /usr/local/lib/python3.6/dist-packages/python_socketio-4.5.1-py3.6.egg\n",
            "Searching for python-engineio>=3.9.0\n",
            "Reading https://pypi.org/simple/python-engineio/\n",
            "Downloading https://files.pythonhosted.org/packages/6c/aa/c975982df73c4bcd087732db14b05306e8a3f3f24596cc18647746539290/python_engineio-3.12.1-py2.py3-none-any.whl#sha256=222926adb4bc6e03a8fc8e0ef2a3309f030c1c3f8e0fcc94c9ba214574565f02\n",
            "Best match: python-engineio 3.12.1\n",
            "Processing python_engineio-3.12.1-py2.py3-none-any.whl\n",
            "Installing python_engineio-3.12.1-py2.py3-none-any.whl to /usr/local/lib/python3.6/dist-packages\n",
            "Adding python-engineio 3.12.1 to easy-install.pth file\n",
            "\n",
            "Installed /usr/local/lib/python3.6/dist-packages/python_engineio-3.12.1-py3.6.egg\n",
            "Searching for urllib3==1.24.3\n",
            "Best match: urllib3 1.24.3\n",
            "Adding urllib3 1.24.3 to easy-install.pth file\n",
            "\n",
            "Using /usr/local/lib/python3.6/dist-packages\n",
            "Searching for chardet==3.0.4\n",
            "Best match: chardet 3.0.4\n",
            "Adding chardet 3.0.4 to easy-install.pth file\n",
            "Installing chardetect script to /usr/local/bin\n",
            "\n",
            "Using /usr/local/lib/python3.6/dist-packages\n",
            "Searching for certifi==2020.4.5.1\n",
            "Best match: certifi 2020.4.5.1\n",
            "Adding certifi 2020.4.5.1 to easy-install.pth file\n",
            "\n",
            "Using /usr/local/lib/python3.6/dist-packages\n",
            "Searching for tornado==4.5.3\n",
            "Best match: tornado 4.5.3\n",
            "Adding tornado 4.5.3 to easy-install.pth file\n",
            "\n",
            "Using /usr/local/lib/python3.6/dist-packages\n",
            "Searching for tblib==1.6.0\n",
            "Best match: tblib 1.6.0\n",
            "Adding tblib 1.6.0 to easy-install.pth file\n",
            "\n",
            "Using /usr/local/lib/python3.6/dist-packages\n",
            "Searching for scipy==1.4.1\n",
            "Best match: scipy 1.4.1\n",
            "Adding scipy 1.4.1 to easy-install.pth file\n",
            "\n",
            "Using /usr/local/lib/python3.6/dist-packages\n",
            "Searching for numpy==1.18.2\n",
            "Best match: numpy 1.18.2\n",
            "Adding numpy 1.18.2 to easy-install.pth file\n",
            "Installing f2py script to /usr/local/bin\n",
            "Installing f2py3 script to /usr/local/bin\n",
            "Installing f2py3.6 script to /usr/local/bin\n",
            "\n",
            "Using /usr/local/lib/python3.6/dist-packages\n",
            "Searching for msgpack==1.0.0\n",
            "Best match: msgpack 1.0.0\n",
            "Adding msgpack 1.0.0 to easy-install.pth file\n",
            "\n",
            "Using /usr/local/lib/python3.6/dist-packages\n",
            "Searching for Flask==1.1.2\n",
            "Best match: Flask 1.1.2\n",
            "Adding Flask 1.1.2 to easy-install.pth file\n",
            "Installing flask script to /usr/local/bin\n",
            "\n",
            "Using /usr/local/lib/python3.6/dist-packages\n",
            "Searching for six==1.12.0\n",
            "Best match: six 1.12.0\n",
            "Adding six 1.12.0 to easy-install.pth file\n",
            "\n",
            "Using /usr/local/lib/python3.6/dist-packages\n",
            "Searching for Jinja2==2.11.2\n",
            "Best match: Jinja2 2.11.2\n",
            "Adding Jinja2 2.11.2 to easy-install.pth file\n",
            "\n",
            "Using /usr/local/lib/python3.6/dist-packages\n",
            "Searching for Werkzeug==1.0.1\n",
            "Best match: Werkzeug 1.0.1\n",
            "Adding Werkzeug 1.0.1 to easy-install.pth file\n",
            "\n",
            "Using /usr/local/lib/python3.6/dist-packages\n",
            "Searching for itsdangerous==1.1.0\n",
            "Best match: itsdangerous 1.1.0\n",
            "Adding itsdangerous 1.1.0 to easy-install.pth file\n",
            "\n",
            "Using /usr/local/lib/python3.6/dist-packages\n",
            "Searching for click==7.1.2\n",
            "Best match: click 7.1.2\n",
            "Adding click 7.1.2 to easy-install.pth file\n",
            "\n",
            "Using /usr/local/lib/python3.6/dist-packages\n",
            "Searching for setuptools==46.1.3\n",
            "Best match: setuptools 46.1.3\n",
            "Adding setuptools 46.1.3 to easy-install.pth file\n",
            "Installing easy_install script to /usr/local/bin\n",
            "Installing easy_install-3.8 script to /usr/local/bin\n",
            "\n",
            "Using /usr/local/lib/python3.6/dist-packages\n",
            "Searching for MarkupSafe==1.1.1\n",
            "Best match: MarkupSafe 1.1.1\n",
            "Adding MarkupSafe 1.1.1 to easy-install.pth file\n",
            "\n",
            "Using /usr/local/lib/python3.6/dist-packages\n",
            "Finished processing dependencies for syfertext==0.1.0.dev2\n"
          ],
          "name": "stdout"
        }
      ]
    },
    {
      "cell_type": "code",
      "metadata": {
        "id": "2fOcWq2Mkhq_",
        "colab_type": "code",
        "colab": {}
      },
      "source": [
        "! pip install pytest-black"
      ],
      "execution_count": 0,
      "outputs": []
    },
    {
      "cell_type": "code",
      "metadata": {
        "id": "SkboSPgRk9Gm",
        "colab_type": "code",
        "outputId": "82fbdd66-e005-4bb7-e250-985745dc093c",
        "colab": {
          "base_uri": "https://localhost:8080/",
          "height": 136
        }
      },
      "source": [
        "!python -m  pytest --rootdir=\"SyferText\" --black --verbose "
      ],
      "execution_count": 0,
      "outputs": [
        {
          "output_type": "stream",
          "text": [
            "\u001b[1m============================= test session starts ==============================\u001b[0m\n",
            "platform linux -- Python 3.6.9, pytest-3.6.4, py-1.8.1, pluggy-0.7.1 -- /usr/bin/python3\n",
            "cachedir: SyferText/.pytest_cache\n",
            "rootdir: /content/SyferText, inifile:\n",
            "plugins: typeguard-2.7.1, black-0.3.8\n",
            "collecting 40 items                                                            \u001b[0m"
          ],
          "name": "stdout"
        }
      ]
    },
    {
      "cell_type": "code",
      "metadata": {
        "id": "1CWiMxmO8EFU",
        "colab_type": "code",
        "colab": {
          "base_uri": "https://localhost:8080/",
          "height": 779
        },
        "outputId": "31302bbf-29fa-417c-f120-4fa787dfd099"
      },
      "source": [
        "!sudo apt-get install python3.7"
      ],
      "execution_count": 7,
      "outputs": [
        {
          "output_type": "stream",
          "text": [
            "Reading package lists... Done\n",
            "Building dependency tree       \n",
            "Reading state information... Done\n",
            "The following additional packages will be installed:\n",
            "  libpython3.7-minimal libpython3.7-stdlib python3.7-minimal\n",
            "Suggested packages:\n",
            "  python3.7-venv python3.7-doc binfmt-support\n",
            "The following NEW packages will be installed:\n",
            "  libpython3.7-minimal libpython3.7-stdlib python3.7 python3.7-minimal\n",
            "0 upgraded, 4 newly installed, 0 to remove and 35 not upgraded.\n",
            "Need to get 4,282 kB of archives.\n",
            "After this operation, 22.5 MB of additional disk space will be used.\n",
            "Get:1 http://archive.ubuntu.com/ubuntu bionic-updates/universe amd64 libpython3.7-minimal amd64 3.7.5-2~18.04 [546 kB]\n",
            "Get:2 http://archive.ubuntu.com/ubuntu bionic-updates/universe amd64 python3.7-minimal amd64 3.7.5-2~18.04 [1,691 kB]\n",
            "Get:3 http://archive.ubuntu.com/ubuntu bionic-updates/universe amd64 libpython3.7-stdlib amd64 3.7.5-2~18.04 [1,745 kB]\n",
            "Get:4 http://archive.ubuntu.com/ubuntu bionic-updates/universe amd64 python3.7 amd64 3.7.5-2~18.04 [301 kB]\n",
            "Fetched 4,282 kB in 3s (1,331 kB/s)\n",
            "debconf: unable to initialize frontend: Dialog\n",
            "debconf: (No usable dialog-like program is installed, so the dialog based frontend cannot be used. at /usr/share/perl5/Debconf/FrontEnd/Dialog.pm line 76, <> line 4.)\n",
            "debconf: falling back to frontend: Readline\n",
            "debconf: unable to initialize frontend: Readline\n",
            "debconf: (This frontend requires a controlling tty.)\n",
            "debconf: falling back to frontend: Teletype\n",
            "dpkg-preconfigure: unable to re-open stdin: \n",
            "Selecting previously unselected package libpython3.7-minimal:amd64.\n",
            "(Reading database ... 144469 files and directories currently installed.)\n",
            "Preparing to unpack .../libpython3.7-minimal_3.7.5-2~18.04_amd64.deb ...\n",
            "Unpacking libpython3.7-minimal:amd64 (3.7.5-2~18.04) ...\n",
            "Selecting previously unselected package python3.7-minimal.\n",
            "Preparing to unpack .../python3.7-minimal_3.7.5-2~18.04_amd64.deb ...\n",
            "Unpacking python3.7-minimal (3.7.5-2~18.04) ...\n",
            "Selecting previously unselected package libpython3.7-stdlib:amd64.\n",
            "Preparing to unpack .../libpython3.7-stdlib_3.7.5-2~18.04_amd64.deb ...\n",
            "Unpacking libpython3.7-stdlib:amd64 (3.7.5-2~18.04) ...\n",
            "Selecting previously unselected package python3.7.\n",
            "Preparing to unpack .../python3.7_3.7.5-2~18.04_amd64.deb ...\n",
            "Unpacking python3.7 (3.7.5-2~18.04) ...\n",
            "Setting up libpython3.7-minimal:amd64 (3.7.5-2~18.04) ...\n",
            "Setting up python3.7-minimal (3.7.5-2~18.04) ...\n",
            "Setting up libpython3.7-stdlib:amd64 (3.7.5-2~18.04) ...\n",
            "Setting up python3.7 (3.7.5-2~18.04) ...\n",
            "Processing triggers for mime-support (3.60ubuntu1) ...\n",
            "Processing triggers for man-db (2.8.3-2ubuntu0.1) ...\n"
          ],
          "name": "stdout"
        }
      ]
    },
    {
      "cell_type": "code",
      "metadata": {
        "id": "yD1Tnir09bsn",
        "colab_type": "code",
        "colab": {
          "base_uri": "https://localhost:8080/",
          "height": 190
        },
        "outputId": "1e638bab-face-48e2-b0a6-8b86985de84a"
      },
      "source": [
        "!python"
      ],
      "execution_count": 1,
      "outputs": [
        {
          "output_type": "stream",
          "text": [
            "Python 3.6.9 (default, Apr 18 2020, 01:56:04) \n",
            "[GCC 8.4.0] on linux\n",
            "Type \"help\", \"copyright\", \"credits\" or \"license\" for more information.\n",
            ">>> \n",
            "KeyboardInterrupt\n",
            ">>> \n",
            "KeyboardInterrupt\n",
            ">>> \n",
            "KeyboardInterrupt\n",
            ">>> ^C\n"
          ],
          "name": "stdout"
        }
      ]
    },
    {
      "cell_type": "code",
      "metadata": {
        "id": "rpDf_CI29EHU",
        "colab_type": "code",
        "outputId": "9aef84da-8c4d-4882-c9f2-e45e555fa20c",
        "colab": {
          "base_uri": "https://localhost:8080/",
          "height": 86
        }
      },
      "source": [
        "\n",
        "import syft as sy\n",
        "import torch\n",
        "\n",
        "import syfertext\n",
        "import numpy as np\n",
        "\n",
        "\n",
        "hook = sy.TorchHook(torch)\n",
        "me = hook.local_worker\n",
        "\n",
        "nlp = syfertext.load(\"en_core_web_lg\", owner=me)"
      ],
      "execution_count": 1,
      "outputs": [
        {
          "output_type": "stream",
          "text": [
            "WARNING:root:Torch was already hooked... skipping hooking process\n",
            "WARNING:root:Torch was already hooked... skipping hooking process\n",
            "WARNING:root:Torch was already hooked... skipping hooking process\n",
            "WARNING:root:Torch was already hooked... skipping hooking process\n"
          ],
          "name": "stderr"
        }
      ]
    },
    {
      "cell_type": "code",
      "metadata": {
        "id": "aQ90bmu59zex",
        "colab_type": "code",
        "colab": {}
      },
      "source": [
        "vocab = nlp.vocab"
      ],
      "execution_count": 0,
      "outputs": []
    },
    {
      "cell_type": "code",
      "metadata": {
        "id": "XZZBoa8Kt6Wu",
        "colab_type": "code",
        "colab": {}
      },
      "source": [
        "\n",
        "text = \"Green Apple \"\n",
        "doc = nlp(text)\n",
        "tok1 = doc[0]\n",
        "tok2 = doc[1]\n",
        "\n",
        "#assert tok1.text_with_ws + tok2.text_with_ws == text"
      ],
      "execution_count": 0,
      "outputs": []
    },
    {
      "cell_type": "code",
      "metadata": {
        "id": "u_zTfwkOt6TR",
        "colab_type": "code",
        "outputId": "fc2ec441-19f9-432f-f39a-c96d25debebe",
        "colab": {
          "base_uri": "https://localhost:8080/",
          "height": 34
        }
      },
      "source": [
        "len(tok1.text_with_ws)"
      ],
      "execution_count": 4,
      "outputs": [
        {
          "output_type": "execute_result",
          "data": {
            "text/plain": [
              "6"
            ]
          },
          "metadata": {
            "tags": []
          },
          "execution_count": 4
        }
      ]
    },
    {
      "cell_type": "code",
      "metadata": {
        "id": "n513Aj6ruMHw",
        "colab_type": "code",
        "outputId": "06a9e453-9d20-4c49-dc06-a9dccf2ed1ac",
        "colab": {
          "base_uri": "https://localhost:8080/",
          "height": 34
        }
      },
      "source": [
        ".+tok1.space_after"
      ],
      "execution_count": 0,
      "outputs": [
        {
          "output_type": "execute_result",
          "data": {
            "text/plain": [
              "True"
            ]
          },
          "metadata": {
            "tags": []
          },
          "execution_count": 10
        }
      ]
    },
    {
      "cell_type": "code",
      "metadata": {
        "id": "6kdNH-Qb95kM",
        "colab_type": "code",
        "colab": {}
      },
      "source": [
        "lexeme = vocab[\"sg'\"]"
      ],
      "execution_count": 0,
      "outputs": []
    },
    {
      "cell_type": "code",
      "metadata": {
        "id": "PWQ9EknD-Nyo",
        "colab_type": "code",
        "outputId": "0e543a84-79f2-4837-8996-7d11292350fa",
        "colab": {
          "base_uri": "https://localhost:8080/",
          "height": 34
        }
      },
      "source": [
        "lexeme.is_alpha"
      ],
      "execution_count": 0,
      "outputs": [
        {
          "output_type": "execute_result",
          "data": {
            "text/plain": [
              "False"
            ]
          },
          "metadata": {
            "tags": []
          },
          "execution_count": 12
        }
      ]
    },
    {
      "cell_type": "code",
      "metadata": {
        "id": "sNegOCa3_MjH",
        "colab_type": "code",
        "colab": {}
      },
      "source": [
        ""
      ],
      "execution_count": 0,
      "outputs": []
    },
    {
      "cell_type": "code",
      "metadata": {
        "id": "ccIT6niLpIeP",
        "colab_type": "code",
        "colab": {}
      },
      "source": [
        "import pickle\n",
        "import numpy as np\n",
        "\n",
        "def _load_vectors():\n",
        "        \"\"\"Loads the embedding vectors of the vocabulary string from disk.\n",
        "\n",
        "        Returns:\n",
        "            vectors (array): a numpy array which as much rows as words in the vocabulary.\n",
        "                                the number of columns is equal to the vector's dimensions.\n",
        "            default_vector (array): a numpy array of size (number of vector's dimensions,)\n",
        "                                    this vector is used for out-of-vocabulary tokens.\n",
        "        \"\"\"\n",
        "\n",
        "        # Get the path to the file where vectors are stored\n",
        "        vectors_path = \"/content/syfertext_en_core_web_lg/syfertext_en_core_web_lg/data/vectors\"\n",
        "\n",
        "        # Unpickle the vectors\n",
        "        with open(vectors_path, \"rb\") as vectors_file:\n",
        "            vectors = pickle.load(vectors_file)\n",
        "\n",
        "        # Create a default vector that is returned\n",
        "        # when an out-of-vocabulary token is encountered\n",
        "        default_vector = np.zeros(vectors.shape[1], dtype=vectors.dtype)\n",
        "\n",
        "        return vectors, default_vector"
      ],
      "execution_count": 0,
      "outputs": []
    },
    {
      "cell_type": "code",
      "metadata": {
        "id": "5P6dxTqQpIU0",
        "colab_type": "code",
        "outputId": "d82c66af-20f4-4a0c-a21e-951158f6876b",
        "colab": {
          "base_uri": "https://localhost:8080/",
          "height": 287
        }
      },
      "source": [
        "_load_vectors()"
      ],
      "execution_count": 0,
      "outputs": [
        {
          "output_type": "error",
          "ename": "UnpicklingError",
          "evalue": "ignored",
          "traceback": [
            "\u001b[0;31m---------------------------------------------------------------------------\u001b[0m",
            "\u001b[0;31mUnpicklingError\u001b[0m                           Traceback (most recent call last)",
            "\u001b[0;32m<ipython-input-6-6e54dd6a7230>\u001b[0m in \u001b[0;36m<module>\u001b[0;34m()\u001b[0m\n\u001b[0;32m----> 1\u001b[0;31m \u001b[0m_load_vectors\u001b[0m\u001b[0;34m(\u001b[0m\u001b[0;34m)\u001b[0m\u001b[0;34m\u001b[0m\u001b[0;34m\u001b[0m\u001b[0m\n\u001b[0m",
            "\u001b[0;32m<ipython-input-5-46d2095e32aa>\u001b[0m in \u001b[0;36m_load_vectors\u001b[0;34m()\u001b[0m\n\u001b[1;32m     17\u001b[0m         \u001b[0;31m# Unpickle the vectors\u001b[0m\u001b[0;34m\u001b[0m\u001b[0;34m\u001b[0m\u001b[0;34m\u001b[0m\u001b[0m\n\u001b[1;32m     18\u001b[0m         \u001b[0;32mwith\u001b[0m \u001b[0mopen\u001b[0m\u001b[0;34m(\u001b[0m\u001b[0mvectors_path\u001b[0m\u001b[0;34m,\u001b[0m \u001b[0;34m\"rb\"\u001b[0m\u001b[0;34m)\u001b[0m \u001b[0;32mas\u001b[0m \u001b[0mvectors_file\u001b[0m\u001b[0;34m:\u001b[0m\u001b[0;34m\u001b[0m\u001b[0;34m\u001b[0m\u001b[0m\n\u001b[0;32m---> 19\u001b[0;31m             \u001b[0mvectors\u001b[0m \u001b[0;34m=\u001b[0m \u001b[0mpickle\u001b[0m\u001b[0;34m.\u001b[0m\u001b[0mload\u001b[0m\u001b[0;34m(\u001b[0m\u001b[0mvectors_file\u001b[0m\u001b[0;34m)\u001b[0m\u001b[0;34m\u001b[0m\u001b[0;34m\u001b[0m\u001b[0m\n\u001b[0m\u001b[1;32m     20\u001b[0m \u001b[0;34m\u001b[0m\u001b[0m\n\u001b[1;32m     21\u001b[0m         \u001b[0;31m# Create a default vector that is returned\u001b[0m\u001b[0;34m\u001b[0m\u001b[0;34m\u001b[0m\u001b[0;34m\u001b[0m\u001b[0m\n",
            "\u001b[0;31mUnpicklingError\u001b[0m: invalid load key, 'v'."
          ]
        }
      ]
    }
  ]
}