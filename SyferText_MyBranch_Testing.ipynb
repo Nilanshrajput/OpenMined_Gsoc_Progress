{
  "nbformat": 4,
  "nbformat_minor": 0,
  "metadata": {
    "colab": {
      "name": "SyferText_MyBranch_Testing.ipynb",
      "provenance": [],
      "authorship_tag": "ABX9TyPrYTMY+61DQNnjmUBvJjxE",
      "include_colab_link": true
    },
    "kernelspec": {
      "name": "python3",
      "display_name": "Python 3"
    }
  },
  "cells": [
    {
      "cell_type": "markdown",
      "metadata": {
        "id": "view-in-github",
        "colab_type": "text"
      },
      "source": [
        "<a href=\"https://colab.research.google.com/github/Nilanshrajput/OpenMined_Gsoc_Progress/blob/master/SyferText_MyBranch_Testing.ipynb\" target=\"_parent\"><img src=\"https://colab.research.google.com/assets/colab-badge.svg\" alt=\"Open In Colab\"/></a>"
      ]
    },
    {
      "cell_type": "code",
      "metadata": {
        "id": "ao3MiEzc7iaX",
        "colab_type": "code",
        "outputId": "0053bd30-7c9c-4848-c06d-550c8b27055a",
        "colab": {
          "base_uri": "https://localhost:8080/",
          "height": 139
        }
      },
      "source": [
        "!git clone --single-branch --branch Lexeme https://github.com/Nilanshrajput/SyferText.git"
      ],
      "execution_count": 0,
      "outputs": [
        {
          "output_type": "stream",
          "text": [
            "Cloning into 'SyferText'...\n",
            "remote: Enumerating objects: 120, done.\u001b[K\n",
            "remote: Counting objects:   0% (1/120)\u001b[K\rremote: Counting objects:   1% (2/120)\u001b[K\rremote: Counting objects:   2% (3/120)\u001b[K\rremote: Counting objects:   3% (4/120)\u001b[K\rremote: Counting objects:   4% (5/120)\u001b[K\rremote: Counting objects:   5% (6/120)\u001b[K\rremote: Counting objects:   6% (8/120)\u001b[K\rremote: Counting objects:   7% (9/120)\u001b[K\rremote: Counting objects:   8% (10/120)\u001b[K\rremote: Counting objects:   9% (11/120)\u001b[K\rremote: Counting objects:  10% (12/120)\u001b[K\rremote: Counting objects:  11% (14/120)\u001b[K\rremote: Counting objects:  12% (15/120)\u001b[K\rremote: Counting objects:  13% (16/120)\u001b[K\rremote: Counting objects:  14% (17/120)\u001b[K\rremote: Counting objects:  15% (18/120)\u001b[K\rremote: Counting objects:  16% (20/120)\u001b[K\rremote: Counting objects:  17% (21/120)\u001b[K\rremote: Counting objects:  18% (22/120)\u001b[K\rremote: Counting objects:  19% (23/120)\u001b[K\rremote: Counting objects:  20% (24/120)\u001b[K\rremote: Counting objects:  21% (26/120)\u001b[K\rremote: Counting objects:  22% (27/120)\u001b[K\rremote: Counting objects:  23% (28/120)\u001b[K\rremote: Counting objects:  24% (29/120)\u001b[K\rremote: Counting objects:  25% (30/120)\u001b[K\rremote: Counting objects:  26% (32/120)\u001b[K\rremote: Counting objects:  27% (33/120)\u001b[K\rremote: Counting objects:  28% (34/120)\u001b[K\rremote: Counting objects:  29% (35/120)\u001b[K\rremote: Counting objects:  30% (36/120)\u001b[K\rremote: Counting objects:  31% (38/120)\u001b[K\rremote: Counting objects:  32% (39/120)\u001b[K\rremote: Counting objects:  33% (40/120)\u001b[K\rremote: Counting objects:  34% (41/120)\u001b[K\rremote: Counting objects:  35% (42/120)\u001b[K\rremote: Counting objects:  36% (44/120)\u001b[K\rremote: Counting objects:  37% (45/120)\u001b[K\rremote: Counting objects:  38% (46/120)\u001b[K\rremote: Counting objects:  39% (47/120)\u001b[K\rremote: Counting objects:  40% (48/120)\u001b[K\rremote: Counting objects:  41% (50/120)\u001b[K\rremote: Counting objects:  42% (51/120)\u001b[K\rremote: Counting objects:  43% (52/120)\u001b[K\rremote: Counting objects:  44% (53/120)\u001b[K\rremote: Counting objects:  45% (54/120)\u001b[K\rremote: Counting objects:  46% (56/120)\u001b[K\rremote: Counting objects:  47% (57/120)\u001b[K\rremote: Counting objects:  48% (58/120)\u001b[K\rremote: Counting objects:  49% (59/120)\u001b[K\rremote: Counting objects:  50% (60/120)\u001b[K\rremote: Counting objects:  51% (62/120)\u001b[K\rremote: Counting objects:  52% (63/120)\u001b[K\rremote: Counting objects:  53% (64/120)\u001b[K\rremote: Counting objects:  54% (65/120)\u001b[K\rremote: Counting objects:  55% (66/120)\u001b[K\rremote: Counting objects:  56% (68/120)\u001b[K\rremote: Counting objects:  57% (69/120)\u001b[K\rremote: Counting objects:  58% (70/120)\u001b[K\rremote: Counting objects:  59% (71/120)\u001b[K\rremote: Counting objects:  60% (72/120)\u001b[K\rremote: Counting objects:  61% (74/120)\u001b[K\rremote: Counting objects:  62% (75/120)\u001b[K\rremote: Counting objects:  63% (76/120)\u001b[K\rremote: Counting objects:  64% (77/120)\u001b[K\rremote: Counting objects:  65% (78/120)\u001b[K\rremote: Counting objects:  66% (80/120)\u001b[K\rremote: Counting objects:  67% (81/120)\u001b[K\rremote: Counting objects:  68% (82/120)\u001b[K\rremote: Counting objects:  69% (83/120)\u001b[K\rremote: Counting objects:  70% (84/120)\u001b[K\rremote: Counting objects:  71% (86/120)\u001b[K\rremote: Counting objects:  72% (87/120)\u001b[K\rremote: Counting objects:  73% (88/120)\u001b[K\rremote: Counting objects:  74% (89/120)\u001b[K\rremote: Counting objects:  75% (90/120)\u001b[K\rremote: Counting objects:  76% (92/120)\u001b[K\rremote: Counting objects:  77% (93/120)\u001b[K\rremote: Counting objects:  78% (94/120)\u001b[K\rremote: Counting objects:  79% (95/120)\u001b[K\rremote: Counting objects:  80% (96/120)\u001b[K\rremote: Counting objects:  81% (98/120)\u001b[K\rremote: Counting objects:  82% (99/120)\u001b[K\rremote: Counting objects:  83% (100/120)\u001b[K\rremote: Counting objects:  84% (101/120)\u001b[K\rremote: Counting objects:  85% (102/120)\u001b[K\rremote: Counting objects:  86% (104/120)\u001b[K\rremote: Counting objects:  87% (105/120)\u001b[K\rremote: Counting objects:  88% (106/120)\u001b[K\rremote: Counting objects:  89% (107/120)\u001b[K\rremote: Counting objects:  90% (108/120)\u001b[K\rremote: Counting objects:  91% (110/120)\u001b[K\rremote: Counting objects:  92% (111/120)\u001b[K\rremote: Counting objects:  93% (112/120)\u001b[K\rremote: Counting objects:  94% (113/120)\u001b[K\rremote: Counting objects:  95% (114/120)\u001b[K\rremote: Counting objects:  96% (116/120)\u001b[K\rremote: Counting objects:  97% (117/120)\u001b[K\rremote: Counting objects:  98% (118/120)\u001b[K\rremote: Counting objects:  99% (119/120)\u001b[K\rremote: Counting objects: 100% (120/120)\u001b[K\rremote: Counting objects: 100% (120/120), done.\u001b[K\n",
            "remote: Compressing objects:   1% (1/60)\u001b[K\rremote: Compressing objects:   3% (2/60)\u001b[K\rremote: Compressing objects:   5% (3/60)\u001b[K\rremote: Compressing objects:   6% (4/60)\u001b[K\rremote: Compressing objects:   8% (5/60)\u001b[K\rremote: Compressing objects:  10% (6/60)\u001b[K\rremote: Compressing objects:  11% (7/60)\u001b[K\rremote: Compressing objects:  13% (8/60)\u001b[K\rremote: Compressing objects:  15% (9/60)\u001b[K\rremote: Compressing objects:  16% (10/60)\u001b[K\rremote: Compressing objects:  18% (11/60)\u001b[K\rremote: Compressing objects:  20% (12/60)\u001b[K\rremote: Compressing objects:  21% (13/60)\u001b[K\rremote: Compressing objects:  23% (14/60)\u001b[K\rremote: Compressing objects:  25% (15/60)\u001b[K\rremote: Compressing objects:  26% (16/60)\u001b[K\rremote: Compressing objects:  28% (17/60)\u001b[K\rremote: Compressing objects:  30% (18/60)\u001b[K\rremote: Compressing objects:  31% (19/60)\u001b[K\rremote: Compressing objects:  33% (20/60)\u001b[K\rremote: Compressing objects:  35% (21/60)\u001b[K\rremote: Compressing objects:  36% (22/60)\u001b[K\rremote: Compressing objects:  38% (23/60)\u001b[K\rremote: Compressing objects:  40% (24/60)\u001b[K\rremote: Compressing objects:  41% (25/60)\u001b[K\rremote: Compressing objects:  43% (26/60)\u001b[K\rremote: Compressing objects:  45% (27/60)\u001b[K\rremote: Compressing objects:  46% (28/60)\u001b[K\rremote: Compressing objects:  48% (29/60)\u001b[K\rremote: Compressing objects:  50% (30/60)\u001b[K\rremote: Compressing objects:  51% (31/60)\u001b[K\rremote: Compressing objects:  53% (32/60)\u001b[K\rremote: Compressing objects:  55% (33/60)\u001b[K\rremote: Compressing objects:  56% (34/60)\u001b[K\rremote: Compressing objects:  58% (35/60)\u001b[K\rremote: Compressing objects:  60% (36/60)\u001b[K\rremote: Compressing objects:  61% (37/60)\u001b[K\rremote: Compressing objects:  63% (38/60)\u001b[K\rremote: Compressing objects:  65% (39/60)\u001b[K\rremote: Compressing objects:  66% (40/60)\u001b[K\rremote: Compressing objects:  68% (41/60)\u001b[K\rremote: Compressing objects:  70% (42/60)\u001b[K\rremote: Compressing objects:  71% (43/60)\u001b[K\rremote: Compressing objects:  73% (44/60)\u001b[K\rremote: Compressing objects:  75% (45/60)\u001b[K\rremote: Compressing objects:  76% (46/60)\u001b[K\rremote: Compressing objects:  78% (47/60)\u001b[K\rremote: Compressing objects:  80% (48/60)\u001b[K\rremote: Compressing objects:  81% (49/60)\u001b[K\rremote: Compressing objects:  83% (50/60)\u001b[K\rremote: Compressing objects:  85% (51/60)\u001b[K\rremote: Compressing objects:  86% (52/60)\u001b[K\rremote: Compressing objects:  88% (53/60)\u001b[K\rremote: Compressing objects:  90% (54/60)\u001b[K\rremote: Compressing objects:  91% (55/60)\u001b[K\rremote: Compressing objects:  93% (56/60)\u001b[K\rremote: Compressing objects:  95% (57/60)\u001b[K\rremote: Compressing objects:  96% (58/60)\u001b[K\rremote: Compressing objects:  98% (59/60)\u001b[K\rremote: Compressing objects: 100% (60/60)\u001b[K\rremote: Compressing objects: 100% (60/60), done.\u001b[K\n",
            "Receiving objects:   0% (1/1146)   \rReceiving objects:   1% (12/1146)   \rReceiving objects:   2% (23/1146)   \rReceiving objects:   3% (35/1146)   \rReceiving objects:   4% (46/1146)   \rReceiving objects:   5% (58/1146)   \rReceiving objects:   6% (69/1146)   \rReceiving objects:   7% (81/1146)   \rReceiving objects:   8% (92/1146)   \rReceiving objects:   9% (104/1146)   \rReceiving objects:  10% (115/1146)   \rReceiving objects:  11% (127/1146)   \rReceiving objects:  12% (138/1146)   \rReceiving objects:  13% (149/1146)   \rReceiving objects:  14% (161/1146)   \rReceiving objects:  15% (172/1146)   \rReceiving objects:  16% (184/1146)   \rReceiving objects:  17% (195/1146)   \rReceiving objects:  18% (207/1146)   \rReceiving objects:  19% (218/1146)   \rReceiving objects:  20% (230/1146)   \rReceiving objects:  21% (241/1146)   \rReceiving objects:  22% (253/1146)   \rReceiving objects:  23% (264/1146)   \rReceiving objects:  24% (276/1146)   \rReceiving objects:  25% (287/1146)   \rReceiving objects:  26% (298/1146)   \rReceiving objects:  27% (310/1146)   \rReceiving objects:  28% (321/1146)   \rReceiving objects:  29% (333/1146)   \rReceiving objects:  30% (344/1146)   \rReceiving objects:  31% (356/1146)   \rReceiving objects:  32% (367/1146)   \rReceiving objects:  33% (379/1146)   \rReceiving objects:  34% (390/1146)   \rReceiving objects:  35% (402/1146)   \rReceiving objects:  36% (413/1146)   \rReceiving objects:  37% (425/1146)   \rReceiving objects:  38% (436/1146)   \rReceiving objects:  39% (447/1146)   \rReceiving objects:  40% (459/1146)   \rReceiving objects:  41% (470/1146)   \rReceiving objects:  42% (482/1146)   \rReceiving objects:  43% (493/1146)   \rReceiving objects:  44% (505/1146)   \rReceiving objects:  45% (516/1146)   \rReceiving objects:  46% (528/1146)   \rReceiving objects:  47% (539/1146)   \rReceiving objects:  48% (551/1146)   \rReceiving objects:  49% (562/1146)   \rReceiving objects:  50% (573/1146)   \rReceiving objects:  51% (585/1146)   \rReceiving objects:  52% (596/1146)   \rReceiving objects:  53% (608/1146)   \rReceiving objects:  54% (619/1146)   \rReceiving objects:  55% (631/1146)   \rReceiving objects:  56% (642/1146)   \rReceiving objects:  57% (654/1146)   \rReceiving objects:  58% (665/1146)   \rReceiving objects:  59% (677/1146)   \rReceiving objects:  60% (688/1146)   \rReceiving objects:  61% (700/1146)   \rReceiving objects:  62% (711/1146)   \rReceiving objects:  63% (722/1146)   \rReceiving objects:  64% (734/1146)   \rReceiving objects:  65% (745/1146)   \rReceiving objects:  66% (757/1146)   \rReceiving objects:  67% (768/1146)   \rReceiving objects:  68% (780/1146)   \rReceiving objects:  69% (791/1146)   \rReceiving objects:  70% (803/1146)   \rReceiving objects:  71% (814/1146)   \rReceiving objects:  72% (826/1146)   \rReceiving objects:  73% (837/1146)   \rReceiving objects:  74% (849/1146)   \rReceiving objects:  75% (860/1146)   \rReceiving objects:  76% (871/1146)   \rReceiving objects:  77% (883/1146)   \rReceiving objects:  78% (894/1146)   \rReceiving objects:  79% (906/1146)   \rReceiving objects:  80% (917/1146)   \rReceiving objects:  81% (929/1146)   \rReceiving objects:  82% (940/1146)   \rReceiving objects:  83% (952/1146)   \rReceiving objects:  84% (963/1146)   \rReceiving objects:  85% (975/1146)   \rReceiving objects:  86% (986/1146)   \rReceiving objects:  87% (998/1146)   \rReceiving objects:  88% (1009/1146)   \rReceiving objects:  89% (1020/1146)   \rremote: Total 1146 (delta 85), reused 87 (delta 60), pack-reused 1026\u001b[K\n",
            "Receiving objects:  90% (1032/1146)   \rReceiving objects:  91% (1043/1146)   \rReceiving objects:  92% (1055/1146)   \rReceiving objects:  93% (1066/1146)   \rReceiving objects:  94% (1078/1146)   \rReceiving objects:  95% (1089/1146)   \rReceiving objects:  96% (1101/1146)   \rReceiving objects:  97% (1112/1146)   \rReceiving objects:  98% (1124/1146)   \rReceiving objects:  99% (1135/1146)   \rReceiving objects: 100% (1146/1146)   \rReceiving objects: 100% (1146/1146), 362.21 KiB | 10.35 MiB/s, done.\n",
            "Resolving deltas:   0% (0/711)   \rResolving deltas:   1% (8/711)   \rResolving deltas:   2% (16/711)   \rResolving deltas:   3% (25/711)   \rResolving deltas:   5% (36/711)   \rResolving deltas:   6% (47/711)   \rResolving deltas:   7% (54/711)   \rResolving deltas:   9% (68/711)   \rResolving deltas:  10% (77/711)   \rResolving deltas:  11% (80/711)   \rResolving deltas:  12% (89/711)   \rResolving deltas:  13% (94/711)   \rResolving deltas:  14% (102/711)   \rResolving deltas:  15% (112/711)   \rResolving deltas:  18% (132/711)   \rResolving deltas:  21% (150/711)   \rResolving deltas:  23% (166/711)   \rResolving deltas:  27% (195/711)   \rResolving deltas:  28% (204/711)   \rResolving deltas:  34% (244/711)   \rResolving deltas:  35% (255/711)   \rResolving deltas:  36% (262/711)   \rResolving deltas:  37% (266/711)   \rResolving deltas:  38% (276/711)   \rResolving deltas:  41% (293/711)   \rResolving deltas:  42% (302/711)   \rResolving deltas:  45% (323/711)   \rResolving deltas:  46% (329/711)   \rResolving deltas:  52% (371/711)   \rResolving deltas:  53% (378/711)   \rResolving deltas:  54% (385/711)   \rResolving deltas:  60% (432/711)   \rResolving deltas:  61% (440/711)   \rResolving deltas:  62% (441/711)   \rResolving deltas:  65% (465/711)   \rResolving deltas:  68% (484/711)   \rResolving deltas:  69% (493/711)   \rResolving deltas:  70% (498/711)   \rResolving deltas:  71% (509/711)   \rResolving deltas:  73% (520/711)   \rResolving deltas:  74% (529/711)   \rResolving deltas:  76% (541/711)   \rResolving deltas:  77% (554/711)   \rResolving deltas:  78% (555/711)   \rResolving deltas:  80% (573/711)   \rResolving deltas:  81% (576/711)   \rResolving deltas:  82% (584/711)   \rResolving deltas:  83% (594/711)   \rResolving deltas:  85% (606/711)   \rResolving deltas:  87% (619/711)   \rResolving deltas:  89% (637/711)   \rResolving deltas:  90% (642/711)   \rResolving deltas:  92% (657/711)   \rResolving deltas:  93% (664/711)   \rResolving deltas:  94% (669/711)   \rResolving deltas:  95% (682/711)   \rResolving deltas:  96% (684/711)   \rResolving deltas:  97% (691/711)   \rResolving deltas:  98% (698/711)   \rResolving deltas:  99% (708/711)   \rResolving deltas: 100% (711/711)   \rResolving deltas: 100% (711/711), done.\n"
          ],
          "name": "stdout"
        }
      ]
    },
    {
      "cell_type": "code",
      "metadata": {
        "id": "osRUv2uJlsRI",
        "colab_type": "code",
        "colab": {
          "base_uri": "https://localhost:8080/",
          "height": 436
        },
        "outputId": "36d5c7c7-8e56-491f-829c-e241891761de"
      },
      "source": [
        "!pip install git+git://github.com/Nilanshrajput/syfertext_en_core_web_lg@master"
      ],
      "execution_count": 1,
      "outputs": [
        {
          "output_type": "stream",
          "text": [
            "Collecting git+git://github.com/Nilanshrajput/syfertext_en_core_web_lg@master\n",
            "  Cloning git://github.com/Nilanshrajput/syfertext_en_core_web_lg (to revision master) to /tmp/pip-req-build-k8mlzntg\n",
            "  Running command git clone -q git://github.com/Nilanshrajput/syfertext_en_core_web_lg /tmp/pip-req-build-k8mlzntg\n",
            "Collecting numpy==1.18.2\n",
            "\u001b[?25l  Downloading https://files.pythonhosted.org/packages/07/08/a549ba8b061005bb629b76adc000f3caaaf881028b963c2e18f811c6edc1/numpy-1.18.2-cp36-cp36m-manylinux1_x86_64.whl (20.2MB)\n",
            "\u001b[K     |████████████████████████████████| 20.2MB 1.0MB/s \n",
            "\u001b[?25hBuilding wheels for collected packages: syfertext-en-core-web-lg\n",
            "  Building wheel for syfertext-en-core-web-lg (setup.py) ... \u001b[?25l\u001b[?25hdone\n",
            "  Created wheel for syfertext-en-core-web-lg: filename=syfertext_en_core_web_lg-0.0.1-cp36-none-any.whl size=3976 sha256=d10fe73325c56f6245980c0157ae3f9fc1e0c8233a47b2b47f1b9d29a0f1f2f0\n",
            "  Stored in directory: /tmp/pip-ephem-wheel-cache-gmxas9r1/wheels/59/55/ab/309821e4cc31d9f53129229bd3ad759276e30fb8daef7ddeef\n",
            "Successfully built syfertext-en-core-web-lg\n",
            "\u001b[31mERROR: datascience 0.10.6 has requirement folium==0.2.1, but you'll have folium 0.8.3 which is incompatible.\u001b[0m\n",
            "\u001b[31mERROR: albumentations 0.1.12 has requirement imgaug<0.2.7,>=0.2.5, but you'll have imgaug 0.2.9 which is incompatible.\u001b[0m\n",
            "Installing collected packages: numpy, syfertext-en-core-web-lg\n",
            "  Found existing installation: numpy 1.18.3\n",
            "    Uninstalling numpy-1.18.3:\n",
            "      Successfully uninstalled numpy-1.18.3\n",
            "Successfully installed numpy-1.18.2 syfertext-en-core-web-lg-0.0.1\n"
          ],
          "name": "stdout"
        },
        {
          "output_type": "display_data",
          "data": {
            "application/vnd.colab-display-data+json": {
              "pip_warning": {
                "packages": [
                  "numpy"
                ]
              }
            }
          },
          "metadata": {
            "tags": []
          }
        }
      ]
    },
    {
      "cell_type": "code",
      "metadata": {
        "id": "-YcsDDiolyCT",
        "colab_type": "code",
        "colab": {
          "base_uri": "https://localhost:8080/",
          "height": 121
        },
        "outputId": "25830787-cc8d-4e96-897e-80c2fe214003"
      },
      "source": [
        "!git clone https://github.com/OpenMined/SyferText.git"
      ],
      "execution_count": 2,
      "outputs": [
        {
          "output_type": "stream",
          "text": [
            "Cloning into 'SyferText'...\n",
            "remote: Enumerating objects: 1, done.\u001b[K\n",
            "remote: Counting objects: 100% (1/1), done.\u001b[K\n",
            "remote: Total 1402 (delta 0), reused 0 (delta 0), pack-reused 1401\u001b[K\n",
            "Receiving objects: 100% (1402/1402), 604.58 KiB | 832.00 KiB/s, done.\n",
            "Resolving deltas: 100% (887/887), done.\n"
          ],
          "name": "stdout"
        }
      ]
    },
    {
      "cell_type": "code",
      "metadata": {
        "id": "327vcYMy-4MS",
        "colab_type": "code",
        "colab": {}
      },
      "source": [
        "!rm -r SyferText"
      ],
      "execution_count": 0,
      "outputs": []
    },
    {
      "cell_type": "code",
      "metadata": {
        "id": "eSez6Nqi85tJ",
        "colab_type": "code",
        "colab": {}
      },
      "source": [
        "import os\n",
        "os.chdir('/content/SyferText')"
      ],
      "execution_count": 0,
      "outputs": []
    },
    {
      "cell_type": "code",
      "metadata": {
        "id": "N4kCeiUp9ArT",
        "colab_type": "code",
        "outputId": "0487afdc-cce6-498c-9af0-4f7a58bf125b",
        "colab": {
          "base_uri": "https://localhost:8080/",
          "height": 1000
        }
      },
      "source": [
        "!python setup.py install"
      ],
      "execution_count": 4,
      "outputs": [
        {
          "output_type": "stream",
          "text": [
            "/usr/lib/python3.6/distutils/dist.py:261: UserWarning: Unknown distribution option: 'classifier'\n",
            "  warnings.warn(msg)\n",
            "running install\n",
            "running bdist_egg\n",
            "running egg_info\n",
            "creating syfertext.egg-info\n",
            "writing syfertext.egg-info/PKG-INFO\n",
            "writing dependency_links to syfertext.egg-info/dependency_links.txt\n",
            "writing requirements to syfertext.egg-info/requires.txt\n",
            "writing top-level names to syfertext.egg-info/top_level.txt\n",
            "writing manifest file 'syfertext.egg-info/SOURCES.txt'\n",
            "writing manifest file 'syfertext.egg-info/SOURCES.txt'\n",
            "installing library code to build/bdist.linux-x86_64/egg\n",
            "running install_lib\n",
            "running build_py\n",
            "creating build\n",
            "creating build/lib\n",
            "creating build/lib/syfertext\n",
            "copying syfertext/tokenizer.py -> build/lib/syfertext\n",
            "copying syfertext/string_store.py -> build/lib/syfertext\n",
            "copying syfertext/language.py -> build/lib/syfertext\n",
            "copying syfertext/doc.py -> build/lib/syfertext\n",
            "copying syfertext/utils.py -> build/lib/syfertext\n",
            "copying syfertext/underscore.py -> build/lib/syfertext\n",
            "copying syfertext/vocab.py -> build/lib/syfertext\n",
            "copying syfertext/token_exception.py -> build/lib/syfertext\n",
            "copying syfertext/char_classes.py -> build/lib/syfertext\n",
            "copying syfertext/__init__.py -> build/lib/syfertext\n",
            "copying syfertext/punctuations.py -> build/lib/syfertext\n",
            "copying syfertext/vectors.py -> build/lib/syfertext\n",
            "copying syfertext/token.py -> build/lib/syfertext\n",
            "creating build/lib/syfertext/pointers\n",
            "copying syfertext/pointers/__init__.py -> build/lib/syfertext/pointers\n",
            "copying syfertext/pointers/doc_pointer.py -> build/lib/syfertext/pointers\n",
            "creating build/lib/syfertext/pipeline\n",
            "copying syfertext/pipeline/simple_tagger.py -> build/lib/syfertext/pipeline\n",
            "copying syfertext/pipeline/__init__.py -> build/lib/syfertext/pipeline\n",
            "copying syfertext/pipeline/subpipeline.py -> build/lib/syfertext/pipeline\n",
            "creating build/lib/syfertext/pipeline/pointers\n",
            "copying syfertext/pipeline/pointers/subpipeline_pointer.py -> build/lib/syfertext/pipeline/pointers\n",
            "copying syfertext/pipeline/pointers/__init__.py -> build/lib/syfertext/pipeline/pointers\n",
            "creating build/bdist.linux-x86_64\n",
            "creating build/bdist.linux-x86_64/egg\n",
            "creating build/bdist.linux-x86_64/egg/syfertext\n",
            "copying build/lib/syfertext/tokenizer.py -> build/bdist.linux-x86_64/egg/syfertext\n",
            "copying build/lib/syfertext/string_store.py -> build/bdist.linux-x86_64/egg/syfertext\n",
            "copying build/lib/syfertext/language.py -> build/bdist.linux-x86_64/egg/syfertext\n",
            "copying build/lib/syfertext/doc.py -> build/bdist.linux-x86_64/egg/syfertext\n",
            "copying build/lib/syfertext/utils.py -> build/bdist.linux-x86_64/egg/syfertext\n",
            "creating build/bdist.linux-x86_64/egg/syfertext/pointers\n",
            "copying build/lib/syfertext/pointers/__init__.py -> build/bdist.linux-x86_64/egg/syfertext/pointers\n",
            "copying build/lib/syfertext/pointers/doc_pointer.py -> build/bdist.linux-x86_64/egg/syfertext/pointers\n",
            "copying build/lib/syfertext/underscore.py -> build/bdist.linux-x86_64/egg/syfertext\n",
            "copying build/lib/syfertext/vocab.py -> build/bdist.linux-x86_64/egg/syfertext\n",
            "copying build/lib/syfertext/token_exception.py -> build/bdist.linux-x86_64/egg/syfertext\n",
            "copying build/lib/syfertext/char_classes.py -> build/bdist.linux-x86_64/egg/syfertext\n",
            "creating build/bdist.linux-x86_64/egg/syfertext/pipeline\n",
            "copying build/lib/syfertext/pipeline/simple_tagger.py -> build/bdist.linux-x86_64/egg/syfertext/pipeline\n",
            "creating build/bdist.linux-x86_64/egg/syfertext/pipeline/pointers\n",
            "copying build/lib/syfertext/pipeline/pointers/subpipeline_pointer.py -> build/bdist.linux-x86_64/egg/syfertext/pipeline/pointers\n",
            "copying build/lib/syfertext/pipeline/pointers/__init__.py -> build/bdist.linux-x86_64/egg/syfertext/pipeline/pointers\n",
            "copying build/lib/syfertext/pipeline/__init__.py -> build/bdist.linux-x86_64/egg/syfertext/pipeline\n",
            "copying build/lib/syfertext/pipeline/subpipeline.py -> build/bdist.linux-x86_64/egg/syfertext/pipeline\n",
            "copying build/lib/syfertext/__init__.py -> build/bdist.linux-x86_64/egg/syfertext\n",
            "copying build/lib/syfertext/punctuations.py -> build/bdist.linux-x86_64/egg/syfertext\n",
            "copying build/lib/syfertext/vectors.py -> build/bdist.linux-x86_64/egg/syfertext\n",
            "copying build/lib/syfertext/token.py -> build/bdist.linux-x86_64/egg/syfertext\n",
            "byte-compiling build/bdist.linux-x86_64/egg/syfertext/tokenizer.py to tokenizer.cpython-36.pyc\n",
            "byte-compiling build/bdist.linux-x86_64/egg/syfertext/string_store.py to string_store.cpython-36.pyc\n",
            "byte-compiling build/bdist.linux-x86_64/egg/syfertext/language.py to language.cpython-36.pyc\n",
            "byte-compiling build/bdist.linux-x86_64/egg/syfertext/doc.py to doc.cpython-36.pyc\n",
            "byte-compiling build/bdist.linux-x86_64/egg/syfertext/utils.py to utils.cpython-36.pyc\n",
            "byte-compiling build/bdist.linux-x86_64/egg/syfertext/pointers/__init__.py to __init__.cpython-36.pyc\n",
            "byte-compiling build/bdist.linux-x86_64/egg/syfertext/pointers/doc_pointer.py to doc_pointer.cpython-36.pyc\n",
            "byte-compiling build/bdist.linux-x86_64/egg/syfertext/underscore.py to underscore.cpython-36.pyc\n",
            "byte-compiling build/bdist.linux-x86_64/egg/syfertext/vocab.py to vocab.cpython-36.pyc\n",
            "byte-compiling build/bdist.linux-x86_64/egg/syfertext/token_exception.py to token_exception.cpython-36.pyc\n",
            "byte-compiling build/bdist.linux-x86_64/egg/syfertext/char_classes.py to char_classes.cpython-36.pyc\n",
            "byte-compiling build/bdist.linux-x86_64/egg/syfertext/pipeline/simple_tagger.py to simple_tagger.cpython-36.pyc\n",
            "byte-compiling build/bdist.linux-x86_64/egg/syfertext/pipeline/pointers/subpipeline_pointer.py to subpipeline_pointer.cpython-36.pyc\n",
            "byte-compiling build/bdist.linux-x86_64/egg/syfertext/pipeline/pointers/__init__.py to __init__.cpython-36.pyc\n",
            "byte-compiling build/bdist.linux-x86_64/egg/syfertext/pipeline/__init__.py to __init__.cpython-36.pyc\n",
            "byte-compiling build/bdist.linux-x86_64/egg/syfertext/pipeline/subpipeline.py to subpipeline.cpython-36.pyc\n",
            "byte-compiling build/bdist.linux-x86_64/egg/syfertext/__init__.py to __init__.cpython-36.pyc\n",
            "byte-compiling build/bdist.linux-x86_64/egg/syfertext/punctuations.py to punctuations.cpython-36.pyc\n",
            "byte-compiling build/bdist.linux-x86_64/egg/syfertext/vectors.py to vectors.cpython-36.pyc\n",
            "byte-compiling build/bdist.linux-x86_64/egg/syfertext/token.py to token.cpython-36.pyc\n",
            "creating build/bdist.linux-x86_64/egg/EGG-INFO\n",
            "copying syfertext.egg-info/PKG-INFO -> build/bdist.linux-x86_64/egg/EGG-INFO\n",
            "copying syfertext.egg-info/SOURCES.txt -> build/bdist.linux-x86_64/egg/EGG-INFO\n",
            "copying syfertext.egg-info/dependency_links.txt -> build/bdist.linux-x86_64/egg/EGG-INFO\n",
            "copying syfertext.egg-info/requires.txt -> build/bdist.linux-x86_64/egg/EGG-INFO\n",
            "copying syfertext.egg-info/top_level.txt -> build/bdist.linux-x86_64/egg/EGG-INFO\n",
            "zip_safe flag not set; analyzing archive contents...\n",
            "creating dist\n",
            "creating 'dist/syfertext-0.1.0.dev2-py3.6.egg' and adding 'build/bdist.linux-x86_64/egg' to it\n",
            "removing 'build/bdist.linux-x86_64/egg' (and everything under it)\n",
            "Processing syfertext-0.1.0.dev2-py3.6.egg\n",
            "Copying syfertext-0.1.0.dev2-py3.6.egg to /usr/local/lib/python3.6/dist-packages\n",
            "Adding syfertext 0.1.0.dev2 to easy-install.pth file\n",
            "\n",
            "Installed /usr/local/lib/python3.6/dist-packages/syfertext-0.1.0.dev2-py3.6.egg\n",
            "Processing dependencies for syfertext==0.1.0.dev2\n",
            "Searching for requests==2.22.0\n",
            "Reading https://pypi.org/simple/requests/\n",
            "Downloading https://files.pythonhosted.org/packages/51/bd/23c926cd341ea6b7dd0b2a00aba99ae0f828be89d72b2190f27c11d4b7fb/requests-2.22.0-py2.py3-none-any.whl#sha256=9cf5292fcd0f598c671cfc1e0d7d1a7f13bb8085e9a590f48c010551dc6c4b31\n",
            "Best match: requests 2.22.0\n",
            "Processing requests-2.22.0-py2.py3-none-any.whl\n",
            "Installing requests-2.22.0-py2.py3-none-any.whl to /usr/local/lib/python3.6/dist-packages\n",
            "Adding requests 2.22.0 to easy-install.pth file\n",
            "\n",
            "Installed /usr/local/lib/python3.6/dist-packages/requests-2.22.0-py3.6.egg\n",
            "Searching for syft\n",
            "Doing git clone from git://github.com/OpenMined/PySyft to /tmp/easy_install-rrf4z667/PySyft@master\n",
            "Checking out master\n",
            "Best match: syft [unknown version]\n",
            "Processing PySyft@master\n",
            "Writing /tmp/easy_install-rrf4z667/PySyft@master/setup.cfg\n",
            "Running setup.py -q bdist_egg --dist-dir /tmp/easy_install-rrf4z667/PySyft@master/egg-dist-tmp-kzod461g\n",
            "zip_safe flag not set; analyzing archive contents...\n",
            "examples.tutorials.advanced.websockets_mnist.__pycache__.start_websocket_servers.cpython-36: module references __file__\n",
            "examples.tutorials.advanced.websockets_mnist_parallel.__pycache__.start_websocket_servers.cpython-36: module references __file__\n",
            "examples.tutorials.websocket.pen_testing.steal_data_over_sockets.__pycache__.start_websocket_servers.cpython-36: module references __file__\n",
            "syft.execution.__pycache__.plan.cpython-36: module MAY be using inspect.trace\n",
            "test.__pycache__.run_websocket_server.cpython-36: module references __file__\n",
            "test.scripts.__pycache__.run_websocket_server.cpython-36: module references __file__\n",
            "creating /usr/local/lib/python3.6/dist-packages/syft-0.2.4-py3.6.egg\n",
            "Extracting syft-0.2.4-py3.6.egg to /usr/local/lib/python3.6/dist-packages\n",
            "Adding syft 0.2.4 to easy-install.pth file\n",
            "\n",
            "Installed /usr/local/lib/python3.6/dist-packages/syft-0.2.4-py3.6.egg\n",
            "Searching for mmh3==2.5.1\n",
            "Reading https://pypi.org/simple/mmh3/\n",
            "Downloading https://files.pythonhosted.org/packages/fa/7e/3ddcab0a9fcea034212c02eb411433db9330e34d626360b97333368b4052/mmh3-2.5.1.tar.gz#sha256=185209a217c52afe43e079e5b232d0ef0f3a262601eaaf4371326ab6dcbec508\n",
            "Best match: mmh3 2.5.1\n",
            "Processing mmh3-2.5.1.tar.gz\n",
            "Writing /tmp/easy_install-6s_wdshi/mmh3-2.5.1/setup.cfg\n",
            "Running mmh3-2.5.1/setup.py -q bdist_egg --dist-dir /tmp/easy_install-6s_wdshi/mmh3-2.5.1/egg-dist-tmp-8o63weba\n",
            "zip_safe flag not set; analyzing archive contents...\n",
            "__pycache__.mmh3.cpython-36: module references __file__\n",
            "creating /usr/local/lib/python3.6/dist-packages/mmh3-2.5.1-py3.6-linux-x86_64.egg\n",
            "Extracting mmh3-2.5.1-py3.6-linux-x86_64.egg to /usr/local/lib/python3.6/dist-packages\n",
            "Adding mmh3 2.5.1 to easy-install.pth file\n",
            "\n",
            "Installed /usr/local/lib/python3.6/dist-packages/mmh3-2.5.1-py3.6-linux-x86_64.egg\n",
            "Searching for tqdm==4.36.1\n",
            "Reading https://pypi.org/simple/tqdm/\n",
            "Downloading https://files.pythonhosted.org/packages/e1/c1/bc1dba38b48f4ae3c4428aea669c5e27bd5a7642a74c8348451e0bd8ff86/tqdm-4.36.1-py2.py3-none-any.whl#sha256=dd3fcca8488bb1d416aa7469d2f277902f26260c45aa86b667b074cd44b3b115\n",
            "Best match: tqdm 4.36.1\n",
            "Processing tqdm-4.36.1-py2.py3-none-any.whl\n",
            "Installing tqdm-4.36.1-py2.py3-none-any.whl to /usr/local/lib/python3.6/dist-packages\n",
            "Adding tqdm 4.36.1 to easy-install.pth file\n",
            "Installing tqdm script to /usr/local/bin\n",
            "\n",
            "Installed /usr/local/lib/python3.6/dist-packages/tqdm-4.36.1-py3.6.egg\n",
            "Searching for websockets~=8.1.0\n",
            "Reading https://pypi.org/simple/websockets/\n",
            "Downloading https://files.pythonhosted.org/packages/cf/cb/c35513c4a0ff24ca13e33f7336ba8c1a864449fad9fea8e37abdad11c38d/websockets-8.1-cp36-cp36m-manylinux1_x86_64.whl#sha256=4f9f7d28ce1d8f1295717c2c25b732c2bc0645db3215cf757551c392177d7cb8\n",
            "Best match: websockets 8.1\n",
            "Processing websockets-8.1-cp36-cp36m-manylinux1_x86_64.whl\n",
            "Installing websockets-8.1-cp36-cp36m-manylinux1_x86_64.whl to /usr/local/lib/python3.6/dist-packages\n",
            "Adding websockets 8.1 to easy-install.pth file\n",
            "\n",
            "Installed /usr/local/lib/python3.6/dist-packages/websockets-8.1-py3.6-linux-x86_64.egg\n",
            "Searching for websocket_client~=0.57.0\n",
            "Reading https://pypi.org/simple/websocket_client/\n",
            "Downloading https://files.pythonhosted.org/packages/4c/5f/f61b420143ed1c8dc69f9eaec5ff1ac36109d52c80de49d66e0c36c3dfdf/websocket_client-0.57.0-py2.py3-none-any.whl#sha256=0fc45c961324d79c781bab301359d5a1b00b13ad1b10415a4780229ef71a5549\n",
            "Best match: websocket-client 0.57.0\n",
            "Processing websocket_client-0.57.0-py2.py3-none-any.whl\n",
            "Installing websocket_client-0.57.0-py2.py3-none-any.whl to /usr/local/lib/python3.6/dist-packages\n",
            "Adding websocket-client 0.57.0 to easy-install.pth file\n",
            "Installing wsdump.py script to /usr/local/bin\n",
            "\n",
            "Installed /usr/local/lib/python3.6/dist-packages/websocket_client-0.57.0-py3.6.egg\n",
            "Searching for torch~=1.4.0\n",
            "Reading https://pypi.org/simple/torch/\n",
            "Downloading https://files.pythonhosted.org/packages/24/19/4804aea17cd136f1705a5e98a00618cb8f6ccc375ad8bfa437408e09d058/torch-1.4.0-cp36-cp36m-manylinux1_x86_64.whl#sha256=8856f334aa9ecb742c1504bd2563d0ffb8dceb97149c8d72a04afa357f667dbc\n",
            "Best match: torch 1.4.0\n",
            "Processing torch-1.4.0-cp36-cp36m-manylinux1_x86_64.whl\n",
            "Installing torch-1.4.0-cp36-cp36m-manylinux1_x86_64.whl to /usr/local/lib/python3.6/dist-packages\n",
            "Adding torch 1.4.0 to easy-install.pth file\n",
            "Installing convert-caffe2-to-onnx script to /usr/local/bin\n",
            "Installing convert-onnx-to-caffe2 script to /usr/local/bin\n",
            "\n",
            "Installed /usr/local/lib/python3.6/dist-packages/torch-1.4.0-py3.6-linux-x86_64.egg\n",
            "Searching for torchvision~=0.5.0\n",
            "Reading https://pypi.org/simple/torchvision/\n",
            "Downloading https://files.pythonhosted.org/packages/7e/90/6141bf41f5655c78e24f40f710fdd4f8a8aff6c8b7c6f0328240f649bdbe/torchvision-0.5.0-cp36-cp36m-manylinux1_x86_64.whl#sha256=fea3d431bf639c0719afff5972eb568ebe143eba447c1c8bb491c7dfb0025ed6\n",
            "Best match: torchvision 0.5.0\n",
            "Processing torchvision-0.5.0-cp36-cp36m-manylinux1_x86_64.whl\n",
            "Installing torchvision-0.5.0-cp36-cp36m-manylinux1_x86_64.whl to /usr/local/lib/python3.6/dist-packages\n",
            "Adding torchvision 0.5.0 to easy-install.pth file\n",
            "\n",
            "Installed /usr/local/lib/python3.6/dist-packages/torchvision-0.5.0-py3.6-linux-x86_64.egg\n",
            "Searching for syft-proto~=0.3.0\n",
            "Reading https://pypi.org/simple/syft-proto/\n",
            "Downloading https://files.pythonhosted.org/packages/d7/b4/7e585408eeb5747af207d6c4c6e680536306fac003e24952d815bf7a0346/syft_proto-0.3.0-py3-none-any.whl#sha256=de749274585ac6e2a0fb173c5fb6b0cf35d97b67bb12dbc321075d1380b9627c\n",
            "Best match: syft-proto 0.3.0\n",
            "Processing syft_proto-0.3.0-py3-none-any.whl\n",
            "Installing syft_proto-0.3.0-py3-none-any.whl to /usr/local/lib/python3.6/dist-packages\n",
            "Adding syft-proto 0.3.0 to easy-install.pth file\n",
            "\n",
            "Installed /usr/local/lib/python3.6/dist-packages/syft_proto-0.3.0-py3.6.egg\n",
            "Searching for Pillow~=6.2.2\n",
            "Reading https://pypi.org/simple/Pillow/\n",
            "Downloading https://files.pythonhosted.org/packages/8a/fd/bbbc569f98f47813c50a116b539d97b3b17a86ac7a309f83b2022d26caf2/Pillow-6.2.2-cp36-cp36m-manylinux1_x86_64.whl#sha256=92b83b380f9181cacc994f4c983d95a9c8b00b50bf786c66d235716b526a3332\n",
            "Best match: Pillow 6.2.2\n",
            "Processing Pillow-6.2.2-cp36-cp36m-manylinux1_x86_64.whl\n",
            "Installing Pillow-6.2.2-cp36-cp36m-manylinux1_x86_64.whl to /usr/local/lib/python3.6/dist-packages\n",
            "Adding Pillow 6.2.2 to easy-install.pth file\n",
            "\n",
            "Installed /usr/local/lib/python3.6/dist-packages/Pillow-6.2.2-py3.6-linux-x86_64.egg\n",
            "Searching for phe~=1.4.0\n",
            "Reading https://pypi.org/simple/phe/\n",
            "Downloading https://files.pythonhosted.org/packages/32/0e/568e97b014eb14e794a1258a341361e9da351dc6240c63b89e1541e3341c/phe-1.4.0.tar.gz#sha256=b5785c8e824eb7b02ebbe9b1e2080982d48a10db7b827a6771e04e22da99f473\n",
            "Best match: phe 1.4.0\n",
            "Processing phe-1.4.0.tar.gz\n",
            "Writing /tmp/easy_install-m5ca8637/phe-1.4.0/setup.cfg\n",
            "Running phe-1.4.0/setup.py -q bdist_egg --dist-dir /tmp/easy_install-m5ca8637/phe-1.4.0/egg-dist-tmp-4df2fnvx\n",
            "zip_safe flag not set; analyzing archive contents...\n",
            "Moving phe-1.4.0-py3.6.egg to /usr/local/lib/python3.6/dist-packages\n",
            "Adding phe 1.4.0 to easy-install.pth file\n",
            "Installing pheutil script to /usr/local/bin\n",
            "\n",
            "Installed /usr/local/lib/python3.6/dist-packages/phe-1.4.0-py3.6.egg\n",
            "Searching for lz4~=3.0.2\n",
            "Reading https://pypi.org/simple/lz4/\n",
            "Downloading https://files.pythonhosted.org/packages/e7/81/011fef8766fb0ef681037ad6fee96168ee03a864464986cbaa23e5357704/lz4-3.0.2-cp36-cp36m-manylinux2010_x86_64.whl#sha256=fc26c3902df2a8bfc0c8451bf08e265aa586fdf8f64add1d5286a12cd91e4e4a\n",
            "Best match: lz4 3.0.2\n",
            "Processing lz4-3.0.2-cp36-cp36m-manylinux2010_x86_64.whl\n",
            "Installing lz4-3.0.2-cp36-cp36m-manylinux2010_x86_64.whl to /usr/local/lib/python3.6/dist-packages\n",
            "Adding lz4 3.0.2 to easy-install.pth file\n",
            "\n",
            "Installed /usr/local/lib/python3.6/dist-packages/lz4-3.0.2-py3.6-linux-x86_64.egg\n",
            "Searching for flask_socketio~=4.2.1\n",
            "Reading https://pypi.org/simple/flask_socketio/\n",
            "Downloading https://files.pythonhosted.org/packages/66/44/edc4715af85671b943c18ac8345d0207972284a0cd630126ff5251faa08b/Flask_SocketIO-4.2.1-py2.py3-none-any.whl#sha256=7ff5b2f5edde23e875a8b0abf868584e5706e11741557449bc5147df2cd78268\n",
            "Best match: Flask-SocketIO 4.2.1\n",
            "Processing Flask_SocketIO-4.2.1-py2.py3-none-any.whl\n",
            "Installing Flask_SocketIO-4.2.1-py2.py3-none-any.whl to /usr/local/lib/python3.6/dist-packages\n",
            "Adding Flask-SocketIO 4.2.1 to easy-install.pth file\n",
            "\n",
            "Installed /usr/local/lib/python3.6/dist-packages/Flask_SocketIO-4.2.1-py3.6.egg\n",
            "Searching for protobuf>=3.11.1\n",
            "Reading https://pypi.org/simple/protobuf/\n",
            "Downloading https://files.pythonhosted.org/packages/57/02/5432412c162989260fab61fa65e0a490c1872739eb91a659896e4d554b26/protobuf-3.11.3-cp36-cp36m-manylinux1_x86_64.whl#sha256=adf0e4d57b33881d0c63bb11e7f9038f98ee0c3e334c221f0858f826e8fb0151\n",
            "Best match: protobuf 3.11.3\n",
            "Processing protobuf-3.11.3-cp36-cp36m-manylinux1_x86_64.whl\n",
            "Installing protobuf-3.11.3-cp36-cp36m-manylinux1_x86_64.whl to /usr/local/lib/python3.6/dist-packages\n",
            "Adding protobuf 3.11.3 to easy-install.pth file\n",
            "\n",
            "Installed /usr/local/lib/python3.6/dist-packages/protobuf-3.11.3-py3.6-linux-x86_64.egg\n",
            "Searching for python-socketio>=4.3.0\n",
            "Reading https://pypi.org/simple/python-socketio/\n",
            "Downloading https://files.pythonhosted.org/packages/10/cb/631c0b713daea3938e66d4c0923e88f3c0b57b026f860ea76e0337bc9c7a/python_socketio-4.5.1-py2.py3-none-any.whl#sha256=81280cbbb7018d8ecdd006bf6025979733d347c0f2612282c1e21f6ed7d3b55b\n",
            "Best match: python-socketio 4.5.1\n",
            "Processing python_socketio-4.5.1-py2.py3-none-any.whl\n",
            "Installing python_socketio-4.5.1-py2.py3-none-any.whl to /usr/local/lib/python3.6/dist-packages\n",
            "Adding python-socketio 4.5.1 to easy-install.pth file\n",
            "\n",
            "Installed /usr/local/lib/python3.6/dist-packages/python_socketio-4.5.1-py3.6.egg\n",
            "Searching for python-engineio>=3.9.0\n",
            "Reading https://pypi.org/simple/python-engineio/\n",
            "Downloading https://files.pythonhosted.org/packages/6c/aa/c975982df73c4bcd087732db14b05306e8a3f3f24596cc18647746539290/python_engineio-3.12.1-py2.py3-none-any.whl#sha256=222926adb4bc6e03a8fc8e0ef2a3309f030c1c3f8e0fcc94c9ba214574565f02\n",
            "Best match: python-engineio 3.12.1\n",
            "Processing python_engineio-3.12.1-py2.py3-none-any.whl\n",
            "Installing python_engineio-3.12.1-py2.py3-none-any.whl to /usr/local/lib/python3.6/dist-packages\n",
            "Adding python-engineio 3.12.1 to easy-install.pth file\n",
            "\n",
            "Installed /usr/local/lib/python3.6/dist-packages/python_engineio-3.12.1-py3.6.egg\n",
            "Searching for urllib3==1.24.3\n",
            "Best match: urllib3 1.24.3\n",
            "Adding urllib3 1.24.3 to easy-install.pth file\n",
            "\n",
            "Using /usr/local/lib/python3.6/dist-packages\n",
            "Searching for idna==2.8\n",
            "Best match: idna 2.8\n",
            "Adding idna 2.8 to easy-install.pth file\n",
            "\n",
            "Using /usr/local/lib/python3.6/dist-packages\n",
            "Searching for chardet==3.0.4\n",
            "Best match: chardet 3.0.4\n",
            "Adding chardet 3.0.4 to easy-install.pth file\n",
            "Installing chardetect script to /usr/local/bin\n",
            "\n",
            "Using /usr/local/lib/python3.6/dist-packages\n",
            "Searching for certifi==2020.4.5.1\n",
            "Best match: certifi 2020.4.5.1\n",
            "Adding certifi 2020.4.5.1 to easy-install.pth file\n",
            "\n",
            "Using /usr/local/lib/python3.6/dist-packages\n",
            "Searching for tornado==4.5.3\n",
            "Best match: tornado 4.5.3\n",
            "Adding tornado 4.5.3 to easy-install.pth file\n",
            "\n",
            "Using /usr/local/lib/python3.6/dist-packages\n",
            "Searching for tblib==1.6.0\n",
            "Best match: tblib 1.6.0\n",
            "Adding tblib 1.6.0 to easy-install.pth file\n",
            "\n",
            "Using /usr/local/lib/python3.6/dist-packages\n",
            "Searching for scipy==1.4.1\n",
            "Best match: scipy 1.4.1\n",
            "Adding scipy 1.4.1 to easy-install.pth file\n",
            "\n",
            "Using /usr/local/lib/python3.6/dist-packages\n",
            "Searching for numpy==1.18.2\n",
            "Best match: numpy 1.18.2\n",
            "Adding numpy 1.18.2 to easy-install.pth file\n",
            "Installing f2py script to /usr/local/bin\n",
            "Installing f2py3 script to /usr/local/bin\n",
            "Installing f2py3.6 script to /usr/local/bin\n",
            "\n",
            "Using /usr/local/lib/python3.6/dist-packages\n",
            "Searching for msgpack==1.0.0\n",
            "Best match: msgpack 1.0.0\n",
            "Adding msgpack 1.0.0 to easy-install.pth file\n",
            "\n",
            "Using /usr/local/lib/python3.6/dist-packages\n",
            "Searching for Flask==1.1.2\n",
            "Best match: Flask 1.1.2\n",
            "Adding Flask 1.1.2 to easy-install.pth file\n",
            "Installing flask script to /usr/local/bin\n",
            "\n",
            "Using /usr/local/lib/python3.6/dist-packages\n",
            "Searching for six==1.12.0\n",
            "Best match: six 1.12.0\n",
            "Adding six 1.12.0 to easy-install.pth file\n",
            "\n",
            "Using /usr/local/lib/python3.6/dist-packages\n",
            "Searching for Jinja2==2.11.2\n",
            "Best match: Jinja2 2.11.2\n",
            "Adding Jinja2 2.11.2 to easy-install.pth file\n",
            "\n",
            "Using /usr/local/lib/python3.6/dist-packages\n",
            "Searching for click==7.1.1\n",
            "Best match: click 7.1.1\n",
            "Adding click 7.1.1 to easy-install.pth file\n",
            "\n",
            "Using /usr/local/lib/python3.6/dist-packages\n",
            "Searching for itsdangerous==1.1.0\n",
            "Best match: itsdangerous 1.1.0\n",
            "Adding itsdangerous 1.1.0 to easy-install.pth file\n",
            "\n",
            "Using /usr/local/lib/python3.6/dist-packages\n",
            "Searching for Werkzeug==1.0.1\n",
            "Best match: Werkzeug 1.0.1\n",
            "Adding Werkzeug 1.0.1 to easy-install.pth file\n",
            "\n",
            "Using /usr/local/lib/python3.6/dist-packages\n",
            "Searching for setuptools==46.1.3\n",
            "Best match: setuptools 46.1.3\n",
            "Adding setuptools 46.1.3 to easy-install.pth file\n",
            "Installing easy_install script to /usr/local/bin\n",
            "Installing easy_install-3.8 script to /usr/local/bin\n",
            "\n",
            "Using /usr/local/lib/python3.6/dist-packages\n",
            "Searching for MarkupSafe==1.1.1\n",
            "Best match: MarkupSafe 1.1.1\n",
            "Adding MarkupSafe 1.1.1 to easy-install.pth file\n",
            "\n",
            "Using /usr/local/lib/python3.6/dist-packages\n",
            "Finished processing dependencies for syfertext==0.1.0.dev2\n"
          ],
          "name": "stdout"
        }
      ]
    },
    {
      "cell_type": "code",
      "metadata": {
        "id": "2fOcWq2Mkhq_",
        "colab_type": "code",
        "colab": {}
      },
      "source": [
        "! pip install pytest-black"
      ],
      "execution_count": 0,
      "outputs": []
    },
    {
      "cell_type": "code",
      "metadata": {
        "id": "SkboSPgRk9Gm",
        "colab_type": "code",
        "outputId": "82fbdd66-e005-4bb7-e250-985745dc093c",
        "colab": {
          "base_uri": "https://localhost:8080/",
          "height": 136
        }
      },
      "source": [
        "!python -m  pytest --rootdir=\"SyferText\" --black --verbose "
      ],
      "execution_count": 0,
      "outputs": [
        {
          "output_type": "stream",
          "text": [
            "\u001b[1m============================= test session starts ==============================\u001b[0m\n",
            "platform linux -- Python 3.6.9, pytest-3.6.4, py-1.8.1, pluggy-0.7.1 -- /usr/bin/python3\n",
            "cachedir: SyferText/.pytest_cache\n",
            "rootdir: /content/SyferText, inifile:\n",
            "plugins: typeguard-2.7.1, black-0.3.8\n",
            "collecting 40 items                                                            \u001b[0m"
          ],
          "name": "stdout"
        }
      ]
    },
    {
      "cell_type": "code",
      "metadata": {
        "id": "rpDf_CI29EHU",
        "colab_type": "code",
        "outputId": "992f1fad-d867-46bd-8883-b1d0d53a4c4f",
        "colab": {
          "base_uri": "https://localhost:8080/",
          "height": 69
        }
      },
      "source": [
        "\n",
        "import syft as sy\n",
        "import torch\n",
        "import syfertext\n",
        "import numpy as np\n",
        "\n",
        "hook = sy.TorchHook(torch)\n",
        "me = hook.local_worker\n",
        "\n",
        "nlp = syfertext.load(\"en_core_web_lg\", owner=me)"
      ],
      "execution_count": 0,
      "outputs": [
        {
          "output_type": "stream",
          "text": [
            "WARNING:root:Torch was already hooked... skipping hooking process\n",
            "WARNING:root:Torch was already hooked... skipping hooking process\n",
            "WARNING:root:Torch was already hooked... skipping hooking process\n"
          ],
          "name": "stderr"
        }
      ]
    },
    {
      "cell_type": "code",
      "metadata": {
        "id": "aQ90bmu59zex",
        "colab_type": "code",
        "colab": {}
      },
      "source": [
        "vocab = nlp.vocab"
      ],
      "execution_count": 0,
      "outputs": []
    },
    {
      "cell_type": "code",
      "metadata": {
        "id": "XZZBoa8Kt6Wu",
        "colab_type": "code",
        "colab": {}
      },
      "source": [
        "text = \"Green Apple \"\n",
        "doc = nlp(text)\n",
        "tok1 = doc[0]\n",
        "tok2 = doc[1]\n",
        "\n",
        "assert tok1.text_with_ws + tok2.text_with_ws == text"
      ],
      "execution_count": 0,
      "outputs": []
    },
    {
      "cell_type": "code",
      "metadata": {
        "id": "u_zTfwkOt6TR",
        "colab_type": "code",
        "outputId": "979a8ffb-0e4d-4ce4-f374-2bae80ae29d7",
        "colab": {
          "base_uri": "https://localhost:8080/",
          "height": 34
        }
      },
      "source": [
        "len(tok1.text_with_ws)"
      ],
      "execution_count": 0,
      "outputs": [
        {
          "output_type": "execute_result",
          "data": {
            "text/plain": [
              "5"
            ]
          },
          "metadata": {
            "tags": []
          },
          "execution_count": 9
        }
      ]
    },
    {
      "cell_type": "code",
      "metadata": {
        "id": "n513Aj6ruMHw",
        "colab_type": "code",
        "outputId": "06a9e453-9d20-4c49-dc06-a9dccf2ed1ac",
        "colab": {
          "base_uri": "https://localhost:8080/",
          "height": 34
        }
      },
      "source": [
        "tok1.space_after"
      ],
      "execution_count": 0,
      "outputs": [
        {
          "output_type": "execute_result",
          "data": {
            "text/plain": [
              "True"
            ]
          },
          "metadata": {
            "tags": []
          },
          "execution_count": 10
        }
      ]
    },
    {
      "cell_type": "code",
      "metadata": {
        "id": "6kdNH-Qb95kM",
        "colab_type": "code",
        "colab": {}
      },
      "source": [
        "lexeme = vocab[\"sg'\"]"
      ],
      "execution_count": 0,
      "outputs": []
    },
    {
      "cell_type": "code",
      "metadata": {
        "id": "PWQ9EknD-Nyo",
        "colab_type": "code",
        "outputId": "0e543a84-79f2-4837-8996-7d11292350fa",
        "colab": {
          "base_uri": "https://localhost:8080/",
          "height": 34
        }
      },
      "source": [
        "lexeme.is_alpha"
      ],
      "execution_count": 0,
      "outputs": [
        {
          "output_type": "execute_result",
          "data": {
            "text/plain": [
              "False"
            ]
          },
          "metadata": {
            "tags": []
          },
          "execution_count": 12
        }
      ]
    },
    {
      "cell_type": "code",
      "metadata": {
        "id": "sNegOCa3_MjH",
        "colab_type": "code",
        "colab": {}
      },
      "source": [
        ""
      ],
      "execution_count": 0,
      "outputs": []
    }
  ]
}