{
  "nbformat": 4,
  "nbformat_minor": 0,
  "metadata": {
    "kernelspec": {
      "display_name": "Python 3",
      "language": "python",
      "name": "python3"
    },
    "language_info": {
      "codemirror_mode": {
        "name": "ipython",
        "version": 3
      },
      "file_extension": ".py",
      "mimetype": "text/x-python",
      "name": "python",
      "nbconvert_exporter": "python",
      "pygments_lexer": "ipython3",
      "version": "3.7.4"
    },
    "colab": {
      "name": "Part 1 - (Getting Started) Remote Tokenization-checkpoint.ipynb",
      "provenance": [],
      "include_colab_link": true
    }
  },
  "cells": [
    {
      "cell_type": "markdown",
      "metadata": {
        "id": "view-in-github",
        "colab_type": "text"
      },
      "source": [
        "<a href=\"https://colab.research.google.com/github/Nilanshrajput/OpenMined_Gsoc_Progress/blob/master/tutorials/.ipynb_checkpoints/Part%201%20-%20(Getting%20Started)%20Remote%20Tokenization-checkpoint.ipynb\" target=\"_parent\"><img src=\"https://colab.research.google.com/assets/colab-badge.svg\" alt=\"Open In Colab\"/></a>"
      ]
    },
    {
      "cell_type": "markdown",
      "metadata": {
        "id": "vOckOJbWL4iB",
        "colab_type": "text"
      },
      "source": [
        "# Getting Started: Remote Tokenization\n",
        "----------"
      ]
    },
    {
      "cell_type": "markdown",
      "metadata": {
        "id": "sUxcWkG5L4iE",
        "colab_type": "text"
      },
      "source": [
        "One of the main motivations behind the creation of SyferText is to provide the ability to preprocess strings residing on a remote machine. Tokenization is one such important preprocessing step when we create deep learning NLP models. \n",
        "\n",
        "SyferText leverages [PySyft](https://github.com/OpenMined/PySyft)'s distributed architecture and its privacy-preserving arsenal of tools to enable 'blind' tokenization of private strings residing on remote workers without revealing their contents.\n",
        "\n",
        "In this tutorial, you will learn how to use SyferText to tokenize a PySyft `String` residing on a remote private worker.\n",
        "\n",
        "A private worker is one whose data is considered as sensitive with restricted access. We do not have the right to read this data. SyferText enables us to 'blindly' tokenize such a string and get an encrypted version of its tokens' vector embeddings. With these encrypted embeddings, one could train an encrypted deep learning model using PySyft. \n",
        "\n",
        "Training an NLP model with encrypted embeddings will be the subject of an upcoming tutorial."
      ]
    },
    {
      "cell_type": "markdown",
      "metadata": {
        "id": "JoTL1-VEL4iH",
        "colab_type": "text"
      },
      "source": [
        "#### Author\n"
      ]
    },
    {
      "cell_type": "markdown",
      "metadata": {
        "id": "DDreNm4WL4iK",
        "colab_type": "text"
      },
      "source": [
        "- `Alan Aboudib`  -> [@alan_aboudib](https://twitter.com/alan_aboudib) (Twitter)"
      ]
    },
    {
      "cell_type": "markdown",
      "metadata": {
        "id": "OJRDaNjfL4iN",
        "colab_type": "text"
      },
      "source": [
        "-----------------------\n",
        "\n",
        "## 1. `SyferText`'s distributed architecture\n",
        "\n",
        "-------------------"
      ]
    },
    {
      "cell_type": "markdown",
      "metadata": {
        "id": "cpFOn8twL4iP",
        "colab_type": "text"
      },
      "source": [
        "You have seen in a [previous tutorial](https://bit.ly/2RQ9lwl) that SyferText can be used to tokenize a PySyft string on a local worker. In such setting, all of the processing components such as the `Language`, `Tokenizer`, `Doc` and `Token` objects were created on the same worker.\n",
        "\n",
        "What you haven't seen yet is that SyferText's `Language` object can also be used to tokenize a PySyft `StringPointer` object, which is a pointer to a PySyft `String` on a remote worker.\n",
        "\n",
        "When the `Language` object receives a `StringPointer` to tokenize, some changes to its architecture are applied; some of its components are sent to the remote worker where the string lives. Here is how this is done:\n",
        "\n",
        "1. The `Language` object receives a `StringPointer` pointing to a PySyft `String` to be tokenized.\n",
        "2. A `Tokenizer` is created and sent to the worker where the `String` is.\n",
        "3. A `TokenizerPointer` object pointing to the remote `Tokenizer` is created and kept at the local worker.\n",
        "4. The remote tokenizer tokenizes the string on the remote worker and creates a `Doc` containing all of the `Token` objects.\n",
        "5. A `DocPointer` object pointing at the remote `Doc` is kept at the local worker.\n",
        "\n",
        "Here is an illustration of the steps I mentioned above."
      ]
    },
    {
      "cell_type": "markdown",
      "metadata": {
        "id": "yKTOPioIL4iS",
        "colab_type": "text"
      },
      "source": [
        "![SyferText architecture: local case](art/syfertext_remote.png \"SyferText architecture on remote workers\")\n"
      ]
    },
    {
      "cell_type": "markdown",
      "metadata": {
        "id": "7lUrOseTL4iX",
        "colab_type": "text"
      },
      "source": [
        "Notice that the `DocPointer` in the illustration above does not provide access to the individual tokens as a `Doc` object does. This is because the string on the remote worker is considered as private; we are not allowed to reveal its tokens or bring them to our local machine. We are only allowed to obtain encrypted versions of them.\n",
        "\n",
        "Let's now do some coding:"
      ]
    },
    {
      "cell_type": "markdown",
      "metadata": {
        "id": "hQ7Ox3vWL4iZ",
        "colab_type": "text"
      },
      "source": [
        "-----------------------\n",
        "\n",
        "## 2. Tokenizing a remote PySyft `String`\n",
        "\n",
        "-------------------"
      ]
    },
    {
      "cell_type": "markdown",
      "metadata": {
        "id": "ipkf-5xZL4ib",
        "colab_type": "text"
      },
      "source": [
        "Let's first import SyferText. Since SyferText is based on PySyft, we also need to import the latter, as well as PyTorch:"
      ]
    },
    {
      "cell_type": "code",
      "metadata": {
        "id": "zUiCeD2EMr7h",
        "colab_type": "code",
        "colab": {
          "base_uri": "https://localhost:8080/",
          "height": 139
        },
        "outputId": "d80a946e-d022-437f-b17f-fc4d98b2515d"
      },
      "source": [
        "!git clone --single-branch --branch Lexeme https://github.com/Nilanshrajput/SyferText.git"
      ],
      "execution_count": 19,
      "outputs": [
        {
          "output_type": "stream",
          "text": [
            "Cloning into 'SyferText'...\n",
            "remote: Enumerating objects: 140, done.\u001b[K\n",
            "remote: Counting objects:   0% (1/140)\u001b[K\rremote: Counting objects:   1% (2/140)\u001b[K\rremote: Counting objects:   2% (3/140)\u001b[K\rremote: Counting objects:   3% (5/140)\u001b[K\rremote: Counting objects:   4% (6/140)\u001b[K\rremote: Counting objects:   5% (7/140)\u001b[K\rremote: Counting objects:   6% (9/140)\u001b[K\rremote: Counting objects:   7% (10/140)\u001b[K\rremote: Counting objects:   8% (12/140)\u001b[K\rremote: Counting objects:   9% (13/140)\u001b[K\rremote: Counting objects:  10% (14/140)\u001b[K\rremote: Counting objects:  11% (16/140)\u001b[K\rremote: Counting objects:  12% (17/140)\u001b[K\rremote: Counting objects:  13% (19/140)\u001b[K\rremote: Counting objects:  14% (20/140)\u001b[K\rremote: Counting objects:  15% (21/140)\u001b[K\rremote: Counting objects:  16% (23/140)\u001b[K\rremote: Counting objects:  17% (24/140)\u001b[K\rremote: Counting objects:  18% (26/140)\u001b[K\rremote: Counting objects:  19% (27/140)\u001b[K\rremote: Counting objects:  20% (28/140)\u001b[K\rremote: Counting objects:  21% (30/140)\u001b[K\rremote: Counting objects:  22% (31/140)\u001b[K\rremote: Counting objects:  23% (33/140)\u001b[K\rremote: Counting objects:  24% (34/140)\u001b[K\rremote: Counting objects:  25% (35/140)\u001b[K\rremote: Counting objects:  26% (37/140)\u001b[K\rremote: Counting objects:  27% (38/140)\u001b[K\rremote: Counting objects:  28% (40/140)\u001b[K\rremote: Counting objects:  29% (41/140)\u001b[K\rremote: Counting objects:  30% (42/140)\u001b[K\rremote: Counting objects:  31% (44/140)\u001b[K\rremote: Counting objects:  32% (45/140)\u001b[K\rremote: Counting objects:  33% (47/140)\u001b[K\rremote: Counting objects:  34% (48/140)\u001b[K\rremote: Counting objects:  35% (49/140)\u001b[K\rremote: Counting objects:  36% (51/140)\u001b[K\rremote: Counting objects:  37% (52/140)\u001b[K\rremote: Counting objects:  38% (54/140)\u001b[K\rremote: Counting objects:  39% (55/140)\u001b[K\rremote: Counting objects:  40% (56/140)\u001b[K\rremote: Counting objects:  41% (58/140)\u001b[K\rremote: Counting objects:  42% (59/140)\u001b[K\rremote: Counting objects:  43% (61/140)\u001b[K\rremote: Counting objects:  44% (62/140)\u001b[K\rremote: Counting objects:  45% (63/140)\u001b[K\rremote: Counting objects:  46% (65/140)\u001b[K\rremote: Counting objects:  47% (66/140)\u001b[K\rremote: Counting objects:  48% (68/140)\u001b[K\rremote: Counting objects:  49% (69/140)\u001b[K\rremote: Counting objects:  50% (70/140)\u001b[K\rremote: Counting objects:  51% (72/140)\u001b[K\rremote: Counting objects:  52% (73/140)\u001b[K\rremote: Counting objects:  53% (75/140)\u001b[K\rremote: Counting objects:  54% (76/140)\u001b[K\rremote: Counting objects:  55% (77/140)\u001b[K\rremote: Counting objects:  56% (79/140)\u001b[K\rremote: Counting objects:  57% (80/140)\u001b[K\rremote: Counting objects:  58% (82/140)\u001b[K\rremote: Counting objects:  59% (83/140)\u001b[K\rremote: Counting objects:  60% (84/140)\u001b[K\rremote: Counting objects:  61% (86/140)\u001b[K\rremote: Counting objects:  62% (87/140)\u001b[K\rremote: Counting objects:  63% (89/140)\u001b[K\rremote: Counting objects:  64% (90/140)\u001b[K\rremote: Counting objects:  65% (91/140)\u001b[K\rremote: Counting objects:  66% (93/140)\u001b[K\rremote: Counting objects:  67% (94/140)\u001b[K\rremote: Counting objects:  68% (96/140)\u001b[K\rremote: Counting objects:  69% (97/140)\u001b[K\rremote: Counting objects:  70% (98/140)\u001b[K\rremote: Counting objects:  71% (100/140)\u001b[K\rremote: Counting objects:  72% (101/140)\u001b[K\rremote: Counting objects:  73% (103/140)\u001b[K\rremote: Counting objects:  74% (104/140)\u001b[K\rremote: Counting objects:  75% (105/140)\u001b[K\rremote: Counting objects:  76% (107/140)\u001b[K\rremote: Counting objects:  77% (108/140)\u001b[K\rremote: Counting objects:  78% (110/140)\u001b[K\rremote: Counting objects:  79% (111/140)\u001b[K\rremote: Counting objects:  80% (112/140)\u001b[K\rremote: Counting objects:  81% (114/140)\u001b[K\rremote: Counting objects:  82% (115/140)\u001b[K\rremote: Counting objects:  83% (117/140)\u001b[K\rremote: Counting objects:  84% (118/140)\u001b[K\rremote: Counting objects:  85% (119/140)\u001b[K\rremote: Counting objects:  86% (121/140)\u001b[K\rremote: Counting objects:  87% (122/140)\u001b[K\rremote: Counting objects:  88% (124/140)\u001b[K\rremote: Counting objects:  89% (125/140)\u001b[K\rremote: Counting objects:  90% (126/140)\u001b[K\rremote: Counting objects:  91% (128/140)\u001b[K\rremote: Counting objects:  92% (129/140)\u001b[K\rremote: Counting objects:  93% (131/140)\u001b[K\rremote: Counting objects:  94% (132/140)\u001b[K\rremote: Counting objects:  95% (133/140)\u001b[K\rremote: Counting objects:  96% (135/140)\u001b[K\rremote: Counting objects:  97% (136/140)\u001b[K\rremote: Counting objects:  98% (138/140)\u001b[K\rremote: Counting objects:  99% (139/140)\u001b[K\rremote: Counting objects: 100% (140/140)\u001b[K\rremote: Counting objects: 100% (140/140), done.\u001b[K\n",
            "remote: Compressing objects:   1% (1/88)\u001b[K\rremote: Compressing objects:   2% (2/88)\u001b[K\rremote: Compressing objects:   3% (3/88)\u001b[K\rremote: Compressing objects:   4% (4/88)\u001b[K\rremote: Compressing objects:   5% (5/88)\u001b[K\rremote: Compressing objects:   6% (6/88)\u001b[K\rremote: Compressing objects:   7% (7/88)\u001b[K\rremote: Compressing objects:   9% (8/88)\u001b[K\rremote: Compressing objects:  10% (9/88)\u001b[K\rremote: Compressing objects:  11% (10/88)\u001b[K\rremote: Compressing objects:  12% (11/88)\u001b[K\rremote: Compressing objects:  13% (12/88)\u001b[K\rremote: Compressing objects:  14% (13/88)\u001b[K\rremote: Compressing objects:  15% (14/88)\u001b[K\rremote: Compressing objects:  17% (15/88)\u001b[K\rremote: Compressing objects:  18% (16/88)\u001b[K\rremote: Compressing objects:  19% (17/88)\u001b[K\rremote: Compressing objects:  20% (18/88)\u001b[K\rremote: Compressing objects:  21% (19/88)\u001b[K\rremote: Compressing objects:  22% (20/88)\u001b[K\rremote: Compressing objects:  23% (21/88)\u001b[K\rremote: Compressing objects:  25% (22/88)\u001b[K\rremote: Compressing objects:  26% (23/88)\u001b[K\rremote: Compressing objects:  27% (24/88)\u001b[K\rremote: Compressing objects:  28% (25/88)\u001b[K\rremote: Compressing objects:  29% (26/88)\u001b[K\rremote: Compressing objects:  30% (27/88)\u001b[K\rremote: Compressing objects:  31% (28/88)\u001b[K\rremote: Compressing objects:  32% (29/88)\u001b[K\rremote: Compressing objects:  34% (30/88)\u001b[K\rremote: Compressing objects:  35% (31/88)\u001b[K\rremote: Compressing objects:  36% (32/88)\u001b[K\rremote: Compressing objects:  37% (33/88)\u001b[K\rremote: Compressing objects:  38% (34/88)\u001b[K\rremote: Compressing objects:  39% (35/88)\u001b[K\rremote: Compressing objects:  40% (36/88)\u001b[K\rremote: Compressing objects:  42% (37/88)\u001b[K\rremote: Compressing objects:  43% (38/88)\u001b[K\rremote: Compressing objects:  44% (39/88)\u001b[K\rremote: Compressing objects:  45% (40/88)\u001b[K\rremote: Compressing objects:  46% (41/88)\u001b[K\rremote: Compressing objects:  47% (42/88)\u001b[K\rremote: Compressing objects:  48% (43/88)\u001b[K\rremote: Compressing objects:  50% (44/88)\u001b[K\rremote: Compressing objects:  51% (45/88)\u001b[K\rremote: Compressing objects:  52% (46/88)\u001b[K\rremote: Compressing objects:  53% (47/88)\u001b[K\rremote: Compressing objects:  54% (48/88)\u001b[K\rremote: Compressing objects:  55% (49/88)\u001b[K\rremote: Compressing objects:  56% (50/88)\u001b[K\rremote: Compressing objects:  57% (51/88)\u001b[K\rremote: Compressing objects:  59% (52/88)\u001b[K\rremote: Compressing objects:  60% (53/88)\u001b[K\rremote: Compressing objects:  61% (54/88)\u001b[K\rremote: Compressing objects:  62% (55/88)\u001b[K\rremote: Compressing objects:  63% (56/88)\u001b[K\rremote: Compressing objects:  64% (57/88)\u001b[K\rremote: Compressing objects:  65% (58/88)\u001b[K\rremote: Compressing objects:  67% (59/88)\u001b[K\rremote: Compressing objects:  68% (60/88)\u001b[K\rremote: Compressing objects:  69% (61/88)\u001b[K\rremote: Compressing objects:  70% (62/88)\u001b[K\rremote: Compressing objects:  71% (63/88)\u001b[K\rremote: Compressing objects:  72% (64/88)\u001b[K\rremote: Compressing objects:  73% (65/88)\u001b[K\rremote: Compressing objects:  75% (66/88)\u001b[K\rremote: Compressing objects:  76% (67/88)\u001b[K\rremote: Compressing objects:  77% (68/88)\u001b[K\rremote: Compressing objects:  78% (69/88)\u001b[K\rremote: Compressing objects:  79% (70/88)\u001b[K\rremote: Compressing objects:  80% (71/88)\u001b[K\rremote: Compressing objects:  81% (72/88)\u001b[K\rremote: Compressing objects:  82% (73/88)\u001b[K\rremote: Compressing objects:  84% (74/88)\u001b[K\rremote: Compressing objects:  85% (75/88)\u001b[K\rremote: Compressing objects:  86% (76/88)\u001b[K\rremote: Compressing objects:  87% (77/88)\u001b[K\rremote: Compressing objects:  88% (78/88)\u001b[K\rremote: Compressing objects:  89% (79/88)\u001b[K\rremote: Compressing objects:  90% (80/88)\u001b[K\rremote: Compressing objects:  92% (81/88)\u001b[K\rremote: Compressing objects:  93% (82/88)\u001b[K\rremote: Compressing objects:  94% (83/88)\u001b[K\rremote: Compressing objects:  95% (84/88)\u001b[K\rremote: Compressing objects:  96% (85/88)\u001b[K\rremote: Compressing objects:  97% (86/88)\u001b[K\rremote: Compressing objects:  98% (87/88)\u001b[K\rremote: Compressing objects: 100% (88/88)\u001b[K\rremote: Compressing objects: 100% (88/88), done.\u001b[K\n",
            "Receiving objects:   0% (1/1216)   \rReceiving objects:   1% (13/1216)   \rReceiving objects:   2% (25/1216)   \rReceiving objects:   3% (37/1216)   \rReceiving objects:   4% (49/1216)   \rReceiving objects:   5% (61/1216)   \rReceiving objects:   6% (73/1216)   \rReceiving objects:   7% (86/1216)   \rReceiving objects:   8% (98/1216)   \rReceiving objects:   9% (110/1216)   \rReceiving objects:  10% (122/1216)   \rReceiving objects:  11% (134/1216)   \rReceiving objects:  12% (146/1216)   \rReceiving objects:  13% (159/1216)   \rReceiving objects:  14% (171/1216)   \rReceiving objects:  15% (183/1216)   \rReceiving objects:  16% (195/1216)   \rReceiving objects:  17% (207/1216)   \rReceiving objects:  18% (219/1216)   \rReceiving objects:  19% (232/1216)   \rReceiving objects:  20% (244/1216)   \rReceiving objects:  21% (256/1216)   \rReceiving objects:  22% (268/1216)   \rReceiving objects:  23% (280/1216)   \rReceiving objects:  24% (292/1216)   \rReceiving objects:  25% (304/1216)   \rReceiving objects:  26% (317/1216)   \rReceiving objects:  27% (329/1216)   \rReceiving objects:  28% (341/1216)   \rReceiving objects:  29% (353/1216)   \rReceiving objects:  30% (365/1216)   \rReceiving objects:  31% (377/1216)   \rReceiving objects:  32% (390/1216)   \rReceiving objects:  33% (402/1216)   \rReceiving objects:  34% (414/1216)   \rReceiving objects:  35% (426/1216)   \rReceiving objects:  36% (438/1216)   \rReceiving objects:  37% (450/1216)   \rReceiving objects:  38% (463/1216)   \rReceiving objects:  39% (475/1216)   \rReceiving objects:  40% (487/1216)   \rReceiving objects:  41% (499/1216)   \rReceiving objects:  42% (511/1216)   \rReceiving objects:  43% (523/1216)   \rReceiving objects:  44% (536/1216)   \rReceiving objects:  45% (548/1216)   \rReceiving objects:  46% (560/1216)   \rReceiving objects:  47% (572/1216)   \rReceiving objects:  48% (584/1216)   \rReceiving objects:  49% (596/1216)   \rReceiving objects:  50% (608/1216)   \rReceiving objects:  51% (621/1216)   \rReceiving objects:  52% (633/1216)   \rReceiving objects:  53% (645/1216)   \rReceiving objects:  54% (657/1216)   \rReceiving objects:  55% (669/1216)   \rReceiving objects:  56% (681/1216)   \rReceiving objects:  57% (694/1216)   \rReceiving objects:  58% (706/1216)   \rReceiving objects:  59% (718/1216)   \rReceiving objects:  60% (730/1216)   \rReceiving objects:  61% (742/1216)   \rReceiving objects:  62% (754/1216)   \rReceiving objects:  63% (767/1216)   \rReceiving objects:  64% (779/1216)   \rReceiving objects:  65% (791/1216)   \rReceiving objects:  66% (803/1216)   \rReceiving objects:  67% (815/1216)   \rReceiving objects:  68% (827/1216)   \rReceiving objects:  69% (840/1216)   \rReceiving objects:  70% (852/1216)   \rReceiving objects:  71% (864/1216)   \rReceiving objects:  72% (876/1216)   \rReceiving objects:  73% (888/1216)   \rReceiving objects:  74% (900/1216)   \rReceiving objects:  75% (912/1216)   \rReceiving objects:  76% (925/1216)   \rReceiving objects:  77% (937/1216)   \rReceiving objects:  78% (949/1216)   \rReceiving objects:  79% (961/1216)   \rReceiving objects:  80% (973/1216)   \rReceiving objects:  81% (985/1216)   \rReceiving objects:  82% (998/1216)   \rReceiving objects:  83% (1010/1216)   \rReceiving objects:  84% (1022/1216)   \rReceiving objects:  85% (1034/1216)   \rReceiving objects:  86% (1046/1216)   \rremote: Total 1216 (delta 94), reused 86 (delta 52), pack-reused 1076\u001b[K\n",
            "Receiving objects:  87% (1058/1216)   \rReceiving objects:  88% (1071/1216)   \rReceiving objects:  89% (1083/1216)   \rReceiving objects:  90% (1095/1216)   \rReceiving objects:  91% (1107/1216)   \rReceiving objects:  92% (1119/1216)   \rReceiving objects:  93% (1131/1216)   \rReceiving objects:  94% (1144/1216)   \rReceiving objects:  95% (1156/1216)   \rReceiving objects:  96% (1168/1216)   \rReceiving objects:  97% (1180/1216)   \rReceiving objects:  98% (1192/1216)   \rReceiving objects:  99% (1204/1216)   \rReceiving objects: 100% (1216/1216)   \rReceiving objects: 100% (1216/1216), 387.63 KiB | 9.23 MiB/s, done.\n",
            "Resolving deltas:   0% (0/761)   \rResolving deltas:   1% (8/761)   \rResolving deltas:   2% (16/761)   \rResolving deltas:   3% (23/761)   \rResolving deltas:   4% (36/761)   \rResolving deltas:   5% (41/761)   \rResolving deltas:   6% (47/761)   \rResolving deltas:   7% (54/761)   \rResolving deltas:   9% (69/761)   \rResolving deltas:  10% (79/761)   \rResolving deltas:  12% (93/761)   \rResolving deltas:  13% (100/761)   \rResolving deltas:  14% (112/761)   \rResolving deltas:  18% (140/761)   \rResolving deltas:  20% (159/761)   \rResolving deltas:  21% (164/761)   \rResolving deltas:  23% (179/761)   \rResolving deltas:  26% (202/761)   \rResolving deltas:  28% (216/761)   \rResolving deltas:  29% (224/761)   \rResolving deltas:  33% (258/761)   \rResolving deltas:  34% (261/761)   \rResolving deltas:  35% (270/761)   \rResolving deltas:  36% (278/761)   \rResolving deltas:  37% (284/761)   \rResolving deltas:  40% (305/761)   \rResolving deltas:  41% (315/761)   \rResolving deltas:  43% (331/761)   \rResolving deltas:  46% (352/761)   \rResolving deltas:  47% (359/761)   \rResolving deltas:  51% (391/761)   \rResolving deltas:  54% (413/761)   \rResolving deltas:  55% (421/761)   \rResolving deltas:  57% (441/761)   \rResolving deltas:  58% (446/761)   \rResolving deltas:  59% (453/761)   \rResolving deltas:  62% (475/761)   \rResolving deltas:  66% (507/761)   \rResolving deltas:  68% (519/761)   \rResolving deltas:  69% (530/761)   \rResolving deltas:  70% (533/761)   \rResolving deltas:  71% (543/761)   \rResolving deltas:  72% (550/761)   \rResolving deltas:  74% (569/761)   \rResolving deltas:  75% (572/761)   \rResolving deltas:  76% (580/761)   \rResolving deltas:  77% (591/761)   \rResolving deltas:  78% (594/761)   \rResolving deltas:  79% (605/761)   \rResolving deltas:  80% (609/761)   \rResolving deltas:  81% (617/761)   \rResolving deltas:  82% (628/761)   \rResolving deltas:  83% (636/761)   \rResolving deltas:  84% (646/761)   \rResolving deltas:  86% (660/761)   \rResolving deltas:  89% (678/761)   \rResolving deltas:  91% (697/761)   \rResolving deltas:  92% (707/761)   \rResolving deltas:  93% (708/761)   \rResolving deltas:  95% (723/761)   \rResolving deltas:  96% (736/761)   \rResolving deltas:  97% (743/761)   \rResolving deltas:  98% (746/761)   \rResolving deltas:  99% (755/761)   \rResolving deltas: 100% (761/761)   \rResolving deltas: 100% (761/761), done.\n"
          ],
          "name": "stdout"
        }
      ]
    },
    {
      "cell_type": "code",
      "metadata": {
        "id": "B9j49W6VMr4U",
        "colab_type": "code",
        "colab": {}
      },
      "source": [
        "!rm -r SyferText"
      ],
      "execution_count": 0,
      "outputs": []
    },
    {
      "cell_type": "code",
      "metadata": {
        "id": "f2tqSTudMrpP",
        "colab_type": "code",
        "colab": {}
      },
      "source": [
        "import os\n",
        "os.chdir('/content/SyferText')\n"
      ],
      "execution_count": 0,
      "outputs": []
    },
    {
      "cell_type": "code",
      "metadata": {
        "id": "_Tguh32pM7OZ",
        "colab_type": "code",
        "colab": {
          "base_uri": "https://localhost:8080/",
          "height": 1000
        },
        "outputId": "a02b0773-a60c-40d7-cdbd-83b44c35aaec"
      },
      "source": [
        "!python setup.py install"
      ],
      "execution_count": 21,
      "outputs": [
        {
          "output_type": "stream",
          "text": [
            "/usr/lib/python3.6/distutils/dist.py:261: UserWarning: Unknown distribution option: 'classifier'\n",
            "  warnings.warn(msg)\n",
            "running install\n",
            "running bdist_egg\n",
            "running egg_info\n",
            "creating syfertext.egg-info\n",
            "writing syfertext.egg-info/PKG-INFO\n",
            "writing dependency_links to syfertext.egg-info/dependency_links.txt\n",
            "writing requirements to syfertext.egg-info/requires.txt\n",
            "writing top-level names to syfertext.egg-info/top_level.txt\n",
            "writing manifest file 'syfertext.egg-info/SOURCES.txt'\n",
            "writing manifest file 'syfertext.egg-info/SOURCES.txt'\n",
            "installing library code to build/bdist.linux-x86_64/egg\n",
            "running install_lib\n",
            "running build_py\n",
            "creating build\n",
            "creating build/lib\n",
            "creating build/lib/syfertext\n",
            "copying syfertext/vectors.py -> build/lib/syfertext\n",
            "copying syfertext/utils.py -> build/lib/syfertext\n",
            "copying syfertext/language.py -> build/lib/syfertext\n",
            "copying syfertext/doc.py -> build/lib/syfertext\n",
            "copying syfertext/__init__.py -> build/lib/syfertext\n",
            "copying syfertext/token_exception.py -> build/lib/syfertext\n",
            "copying syfertext/token.py -> build/lib/syfertext\n",
            "copying syfertext/string_store.py -> build/lib/syfertext\n",
            "copying syfertext/underscore.py -> build/lib/syfertext\n",
            "copying syfertext/char_classes.py -> build/lib/syfertext\n",
            "copying syfertext/tokenizer.py -> build/lib/syfertext\n",
            "copying syfertext/stop_words.py -> build/lib/syfertext\n",
            "copying syfertext/vocab.py -> build/lib/syfertext\n",
            "copying syfertext/punctuations.py -> build/lib/syfertext\n",
            "copying syfertext/lex_attrs.py -> build/lib/syfertext\n",
            "copying syfertext/lexeme.py -> build/lib/syfertext\n",
            "copying syfertext/attrs.py -> build/lib/syfertext\n",
            "creating build/lib/syfertext/pointers\n",
            "copying syfertext/pointers/__init__.py -> build/lib/syfertext/pointers\n",
            "copying syfertext/pointers/doc_pointer.py -> build/lib/syfertext/pointers\n",
            "creating build/lib/syfertext/pipeline\n",
            "copying syfertext/pipeline/subpipeline.py -> build/lib/syfertext/pipeline\n",
            "copying syfertext/pipeline/__init__.py -> build/lib/syfertext/pipeline\n",
            "copying syfertext/pipeline/simple_tagger.py -> build/lib/syfertext/pipeline\n",
            "creating build/lib/syfertext/pipeline/pointers\n",
            "copying syfertext/pipeline/pointers/subpipeline_pointer.py -> build/lib/syfertext/pipeline/pointers\n",
            "copying syfertext/pipeline/pointers/__init__.py -> build/lib/syfertext/pipeline/pointers\n",
            "creating build/bdist.linux-x86_64\n",
            "creating build/bdist.linux-x86_64/egg\n",
            "creating build/bdist.linux-x86_64/egg/syfertext\n",
            "copying build/lib/syfertext/vectors.py -> build/bdist.linux-x86_64/egg/syfertext\n",
            "copying build/lib/syfertext/utils.py -> build/bdist.linux-x86_64/egg/syfertext\n",
            "creating build/bdist.linux-x86_64/egg/syfertext/pointers\n",
            "copying build/lib/syfertext/pointers/__init__.py -> build/bdist.linux-x86_64/egg/syfertext/pointers\n",
            "copying build/lib/syfertext/pointers/doc_pointer.py -> build/bdist.linux-x86_64/egg/syfertext/pointers\n",
            "copying build/lib/syfertext/language.py -> build/bdist.linux-x86_64/egg/syfertext\n",
            "copying build/lib/syfertext/doc.py -> build/bdist.linux-x86_64/egg/syfertext\n",
            "copying build/lib/syfertext/__init__.py -> build/bdist.linux-x86_64/egg/syfertext\n",
            "copying build/lib/syfertext/token_exception.py -> build/bdist.linux-x86_64/egg/syfertext\n",
            "copying build/lib/syfertext/token.py -> build/bdist.linux-x86_64/egg/syfertext\n",
            "copying build/lib/syfertext/string_store.py -> build/bdist.linux-x86_64/egg/syfertext\n",
            "copying build/lib/syfertext/underscore.py -> build/bdist.linux-x86_64/egg/syfertext\n",
            "copying build/lib/syfertext/char_classes.py -> build/bdist.linux-x86_64/egg/syfertext\n",
            "copying build/lib/syfertext/tokenizer.py -> build/bdist.linux-x86_64/egg/syfertext\n",
            "copying build/lib/syfertext/stop_words.py -> build/bdist.linux-x86_64/egg/syfertext\n",
            "copying build/lib/syfertext/vocab.py -> build/bdist.linux-x86_64/egg/syfertext\n",
            "copying build/lib/syfertext/punctuations.py -> build/bdist.linux-x86_64/egg/syfertext\n",
            "copying build/lib/syfertext/lex_attrs.py -> build/bdist.linux-x86_64/egg/syfertext\n",
            "copying build/lib/syfertext/lexeme.py -> build/bdist.linux-x86_64/egg/syfertext\n",
            "creating build/bdist.linux-x86_64/egg/syfertext/pipeline\n",
            "creating build/bdist.linux-x86_64/egg/syfertext/pipeline/pointers\n",
            "copying build/lib/syfertext/pipeline/pointers/subpipeline_pointer.py -> build/bdist.linux-x86_64/egg/syfertext/pipeline/pointers\n",
            "copying build/lib/syfertext/pipeline/pointers/__init__.py -> build/bdist.linux-x86_64/egg/syfertext/pipeline/pointers\n",
            "copying build/lib/syfertext/pipeline/subpipeline.py -> build/bdist.linux-x86_64/egg/syfertext/pipeline\n",
            "copying build/lib/syfertext/pipeline/__init__.py -> build/bdist.linux-x86_64/egg/syfertext/pipeline\n",
            "copying build/lib/syfertext/pipeline/simple_tagger.py -> build/bdist.linux-x86_64/egg/syfertext/pipeline\n",
            "copying build/lib/syfertext/attrs.py -> build/bdist.linux-x86_64/egg/syfertext\n",
            "byte-compiling build/bdist.linux-x86_64/egg/syfertext/vectors.py to vectors.cpython-36.pyc\n",
            "byte-compiling build/bdist.linux-x86_64/egg/syfertext/utils.py to utils.cpython-36.pyc\n",
            "byte-compiling build/bdist.linux-x86_64/egg/syfertext/pointers/__init__.py to __init__.cpython-36.pyc\n",
            "byte-compiling build/bdist.linux-x86_64/egg/syfertext/pointers/doc_pointer.py to doc_pointer.cpython-36.pyc\n",
            "byte-compiling build/bdist.linux-x86_64/egg/syfertext/language.py to language.cpython-36.pyc\n",
            "byte-compiling build/bdist.linux-x86_64/egg/syfertext/doc.py to doc.cpython-36.pyc\n",
            "byte-compiling build/bdist.linux-x86_64/egg/syfertext/__init__.py to __init__.cpython-36.pyc\n",
            "byte-compiling build/bdist.linux-x86_64/egg/syfertext/token_exception.py to token_exception.cpython-36.pyc\n",
            "byte-compiling build/bdist.linux-x86_64/egg/syfertext/token.py to token.cpython-36.pyc\n",
            "byte-compiling build/bdist.linux-x86_64/egg/syfertext/string_store.py to string_store.cpython-36.pyc\n",
            "byte-compiling build/bdist.linux-x86_64/egg/syfertext/underscore.py to underscore.cpython-36.pyc\n",
            "byte-compiling build/bdist.linux-x86_64/egg/syfertext/char_classes.py to char_classes.cpython-36.pyc\n",
            "byte-compiling build/bdist.linux-x86_64/egg/syfertext/tokenizer.py to tokenizer.cpython-36.pyc\n",
            "byte-compiling build/bdist.linux-x86_64/egg/syfertext/stop_words.py to stop_words.cpython-36.pyc\n",
            "byte-compiling build/bdist.linux-x86_64/egg/syfertext/vocab.py to vocab.cpython-36.pyc\n",
            "byte-compiling build/bdist.linux-x86_64/egg/syfertext/punctuations.py to punctuations.cpython-36.pyc\n",
            "byte-compiling build/bdist.linux-x86_64/egg/syfertext/lex_attrs.py to lex_attrs.cpython-36.pyc\n",
            "byte-compiling build/bdist.linux-x86_64/egg/syfertext/lexeme.py to lexeme.cpython-36.pyc\n",
            "byte-compiling build/bdist.linux-x86_64/egg/syfertext/pipeline/pointers/subpipeline_pointer.py to subpipeline_pointer.cpython-36.pyc\n",
            "byte-compiling build/bdist.linux-x86_64/egg/syfertext/pipeline/pointers/__init__.py to __init__.cpython-36.pyc\n",
            "byte-compiling build/bdist.linux-x86_64/egg/syfertext/pipeline/subpipeline.py to subpipeline.cpython-36.pyc\n",
            "byte-compiling build/bdist.linux-x86_64/egg/syfertext/pipeline/__init__.py to __init__.cpython-36.pyc\n",
            "byte-compiling build/bdist.linux-x86_64/egg/syfertext/pipeline/simple_tagger.py to simple_tagger.cpython-36.pyc\n",
            "byte-compiling build/bdist.linux-x86_64/egg/syfertext/attrs.py to attrs.cpython-36.pyc\n",
            "creating build/bdist.linux-x86_64/egg/EGG-INFO\n",
            "copying syfertext.egg-info/PKG-INFO -> build/bdist.linux-x86_64/egg/EGG-INFO\n",
            "copying syfertext.egg-info/SOURCES.txt -> build/bdist.linux-x86_64/egg/EGG-INFO\n",
            "copying syfertext.egg-info/dependency_links.txt -> build/bdist.linux-x86_64/egg/EGG-INFO\n",
            "copying syfertext.egg-info/requires.txt -> build/bdist.linux-x86_64/egg/EGG-INFO\n",
            "copying syfertext.egg-info/top_level.txt -> build/bdist.linux-x86_64/egg/EGG-INFO\n",
            "zip_safe flag not set; analyzing archive contents...\n",
            "creating dist\n",
            "creating 'dist/syfertext-0.1.0.dev2-py3.6.egg' and adding 'build/bdist.linux-x86_64/egg' to it\n",
            "removing 'build/bdist.linux-x86_64/egg' (and everything under it)\n",
            "Processing syfertext-0.1.0.dev2-py3.6.egg\n",
            "Removing /usr/local/lib/python3.6/dist-packages/syfertext-0.1.0.dev2-py3.6.egg\n",
            "Copying syfertext-0.1.0.dev2-py3.6.egg to /usr/local/lib/python3.6/dist-packages\n",
            "syfertext 0.1.0.dev2 is already the active version in easy-install.pth\n",
            "\n",
            "Installed /usr/local/lib/python3.6/dist-packages/syfertext-0.1.0.dev2-py3.6.egg\n",
            "Processing dependencies for syfertext==0.1.0.dev2\n",
            "Searching for requests==2.22.0\n",
            "Best match: requests 2.22.0\n",
            "Processing requests-2.22.0-py3.6.egg\n",
            "requests 2.22.0 is already the active version in easy-install.pth\n",
            "\n",
            "Using /usr/local/lib/python3.6/dist-packages/requests-2.22.0-py3.6.egg\n",
            "Searching for syft==0.2.4\n",
            "Best match: syft 0.2.4\n",
            "Processing syft-0.2.4-py3.6.egg\n",
            "syft 0.2.4 is already the active version in easy-install.pth\n",
            "\n",
            "Using /usr/local/lib/python3.6/dist-packages/syft-0.2.4-py3.6.egg\n",
            "Searching for mmh3==2.5.1\n",
            "Best match: mmh3 2.5.1\n",
            "Processing mmh3-2.5.1-py3.6-linux-x86_64.egg\n",
            "mmh3 2.5.1 is already the active version in easy-install.pth\n",
            "\n",
            "Using /usr/local/lib/python3.6/dist-packages/mmh3-2.5.1-py3.6-linux-x86_64.egg\n",
            "Searching for tqdm==4.36.1\n",
            "Best match: tqdm 4.36.1\n",
            "Processing tqdm-4.36.1-py3.6.egg\n",
            "tqdm 4.36.1 is already the active version in easy-install.pth\n",
            "Installing tqdm script to /usr/local/bin\n",
            "\n",
            "Using /usr/local/lib/python3.6/dist-packages/tqdm-4.36.1-py3.6.egg\n",
            "Searching for urllib3==1.24.3\n",
            "Best match: urllib3 1.24.3\n",
            "Adding urllib3 1.24.3 to easy-install.pth file\n",
            "\n",
            "Using /usr/local/lib/python3.6/dist-packages\n",
            "Searching for idna==2.8\n",
            "Best match: idna 2.8\n",
            "Adding idna 2.8 to easy-install.pth file\n",
            "\n",
            "Using /usr/local/lib/python3.6/dist-packages\n",
            "Searching for chardet==3.0.4\n",
            "Best match: chardet 3.0.4\n",
            "Adding chardet 3.0.4 to easy-install.pth file\n",
            "Installing chardetect script to /usr/local/bin\n",
            "\n",
            "Using /usr/local/lib/python3.6/dist-packages\n",
            "Searching for certifi==2020.4.5.1\n",
            "Best match: certifi 2020.4.5.1\n",
            "Adding certifi 2020.4.5.1 to easy-install.pth file\n",
            "\n",
            "Using /usr/local/lib/python3.6/dist-packages\n",
            "Searching for websockets==8.1\n",
            "Best match: websockets 8.1\n",
            "Processing websockets-8.1-py3.6-linux-x86_64.egg\n",
            "websockets 8.1 is already the active version in easy-install.pth\n",
            "\n",
            "Using /usr/local/lib/python3.6/dist-packages/websockets-8.1-py3.6-linux-x86_64.egg\n",
            "Searching for websocket-client==0.57.0\n",
            "Best match: websocket-client 0.57.0\n",
            "Processing websocket_client-0.57.0-py3.6.egg\n",
            "websocket-client 0.57.0 is already the active version in easy-install.pth\n",
            "Installing wsdump.py script to /usr/local/bin\n",
            "\n",
            "Using /usr/local/lib/python3.6/dist-packages/websocket_client-0.57.0-py3.6.egg\n",
            "Searching for tornado==4.5.3\n",
            "Best match: tornado 4.5.3\n",
            "Adding tornado 4.5.3 to easy-install.pth file\n",
            "\n",
            "Using /usr/local/lib/python3.6/dist-packages\n",
            "Searching for torch==1.4.0\n",
            "Best match: torch 1.4.0\n",
            "Adding torch 1.4.0 to easy-install.pth file\n",
            "Installing convert-caffe2-to-onnx script to /usr/local/bin\n",
            "Installing convert-onnx-to-caffe2 script to /usr/local/bin\n",
            "\n",
            "Using /usr/local/lib/python3.6/dist-packages\n",
            "Searching for torchvision==0.5.0\n",
            "Best match: torchvision 0.5.0\n",
            "Adding torchvision 0.5.0 to easy-install.pth file\n",
            "\n",
            "Using /usr/local/lib/python3.6/dist-packages\n",
            "Searching for tblib==1.6.0\n",
            "Best match: tblib 1.6.0\n",
            "Adding tblib 1.6.0 to easy-install.pth file\n",
            "\n",
            "Using /usr/local/lib/python3.6/dist-packages\n",
            "Searching for syft-proto==0.2.5a1\n",
            "Best match: syft-proto 0.2.5a1\n",
            "Processing syft_proto-0.2.5a1-py3.6.egg\n",
            "syft-proto 0.2.5a1 is already the active version in easy-install.pth\n",
            "\n",
            "Using /usr/local/lib/python3.6/dist-packages/syft_proto-0.2.5a1-py3.6.egg\n",
            "Searching for scipy==1.4.1\n",
            "Best match: scipy 1.4.1\n",
            "Adding scipy 1.4.1 to easy-install.pth file\n",
            "\n",
            "Using /usr/local/lib/python3.6/dist-packages\n",
            "Searching for phe==1.4.0\n",
            "Best match: phe 1.4.0\n",
            "Processing phe-1.4.0-py3.6.egg\n",
            "phe 1.4.0 is already the active version in easy-install.pth\n",
            "Installing pheutil script to /usr/local/bin\n",
            "\n",
            "Using /usr/local/lib/python3.6/dist-packages/phe-1.4.0-py3.6.egg\n",
            "Searching for numpy==1.18.2\n",
            "Best match: numpy 1.18.2\n",
            "Adding numpy 1.18.2 to easy-install.pth file\n",
            "Installing f2py script to /usr/local/bin\n",
            "Installing f2py3 script to /usr/local/bin\n",
            "Installing f2py3.6 script to /usr/local/bin\n",
            "\n",
            "Using /usr/local/lib/python3.6/dist-packages\n",
            "Searching for msgpack==1.0.0\n",
            "Best match: msgpack 1.0.0\n",
            "Adding msgpack 1.0.0 to easy-install.pth file\n",
            "\n",
            "Using /usr/local/lib/python3.6/dist-packages\n",
            "Searching for lz4==3.0.2\n",
            "Best match: lz4 3.0.2\n",
            "Processing lz4-3.0.2-py3.6-linux-x86_64.egg\n",
            "lz4 3.0.2 is already the active version in easy-install.pth\n",
            "\n",
            "Using /usr/local/lib/python3.6/dist-packages/lz4-3.0.2-py3.6-linux-x86_64.egg\n",
            "Searching for Flask-SocketIO==4.2.1\n",
            "Best match: Flask-SocketIO 4.2.1\n",
            "Processing Flask_SocketIO-4.2.1-py3.6.egg\n",
            "Flask-SocketIO 4.2.1 is already the active version in easy-install.pth\n",
            "\n",
            "Using /usr/local/lib/python3.6/dist-packages/Flask_SocketIO-4.2.1-py3.6.egg\n",
            "Searching for Pillow==6.2.2\n",
            "Best match: Pillow 6.2.2\n",
            "Processing Pillow-6.2.2-py3.6-linux-x86_64.egg\n",
            "Pillow 6.2.2 is already the active version in easy-install.pth\n",
            "\n",
            "Using /usr/local/lib/python3.6/dist-packages/Pillow-6.2.2-py3.6-linux-x86_64.egg\n",
            "Searching for Flask==1.1.2\n",
            "Best match: Flask 1.1.2\n",
            "Adding Flask 1.1.2 to easy-install.pth file\n",
            "Installing flask script to /usr/local/bin\n",
            "\n",
            "Using /usr/local/lib/python3.6/dist-packages\n",
            "Searching for six==1.12.0\n",
            "Best match: six 1.12.0\n",
            "Adding six 1.12.0 to easy-install.pth file\n",
            "\n",
            "Using /usr/local/lib/python3.6/dist-packages\n",
            "Searching for protobuf==3.11.3\n",
            "Best match: protobuf 3.11.3\n",
            "Processing protobuf-3.11.3-py3.6-linux-x86_64.egg\n",
            "protobuf 3.11.3 is already the active version in easy-install.pth\n",
            "\n",
            "Using /usr/local/lib/python3.6/dist-packages/protobuf-3.11.3-py3.6-linux-x86_64.egg\n",
            "Searching for python-socketio==4.5.1\n",
            "Best match: python-socketio 4.5.1\n",
            "Processing python_socketio-4.5.1-py3.6.egg\n",
            "python-socketio 4.5.1 is already the active version in easy-install.pth\n",
            "\n",
            "Using /usr/local/lib/python3.6/dist-packages/python_socketio-4.5.1-py3.6.egg\n",
            "Searching for Werkzeug==1.0.1\n",
            "Best match: Werkzeug 1.0.1\n",
            "Adding Werkzeug 1.0.1 to easy-install.pth file\n",
            "\n",
            "Using /usr/local/lib/python3.6/dist-packages\n",
            "Searching for click==7.1.1\n",
            "Best match: click 7.1.1\n",
            "Adding click 7.1.1 to easy-install.pth file\n",
            "\n",
            "Using /usr/local/lib/python3.6/dist-packages\n",
            "Searching for Jinja2==2.11.1\n",
            "Best match: Jinja2 2.11.1\n",
            "Adding Jinja2 2.11.1 to easy-install.pth file\n",
            "\n",
            "Using /usr/local/lib/python3.6/dist-packages\n",
            "Searching for itsdangerous==1.1.0\n",
            "Best match: itsdangerous 1.1.0\n",
            "Adding itsdangerous 1.1.0 to easy-install.pth file\n",
            "\n",
            "Using /usr/local/lib/python3.6/dist-packages\n",
            "Searching for setuptools==46.1.3\n",
            "Best match: setuptools 46.1.3\n",
            "Adding setuptools 46.1.3 to easy-install.pth file\n",
            "Installing easy_install script to /usr/local/bin\n",
            "Installing easy_install-3.8 script to /usr/local/bin\n",
            "\n",
            "Using /usr/local/lib/python3.6/dist-packages\n",
            "Searching for python-engineio==3.12.1\n",
            "Best match: python-engineio 3.12.1\n",
            "Processing python_engineio-3.12.1-py3.6.egg\n",
            "python-engineio 3.12.1 is already the active version in easy-install.pth\n",
            "\n",
            "Using /usr/local/lib/python3.6/dist-packages/python_engineio-3.12.1-py3.6.egg\n",
            "Searching for MarkupSafe==1.1.1\n",
            "Best match: MarkupSafe 1.1.1\n",
            "Adding MarkupSafe 1.1.1 to easy-install.pth file\n",
            "\n",
            "Using /usr/local/lib/python3.6/dist-packages\n",
            "Finished processing dependencies for syfertext==0.1.0.dev2\n"
          ],
          "name": "stdout"
        }
      ]
    },
    {
      "cell_type": "code",
      "metadata": {
        "id": "GpQH2yapL4id",
        "colab_type": "code",
        "colab": {}
      },
      "source": [
        "# Hide warnings (nothing to do with SyferText)\n",
        "import warnings\n",
        "warnings.filterwarnings('ignore')"
      ],
      "execution_count": 0,
      "outputs": []
    },
    {
      "cell_type": "code",
      "metadata": {
        "id": "9c9uMU_OL4io",
        "colab_type": "code",
        "colab": {
          "base_uri": "https://localhost:8080/",
          "height": 52
        },
        "outputId": "abfafba1-bd9d-406b-8dea-5362aec0b875"
      },
      "source": [
        "import syft as sy\n",
        "import torch\n",
        "import syfertext\n",
        "\n",
        "# Import PySyft's String class\n",
        "from syft.generic.string import String"
      ],
      "execution_count": 2,
      "outputs": [
        {
          "output_type": "stream",
          "text": [
            "WARNING:root:Torch was already hooked... skipping hooking process\n",
            "WARNING:root:Torch was already hooked... skipping hooking process\n"
          ],
          "name": "stderr"
        }
      ]
    },
    {
      "cell_type": "markdown",
      "metadata": {
        "id": "u39hP2eLL4iy",
        "colab_type": "text"
      },
      "source": [
        "We now need to hook PyTorch using the TorchHook in PySyft"
      ]
    },
    {
      "cell_type": "code",
      "metadata": {
        "id": "DtwfGFcWL4i0",
        "colab_type": "code",
        "colab": {
          "base_uri": "https://localhost:8080/",
          "height": 34
        },
        "outputId": "6e1b00c3-47f3-43ab-f583-22a31005324b"
      },
      "source": [
        "hook = sy.TorchHook(torch)"
      ],
      "execution_count": 3,
      "outputs": [
        {
          "output_type": "stream",
          "text": [
            "WARNING:root:Torch was already hooked... skipping hooking process\n"
          ],
          "name": "stderr"
        }
      ]
    },
    {
      "cell_type": "markdown",
      "metadata": {
        "id": "eY0Qnl2YL4i9",
        "colab_type": "text"
      },
      "source": [
        "This will endow PyTorch with magic powers, privacy-preserving deep learning powers, such as Federated Learning, Differential Privacy, Encrypted Training tools and more. To learn more about PySyft, you can check out its awesome [tutorial notebooks](https://github.com/OpenMined/PySyft/tree/master/examples/tutorials)."
      ]
    },
    {
      "cell_type": "markdown",
      "metadata": {
        "id": "vcAZk7-tL4i_",
        "colab_type": "text"
      },
      "source": [
        "Every machine in PySyft is called a worker. Since we are using SyferText to tokenize a string on a remote machine, then we should get an instance of the object representing that worker. So let's now create fours workers. We will call the local worker 'me', and the remote workers 'bob' and 'alice'. A fourth worker that will act as the crypto provider for SMPC, the encryption algorithm PySyft uses, should also be created."
      ]
    },
    {
      "cell_type": "code",
      "metadata": {
        "id": "pkh24cciL4jA",
        "colab_type": "code",
        "colab": {}
      },
      "source": [
        "# The local worker\n",
        "me = hook.local_worker\n",
        "\n",
        "# The remote workers\n",
        "bob = sy.VirtualWorker(hook, id = 'bob')\n",
        "alice = sy.VirtualWorker(hook, id = 'alice')\n",
        "\n",
        "# The crypto provider\n",
        "crypto_provider = sy.VirtualWorker(hook, id = 'crypto_provider')"
      ],
      "execution_count": 0,
      "outputs": []
    },
    {
      "cell_type": "markdown",
      "metadata": {
        "id": "z0hrcKXwL4jL",
        "colab_type": "text"
      },
      "source": [
        "We are now ready to load the language model. The only language model available for the moment in SyferText is `en_core_web_lg`, which is a model for English language simplified from spaCy's language model with the same name. Check out the  properties of that model [here](https://spacy.io/models/en#en_core_web_lg)."
      ]
    },
    {
      "cell_type": "code",
      "metadata": {
        "id": "9ai6ONu3L4jM",
        "colab_type": "code",
        "colab": {
          "base_uri": "https://localhost:8080/",
          "height": 34
        },
        "outputId": "93fa902b-977a-4ab2-cfc3-7d5e757d4e4d"
      },
      "source": [
        "nlp = syfertext.load('en_core_web_lg', owner = me)\n",
        "\n",
        "type(nlp), nlp.owner"
      ],
      "execution_count": 5,
      "outputs": [
        {
          "output_type": "execute_result",
          "data": {
            "text/plain": [
              "(syfertext.language.Language, <VirtualWorker id:me #objects:0>)"
            ]
          },
          "metadata": {
            "tags": []
          },
          "execution_count": 5
        }
      ]
    },
    {
      "cell_type": "code",
      "metadata": {
        "id": "i9k7HYCvZ-Mh",
        "colab_type": "code",
        "colab": {}
      },
      "source": [
        "doc = nlp(\"sbsg sdg sddgerh dfhbherh dsthth vvvvvvvvvvvvvvvvvvvvvvvvvvvvvvvvvvvvvvvvvvvvvvvvvvvvvvvvvvvvvvvvvvvvvvvvvvvvvvvvvv sfdbndf dfher ergerg\")"
      ],
      "execution_count": 0,
      "outputs": []
    },
    {
      "cell_type": "code",
      "metadata": {
        "id": "zC7pLVHDbIlq",
        "colab_type": "code",
        "colab": {}
      },
      "source": [
        "lex = nlp.vocab[\"fffffffffffffffffffffffffffffffffffffffffffffffffffffffffffffffffffffffffffffffffffffffffffff\"]"
      ],
      "execution_count": 0,
      "outputs": []
    },
    {
      "cell_type": "code",
      "metadata": {
        "id": "FX7eLZpgZ-JO",
        "colab_type": "code",
        "colab": {
          "base_uri": "https://localhost:8080/",
          "height": 34
        },
        "outputId": "5bcfdfdd-d757-407d-95c3-64ffe292822e"
      },
      "source": [
        "import sys\n",
        "sys.getsizeof(lex)"
      ],
      "execution_count": 8,
      "outputs": [
        {
          "output_type": "execute_result",
          "data": {
            "text/plain": [
              "56"
            ]
          },
          "metadata": {
            "tags": []
          },
          "execution_count": 8
        }
      ]
    },
    {
      "cell_type": "code",
      "metadata": {
        "id": "qswrI75xZ-Gh",
        "colab_type": "code",
        "colab": {}
      },
      "source": [
        ""
      ],
      "execution_count": 0,
      "outputs": []
    },
    {
      "cell_type": "code",
      "metadata": {
        "id": "aOvjk3toZ-B5",
        "colab_type": "code",
        "colab": {}
      },
      "source": [
        ""
      ],
      "execution_count": 0,
      "outputs": []
    },
    {
      "cell_type": "markdown",
      "metadata": {
        "id": "jzqAF7N0L4jU",
        "colab_type": "text"
      },
      "source": [
        "Notice from the cell's output that the `nlp` variable is an object of the `Language` class, and similar to all PySyft objects, it has an owner, which is a PySyft `VirtualWorker` representing our local machine. This corresponds to the illustration I showed you above were the `Language` object was shown to reside in the local worker."
      ]
    },
    {
      "cell_type": "markdown",
      "metadata": {
        "id": "WKzPyhALL4jW",
        "colab_type": "text"
      },
      "source": [
        "We are now going to create a PySyft `String` and send it to `bob`. This will be our remote string that we are going to tokenize:"
      ]
    },
    {
      "cell_type": "code",
      "metadata": {
        "id": "e3nwYAUDL4jX",
        "colab_type": "code",
        "colab": {
          "base_uri": "https://localhost:8080/",
          "height": 34
        },
        "outputId": "df7ab55d-f5bc-4a3e-9892-347a9321e96b"
      },
      "source": [
        "string = String('A string to tokenize')\n",
        "\n",
        "# Send the string to the remote worker `bob`\n",
        "string_ptr = string.send(bob)\n",
        "\n",
        "type(string_ptr)"
      ],
      "execution_count": 9,
      "outputs": [
        {
          "output_type": "execute_result",
          "data": {
            "text/plain": [
              "syft.generic.pointers.string_pointer.StringPointer"
            ]
          },
          "metadata": {
            "tags": []
          },
          "execution_count": 9
        }
      ]
    },
    {
      "cell_type": "markdown",
      "metadata": {
        "id": "XxJLxzL2L4jh",
        "colab_type": "text"
      },
      "source": [
        "Notice that the variable `string_ptr` is a `StringPointer` object returned by the `send()` method of the worker object. Let's make sure that the string is really sent to bob."
      ]
    },
    {
      "cell_type": "code",
      "metadata": {
        "id": "3xzGoNl3Njec",
        "colab_type": "code",
        "colab": {
          "base_uri": "https://localhost:8080/",
          "height": 34
        },
        "outputId": "f22cc93a-625e-4f7e-953e-14188f44e680"
      },
      "source": [
        "print(string_ptr)"
      ],
      "execution_count": 17,
      "outputs": [
        {
          "output_type": "stream",
          "text": [
            "<VirtualWorker id:me #objects:0>\n"
          ],
          "name": "stdout"
        }
      ]
    },
    {
      "cell_type": "code",
      "metadata": {
        "id": "f94msyPQL4jj",
        "colab_type": "code",
        "colab": {
          "base_uri": "https://localhost:8080/",
          "height": 34
        },
        "outputId": "47b42b9f-25da-46e3-8a9f-f18d997797c5"
      },
      "source": [
        "bob._objects"
      ],
      "execution_count": 11,
      "outputs": [
        {
          "output_type": "execute_result",
          "data": {
            "text/plain": [
              "{48342986056: 'A string to tokenize'}"
            ]
          },
          "metadata": {
            "tags": []
          },
          "execution_count": 11
        }
      ]
    },
    {
      "cell_type": "markdown",
      "metadata": {
        "id": "3i8GzVhRL4jr",
        "colab_type": "text"
      },
      "source": [
        "Notice that `bob`'s object store now includes the PySyft string we are willing to tokenizer.\n",
        "\n",
        "You might have noticed that printing out the `_objects` attribute has actually revealed the string text. This of course violates our assumption that the remote string is private. This is one main developement issue SyferText is going to integrate in the near future.\n",
        "\n",
        "We now have all what we need to tokenize the string. Let's do it:"
      ]
    },
    {
      "cell_type": "code",
      "metadata": {
        "id": "jk_LJu8fL4js",
        "colab_type": "code",
        "colab": {
          "base_uri": "https://localhost:8080/",
          "height": 52
        },
        "outputId": "01bedec4-2d89-4f15-c2a1-96ac9737a581"
      },
      "source": [
        "doc_ptr = nlp(string_ptr)\n",
        "\n",
        "# Some checks\n",
        "print(type(doc_ptr))\n",
        "print(doc_ptr)"
      ],
      "execution_count": 19,
      "outputs": [
        {
          "output_type": "stream",
          "text": [
            "<class 'syfertext.pointers.doc_pointer.DocPointer'>\n",
            "[DocPointer | me:66514214158 -> bob:61417454475]\n"
          ],
          "name": "stdout"
        }
      ]
    },
    {
      "cell_type": "markdown",
      "metadata": {
        "id": "e-WQdlFBL4j0",
        "colab_type": "text"
      },
      "source": [
        "From the above output, you can see that calling `nlp` with the `StringPointer` as its argument returns a `DocPointer` object that points to a `Doc` with a specified ID residing on `bob`, the remote worker.\n",
        "\n",
        "Let's check out if `bob` really has a `Doc` object with that ID:"
      ]
    },
    {
      "cell_type": "code",
      "metadata": {
        "id": "bbxBCXmKL4j2",
        "colab_type": "code",
        "colab": {
          "base_uri": "https://localhost:8080/",
          "height": 69
        },
        "outputId": "1cdd6ef1-0d8c-487d-e621-c7949b23c5d6"
      },
      "source": [
        "bob._objects"
      ],
      "execution_count": 13,
      "outputs": [
        {
          "output_type": "execute_result",
          "data": {
            "text/plain": [
              "{4921972040: Doc>None,\n",
              " 42112275222: SubPipeline[tokenizer],\n",
              " 48342986056: 'A string to tokenize'}"
            ]
          },
          "metadata": {
            "tags": []
          },
          "execution_count": 13
        }
      ]
    },
    {
      "cell_type": "markdown",
      "metadata": {
        "id": "9OpvA2pML4kB",
        "colab_type": "text"
      },
      "source": [
        "It does! `bob` has a `Doc` with the same ID specified by the `DocPointer` printout above. Moreover, the `Tokenizer` also resides on `bob` which is what you saw in the above illustration of SyferText's architecture at the beginning of this notebook."
      ]
    },
    {
      "cell_type": "markdown",
      "metadata": {
        "id": "ulW736ngL4kB",
        "colab_type": "text"
      },
      "source": [
        "Using that `DocPointer` we can now get an SMPC-encrypted string vector. For the moment, the string vector here is simply a concatenation of the individual token vectors of the string. "
      ]
    },
    {
      "cell_type": "code",
      "metadata": {
        "id": "udLsUx4AjUqU",
        "colab_type": "code",
        "colab": {
          "base_uri": "https://localhost:8080/",
          "height": 1000
        },
        "outputId": "c3fc6998-7a15-44c2-871a-d52a68c209c2"
      },
      "source": [
        "doc_vector_enc = doc_ptr.get_encrypted_vector(bob, alice, crypto_provider = crypto_provider)\n",
        "type(doc_ptr)\n",
        "\n",
        "\n"
      ],
      "execution_count": 14,
      "outputs": [
        {
          "output_type": "error",
          "ename": "AttributeError",
          "evalue": "ignored",
          "traceback": [
            "\u001b[0;31m---------------------------------------------------------------------------\u001b[0m",
            "\u001b[0;31mAttributeError\u001b[0m                            Traceback (most recent call last)",
            "\u001b[0;32m<ipython-input-14-7f62d1ae77e8>\u001b[0m in \u001b[0;36m<module>\u001b[0;34m()\u001b[0m\n\u001b[0;32m----> 1\u001b[0;31m \u001b[0mdoc_vector_enc\u001b[0m \u001b[0;34m=\u001b[0m \u001b[0mdoc_ptr\u001b[0m\u001b[0;34m.\u001b[0m\u001b[0mget_encrypted_vector\u001b[0m\u001b[0;34m(\u001b[0m\u001b[0mbob\u001b[0m\u001b[0;34m,\u001b[0m \u001b[0malice\u001b[0m\u001b[0;34m,\u001b[0m \u001b[0mcrypto_provider\u001b[0m \u001b[0;34m=\u001b[0m \u001b[0mcrypto_provider\u001b[0m\u001b[0;34m)\u001b[0m\u001b[0;34m\u001b[0m\u001b[0;34m\u001b[0m\u001b[0m\n\u001b[0m\u001b[1;32m      2\u001b[0m \u001b[0mtype\u001b[0m\u001b[0;34m(\u001b[0m\u001b[0mdoc_ptr\u001b[0m\u001b[0;34m)\u001b[0m\u001b[0;34m\u001b[0m\u001b[0;34m\u001b[0m\u001b[0m\n\u001b[1;32m      3\u001b[0m \u001b[0mdoc_ptr\u001b[0m\u001b[0;34m[\u001b[0m\u001b[0;36m1\u001b[0m\u001b[0;34m]\u001b[0m\u001b[0;34m\u001b[0m\u001b[0;34m\u001b[0m\u001b[0m\n\u001b[1;32m      4\u001b[0m \u001b[0;34m\u001b[0m\u001b[0m\n",
            "\u001b[0;32m/usr/local/lib/python3.6/dist-packages/syfertext-0.1.0.dev2-py3.6.egg/syfertext/pointers/doc_pointer.py\u001b[0m in \u001b[0;36mget_encrypted_vector\u001b[0;34m(self, crypto_provider, requires_grad, *workers)\u001b[0m\n\u001b[1;32m     51\u001b[0m \u001b[0;34m\u001b[0m\u001b[0m\n\u001b[1;32m     52\u001b[0m         \u001b[0;31m# Send the command\u001b[0m\u001b[0;34m\u001b[0m\u001b[0;34m\u001b[0m\u001b[0;34m\u001b[0m\u001b[0m\n\u001b[0;32m---> 53\u001b[0;31m         \u001b[0mdoc_vector\u001b[0m \u001b[0;34m=\u001b[0m \u001b[0mself\u001b[0m\u001b[0;34m.\u001b[0m\u001b[0mowner\u001b[0m\u001b[0;34m.\u001b[0m\u001b[0msend_command\u001b[0m\u001b[0;34m(\u001b[0m\u001b[0mself\u001b[0m\u001b[0;34m.\u001b[0m\u001b[0mlocation\u001b[0m\u001b[0;34m,\u001b[0m \u001b[0mcommand\u001b[0m\u001b[0;34m)\u001b[0m\u001b[0;34m\u001b[0m\u001b[0;34m\u001b[0m\u001b[0m\n\u001b[0m\u001b[1;32m     54\u001b[0m \u001b[0;34m\u001b[0m\u001b[0m\n\u001b[1;32m     55\u001b[0m         \u001b[0;31m# I call get because the returned object is a PointerTensor to the AdditiveSharedTensor\u001b[0m\u001b[0;34m\u001b[0m\u001b[0;34m\u001b[0m\u001b[0;34m\u001b[0m\u001b[0m\n",
            "\u001b[0;32m/usr/local/lib/python3.6/dist-packages/syft-0.2.4-py3.6.egg/syft/workers/base.py\u001b[0m in \u001b[0;36msend_command\u001b[0;34m(self, recipient, message, return_ids)\u001b[0m\n\u001b[1;32m    581\u001b[0m         \u001b[0;32mtry\u001b[0m\u001b[0;34m:\u001b[0m\u001b[0;34m\u001b[0m\u001b[0;34m\u001b[0m\u001b[0m\n\u001b[1;32m    582\u001b[0m             \u001b[0mmessage\u001b[0m \u001b[0;34m=\u001b[0m \u001b[0mTensorCommandMessage\u001b[0m\u001b[0;34m.\u001b[0m\u001b[0mcomputation\u001b[0m\u001b[0;34m(\u001b[0m\u001b[0mname\u001b[0m\u001b[0;34m,\u001b[0m \u001b[0mtarget\u001b[0m\u001b[0;34m,\u001b[0m \u001b[0margs_\u001b[0m\u001b[0;34m,\u001b[0m \u001b[0mkwargs_\u001b[0m\u001b[0;34m,\u001b[0m \u001b[0mreturn_ids\u001b[0m\u001b[0;34m)\u001b[0m\u001b[0;34m\u001b[0m\u001b[0;34m\u001b[0m\u001b[0m\n\u001b[0;32m--> 583\u001b[0;31m             \u001b[0mret_val\u001b[0m \u001b[0;34m=\u001b[0m \u001b[0mself\u001b[0m\u001b[0;34m.\u001b[0m\u001b[0msend_msg\u001b[0m\u001b[0;34m(\u001b[0m\u001b[0mmessage\u001b[0m\u001b[0;34m,\u001b[0m \u001b[0mlocation\u001b[0m\u001b[0;34m=\u001b[0m\u001b[0mrecipient\u001b[0m\u001b[0;34m)\u001b[0m\u001b[0;34m\u001b[0m\u001b[0;34m\u001b[0m\u001b[0m\n\u001b[0m\u001b[1;32m    584\u001b[0m         \u001b[0;32mexcept\u001b[0m \u001b[0mResponseSignatureError\u001b[0m \u001b[0;32mas\u001b[0m \u001b[0me\u001b[0m\u001b[0;34m:\u001b[0m\u001b[0;34m\u001b[0m\u001b[0;34m\u001b[0m\u001b[0m\n\u001b[1;32m    585\u001b[0m             \u001b[0mret_val\u001b[0m \u001b[0;34m=\u001b[0m \u001b[0;32mNone\u001b[0m\u001b[0;34m\u001b[0m\u001b[0;34m\u001b[0m\u001b[0m\n",
            "\u001b[0;32m/usr/local/lib/python3.6/dist-packages/syft-0.2.4-py3.6.egg/syft/workers/base.py\u001b[0m in \u001b[0;36msend_msg\u001b[0;34m(self, message, location)\u001b[0m\n\u001b[1;32m    285\u001b[0m \u001b[0;34m\u001b[0m\u001b[0m\n\u001b[1;32m    286\u001b[0m         \u001b[0;31m# Step 2: send the message and wait for a response\u001b[0m\u001b[0;34m\u001b[0m\u001b[0;34m\u001b[0m\u001b[0;34m\u001b[0m\u001b[0m\n\u001b[0;32m--> 287\u001b[0;31m         \u001b[0mbin_response\u001b[0m \u001b[0;34m=\u001b[0m \u001b[0mself\u001b[0m\u001b[0;34m.\u001b[0m\u001b[0m_send_msg\u001b[0m\u001b[0;34m(\u001b[0m\u001b[0mbin_message\u001b[0m\u001b[0;34m,\u001b[0m \u001b[0mlocation\u001b[0m\u001b[0;34m)\u001b[0m\u001b[0;34m\u001b[0m\u001b[0;34m\u001b[0m\u001b[0m\n\u001b[0m\u001b[1;32m    288\u001b[0m \u001b[0;34m\u001b[0m\u001b[0m\n\u001b[1;32m    289\u001b[0m         \u001b[0;31m# Step 3: deserialize the response\u001b[0m\u001b[0;34m\u001b[0m\u001b[0;34m\u001b[0m\u001b[0;34m\u001b[0m\u001b[0m\n",
            "\u001b[0;32m/usr/local/lib/python3.6/dist-packages/syft-0.2.4-py3.6.egg/syft/workers/virtual.py\u001b[0m in \u001b[0;36m_send_msg\u001b[0;34m(self, message, location)\u001b[0m\n\u001b[1;32m     13\u001b[0m             \u001b[0msleep\u001b[0m\u001b[0;34m(\u001b[0m\u001b[0mself\u001b[0m\u001b[0;34m.\u001b[0m\u001b[0mmessage_pending_time\u001b[0m\u001b[0;34m)\u001b[0m\u001b[0;34m\u001b[0m\u001b[0;34m\u001b[0m\u001b[0m\n\u001b[1;32m     14\u001b[0m \u001b[0;34m\u001b[0m\u001b[0m\n\u001b[0;32m---> 15\u001b[0;31m         \u001b[0;32mreturn\u001b[0m \u001b[0mlocation\u001b[0m\u001b[0;34m.\u001b[0m\u001b[0m_recv_msg\u001b[0m\u001b[0;34m(\u001b[0m\u001b[0mmessage\u001b[0m\u001b[0;34m)\u001b[0m\u001b[0;34m\u001b[0m\u001b[0;34m\u001b[0m\u001b[0m\n\u001b[0m\u001b[1;32m     16\u001b[0m \u001b[0;34m\u001b[0m\u001b[0m\n\u001b[1;32m     17\u001b[0m     \u001b[0;32mdef\u001b[0m \u001b[0m_recv_msg\u001b[0m\u001b[0;34m(\u001b[0m\u001b[0mself\u001b[0m\u001b[0;34m,\u001b[0m \u001b[0mmessage\u001b[0m\u001b[0;34m:\u001b[0m \u001b[0mbin\u001b[0m\u001b[0;34m)\u001b[0m \u001b[0;34m->\u001b[0m \u001b[0mbin\u001b[0m\u001b[0;34m:\u001b[0m\u001b[0;34m\u001b[0m\u001b[0;34m\u001b[0m\u001b[0m\n",
            "\u001b[0;32m/usr/local/lib/python3.6/dist-packages/syft-0.2.4-py3.6.egg/syft/workers/virtual.py\u001b[0m in \u001b[0;36m_recv_msg\u001b[0;34m(self, message)\u001b[0m\n\u001b[1;32m     17\u001b[0m     \u001b[0;32mdef\u001b[0m \u001b[0m_recv_msg\u001b[0m\u001b[0;34m(\u001b[0m\u001b[0mself\u001b[0m\u001b[0;34m,\u001b[0m \u001b[0mmessage\u001b[0m\u001b[0;34m:\u001b[0m \u001b[0mbin\u001b[0m\u001b[0;34m)\u001b[0m \u001b[0;34m->\u001b[0m \u001b[0mbin\u001b[0m\u001b[0;34m:\u001b[0m\u001b[0;34m\u001b[0m\u001b[0;34m\u001b[0m\u001b[0m\n\u001b[1;32m     18\u001b[0m         \u001b[0;34m\"\"\"receive message\"\"\"\u001b[0m\u001b[0;34m\u001b[0m\u001b[0;34m\u001b[0m\u001b[0m\n\u001b[0;32m---> 19\u001b[0;31m         \u001b[0;32mreturn\u001b[0m \u001b[0mself\u001b[0m\u001b[0;34m.\u001b[0m\u001b[0mrecv_msg\u001b[0m\u001b[0;34m(\u001b[0m\u001b[0mmessage\u001b[0m\u001b[0;34m)\u001b[0m\u001b[0;34m\u001b[0m\u001b[0;34m\u001b[0m\u001b[0m\n\u001b[0m",
            "\u001b[0;32m/usr/local/lib/python3.6/dist-packages/syft-0.2.4-py3.6.egg/syft/workers/base.py\u001b[0m in \u001b[0;36mrecv_msg\u001b[0;34m(self, bin_message)\u001b[0m\n\u001b[1;32m    318\u001b[0m \u001b[0;34m\u001b[0m\u001b[0m\n\u001b[1;32m    319\u001b[0m         \u001b[0;31m# Step 1: route message to appropriate function\u001b[0m\u001b[0;34m\u001b[0m\u001b[0;34m\u001b[0m\u001b[0;34m\u001b[0m\u001b[0m\n\u001b[0;32m--> 320\u001b[0;31m         \u001b[0mresponse\u001b[0m \u001b[0;34m=\u001b[0m \u001b[0mself\u001b[0m\u001b[0;34m.\u001b[0m\u001b[0m_message_router\u001b[0m\u001b[0;34m[\u001b[0m\u001b[0mtype\u001b[0m\u001b[0;34m(\u001b[0m\u001b[0mmsg\u001b[0m\u001b[0;34m)\u001b[0m\u001b[0;34m]\u001b[0m\u001b[0;34m(\u001b[0m\u001b[0mmsg\u001b[0m\u001b[0;34m)\u001b[0m\u001b[0;34m\u001b[0m\u001b[0;34m\u001b[0m\u001b[0m\n\u001b[0m\u001b[1;32m    321\u001b[0m \u001b[0;34m\u001b[0m\u001b[0m\n\u001b[1;32m    322\u001b[0m         \u001b[0;31m# Step 2: Serialize the message to simple python objects\u001b[0m\u001b[0;34m\u001b[0m\u001b[0;34m\u001b[0m\u001b[0;34m\u001b[0m\u001b[0m\n",
            "\u001b[0;32m/usr/local/lib/python3.6/dist-packages/syft-0.2.4-py3.6.egg/syft/workers/base.py\u001b[0m in \u001b[0;36mexecute_tensor_command\u001b[0;34m(self, cmd)\u001b[0m\n\u001b[1;32m    432\u001b[0m     \u001b[0;32mdef\u001b[0m \u001b[0mexecute_tensor_command\u001b[0m\u001b[0;34m(\u001b[0m\u001b[0mself\u001b[0m\u001b[0;34m,\u001b[0m \u001b[0mcmd\u001b[0m\u001b[0;34m:\u001b[0m \u001b[0mTensorCommandMessage\u001b[0m\u001b[0;34m)\u001b[0m \u001b[0;34m->\u001b[0m \u001b[0mPointerTensor\u001b[0m\u001b[0;34m:\u001b[0m\u001b[0;34m\u001b[0m\u001b[0;34m\u001b[0m\u001b[0m\n\u001b[1;32m    433\u001b[0m         \u001b[0;32mif\u001b[0m \u001b[0misinstance\u001b[0m\u001b[0;34m(\u001b[0m\u001b[0mcmd\u001b[0m\u001b[0;34m.\u001b[0m\u001b[0maction\u001b[0m\u001b[0;34m,\u001b[0m \u001b[0mComputationAction\u001b[0m\u001b[0;34m)\u001b[0m\u001b[0;34m:\u001b[0m\u001b[0;34m\u001b[0m\u001b[0;34m\u001b[0m\u001b[0m\n\u001b[0;32m--> 434\u001b[0;31m             \u001b[0;32mreturn\u001b[0m \u001b[0mself\u001b[0m\u001b[0;34m.\u001b[0m\u001b[0mexecute_computation_action\u001b[0m\u001b[0;34m(\u001b[0m\u001b[0mcmd\u001b[0m\u001b[0;34m.\u001b[0m\u001b[0maction\u001b[0m\u001b[0;34m)\u001b[0m\u001b[0;34m\u001b[0m\u001b[0;34m\u001b[0m\u001b[0m\n\u001b[0m\u001b[1;32m    435\u001b[0m         \u001b[0;32melse\u001b[0m\u001b[0;34m:\u001b[0m\u001b[0;34m\u001b[0m\u001b[0;34m\u001b[0m\u001b[0m\n\u001b[1;32m    436\u001b[0m             \u001b[0;32mreturn\u001b[0m \u001b[0mself\u001b[0m\u001b[0;34m.\u001b[0m\u001b[0mexecute_communication_action\u001b[0m\u001b[0;34m(\u001b[0m\u001b[0mcmd\u001b[0m\u001b[0;34m.\u001b[0m\u001b[0maction\u001b[0m\u001b[0;34m)\u001b[0m\u001b[0;34m\u001b[0m\u001b[0;34m\u001b[0m\u001b[0m\n",
            "\u001b[0;32m/usr/local/lib/python3.6/dist-packages/syft-0.2.4-py3.6.egg/syft/workers/base.py\u001b[0m in \u001b[0;36mexecute_computation_action\u001b[0;34m(self, action)\u001b[0m\n\u001b[1;32m    466\u001b[0m             \u001b[0;32melse\u001b[0m\u001b[0;34m:\u001b[0m\u001b[0;34m\u001b[0m\u001b[0;34m\u001b[0m\u001b[0m\n\u001b[1;32m    467\u001b[0m                 \u001b[0;32mtry\u001b[0m\u001b[0;34m:\u001b[0m\u001b[0;34m\u001b[0m\u001b[0;34m\u001b[0m\u001b[0m\n\u001b[0;32m--> 468\u001b[0;31m                     \u001b[0mresponse\u001b[0m \u001b[0;34m=\u001b[0m \u001b[0mgetattr\u001b[0m\u001b[0;34m(\u001b[0m\u001b[0m_self\u001b[0m\u001b[0;34m,\u001b[0m \u001b[0mop_name\u001b[0m\u001b[0;34m)\u001b[0m\u001b[0;34m(\u001b[0m\u001b[0;34m*\u001b[0m\u001b[0margs\u001b[0m\u001b[0;34m,\u001b[0m \u001b[0;34m**\u001b[0m\u001b[0mkwargs\u001b[0m\u001b[0;34m)\u001b[0m\u001b[0;34m\u001b[0m\u001b[0;34m\u001b[0m\u001b[0m\n\u001b[0m\u001b[1;32m    469\u001b[0m                 \u001b[0;32mexcept\u001b[0m \u001b[0mTypeError\u001b[0m\u001b[0;34m:\u001b[0m\u001b[0;34m\u001b[0m\u001b[0;34m\u001b[0m\u001b[0m\n\u001b[1;32m    470\u001b[0m                     \u001b[0;31m# TODO Andrew thinks this is gross, please fix. Instead need to properly deserialize strings\u001b[0m\u001b[0;34m\u001b[0m\u001b[0;34m\u001b[0m\u001b[0;34m\u001b[0m\u001b[0m\n",
            "\u001b[0;32m/usr/local/lib/python3.6/dist-packages/syfertext-0.1.0.dev2-py3.6.egg/syfertext/doc.py\u001b[0m in \u001b[0;36mget_encrypted_vector\u001b[0;34m(self, crypto_provider, requires_grad, excluded_tokens, *workers)\u001b[0m\n\u001b[1;32m    237\u001b[0m \u001b[0;34m\u001b[0m\u001b[0m\n\u001b[1;32m    238\u001b[0m         \u001b[0;31m# Storing the average of vectors of each in-vocabulary token's vectors\u001b[0m\u001b[0;34m\u001b[0m\u001b[0;34m\u001b[0m\u001b[0;34m\u001b[0m\u001b[0m\n\u001b[0;32m--> 239\u001b[0;31m         \u001b[0mdoc_vector\u001b[0m \u001b[0;34m=\u001b[0m \u001b[0mself\u001b[0m\u001b[0;34m.\u001b[0m\u001b[0mget_vector\u001b[0m\u001b[0;34m(\u001b[0m\u001b[0mexcluded_tokens\u001b[0m\u001b[0;34m=\u001b[0m\u001b[0mexcluded_tokens\u001b[0m\u001b[0;34m)\u001b[0m\u001b[0;34m\u001b[0m\u001b[0;34m\u001b[0m\u001b[0m\n\u001b[0m\u001b[1;32m    240\u001b[0m \u001b[0;34m\u001b[0m\u001b[0m\n\u001b[1;32m    241\u001b[0m         \u001b[0;31m# Create a Syft/Torch tensor\u001b[0m\u001b[0;34m\u001b[0m\u001b[0;34m\u001b[0m\u001b[0;34m\u001b[0m\u001b[0m\n",
            "\u001b[0;32m/usr/local/lib/python3.6/dist-packages/syfertext-0.1.0.dev2-py3.6.egg/syfertext/doc.py\u001b[0m in \u001b[0;36mget_vector\u001b[0;34m(self, excluded_tokens)\u001b[0m\n\u001b[1;32m    171\u001b[0m         \u001b[0;31m# if the excluded_token dict in None all token are included\u001b[0m\u001b[0;34m\u001b[0m\u001b[0;34m\u001b[0m\u001b[0;34m\u001b[0m\u001b[0m\n\u001b[1;32m    172\u001b[0m         \u001b[0;32mif\u001b[0m \u001b[0mexcluded_tokens\u001b[0m \u001b[0;32mis\u001b[0m \u001b[0;32mNone\u001b[0m\u001b[0;34m:\u001b[0m\u001b[0;34m\u001b[0m\u001b[0;34m\u001b[0m\u001b[0m\n\u001b[0;32m--> 173\u001b[0;31m             \u001b[0;32mreturn\u001b[0m \u001b[0mself\u001b[0m\u001b[0;34m.\u001b[0m\u001b[0mvector\u001b[0m\u001b[0;34m\u001b[0m\u001b[0;34m\u001b[0m\u001b[0m\n\u001b[0m\u001b[1;32m    174\u001b[0m \u001b[0;34m\u001b[0m\u001b[0m\n\u001b[1;32m    175\u001b[0m         \u001b[0;31m# enforcing that the values of the excluded_tokens dict are sets, not lists.\u001b[0m\u001b[0;34m\u001b[0m\u001b[0;34m\u001b[0m\u001b[0;34m\u001b[0m\u001b[0m\n",
            "\u001b[0;32m/usr/local/lib/python3.6/dist-packages/syfertext-0.1.0.dev2-py3.6.egg/syfertext/doc.py\u001b[0m in \u001b[0;36mvector\u001b[0;34m(self)\u001b[0m\n\u001b[1;32m    136\u001b[0m         \u001b[0mvector_count\u001b[0m \u001b[0;34m=\u001b[0m \u001b[0;36m0\u001b[0m\u001b[0;34m\u001b[0m\u001b[0;34m\u001b[0m\u001b[0m\n\u001b[1;32m    137\u001b[0m \u001b[0;34m\u001b[0m\u001b[0m\n\u001b[0;32m--> 138\u001b[0;31m         \u001b[0;32mfor\u001b[0m \u001b[0mtoken\u001b[0m \u001b[0;32min\u001b[0m \u001b[0mself\u001b[0m\u001b[0;34m:\u001b[0m\u001b[0;34m\u001b[0m\u001b[0;34m\u001b[0m\u001b[0m\n\u001b[0m\u001b[1;32m    139\u001b[0m \u001b[0;34m\u001b[0m\u001b[0m\n\u001b[1;32m    140\u001b[0m             \u001b[0;31m# Get the vector of the token if one exists\u001b[0m\u001b[0;34m\u001b[0m\u001b[0;34m\u001b[0m\u001b[0;34m\u001b[0m\u001b[0m\n",
            "\u001b[0;32m/usr/local/lib/python3.6/dist-packages/syfertext-0.1.0.dev2-py3.6.egg/syfertext/doc.py\u001b[0m in \u001b[0;36m__iter__\u001b[0;34m(self)\u001b[0m\n\u001b[1;32m    120\u001b[0m \u001b[0;34m\u001b[0m\u001b[0m\n\u001b[1;32m    121\u001b[0m             \u001b[0;31m# Yield a Token object\u001b[0m\u001b[0;34m\u001b[0m\u001b[0;34m\u001b[0m\u001b[0;34m\u001b[0m\u001b[0m\n\u001b[0;32m--> 122\u001b[0;31m             \u001b[0;32myield\u001b[0m \u001b[0mself\u001b[0m\u001b[0;34m[\u001b[0m\u001b[0mi\u001b[0m\u001b[0;34m]\u001b[0m\u001b[0;34m\u001b[0m\u001b[0;34m\u001b[0m\u001b[0m\n\u001b[0m\u001b[1;32m    123\u001b[0m \u001b[0;34m\u001b[0m\u001b[0m\n\u001b[1;32m    124\u001b[0m     \u001b[0;34m@\u001b[0m\u001b[0mproperty\u001b[0m\u001b[0;34m\u001b[0m\u001b[0;34m\u001b[0m\u001b[0m\n",
            "\u001b[0;32m/usr/local/lib/python3.6/dist-packages/syfertext-0.1.0.dev2-py3.6.egg/syfertext/doc.py\u001b[0m in \u001b[0;36m__getitem__\u001b[0;34m(self, key)\u001b[0m\n\u001b[1;32m     72\u001b[0m \u001b[0;34m\u001b[0m\u001b[0m\n\u001b[1;32m     73\u001b[0m         \u001b[0;31m# Create a Token object\u001b[0m\u001b[0;34m\u001b[0m\u001b[0;34m\u001b[0m\u001b[0;34m\u001b[0m\u001b[0m\n\u001b[0;32m---> 74\u001b[0;31m         \u001b[0mtoken\u001b[0m \u001b[0;34m=\u001b[0m \u001b[0mToken\u001b[0m\u001b[0;34m(\u001b[0m\u001b[0mvocab\u001b[0m\u001b[0;34m=\u001b[0m\u001b[0mself\u001b[0m\u001b[0;34m.\u001b[0m\u001b[0mvocab\u001b[0m\u001b[0;34m,\u001b[0m \u001b[0mdoc\u001b[0m\u001b[0;34m=\u001b[0m\u001b[0mself\u001b[0m\u001b[0;34m,\u001b[0m \u001b[0mtoken_meta\u001b[0m\u001b[0;34m=\u001b[0m\u001b[0mtoken_meta\u001b[0m\u001b[0;34m)\u001b[0m\u001b[0;34m\u001b[0m\u001b[0;34m\u001b[0m\u001b[0m\n\u001b[0m\u001b[1;32m     75\u001b[0m \u001b[0;34m\u001b[0m\u001b[0m\n\u001b[1;32m     76\u001b[0m         \u001b[0;32mreturn\u001b[0m \u001b[0mtoken\u001b[0m\u001b[0;34m\u001b[0m\u001b[0;34m\u001b[0m\u001b[0m\n",
            "\u001b[0;32m/usr/local/lib/python3.6/dist-packages/syfertext-0.1.0.dev2-py3.6.egg/syfertext/token.py\u001b[0m in \u001b[0;36m__init__\u001b[0;34m(self, vocab, doc, token_meta)\u001b[0m\n\u001b[1;32m     23\u001b[0m \u001b[0;34m\u001b[0m\u001b[0m\n\u001b[1;32m     24\u001b[0m         \u001b[0;31m# LexMeta object for the corresponding token string\u001b[0m\u001b[0;34m\u001b[0m\u001b[0;34m\u001b[0m\u001b[0;34m\u001b[0m\u001b[0m\n\u001b[0;32m---> 25\u001b[0;31m         \u001b[0mself\u001b[0m\u001b[0;34m.\u001b[0m\u001b[0mlex\u001b[0m \u001b[0;34m=\u001b[0m \u001b[0mself\u001b[0m\u001b[0;34m.\u001b[0m\u001b[0mdoc\u001b[0m\u001b[0;34m.\u001b[0m\u001b[0mvocab\u001b[0m\u001b[0;34m.\u001b[0m\u001b[0mget_by_orth\u001b[0m\u001b[0;34m(\u001b[0m\u001b[0mself\u001b[0m\u001b[0;34m.\u001b[0m\u001b[0morth\u001b[0m\u001b[0;34m)\u001b[0m\u001b[0;34m\u001b[0m\u001b[0;34m\u001b[0m\u001b[0m\n\u001b[0m\u001b[1;32m     26\u001b[0m \u001b[0;34m\u001b[0m\u001b[0m\n\u001b[1;32m     27\u001b[0m         \u001b[0;31m# Whether the token is followed by a single white\u001b[0m\u001b[0;34m\u001b[0m\u001b[0;34m\u001b[0m\u001b[0;34m\u001b[0m\u001b[0m\n",
            "\u001b[0;32m/usr/local/lib/python3.6/dist-packages/syfertext-0.1.0.dev2-py3.6.egg/syfertext/vocab.py\u001b[0m in \u001b[0;36mget_by_orth\u001b[0;34m(self, orth)\u001b[0m\n\u001b[1;32m    127\u001b[0m         \u001b[0;32melse\u001b[0m\u001b[0;34m:\u001b[0m\u001b[0;34m\u001b[0m\u001b[0;34m\u001b[0m\u001b[0m\n\u001b[1;32m    128\u001b[0m             \u001b[0;31m# Create the new LexemeMeta object.\u001b[0m\u001b[0;34m\u001b[0m\u001b[0;34m\u001b[0m\u001b[0;34m\u001b[0m\u001b[0m\n\u001b[0;32m--> 129\u001b[0;31m             \u001b[0;32mreturn\u001b[0m \u001b[0mself\u001b[0m\u001b[0;34m.\u001b[0m\u001b[0m_create_lex\u001b[0m\u001b[0;34m(\u001b[0m\u001b[0mself\u001b[0m\u001b[0;34m.\u001b[0m\u001b[0mstore\u001b[0m\u001b[0;34m[\u001b[0m\u001b[0morth\u001b[0m\u001b[0;34m]\u001b[0m\u001b[0;34m)\u001b[0m\u001b[0;34m\u001b[0m\u001b[0;34m\u001b[0m\u001b[0m\n\u001b[0m\u001b[1;32m    130\u001b[0m \u001b[0;34m\u001b[0m\u001b[0m\n\u001b[1;32m    131\u001b[0m     \u001b[0;32mdef\u001b[0m \u001b[0m_create_lex\u001b[0m\u001b[0;34m(\u001b[0m\u001b[0mself\u001b[0m\u001b[0;34m,\u001b[0m \u001b[0mstring\u001b[0m\u001b[0;34m:\u001b[0m \u001b[0mstr\u001b[0m\u001b[0;34m)\u001b[0m \u001b[0;34m->\u001b[0m \u001b[0mLexemeMeta\u001b[0m\u001b[0;34m:\u001b[0m\u001b[0;34m\u001b[0m\u001b[0;34m\u001b[0m\u001b[0m\n",
            "\u001b[0;32m/usr/local/lib/python3.6/dist-packages/syfertext-0.1.0.dev2-py3.6.egg/syfertext/vocab.py\u001b[0m in \u001b[0;36m_create_lex\u001b[0;34m(self, string)\u001b[0m\n\u001b[1;32m    146\u001b[0m \u001b[0;34m\u001b[0m\u001b[0m\n\u001b[1;32m    147\u001b[0m         \u001b[0;31m# Traverse all the lexical attributes getters in the dict.\u001b[0m\u001b[0;34m\u001b[0m\u001b[0;34m\u001b[0m\u001b[0;34m\u001b[0m\u001b[0m\n\u001b[0;32m--> 148\u001b[0;31m         \u001b[0;32mfor\u001b[0m \u001b[0mattr\u001b[0m\u001b[0;34m,\u001b[0m \u001b[0mfunc\u001b[0m \u001b[0;32min\u001b[0m \u001b[0mself\u001b[0m\u001b[0;34m.\u001b[0m\u001b[0mlex_attr_getters\u001b[0m\u001b[0;34m.\u001b[0m\u001b[0mitems\u001b[0m\u001b[0;34m(\u001b[0m\u001b[0;34m)\u001b[0m\u001b[0;34m:\u001b[0m\u001b[0;34m\u001b[0m\u001b[0;34m\u001b[0m\u001b[0m\n\u001b[0m\u001b[1;32m    149\u001b[0m             \u001b[0mvalue\u001b[0m \u001b[0;34m=\u001b[0m \u001b[0mfunc\u001b[0m\u001b[0;34m(\u001b[0m\u001b[0mstring\u001b[0m\u001b[0;34m)\u001b[0m\u001b[0;34m\u001b[0m\u001b[0;34m\u001b[0m\u001b[0m\n\u001b[1;32m    150\u001b[0m \u001b[0;34m\u001b[0m\u001b[0m\n",
            "\u001b[0;31mAttributeError\u001b[0m: 'NoneType' object has no attribute 'items'"
          ]
        }
      ]
    },
    {
      "cell_type": "code",
      "metadata": {
        "id": "lrmZAyAXL4kG",
        "colab_type": "code",
        "colab": {
          "base_uri": "https://localhost:8080/",
          "height": 1000
        },
        "outputId": "df36b6b1-4204-4a57-9089-bff0929aab77"
      },
      "source": [
        "doc_vector_enc = doc_ptr.get_encrypted_vector(bob, alice, crypto_provider = crypto_provider)\n",
        "\n",
        "print(f' Vector size is {doc_vector_enc.shape[0]}')\n",
        "print(doc_vector_enc)"
      ],
      "execution_count": 15,
      "outputs": [
        {
          "output_type": "error",
          "ename": "AttributeError",
          "evalue": "ignored",
          "traceback": [
            "\u001b[0;31m---------------------------------------------------------------------------\u001b[0m",
            "\u001b[0;31mAttributeError\u001b[0m                            Traceback (most recent call last)",
            "\u001b[0;32m<ipython-input-15-7eda4cf48fa7>\u001b[0m in \u001b[0;36m<module>\u001b[0;34m()\u001b[0m\n\u001b[0;32m----> 1\u001b[0;31m \u001b[0mdoc_vector_enc\u001b[0m \u001b[0;34m=\u001b[0m \u001b[0mdoc_ptr\u001b[0m\u001b[0;34m.\u001b[0m\u001b[0mget_encrypted_vector\u001b[0m\u001b[0;34m(\u001b[0m\u001b[0mbob\u001b[0m\u001b[0;34m,\u001b[0m \u001b[0malice\u001b[0m\u001b[0;34m,\u001b[0m \u001b[0mcrypto_provider\u001b[0m \u001b[0;34m=\u001b[0m \u001b[0mcrypto_provider\u001b[0m\u001b[0;34m)\u001b[0m\u001b[0;34m\u001b[0m\u001b[0;34m\u001b[0m\u001b[0m\n\u001b[0m\u001b[1;32m      2\u001b[0m \u001b[0;34m\u001b[0m\u001b[0m\n\u001b[1;32m      3\u001b[0m \u001b[0mprint\u001b[0m\u001b[0;34m(\u001b[0m\u001b[0;34mf' Vector size is {doc_vector_enc.shape[0]}'\u001b[0m\u001b[0;34m)\u001b[0m\u001b[0;34m\u001b[0m\u001b[0;34m\u001b[0m\u001b[0m\n\u001b[1;32m      4\u001b[0m \u001b[0mprint\u001b[0m\u001b[0;34m(\u001b[0m\u001b[0mdoc_vector_enc\u001b[0m\u001b[0;34m)\u001b[0m\u001b[0;34m\u001b[0m\u001b[0;34m\u001b[0m\u001b[0m\n",
            "\u001b[0;32m/usr/local/lib/python3.6/dist-packages/syfertext-0.1.0.dev2-py3.6.egg/syfertext/pointers/doc_pointer.py\u001b[0m in \u001b[0;36mget_encrypted_vector\u001b[0;34m(self, crypto_provider, requires_grad, *workers)\u001b[0m\n\u001b[1;32m     51\u001b[0m \u001b[0;34m\u001b[0m\u001b[0m\n\u001b[1;32m     52\u001b[0m         \u001b[0;31m# Send the command\u001b[0m\u001b[0;34m\u001b[0m\u001b[0;34m\u001b[0m\u001b[0;34m\u001b[0m\u001b[0m\n\u001b[0;32m---> 53\u001b[0;31m         \u001b[0mdoc_vector\u001b[0m \u001b[0;34m=\u001b[0m \u001b[0mself\u001b[0m\u001b[0;34m.\u001b[0m\u001b[0mowner\u001b[0m\u001b[0;34m.\u001b[0m\u001b[0msend_command\u001b[0m\u001b[0;34m(\u001b[0m\u001b[0mself\u001b[0m\u001b[0;34m.\u001b[0m\u001b[0mlocation\u001b[0m\u001b[0;34m,\u001b[0m \u001b[0mcommand\u001b[0m\u001b[0;34m)\u001b[0m\u001b[0;34m\u001b[0m\u001b[0;34m\u001b[0m\u001b[0m\n\u001b[0m\u001b[1;32m     54\u001b[0m \u001b[0;34m\u001b[0m\u001b[0m\n\u001b[1;32m     55\u001b[0m         \u001b[0;31m# I call get because the returned object is a PointerTensor to the AdditiveSharedTensor\u001b[0m\u001b[0;34m\u001b[0m\u001b[0;34m\u001b[0m\u001b[0;34m\u001b[0m\u001b[0m\n",
            "\u001b[0;32m/usr/local/lib/python3.6/dist-packages/syft-0.2.4-py3.6.egg/syft/workers/base.py\u001b[0m in \u001b[0;36msend_command\u001b[0;34m(self, recipient, message, return_ids)\u001b[0m\n\u001b[1;32m    581\u001b[0m         \u001b[0;32mtry\u001b[0m\u001b[0;34m:\u001b[0m\u001b[0;34m\u001b[0m\u001b[0;34m\u001b[0m\u001b[0m\n\u001b[1;32m    582\u001b[0m             \u001b[0mmessage\u001b[0m \u001b[0;34m=\u001b[0m \u001b[0mTensorCommandMessage\u001b[0m\u001b[0;34m.\u001b[0m\u001b[0mcomputation\u001b[0m\u001b[0;34m(\u001b[0m\u001b[0mname\u001b[0m\u001b[0;34m,\u001b[0m \u001b[0mtarget\u001b[0m\u001b[0;34m,\u001b[0m \u001b[0margs_\u001b[0m\u001b[0;34m,\u001b[0m \u001b[0mkwargs_\u001b[0m\u001b[0;34m,\u001b[0m \u001b[0mreturn_ids\u001b[0m\u001b[0;34m)\u001b[0m\u001b[0;34m\u001b[0m\u001b[0;34m\u001b[0m\u001b[0m\n\u001b[0;32m--> 583\u001b[0;31m             \u001b[0mret_val\u001b[0m \u001b[0;34m=\u001b[0m \u001b[0mself\u001b[0m\u001b[0;34m.\u001b[0m\u001b[0msend_msg\u001b[0m\u001b[0;34m(\u001b[0m\u001b[0mmessage\u001b[0m\u001b[0;34m,\u001b[0m \u001b[0mlocation\u001b[0m\u001b[0;34m=\u001b[0m\u001b[0mrecipient\u001b[0m\u001b[0;34m)\u001b[0m\u001b[0;34m\u001b[0m\u001b[0;34m\u001b[0m\u001b[0m\n\u001b[0m\u001b[1;32m    584\u001b[0m         \u001b[0;32mexcept\u001b[0m \u001b[0mResponseSignatureError\u001b[0m \u001b[0;32mas\u001b[0m \u001b[0me\u001b[0m\u001b[0;34m:\u001b[0m\u001b[0;34m\u001b[0m\u001b[0;34m\u001b[0m\u001b[0m\n\u001b[1;32m    585\u001b[0m             \u001b[0mret_val\u001b[0m \u001b[0;34m=\u001b[0m \u001b[0;32mNone\u001b[0m\u001b[0;34m\u001b[0m\u001b[0;34m\u001b[0m\u001b[0m\n",
            "\u001b[0;32m/usr/local/lib/python3.6/dist-packages/syft-0.2.4-py3.6.egg/syft/workers/base.py\u001b[0m in \u001b[0;36msend_msg\u001b[0;34m(self, message, location)\u001b[0m\n\u001b[1;32m    285\u001b[0m \u001b[0;34m\u001b[0m\u001b[0m\n\u001b[1;32m    286\u001b[0m         \u001b[0;31m# Step 2: send the message and wait for a response\u001b[0m\u001b[0;34m\u001b[0m\u001b[0;34m\u001b[0m\u001b[0;34m\u001b[0m\u001b[0m\n\u001b[0;32m--> 287\u001b[0;31m         \u001b[0mbin_response\u001b[0m \u001b[0;34m=\u001b[0m \u001b[0mself\u001b[0m\u001b[0;34m.\u001b[0m\u001b[0m_send_msg\u001b[0m\u001b[0;34m(\u001b[0m\u001b[0mbin_message\u001b[0m\u001b[0;34m,\u001b[0m \u001b[0mlocation\u001b[0m\u001b[0;34m)\u001b[0m\u001b[0;34m\u001b[0m\u001b[0;34m\u001b[0m\u001b[0m\n\u001b[0m\u001b[1;32m    288\u001b[0m \u001b[0;34m\u001b[0m\u001b[0m\n\u001b[1;32m    289\u001b[0m         \u001b[0;31m# Step 3: deserialize the response\u001b[0m\u001b[0;34m\u001b[0m\u001b[0;34m\u001b[0m\u001b[0;34m\u001b[0m\u001b[0m\n",
            "\u001b[0;32m/usr/local/lib/python3.6/dist-packages/syft-0.2.4-py3.6.egg/syft/workers/virtual.py\u001b[0m in \u001b[0;36m_send_msg\u001b[0;34m(self, message, location)\u001b[0m\n\u001b[1;32m     13\u001b[0m             \u001b[0msleep\u001b[0m\u001b[0;34m(\u001b[0m\u001b[0mself\u001b[0m\u001b[0;34m.\u001b[0m\u001b[0mmessage_pending_time\u001b[0m\u001b[0;34m)\u001b[0m\u001b[0;34m\u001b[0m\u001b[0;34m\u001b[0m\u001b[0m\n\u001b[1;32m     14\u001b[0m \u001b[0;34m\u001b[0m\u001b[0m\n\u001b[0;32m---> 15\u001b[0;31m         \u001b[0;32mreturn\u001b[0m \u001b[0mlocation\u001b[0m\u001b[0;34m.\u001b[0m\u001b[0m_recv_msg\u001b[0m\u001b[0;34m(\u001b[0m\u001b[0mmessage\u001b[0m\u001b[0;34m)\u001b[0m\u001b[0;34m\u001b[0m\u001b[0;34m\u001b[0m\u001b[0m\n\u001b[0m\u001b[1;32m     16\u001b[0m \u001b[0;34m\u001b[0m\u001b[0m\n\u001b[1;32m     17\u001b[0m     \u001b[0;32mdef\u001b[0m \u001b[0m_recv_msg\u001b[0m\u001b[0;34m(\u001b[0m\u001b[0mself\u001b[0m\u001b[0;34m,\u001b[0m \u001b[0mmessage\u001b[0m\u001b[0;34m:\u001b[0m \u001b[0mbin\u001b[0m\u001b[0;34m)\u001b[0m \u001b[0;34m->\u001b[0m \u001b[0mbin\u001b[0m\u001b[0;34m:\u001b[0m\u001b[0;34m\u001b[0m\u001b[0;34m\u001b[0m\u001b[0m\n",
            "\u001b[0;32m/usr/local/lib/python3.6/dist-packages/syft-0.2.4-py3.6.egg/syft/workers/virtual.py\u001b[0m in \u001b[0;36m_recv_msg\u001b[0;34m(self, message)\u001b[0m\n\u001b[1;32m     17\u001b[0m     \u001b[0;32mdef\u001b[0m \u001b[0m_recv_msg\u001b[0m\u001b[0;34m(\u001b[0m\u001b[0mself\u001b[0m\u001b[0;34m,\u001b[0m \u001b[0mmessage\u001b[0m\u001b[0;34m:\u001b[0m \u001b[0mbin\u001b[0m\u001b[0;34m)\u001b[0m \u001b[0;34m->\u001b[0m \u001b[0mbin\u001b[0m\u001b[0;34m:\u001b[0m\u001b[0;34m\u001b[0m\u001b[0;34m\u001b[0m\u001b[0m\n\u001b[1;32m     18\u001b[0m         \u001b[0;34m\"\"\"receive message\"\"\"\u001b[0m\u001b[0;34m\u001b[0m\u001b[0;34m\u001b[0m\u001b[0m\n\u001b[0;32m---> 19\u001b[0;31m         \u001b[0;32mreturn\u001b[0m \u001b[0mself\u001b[0m\u001b[0;34m.\u001b[0m\u001b[0mrecv_msg\u001b[0m\u001b[0;34m(\u001b[0m\u001b[0mmessage\u001b[0m\u001b[0;34m)\u001b[0m\u001b[0;34m\u001b[0m\u001b[0;34m\u001b[0m\u001b[0m\n\u001b[0m",
            "\u001b[0;32m/usr/local/lib/python3.6/dist-packages/syft-0.2.4-py3.6.egg/syft/workers/base.py\u001b[0m in \u001b[0;36mrecv_msg\u001b[0;34m(self, bin_message)\u001b[0m\n\u001b[1;32m    318\u001b[0m \u001b[0;34m\u001b[0m\u001b[0m\n\u001b[1;32m    319\u001b[0m         \u001b[0;31m# Step 1: route message to appropriate function\u001b[0m\u001b[0;34m\u001b[0m\u001b[0;34m\u001b[0m\u001b[0;34m\u001b[0m\u001b[0m\n\u001b[0;32m--> 320\u001b[0;31m         \u001b[0mresponse\u001b[0m \u001b[0;34m=\u001b[0m \u001b[0mself\u001b[0m\u001b[0;34m.\u001b[0m\u001b[0m_message_router\u001b[0m\u001b[0;34m[\u001b[0m\u001b[0mtype\u001b[0m\u001b[0;34m(\u001b[0m\u001b[0mmsg\u001b[0m\u001b[0;34m)\u001b[0m\u001b[0;34m]\u001b[0m\u001b[0;34m(\u001b[0m\u001b[0mmsg\u001b[0m\u001b[0;34m)\u001b[0m\u001b[0;34m\u001b[0m\u001b[0;34m\u001b[0m\u001b[0m\n\u001b[0m\u001b[1;32m    321\u001b[0m \u001b[0;34m\u001b[0m\u001b[0m\n\u001b[1;32m    322\u001b[0m         \u001b[0;31m# Step 2: Serialize the message to simple python objects\u001b[0m\u001b[0;34m\u001b[0m\u001b[0;34m\u001b[0m\u001b[0;34m\u001b[0m\u001b[0m\n",
            "\u001b[0;32m/usr/local/lib/python3.6/dist-packages/syft-0.2.4-py3.6.egg/syft/workers/base.py\u001b[0m in \u001b[0;36mexecute_tensor_command\u001b[0;34m(self, cmd)\u001b[0m\n\u001b[1;32m    432\u001b[0m     \u001b[0;32mdef\u001b[0m \u001b[0mexecute_tensor_command\u001b[0m\u001b[0;34m(\u001b[0m\u001b[0mself\u001b[0m\u001b[0;34m,\u001b[0m \u001b[0mcmd\u001b[0m\u001b[0;34m:\u001b[0m \u001b[0mTensorCommandMessage\u001b[0m\u001b[0;34m)\u001b[0m \u001b[0;34m->\u001b[0m \u001b[0mPointerTensor\u001b[0m\u001b[0;34m:\u001b[0m\u001b[0;34m\u001b[0m\u001b[0;34m\u001b[0m\u001b[0m\n\u001b[1;32m    433\u001b[0m         \u001b[0;32mif\u001b[0m \u001b[0misinstance\u001b[0m\u001b[0;34m(\u001b[0m\u001b[0mcmd\u001b[0m\u001b[0;34m.\u001b[0m\u001b[0maction\u001b[0m\u001b[0;34m,\u001b[0m \u001b[0mComputationAction\u001b[0m\u001b[0;34m)\u001b[0m\u001b[0;34m:\u001b[0m\u001b[0;34m\u001b[0m\u001b[0;34m\u001b[0m\u001b[0m\n\u001b[0;32m--> 434\u001b[0;31m             \u001b[0;32mreturn\u001b[0m \u001b[0mself\u001b[0m\u001b[0;34m.\u001b[0m\u001b[0mexecute_computation_action\u001b[0m\u001b[0;34m(\u001b[0m\u001b[0mcmd\u001b[0m\u001b[0;34m.\u001b[0m\u001b[0maction\u001b[0m\u001b[0;34m)\u001b[0m\u001b[0;34m\u001b[0m\u001b[0;34m\u001b[0m\u001b[0m\n\u001b[0m\u001b[1;32m    435\u001b[0m         \u001b[0;32melse\u001b[0m\u001b[0;34m:\u001b[0m\u001b[0;34m\u001b[0m\u001b[0;34m\u001b[0m\u001b[0m\n\u001b[1;32m    436\u001b[0m             \u001b[0;32mreturn\u001b[0m \u001b[0mself\u001b[0m\u001b[0;34m.\u001b[0m\u001b[0mexecute_communication_action\u001b[0m\u001b[0;34m(\u001b[0m\u001b[0mcmd\u001b[0m\u001b[0;34m.\u001b[0m\u001b[0maction\u001b[0m\u001b[0;34m)\u001b[0m\u001b[0;34m\u001b[0m\u001b[0;34m\u001b[0m\u001b[0m\n",
            "\u001b[0;32m/usr/local/lib/python3.6/dist-packages/syft-0.2.4-py3.6.egg/syft/workers/base.py\u001b[0m in \u001b[0;36mexecute_computation_action\u001b[0;34m(self, action)\u001b[0m\n\u001b[1;32m    466\u001b[0m             \u001b[0;32melse\u001b[0m\u001b[0;34m:\u001b[0m\u001b[0;34m\u001b[0m\u001b[0;34m\u001b[0m\u001b[0m\n\u001b[1;32m    467\u001b[0m                 \u001b[0;32mtry\u001b[0m\u001b[0;34m:\u001b[0m\u001b[0;34m\u001b[0m\u001b[0;34m\u001b[0m\u001b[0m\n\u001b[0;32m--> 468\u001b[0;31m                     \u001b[0mresponse\u001b[0m \u001b[0;34m=\u001b[0m \u001b[0mgetattr\u001b[0m\u001b[0;34m(\u001b[0m\u001b[0m_self\u001b[0m\u001b[0;34m,\u001b[0m \u001b[0mop_name\u001b[0m\u001b[0;34m)\u001b[0m\u001b[0;34m(\u001b[0m\u001b[0;34m*\u001b[0m\u001b[0margs\u001b[0m\u001b[0;34m,\u001b[0m \u001b[0;34m**\u001b[0m\u001b[0mkwargs\u001b[0m\u001b[0;34m)\u001b[0m\u001b[0;34m\u001b[0m\u001b[0;34m\u001b[0m\u001b[0m\n\u001b[0m\u001b[1;32m    469\u001b[0m                 \u001b[0;32mexcept\u001b[0m \u001b[0mTypeError\u001b[0m\u001b[0;34m:\u001b[0m\u001b[0;34m\u001b[0m\u001b[0;34m\u001b[0m\u001b[0m\n\u001b[1;32m    470\u001b[0m                     \u001b[0;31m# TODO Andrew thinks this is gross, please fix. Instead need to properly deserialize strings\u001b[0m\u001b[0;34m\u001b[0m\u001b[0;34m\u001b[0m\u001b[0;34m\u001b[0m\u001b[0m\n",
            "\u001b[0;32m/usr/local/lib/python3.6/dist-packages/syfertext-0.1.0.dev2-py3.6.egg/syfertext/doc.py\u001b[0m in \u001b[0;36mget_encrypted_vector\u001b[0;34m(self, crypto_provider, requires_grad, excluded_tokens, *workers)\u001b[0m\n\u001b[1;32m    237\u001b[0m \u001b[0;34m\u001b[0m\u001b[0m\n\u001b[1;32m    238\u001b[0m         \u001b[0;31m# Storing the average of vectors of each in-vocabulary token's vectors\u001b[0m\u001b[0;34m\u001b[0m\u001b[0;34m\u001b[0m\u001b[0;34m\u001b[0m\u001b[0m\n\u001b[0;32m--> 239\u001b[0;31m         \u001b[0mdoc_vector\u001b[0m \u001b[0;34m=\u001b[0m \u001b[0mself\u001b[0m\u001b[0;34m.\u001b[0m\u001b[0mget_vector\u001b[0m\u001b[0;34m(\u001b[0m\u001b[0mexcluded_tokens\u001b[0m\u001b[0;34m=\u001b[0m\u001b[0mexcluded_tokens\u001b[0m\u001b[0;34m)\u001b[0m\u001b[0;34m\u001b[0m\u001b[0;34m\u001b[0m\u001b[0m\n\u001b[0m\u001b[1;32m    240\u001b[0m \u001b[0;34m\u001b[0m\u001b[0m\n\u001b[1;32m    241\u001b[0m         \u001b[0;31m# Create a Syft/Torch tensor\u001b[0m\u001b[0;34m\u001b[0m\u001b[0;34m\u001b[0m\u001b[0;34m\u001b[0m\u001b[0m\n",
            "\u001b[0;32m/usr/local/lib/python3.6/dist-packages/syfertext-0.1.0.dev2-py3.6.egg/syfertext/doc.py\u001b[0m in \u001b[0;36mget_vector\u001b[0;34m(self, excluded_tokens)\u001b[0m\n\u001b[1;32m    171\u001b[0m         \u001b[0;31m# if the excluded_token dict in None all token are included\u001b[0m\u001b[0;34m\u001b[0m\u001b[0;34m\u001b[0m\u001b[0;34m\u001b[0m\u001b[0m\n\u001b[1;32m    172\u001b[0m         \u001b[0;32mif\u001b[0m \u001b[0mexcluded_tokens\u001b[0m \u001b[0;32mis\u001b[0m \u001b[0;32mNone\u001b[0m\u001b[0;34m:\u001b[0m\u001b[0;34m\u001b[0m\u001b[0;34m\u001b[0m\u001b[0m\n\u001b[0;32m--> 173\u001b[0;31m             \u001b[0;32mreturn\u001b[0m \u001b[0mself\u001b[0m\u001b[0;34m.\u001b[0m\u001b[0mvector\u001b[0m\u001b[0;34m\u001b[0m\u001b[0;34m\u001b[0m\u001b[0m\n\u001b[0m\u001b[1;32m    174\u001b[0m \u001b[0;34m\u001b[0m\u001b[0m\n\u001b[1;32m    175\u001b[0m         \u001b[0;31m# enforcing that the values of the excluded_tokens dict are sets, not lists.\u001b[0m\u001b[0;34m\u001b[0m\u001b[0;34m\u001b[0m\u001b[0;34m\u001b[0m\u001b[0m\n",
            "\u001b[0;32m/usr/local/lib/python3.6/dist-packages/syfertext-0.1.0.dev2-py3.6.egg/syfertext/doc.py\u001b[0m in \u001b[0;36mvector\u001b[0;34m(self)\u001b[0m\n\u001b[1;32m    136\u001b[0m         \u001b[0mvector_count\u001b[0m \u001b[0;34m=\u001b[0m \u001b[0;36m0\u001b[0m\u001b[0;34m\u001b[0m\u001b[0;34m\u001b[0m\u001b[0m\n\u001b[1;32m    137\u001b[0m \u001b[0;34m\u001b[0m\u001b[0m\n\u001b[0;32m--> 138\u001b[0;31m         \u001b[0;32mfor\u001b[0m \u001b[0mtoken\u001b[0m \u001b[0;32min\u001b[0m \u001b[0mself\u001b[0m\u001b[0;34m:\u001b[0m\u001b[0;34m\u001b[0m\u001b[0;34m\u001b[0m\u001b[0m\n\u001b[0m\u001b[1;32m    139\u001b[0m \u001b[0;34m\u001b[0m\u001b[0m\n\u001b[1;32m    140\u001b[0m             \u001b[0;31m# Get the vector of the token if one exists\u001b[0m\u001b[0;34m\u001b[0m\u001b[0;34m\u001b[0m\u001b[0;34m\u001b[0m\u001b[0m\n",
            "\u001b[0;32m/usr/local/lib/python3.6/dist-packages/syfertext-0.1.0.dev2-py3.6.egg/syfertext/doc.py\u001b[0m in \u001b[0;36m__iter__\u001b[0;34m(self)\u001b[0m\n\u001b[1;32m    120\u001b[0m \u001b[0;34m\u001b[0m\u001b[0m\n\u001b[1;32m    121\u001b[0m             \u001b[0;31m# Yield a Token object\u001b[0m\u001b[0;34m\u001b[0m\u001b[0;34m\u001b[0m\u001b[0;34m\u001b[0m\u001b[0m\n\u001b[0;32m--> 122\u001b[0;31m             \u001b[0;32myield\u001b[0m \u001b[0mself\u001b[0m\u001b[0;34m[\u001b[0m\u001b[0mi\u001b[0m\u001b[0;34m]\u001b[0m\u001b[0;34m\u001b[0m\u001b[0;34m\u001b[0m\u001b[0m\n\u001b[0m\u001b[1;32m    123\u001b[0m \u001b[0;34m\u001b[0m\u001b[0m\n\u001b[1;32m    124\u001b[0m     \u001b[0;34m@\u001b[0m\u001b[0mproperty\u001b[0m\u001b[0;34m\u001b[0m\u001b[0;34m\u001b[0m\u001b[0m\n",
            "\u001b[0;32m/usr/local/lib/python3.6/dist-packages/syfertext-0.1.0.dev2-py3.6.egg/syfertext/doc.py\u001b[0m in \u001b[0;36m__getitem__\u001b[0;34m(self, key)\u001b[0m\n\u001b[1;32m     72\u001b[0m \u001b[0;34m\u001b[0m\u001b[0m\n\u001b[1;32m     73\u001b[0m         \u001b[0;31m# Create a Token object\u001b[0m\u001b[0;34m\u001b[0m\u001b[0;34m\u001b[0m\u001b[0;34m\u001b[0m\u001b[0m\n\u001b[0;32m---> 74\u001b[0;31m         \u001b[0mtoken\u001b[0m \u001b[0;34m=\u001b[0m \u001b[0mToken\u001b[0m\u001b[0;34m(\u001b[0m\u001b[0mvocab\u001b[0m\u001b[0;34m=\u001b[0m\u001b[0mself\u001b[0m\u001b[0;34m.\u001b[0m\u001b[0mvocab\u001b[0m\u001b[0;34m,\u001b[0m \u001b[0mdoc\u001b[0m\u001b[0;34m=\u001b[0m\u001b[0mself\u001b[0m\u001b[0;34m,\u001b[0m \u001b[0mtoken_meta\u001b[0m\u001b[0;34m=\u001b[0m\u001b[0mtoken_meta\u001b[0m\u001b[0;34m)\u001b[0m\u001b[0;34m\u001b[0m\u001b[0;34m\u001b[0m\u001b[0m\n\u001b[0m\u001b[1;32m     75\u001b[0m \u001b[0;34m\u001b[0m\u001b[0m\n\u001b[1;32m     76\u001b[0m         \u001b[0;32mreturn\u001b[0m \u001b[0mtoken\u001b[0m\u001b[0;34m\u001b[0m\u001b[0;34m\u001b[0m\u001b[0m\n",
            "\u001b[0;32m/usr/local/lib/python3.6/dist-packages/syfertext-0.1.0.dev2-py3.6.egg/syfertext/token.py\u001b[0m in \u001b[0;36m__init__\u001b[0;34m(self, vocab, doc, token_meta)\u001b[0m\n\u001b[1;32m     23\u001b[0m \u001b[0;34m\u001b[0m\u001b[0m\n\u001b[1;32m     24\u001b[0m         \u001b[0;31m# LexMeta object for the corresponding token string\u001b[0m\u001b[0;34m\u001b[0m\u001b[0;34m\u001b[0m\u001b[0;34m\u001b[0m\u001b[0m\n\u001b[0;32m---> 25\u001b[0;31m         \u001b[0mself\u001b[0m\u001b[0;34m.\u001b[0m\u001b[0mlex\u001b[0m \u001b[0;34m=\u001b[0m \u001b[0mself\u001b[0m\u001b[0;34m.\u001b[0m\u001b[0mdoc\u001b[0m\u001b[0;34m.\u001b[0m\u001b[0mvocab\u001b[0m\u001b[0;34m.\u001b[0m\u001b[0mget_by_orth\u001b[0m\u001b[0;34m(\u001b[0m\u001b[0mself\u001b[0m\u001b[0;34m.\u001b[0m\u001b[0morth\u001b[0m\u001b[0;34m)\u001b[0m\u001b[0;34m\u001b[0m\u001b[0;34m\u001b[0m\u001b[0m\n\u001b[0m\u001b[1;32m     26\u001b[0m \u001b[0;34m\u001b[0m\u001b[0m\n\u001b[1;32m     27\u001b[0m         \u001b[0;31m# Whether the token is followed by a single white\u001b[0m\u001b[0;34m\u001b[0m\u001b[0;34m\u001b[0m\u001b[0;34m\u001b[0m\u001b[0m\n",
            "\u001b[0;32m/usr/local/lib/python3.6/dist-packages/syfertext-0.1.0.dev2-py3.6.egg/syfertext/vocab.py\u001b[0m in \u001b[0;36mget_by_orth\u001b[0;34m(self, orth)\u001b[0m\n\u001b[1;32m    127\u001b[0m         \u001b[0;32melse\u001b[0m\u001b[0;34m:\u001b[0m\u001b[0;34m\u001b[0m\u001b[0;34m\u001b[0m\u001b[0m\n\u001b[1;32m    128\u001b[0m             \u001b[0;31m# Create the new LexemeMeta object.\u001b[0m\u001b[0;34m\u001b[0m\u001b[0;34m\u001b[0m\u001b[0;34m\u001b[0m\u001b[0m\n\u001b[0;32m--> 129\u001b[0;31m             \u001b[0;32mreturn\u001b[0m \u001b[0mself\u001b[0m\u001b[0;34m.\u001b[0m\u001b[0m_create_lex\u001b[0m\u001b[0;34m(\u001b[0m\u001b[0mself\u001b[0m\u001b[0;34m.\u001b[0m\u001b[0mstore\u001b[0m\u001b[0;34m[\u001b[0m\u001b[0morth\u001b[0m\u001b[0;34m]\u001b[0m\u001b[0;34m)\u001b[0m\u001b[0;34m\u001b[0m\u001b[0;34m\u001b[0m\u001b[0m\n\u001b[0m\u001b[1;32m    130\u001b[0m \u001b[0;34m\u001b[0m\u001b[0m\n\u001b[1;32m    131\u001b[0m     \u001b[0;32mdef\u001b[0m \u001b[0m_create_lex\u001b[0m\u001b[0;34m(\u001b[0m\u001b[0mself\u001b[0m\u001b[0;34m,\u001b[0m \u001b[0mstring\u001b[0m\u001b[0;34m:\u001b[0m \u001b[0mstr\u001b[0m\u001b[0;34m)\u001b[0m \u001b[0;34m->\u001b[0m \u001b[0mLexemeMeta\u001b[0m\u001b[0;34m:\u001b[0m\u001b[0;34m\u001b[0m\u001b[0;34m\u001b[0m\u001b[0m\n",
            "\u001b[0;32m/usr/local/lib/python3.6/dist-packages/syfertext-0.1.0.dev2-py3.6.egg/syfertext/vocab.py\u001b[0m in \u001b[0;36m_create_lex\u001b[0;34m(self, string)\u001b[0m\n\u001b[1;32m    146\u001b[0m \u001b[0;34m\u001b[0m\u001b[0m\n\u001b[1;32m    147\u001b[0m         \u001b[0;31m# Traverse all the lexical attributes getters in the dict.\u001b[0m\u001b[0;34m\u001b[0m\u001b[0;34m\u001b[0m\u001b[0;34m\u001b[0m\u001b[0m\n\u001b[0;32m--> 148\u001b[0;31m         \u001b[0;32mfor\u001b[0m \u001b[0mattr\u001b[0m\u001b[0;34m,\u001b[0m \u001b[0mfunc\u001b[0m \u001b[0;32min\u001b[0m \u001b[0mself\u001b[0m\u001b[0;34m.\u001b[0m\u001b[0mlex_attr_getters\u001b[0m\u001b[0;34m.\u001b[0m\u001b[0mitems\u001b[0m\u001b[0;34m(\u001b[0m\u001b[0;34m)\u001b[0m\u001b[0;34m:\u001b[0m\u001b[0;34m\u001b[0m\u001b[0;34m\u001b[0m\u001b[0m\n\u001b[0m\u001b[1;32m    149\u001b[0m             \u001b[0mvalue\u001b[0m \u001b[0;34m=\u001b[0m \u001b[0mfunc\u001b[0m\u001b[0;34m(\u001b[0m\u001b[0mstring\u001b[0m\u001b[0;34m)\u001b[0m\u001b[0;34m\u001b[0m\u001b[0;34m\u001b[0m\u001b[0m\n\u001b[1;32m    150\u001b[0m \u001b[0;34m\u001b[0m\u001b[0m\n",
            "\u001b[0;31mAttributeError\u001b[0m: 'NoneType' object has no attribute 'items'"
          ]
        }
      ]
    },
    {
      "cell_type": "markdown",
      "metadata": {
        "id": "VJPXXq4KL4kM",
        "colab_type": "text"
      },
      "source": [
        "As expected, the returned vector is an SMPC-encrypted PySyft `AdditiveSharingTensor` object. It is encrypted into two shares residing in `bob` and `alice` workers. It has a size of 1200 which corresponds to the size of 4 concatentated token vectors each of size 300.\n",
        "\n",
        "Accessing individual token attributes (within the limits of available access rights) through a `DocPointer` object is not implemented yet, but it will soon be. Please check out [this tutorial](https://bit.ly/2RQ9lwl) on local string tokenization to see how individual tokens can be accessed using a `Doc` object. "
      ]
    },
    {
      "cell_type": "markdown",
      "metadata": {
        "id": "h1AjjWLcL4kO",
        "colab_type": "text"
      },
      "source": [
        "### That's it!"
      ]
    },
    {
      "cell_type": "markdown",
      "metadata": {
        "id": "BDo_6fxwL4kP",
        "colab_type": "text"
      },
      "source": [
        "You now know how to use SyferText to tokenize a remote string by manipulating a string pointer. You have seen how SyferText's distributed architecture make that easy by leveraging PySyft which, in turn, handles all the communication logic between workers.\n",
        "\n",
        "However, since SyferText is still in its developement phase, more features and methods are constantly being added and/or modified. We will make sure to update this tutorial whenever such new features are released."
      ]
    },
    {
      "cell_type": "markdown",
      "metadata": {
        "id": "J1PynIBVL4kQ",
        "colab_type": "text"
      },
      "source": [
        "If you have any questions or suggestions, you can DM me on OpenMined's [slack channel](http://slack.openmined.org/), or otherwise contact me directly on my [Twitter page](https://twitter.com/alan_aboudib)."
      ]
    }
  ]
}