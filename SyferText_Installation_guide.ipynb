{
  "nbformat": 4,
  "nbformat_minor": 0,
  "metadata": {
    "colab": {
      "name": "SyferText-Installation-guide.ipynb",
      "provenance": [],
      "authorship_tag": "ABX9TyMzsXnnit0B1wxxdipR4XEv",
      "include_colab_link": true
    },
    "kernelspec": {
      "name": "python3",
      "display_name": "Python 3"
    }
  },
  "cells": [
    {
      "cell_type": "markdown",
      "metadata": {
        "id": "view-in-github",
        "colab_type": "text"
      },
      "source": [
        "<a href=\"https://colab.research.google.com/github/Nilanshrajput/OpenMined_Gsoc_Progress/blob/master/SyferText_Installation_guide.ipynb\" target=\"_parent\"><img src=\"https://colab.research.google.com/assets/colab-badge.svg\" alt=\"Open In Colab\"/></a>"
      ]
    },
    {
      "cell_type": "code",
      "metadata": {
        "id": "GsFUpap8MYW6",
        "colab_type": "code",
        "colab": {
          "base_uri": "https://localhost:8080/",
          "height": 592
        },
        "outputId": "47d7f21c-c466-4d56-dae7-37a44a8b14d4"
      },
      "source": [
        "# Install Git LFS\n",
        "!curl -s https://packagecloud.io/install/repositories/github/git-lfs/script.deb.sh | sudo bash\n",
        "!sudo apt-get install git-lfs\n",
        "!git lfs install\n",
        "\n",
        "# Install syfertext language model\n",
        "!pip install git+git://github.com/Nilanshrajput/syfertext_en_core_web_lg@master"
      ],
      "execution_count": 2,
      "outputs": [
        {
          "output_type": "stream",
          "text": [
            "Detected operating system as Ubuntu/bionic.\n",
            "Checking for curl...\n",
            "Detected curl...\n",
            "Checking for gpg...\n",
            "Detected gpg...\n",
            "Running apt-get update... done.\n",
            "Installing apt-transport-https... done.\n",
            "Installing /etc/apt/sources.list.d/github_git-lfs.list...done.\n",
            "Importing packagecloud gpg key... done.\n",
            "Running apt-get update... done.\n",
            "\n",
            "The repository is setup! You can now install packages.\n",
            "Reading package lists... Done\n",
            "Building dependency tree       \n",
            "Reading state information... Done\n",
            "git-lfs is already the newest version (2.11.0).\n",
            "The following package was automatically installed and is no longer required:\n",
            "  libnvidia-common-440\n",
            "Use 'sudo apt autoremove' to remove it.\n",
            "0 upgraded, 0 newly installed, 0 to remove and 47 not upgraded.\n",
            "Git LFS initialized.\n",
            "Collecting git+git://github.com/Nilanshrajput/syfertext_en_core_web_lg@master\n",
            "  Cloning git://github.com/Nilanshrajput/syfertext_en_core_web_lg (to revision master) to /tmp/pip-req-build-fspz8laf\n",
            "  Running command git clone -q git://github.com/Nilanshrajput/syfertext_en_core_web_lg /tmp/pip-req-build-fspz8laf\n",
            "  Filtering content: 100% (3/3), 820.61 MiB | 34.09 MiB/s, done.\n",
            "Requirement already satisfied (use --upgrade to upgrade): syfertext-en-core-web-lg==0.0.1 from git+git://github.com/Nilanshrajput/syfertext_en_core_web_lg@master in /usr/local/lib/python3.6/dist-packages\n",
            "Requirement already satisfied: numpy==1.18.2 in /usr/local/lib/python3.6/dist-packages (from syfertext-en-core-web-lg==0.0.1) (1.18.2)\n",
            "Building wheels for collected packages: syfertext-en-core-web-lg\n",
            "  Building wheel for syfertext-en-core-web-lg (setup.py) ... \u001b[?25l\u001b[?25hdone\n",
            "  Created wheel for syfertext-en-core-web-lg: filename=syfertext_en_core_web_lg-0.0.1-cp36-none-any.whl size=774464161 sha256=2b482220715e73369835c64d4ceb1d023de628ed30c11a7b69f59c43466ae4c6\n",
            "  Stored in directory: /tmp/pip-ephem-wheel-cache-399yrnm6/wheels/59/55/ab/309821e4cc31d9f53129229bd3ad759276e30fb8daef7ddeef\n",
            "Successfully built syfertext-en-core-web-lg\n"
          ],
          "name": "stdout"
        }
      ]
    },
    {
      "cell_type": "code",
      "metadata": {
        "id": "-Ln5_gEqMlcI",
        "colab_type": "code",
        "colab": {
          "base_uri": "https://localhost:8080/",
          "height": 139
        },
        "outputId": "e135cabc-ca03-4cd9-88d0-3355dd310129"
      },
      "source": [
        "!git clone https://github.com/OpenMined/SyferText.git"
      ],
      "execution_count": 3,
      "outputs": [
        {
          "output_type": "stream",
          "text": [
            "Cloning into 'SyferText'...\n",
            "remote: Enumerating objects: 50, done.\u001b[K\n",
            "remote: Counting objects:   2% (1/50)\u001b[K\rremote: Counting objects:   4% (2/50)\u001b[K\rremote: Counting objects:   6% (3/50)\u001b[K\rremote: Counting objects:   8% (4/50)\u001b[K\rremote: Counting objects:  10% (5/50)\u001b[K\rremote: Counting objects:  12% (6/50)\u001b[K\rremote: Counting objects:  14% (7/50)\u001b[K\rremote: Counting objects:  16% (8/50)\u001b[K\rremote: Counting objects:  18% (9/50)\u001b[K\rremote: Counting objects:  20% (10/50)\u001b[K\rremote: Counting objects:  22% (11/50)\u001b[K\rremote: Counting objects:  24% (12/50)\u001b[K\rremote: Counting objects:  26% (13/50)\u001b[K\rremote: Counting objects:  28% (14/50)\u001b[K\rremote: Counting objects:  30% (15/50)\u001b[K\rremote: Counting objects:  32% (16/50)\u001b[K\rremote: Counting objects:  34% (17/50)\u001b[K\rremote: Counting objects:  36% (18/50)\u001b[K\rremote: Counting objects:  38% (19/50)\u001b[K\rremote: Counting objects:  40% (20/50)\u001b[K\rremote: Counting objects:  42% (21/50)\u001b[K\rremote: Counting objects:  44% (22/50)\u001b[K\rremote: Counting objects:  46% (23/50)\u001b[K\rremote: Counting objects:  48% (24/50)\u001b[K\rremote: Counting objects:  50% (25/50)\u001b[K\rremote: Counting objects:  52% (26/50)\u001b[K\rremote: Counting objects:  54% (27/50)\u001b[K\rremote: Counting objects:  56% (28/50)\u001b[K\rremote: Counting objects:  58% (29/50)\u001b[K\rremote: Counting objects:  60% (30/50)\u001b[K\rremote: Counting objects:  62% (31/50)\u001b[K\rremote: Counting objects:  64% (32/50)\u001b[K\rremote: Counting objects:  66% (33/50)\u001b[K\rremote: Counting objects:  68% (34/50)\u001b[K\rremote: Counting objects:  70% (35/50)\u001b[K\rremote: Counting objects:  72% (36/50)\u001b[K\rremote: Counting objects:  74% (37/50)\u001b[K\rremote: Counting objects:  76% (38/50)\u001b[K\rremote: Counting objects:  78% (39/50)\u001b[K\rremote: Counting objects:  80% (40/50)\u001b[K\rremote: Counting objects:  82% (41/50)\u001b[K\rremote: Counting objects:  84% (42/50)\u001b[K\rremote: Counting objects:  86% (43/50)\u001b[K\rremote: Counting objects:  88% (44/50)\u001b[K\rremote: Counting objects:  90% (45/50)\u001b[K\rremote: Counting objects:  92% (46/50)\u001b[K\rremote: Counting objects:  94% (47/50)\u001b[K\rremote: Counting objects:  96% (48/50)\u001b[K\rremote: Counting objects:  98% (49/50)\u001b[K\rremote: Counting objects: 100% (50/50)\u001b[K\rremote: Counting objects: 100% (50/50), done.\u001b[K\n",
            "remote: Compressing objects:   2% (1/44)\u001b[K\rremote: Compressing objects:   4% (2/44)\u001b[K\rremote: Compressing objects:   6% (3/44)\u001b[K\rremote: Compressing objects:   9% (4/44)\u001b[K\rremote: Compressing objects:  11% (5/44)\u001b[K\rremote: Compressing objects:  13% (6/44)\u001b[K\rremote: Compressing objects:  15% (7/44)\u001b[K\rremote: Compressing objects:  18% (8/44)\u001b[K\rremote: Compressing objects:  20% (9/44)\u001b[K\rremote: Compressing objects:  22% (10/44)\u001b[K\rremote: Compressing objects:  25% (11/44)\u001b[K\rremote: Compressing objects:  27% (12/44)\u001b[K\rremote: Compressing objects:  29% (13/44)\u001b[K\rremote: Compressing objects:  31% (14/44)\u001b[K\rremote: Compressing objects:  34% (15/44)\u001b[K\rremote: Compressing objects:  36% (16/44)\u001b[K\rremote: Compressing objects:  38% (17/44)\u001b[K\rremote: Compressing objects:  40% (18/44)\u001b[K\rremote: Compressing objects:  43% (19/44)\u001b[K\rremote: Compressing objects:  45% (20/44)\u001b[K\rremote: Compressing objects:  47% (21/44)\u001b[K\rremote: Compressing objects:  50% (22/44)\u001b[K\rremote: Compressing objects:  52% (23/44)\u001b[K\rremote: Compressing objects:  54% (24/44)\u001b[K\rremote: Compressing objects:  56% (25/44)\u001b[K\rremote: Compressing objects:  59% (26/44)\u001b[K\rremote: Compressing objects:  61% (27/44)\u001b[K\rremote: Compressing objects:  63% (28/44)\u001b[K\rremote: Compressing objects:  65% (29/44)\u001b[K\rremote: Compressing objects:  68% (30/44)\u001b[K\rremote: Compressing objects:  70% (31/44)\u001b[K\rremote: Compressing objects:  72% (32/44)\u001b[K\rremote: Compressing objects:  75% (33/44)\u001b[K\rremote: Compressing objects:  77% (34/44)\u001b[K\rremote: Compressing objects:  79% (35/44)\u001b[K\rremote: Compressing objects:  81% (36/44)\u001b[K\rremote: Compressing objects:  84% (37/44)\u001b[K\rremote: Compressing objects:  86% (38/44)\u001b[K\rremote: Compressing objects:  88% (39/44)\u001b[K\rremote: Compressing objects:  90% (40/44)\u001b[K\rremote: Compressing objects:  93% (41/44)\u001b[K\rremote: Compressing objects:  95% (42/44)\u001b[K\rremote: Compressing objects:  97% (43/44)\u001b[K\rremote: Compressing objects: 100% (44/44)\u001b[K\rremote: Compressing objects: 100% (44/44), done.\u001b[K\n",
            "Receiving objects:   0% (1/2093)   \rReceiving objects:   1% (21/2093)   \rReceiving objects:   2% (42/2093)   \rReceiving objects:   3% (63/2093)   \rReceiving objects:   4% (84/2093)   \rReceiving objects:   5% (105/2093)   \rReceiving objects:   6% (126/2093)   \rReceiving objects:   7% (147/2093)   \rReceiving objects:   8% (168/2093)   \rReceiving objects:   9% (189/2093)   \rReceiving objects:  10% (210/2093)   \rReceiving objects:  11% (231/2093)   \rReceiving objects:  12% (252/2093)   \rReceiving objects:  13% (273/2093)   \rReceiving objects:  14% (294/2093)   \rReceiving objects:  15% (314/2093)   \rReceiving objects:  16% (335/2093)   \rReceiving objects:  17% (356/2093)   \rReceiving objects:  18% (377/2093)   \rReceiving objects:  19% (398/2093)   \rReceiving objects:  20% (419/2093)   \rReceiving objects:  21% (440/2093)   \rReceiving objects:  22% (461/2093)   \rReceiving objects:  23% (482/2093)   \rReceiving objects:  24% (503/2093)   \rReceiving objects:  25% (524/2093)   \rReceiving objects:  26% (545/2093)   \rReceiving objects:  27% (566/2093)   \rReceiving objects:  28% (587/2093)   \rReceiving objects:  29% (607/2093)   \rReceiving objects:  30% (628/2093)   \rReceiving objects:  31% (649/2093)   \rReceiving objects:  32% (670/2093)   \rReceiving objects:  33% (691/2093)   \rReceiving objects:  34% (712/2093)   \rReceiving objects:  35% (733/2093)   \rReceiving objects:  36% (754/2093)   \rReceiving objects:  37% (775/2093)   \rReceiving objects:  38% (796/2093)   \rReceiving objects:  39% (817/2093)   \rReceiving objects:  40% (838/2093)   \rReceiving objects:  41% (859/2093)   \rReceiving objects:  42% (880/2093)   \rReceiving objects:  43% (900/2093)   \rReceiving objects:  44% (921/2093)   \rReceiving objects:  45% (942/2093)   \rReceiving objects:  46% (963/2093)   \rReceiving objects:  47% (984/2093)   \rReceiving objects:  48% (1005/2093)   \rReceiving objects:  49% (1026/2093)   \rReceiving objects:  50% (1047/2093)   \rReceiving objects:  51% (1068/2093)   \rReceiving objects:  52% (1089/2093)   \rReceiving objects:  53% (1110/2093)   \rReceiving objects:  54% (1131/2093)   \rReceiving objects:  55% (1152/2093)   \rReceiving objects:  56% (1173/2093)   \rReceiving objects:  57% (1194/2093)   \rReceiving objects:  58% (1214/2093)   \rReceiving objects:  59% (1235/2093)   \rReceiving objects:  60% (1256/2093)   \rReceiving objects:  61% (1277/2093)   \rReceiving objects:  62% (1298/2093)   \rReceiving objects:  63% (1319/2093)   \rReceiving objects:  64% (1340/2093)   \rReceiving objects:  65% (1361/2093)   \rReceiving objects:  66% (1382/2093)   \rReceiving objects:  67% (1403/2093)   \rReceiving objects:  68% (1424/2093)   \rReceiving objects:  69% (1445/2093)   \rReceiving objects:  70% (1466/2093)   \rReceiving objects:  71% (1487/2093)   \rReceiving objects:  72% (1507/2093)   \rReceiving objects:  73% (1528/2093)   \rReceiving objects:  74% (1549/2093)   \rReceiving objects:  75% (1570/2093)   \rReceiving objects:  76% (1591/2093)   \rReceiving objects:  77% (1612/2093)   \rReceiving objects:  78% (1633/2093)   \rReceiving objects:  79% (1654/2093)   \rReceiving objects:  80% (1675/2093)   \rReceiving objects:  81% (1696/2093)   \rReceiving objects:  82% (1717/2093)   \rReceiving objects:  83% (1738/2093)   \rReceiving objects:  84% (1759/2093)   \rReceiving objects:  85% (1780/2093)   \rReceiving objects:  86% (1800/2093)   \rReceiving objects:  87% (1821/2093)   \rReceiving objects:  88% (1842/2093)   \rReceiving objects:  89% (1863/2093)   \rremote: Total 2093 (delta 16), reused 15 (delta 5), pack-reused 2043\u001b[K\n",
            "Receiving objects:  90% (1884/2093)   \rReceiving objects:  91% (1905/2093)   \rReceiving objects:  92% (1926/2093)   \rReceiving objects:  93% (1947/2093)   \rReceiving objects:  94% (1968/2093)   \rReceiving objects:  95% (1989/2093)   \rReceiving objects:  96% (2010/2093)   \rReceiving objects:  97% (2031/2093)   \rReceiving objects:  98% (2052/2093)   \rReceiving objects:  99% (2073/2093)   \rReceiving objects: 100% (2093/2093)   \rReceiving objects: 100% (2093/2093), 923.67 KiB | 10.26 MiB/s, done.\n",
            "Resolving deltas:   0% (0/1377)   \rResolving deltas:   1% (14/1377)   \rResolving deltas:   2% (35/1377)   \rResolving deltas:  10% (146/1377)   \rResolving deltas:  12% (172/1377)   \rResolving deltas:  13% (184/1377)   \rResolving deltas:  14% (206/1377)   \rResolving deltas:  15% (213/1377)   \rResolving deltas:  18% (257/1377)   \rResolving deltas:  19% (262/1377)   \rResolving deltas:  20% (288/1377)   \rResolving deltas:  23% (322/1377)   \rResolving deltas:  24% (332/1377)   \rResolving deltas:  25% (345/1377)   \rResolving deltas:  27% (375/1377)   \rResolving deltas:  28% (386/1377)   \rResolving deltas:  29% (406/1377)   \rResolving deltas:  30% (425/1377)   \rResolving deltas:  31% (433/1377)   \rResolving deltas:  32% (441/1377)   \rResolving deltas:  33% (457/1377)   \rResolving deltas:  34% (476/1377)   \rResolving deltas:  35% (484/1377)   \rResolving deltas:  36% (496/1377)   \rResolving deltas:  38% (528/1377)   \rResolving deltas:  41% (568/1377)   \rResolving deltas:  42% (579/1377)   \rResolving deltas:  43% (601/1377)   \rResolving deltas:  45% (632/1377)   \rResolving deltas:  46% (645/1377)   \rResolving deltas:  47% (650/1377)   \rResolving deltas:  49% (678/1377)   \rResolving deltas:  50% (698/1377)   \rResolving deltas:  51% (711/1377)   \rResolving deltas:  53% (730/1377)   \rResolving deltas:  54% (747/1377)   \rResolving deltas:  57% (798/1377)   \rResolving deltas:  58% (800/1377)   \rResolving deltas:  60% (831/1377)   \rResolving deltas:  61% (848/1377)   \rResolving deltas:  62% (860/1377)   \rResolving deltas:  63% (876/1377)   \rResolving deltas:  64% (887/1377)   \rResolving deltas:  65% (903/1377)   \rResolving deltas:  66% (914/1377)   \rResolving deltas:  67% (925/1377)   \rResolving deltas:  68% (937/1377)   \rResolving deltas:  69% (953/1377)   \rResolving deltas:  70% (973/1377)   \rResolving deltas:  72% (1001/1377)   \rResolving deltas:  75% (1036/1377)   \rResolving deltas:  76% (1053/1377)   \rResolving deltas:  77% (1061/1377)   \rResolving deltas:  82% (1130/1377)   \rResolving deltas:  83% (1144/1377)   \rResolving deltas:  84% (1157/1377)   \rResolving deltas:  87% (1204/1377)   \rResolving deltas:  88% (1213/1377)   \rResolving deltas:  90% (1249/1377)   \rResolving deltas:  91% (1262/1377)   \rResolving deltas:  92% (1270/1377)   \rResolving deltas:  93% (1281/1377)   \rResolving deltas:  94% (1303/1377)   \rResolving deltas:  95% (1313/1377)   \rResolving deltas:  96% (1322/1377)   \rResolving deltas:  97% (1343/1377)   \rResolving deltas:  98% (1354/1377)   \rResolving deltas:  99% (1365/1377)   \rResolving deltas: 100% (1377/1377)   \rResolving deltas: 100% (1377/1377), done.\n"
          ],
          "name": "stdout"
        }
      ]
    },
    {
      "cell_type": "code",
      "metadata": {
        "id": "-TnH8WXaMouw",
        "colab_type": "code",
        "colab": {}
      },
      "source": [
        "import os\n",
        "os.chdir('SyferText')\n",
        "!python setup.py install"
      ],
      "execution_count": null,
      "outputs": []
    },
    {
      "cell_type": "code",
      "metadata": {
        "id": "eyBus_5gRLch",
        "colab_type": "code",
        "colab": {
          "base_uri": "https://localhost:8080/",
          "height": 1000
        },
        "outputId": "7834c3f6-5420-4e00-8921-74b48ac784a1"
      },
      "source": [
        "!git clone https://github.com/OpenMined/PySyft.git\n",
        "import os\n",
        "os.chdir('PySyft')\n",
        "!pip install -e ."
      ],
      "execution_count": 1,
      "outputs": [
        {
          "output_type": "stream",
          "text": [
            "Cloning into 'PySyft'...\n",
            "remote: Enumerating objects: 121, done.\u001b[K\n",
            "remote: Counting objects:   0% (1/121)\u001b[K\rremote: Counting objects:   1% (2/121)\u001b[K\rremote: Counting objects:   2% (3/121)\u001b[K\rremote: Counting objects:   3% (4/121)\u001b[K\rremote: Counting objects:   4% (5/121)\u001b[K\rremote: Counting objects:   5% (7/121)\u001b[K\rremote: Counting objects:   6% (8/121)\u001b[K\rremote: Counting objects:   7% (9/121)\u001b[K\rremote: Counting objects:   8% (10/121)\u001b[K\rremote: Counting objects:   9% (11/121)\u001b[K\rremote: Counting objects:  10% (13/121)\u001b[K\rremote: Counting objects:  11% (14/121)\u001b[K\rremote: Counting objects:  12% (15/121)\u001b[K\rremote: Counting objects:  13% (16/121)\u001b[K\rremote: Counting objects:  14% (17/121)\u001b[K\rremote: Counting objects:  15% (19/121)\u001b[K\rremote: Counting objects:  16% (20/121)\u001b[K\rremote: Counting objects:  17% (21/121)\u001b[K\rremote: Counting objects:  18% (22/121)\u001b[K\rremote: Counting objects:  19% (23/121)\u001b[K\rremote: Counting objects:  20% (25/121)\u001b[K\rremote: Counting objects:  21% (26/121)\u001b[K\rremote: Counting objects:  22% (27/121)\u001b[K\rremote: Counting objects:  23% (28/121)\u001b[K\rremote: Counting objects:  24% (30/121)\u001b[K\rremote: Counting objects:  25% (31/121)\u001b[K\rremote: Counting objects:  26% (32/121)\u001b[K\rremote: Counting objects:  27% (33/121)\u001b[K\rremote: Counting objects:  28% (34/121)\u001b[K\rremote: Counting objects:  29% (36/121)\u001b[K\rremote: Counting objects:  30% (37/121)\u001b[K\rremote: Counting objects:  31% (38/121)\u001b[K\rremote: Counting objects:  32% (39/121)\u001b[K\rremote: Counting objects:  33% (40/121)\u001b[K\rremote: Counting objects:  34% (42/121)\u001b[K\rremote: Counting objects:  35% (43/121)\u001b[K\rremote: Counting objects:  36% (44/121)\u001b[K\rremote: Counting objects:  37% (45/121)\u001b[K\rremote: Counting objects:  38% (46/121)\u001b[K\rremote: Counting objects:  39% (48/121)\u001b[K\rremote: Counting objects:  40% (49/121)\u001b[K\rremote: Counting objects:  41% (50/121)\u001b[K\rremote: Counting objects:  42% (51/121)\u001b[K\rremote: Counting objects:  43% (53/121)\u001b[K\rremote: Counting objects:  44% (54/121)\u001b[K\rremote: Counting objects:  45% (55/121)\u001b[K\rremote: Counting objects:  46% (56/121)\u001b[K\rremote: Counting objects:  47% (57/121)\u001b[K\rremote: Counting objects:  48% (59/121)\u001b[K\rremote: Counting objects:  49% (60/121)\u001b[K\rremote: Counting objects:  50% (61/121)\u001b[K\rremote: Counting objects:  51% (62/121)\u001b[K\rremote: Counting objects:  52% (63/121)\u001b[K\rremote: Counting objects:  53% (65/121)\u001b[K\rremote: Counting objects:  54% (66/121)\u001b[K\rremote: Counting objects:  55% (67/121)\u001b[K\rremote: Counting objects:  56% (68/121)\u001b[K\rremote: Counting objects:  57% (69/121)\u001b[K\rremote: Counting objects:  58% (71/121)\u001b[K\rremote: Counting objects:  59% (72/121)\u001b[K\rremote: Counting objects:  60% (73/121)\u001b[K\rremote: Counting objects:  61% (74/121)\u001b[K\rremote: Counting objects:  62% (76/121)\u001b[K\rremote: Counting objects:  63% (77/121)\u001b[K\rremote: Counting objects:  64% (78/121)\u001b[K\rremote: Counting objects:  65% (79/121)\u001b[K\rremote: Counting objects:  66% (80/121)\u001b[K\rremote: Counting objects:  67% (82/121)\u001b[K\rremote: Counting objects:  68% (83/121)\u001b[K\rremote: Counting objects:  69% (84/121)\u001b[K\rremote: Counting objects:  70% (85/121)\u001b[K\rremote: Counting objects:  71% (86/121)\u001b[K\rremote: Counting objects:  72% (88/121)\u001b[K\rremote: Counting objects:  73% (89/121)\u001b[K\rremote: Counting objects:  74% (90/121)\u001b[K\rremote: Counting objects:  75% (91/121)\u001b[K\rremote: Counting objects:  76% (92/121)\u001b[K\rremote: Counting objects:  77% (94/121)\u001b[K\rremote: Counting objects:  78% (95/121)\u001b[K\rremote: Counting objects:  79% (96/121)\u001b[K\rremote: Counting objects:  80% (97/121)\u001b[K\rremote: Counting objects:  81% (99/121)\u001b[K\rremote: Counting objects:  82% (100/121)\u001b[K\rremote: Counting objects:  83% (101/121)\u001b[K\rremote: Counting objects:  84% (102/121)\u001b[K\rremote: Counting objects:  85% (103/121)\u001b[K\rremote: Counting objects:  86% (105/121)\u001b[K\rremote: Counting objects:  87% (106/121)\u001b[K\rremote: Counting objects:  88% (107/121)\u001b[K\rremote: Counting objects:  89% (108/121)\u001b[K\rremote: Counting objects:  90% (109/121)\u001b[K\rremote: Counting objects:  91% (111/121)\u001b[K\rremote: Counting objects:  92% (112/121)\u001b[K\rremote: Counting objects:  93% (113/121)\u001b[K\rremote: Counting objects:  94% (114/121)\u001b[K\rremote: Counting objects:  95% (115/121)\u001b[K\rremote: Counting objects:  96% (117/121)\u001b[K\rremote: Counting objects:  97% (118/121)\u001b[K\rremote: Counting objects:  98% (119/121)\u001b[K\rremote: Counting objects:  99% (120/121)\u001b[K\rremote: Counting objects: 100% (121/121)\u001b[K\rremote: Counting objects: 100% (121/121), done.\u001b[K\n",
            "remote: Compressing objects: 100% (89/89), done.\u001b[K\n",
            "remote: Total 44868 (delta 54), reused 76 (delta 30), pack-reused 44747\u001b[K\n",
            "Receiving objects: 100% (44868/44868), 43.62 MiB | 22.64 MiB/s, done.\n",
            "Resolving deltas: 100% (30842/30842), done.\n",
            "Obtaining file:///content/PySyft\n",
            "  Installing build dependencies ... \u001b[?25l\u001b[?25hdone\n",
            "  Getting requirements to build wheel ... \u001b[?25l\u001b[?25hdone\n",
            "  Installing backend dependencies ... \u001b[?25l\u001b[?25hdone\n",
            "    Preparing wheel metadata ... \u001b[?25l\u001b[?25hdone\n",
            "Requirement already satisfied: msgpack~=1.0.0 in /usr/local/lib/python3.6/dist-packages (from syft==0.2.7) (1.0.0)\n",
            "Collecting Pillow~=6.2.2\n",
            "\u001b[?25l  Downloading https://files.pythonhosted.org/packages/8a/fd/bbbc569f98f47813c50a116b539d97b3b17a86ac7a309f83b2022d26caf2/Pillow-6.2.2-cp36-cp36m-manylinux1_x86_64.whl (2.1MB)\n",
            "\u001b[K     |████████████████████████████████| 2.1MB 5.5MB/s \n",
            "\u001b[?25hCollecting notebook==5.7.8\n",
            "\u001b[?25l  Downloading https://files.pythonhosted.org/packages/f6/36/89ebfffc9dd8c8dbd81c1ffb53e3d4233ee666414c143959477cb07cc5f5/notebook-5.7.8-py2.py3-none-any.whl (9.0MB)\n",
            "\u001b[K     |████████████████████████████████| 9.0MB 15.3MB/s \n",
            "\u001b[?25hRequirement already satisfied: flask-socketio~=4.2.1 in /usr/local/lib/python3.6/dist-packages/Flask_SocketIO-4.2.1-py3.6.egg (from syft==0.2.7) (4.2.1)\n",
            "Requirement already satisfied: syft-proto==0.4.9 in /usr/local/lib/python3.6/dist-packages/syft_proto-0.4.9-py3.6.egg (from syft==0.2.7) (0.4.9)\n",
            "Collecting torchvision~=0.5.0\n",
            "\u001b[?25l  Downloading https://files.pythonhosted.org/packages/7e/90/6141bf41f5655c78e24f40f710fdd4f8a8aff6c8b7c6f0328240f649bdbe/torchvision-0.5.0-cp36-cp36m-manylinux1_x86_64.whl (4.0MB)\n",
            "\u001b[K     |████████████████████████████████| 4.0MB 49.9MB/s \n",
            "\u001b[?25hCollecting torch~=1.4.0\n",
            "\u001b[?25l  Downloading https://files.pythonhosted.org/packages/24/19/4804aea17cd136f1705a5e98a00618cb8f6ccc375ad8bfa437408e09d058/torch-1.4.0-cp36-cp36m-manylinux1_x86_64.whl (753.4MB)\n",
            "\u001b[K     |████████████████████████████████| 753.4MB 21kB/s \n",
            "\u001b[?25hRequirement already satisfied: Flask~=1.1.1 in /usr/local/lib/python3.6/dist-packages (from syft==0.2.7) (1.1.2)\n",
            "Requirement already satisfied: websocket-client~=0.57.0 in /usr/local/lib/python3.6/dist-packages/websocket_client-0.57.0-py3.6.egg (from syft==0.2.7) (0.57.0)\n",
            "Collecting requests~=2.22.0\n",
            "\u001b[?25l  Downloading https://files.pythonhosted.org/packages/51/bd/23c926cd341ea6b7dd0b2a00aba99ae0f828be89d72b2190f27c11d4b7fb/requests-2.22.0-py2.py3-none-any.whl (57kB)\n",
            "\u001b[K     |████████████████████████████████| 61kB 8.4MB/s \n",
            "\u001b[?25hRequirement already satisfied: requests-toolbelt==0.9.1 in /usr/local/lib/python3.6/dist-packages/requests_toolbelt-0.9.1-py3.6.egg (from syft==0.2.7) (0.9.1)\n",
            "Requirement already satisfied: scipy~=1.4.1 in /usr/local/lib/python3.6/dist-packages (from syft==0.2.7) (1.4.1)\n",
            "Requirement already satisfied: phe~=1.4.0 in /usr/local/lib/python3.6/dist-packages/phe-1.4.0-py3.6.egg (from syft==0.2.7) (1.4.0)\n",
            "Requirement already satisfied: websockets~=8.1.0 in /usr/local/lib/python3.6/dist-packages/websockets-8.1-py3.6-linux-x86_64.egg (from syft==0.2.7) (8.1)\n",
            "Requirement already satisfied: numpy~=1.18.1 in /usr/local/lib/python3.6/dist-packages (from syft==0.2.7) (1.18.2)\n",
            "Requirement already satisfied: lz4~=3.0.2 in /usr/local/lib/python3.6/dist-packages/lz4-3.0.2-py3.6-linux-x86_64.egg (from syft==0.2.7) (3.0.2)\n",
            "Requirement already satisfied: tornado==4.5.3 in /usr/local/lib/python3.6/dist-packages (from syft==0.2.7) (4.5.3)\n",
            "Requirement already satisfied: importlib-resources~=1.5.0 in /usr/local/lib/python3.6/dist-packages/importlib_resources-1.5.0-py3.6.egg (from syft==0.2.7) (1.5.0)\n",
            "Collecting psutil==5.7.0\n",
            "\u001b[?25l  Downloading https://files.pythonhosted.org/packages/c4/b8/3512f0e93e0db23a71d82485ba256071ebef99b227351f0f5540f744af41/psutil-5.7.0.tar.gz (449kB)\n",
            "\u001b[K     |████████████████████████████████| 450kB 48.8MB/s \n",
            "\u001b[?25hRequirement already satisfied: aiortc==0.9.28 in /usr/local/lib/python3.6/dist-packages/aiortc-0.9.28-py3.6-linux-x86_64.egg (from syft==0.2.7) (0.9.28)\n",
            "Requirement already satisfied: openmined.threepio==0.2.0 in /usr/local/lib/python3.6/dist-packages/openmined.threepio-0.2.0-py3.6.egg (from syft==0.2.7) (0.2.0)\n",
            "Requirement already satisfied: tblib~=1.6.0 in /usr/local/lib/python3.6/dist-packages (from syft==0.2.7) (1.6.0)\n",
            "Requirement already satisfied: jinja2 in /usr/local/lib/python3.6/dist-packages (from notebook==5.7.8->syft==0.2.7) (2.11.2)\n",
            "Requirement already satisfied: Send2Trash in /usr/local/lib/python3.6/dist-packages (from notebook==5.7.8->syft==0.2.7) (1.5.0)\n",
            "Requirement already satisfied: jupyter-client>=5.2.0 in /usr/local/lib/python3.6/dist-packages (from notebook==5.7.8->syft==0.2.7) (5.3.5)\n",
            "Requirement already satisfied: prometheus-client in /usr/local/lib/python3.6/dist-packages (from notebook==5.7.8->syft==0.2.7) (0.8.0)\n",
            "Requirement already satisfied: jupyter-core>=4.4.0 in /usr/local/lib/python3.6/dist-packages (from notebook==5.7.8->syft==0.2.7) (4.6.3)\n",
            "Requirement already satisfied: nbformat in /usr/local/lib/python3.6/dist-packages (from notebook==5.7.8->syft==0.2.7) (5.0.7)\n",
            "Requirement already satisfied: terminado>=0.8.1 in /usr/local/lib/python3.6/dist-packages (from notebook==5.7.8->syft==0.2.7) (0.8.3)\n",
            "Requirement already satisfied: nbconvert in /usr/local/lib/python3.6/dist-packages (from notebook==5.7.8->syft==0.2.7) (5.6.1)\n",
            "Requirement already satisfied: pyzmq>=17 in /usr/local/lib/python3.6/dist-packages (from notebook==5.7.8->syft==0.2.7) (19.0.1)\n",
            "Requirement already satisfied: ipykernel in /usr/local/lib/python3.6/dist-packages (from notebook==5.7.8->syft==0.2.7) (4.10.1)\n",
            "Requirement already satisfied: ipython-genutils in /usr/local/lib/python3.6/dist-packages (from notebook==5.7.8->syft==0.2.7) (0.2.0)\n",
            "Requirement already satisfied: traitlets>=4.2.1 in /usr/local/lib/python3.6/dist-packages (from notebook==5.7.8->syft==0.2.7) (4.3.3)\n",
            "Requirement already satisfied: python-socketio>=4.3.0 in /usr/local/lib/python3.6/dist-packages/python_socketio-4.6.0-py3.6.egg (from flask-socketio~=4.2.1->syft==0.2.7) (4.6.0)\n",
            "Collecting protobuf>=3.12.2\n",
            "\u001b[?25l  Downloading https://files.pythonhosted.org/packages/28/05/9867ef8eafd12265267bee138fa2c46ebf34a276ea4cbe184cba4c606e8b/protobuf-3.12.2-cp36-cp36m-manylinux1_x86_64.whl (1.3MB)\n",
            "\u001b[K     |████████████████████████████████| 1.3MB 41.6MB/s \n",
            "\u001b[?25hRequirement already satisfied: six in /usr/local/lib/python3.6/dist-packages (from torchvision~=0.5.0->syft==0.2.7) (1.12.0)\n",
            "Requirement already satisfied: itsdangerous>=0.24 in /usr/local/lib/python3.6/dist-packages (from Flask~=1.1.1->syft==0.2.7) (1.1.0)\n",
            "Requirement already satisfied: click>=5.1 in /usr/local/lib/python3.6/dist-packages (from Flask~=1.1.1->syft==0.2.7) (7.1.2)\n",
            "Requirement already satisfied: Werkzeug>=0.15 in /usr/local/lib/python3.6/dist-packages (from Flask~=1.1.1->syft==0.2.7) (1.0.1)\n",
            "Requirement already satisfied: certifi>=2017.4.17 in /usr/local/lib/python3.6/dist-packages (from requests~=2.22.0->syft==0.2.7) (2020.6.20)\n",
            "Requirement already satisfied: urllib3!=1.25.0,!=1.25.1,<1.26,>=1.21.1 in /usr/local/lib/python3.6/dist-packages (from requests~=2.22.0->syft==0.2.7) (1.24.3)\n",
            "Requirement already satisfied: chardet<3.1.0,>=3.0.2 in /usr/local/lib/python3.6/dist-packages (from requests~=2.22.0->syft==0.2.7) (3.0.4)\n",
            "Collecting idna<2.9,>=2.5\n",
            "\u001b[?25l  Downloading https://files.pythonhosted.org/packages/14/2c/cd551d81dbe15200be1cf41cd03869a46fe7226e7450af7a6545bfc474c9/idna-2.8-py2.py3-none-any.whl (58kB)\n",
            "\u001b[K     |████████████████████████████████| 61kB 8.7MB/s \n",
            "\u001b[?25hRequirement already satisfied: importlib-metadata in /usr/local/lib/python3.6/dist-packages (from importlib-resources~=1.5.0->syft==0.2.7) (1.7.0)\n",
            "Requirement already satisfied: zipp>=0.4 in /usr/local/lib/python3.6/dist-packages (from importlib-resources~=1.5.0->syft==0.2.7) (3.1.0)\n",
            "Requirement already satisfied: aioice<0.7.0,>=0.6.17 in /usr/local/lib/python3.6/dist-packages/aioice-0.6.18-py3.6.egg (from aiortc==0.9.28->syft==0.2.7) (0.6.18)\n",
            "Requirement already satisfied: av<9.0.0,>=8.0.0 in /usr/local/lib/python3.6/dist-packages/av-8.0.2-py3.6-linux-x86_64.egg (from aiortc==0.9.28->syft==0.2.7) (8.0.2)\n",
            "Requirement already satisfied: cffi>=1.0.0 in /usr/local/lib/python3.6/dist-packages (from aiortc==0.9.28->syft==0.2.7) (1.14.0)\n",
            "Requirement already satisfied: crc32c in /usr/local/lib/python3.6/dist-packages/crc32c-2.0.1-py3.6-linux-x86_64.egg (from aiortc==0.9.28->syft==0.2.7) (2.0.1)\n",
            "Requirement already satisfied: cryptography>=2.2 in /usr/local/lib/python3.6/dist-packages/cryptography-2.9.2-py3.6-linux-x86_64.egg (from aiortc==0.9.28->syft==0.2.7) (2.9.2)\n",
            "Requirement already satisfied: dataclasses in /usr/local/lib/python3.6/dist-packages (from aiortc==0.9.28->syft==0.2.7) (0.7)\n",
            "Requirement already satisfied: pyee>=6.0.0 in /usr/local/lib/python3.6/dist-packages/pyee-7.0.2-py3.6.egg (from aiortc==0.9.28->syft==0.2.7) (7.0.2)\n",
            "Requirement already satisfied: pylibsrtp>=0.5.6 in /usr/local/lib/python3.6/dist-packages/pylibsrtp-0.6.6-py3.6-linux-x86_64.egg (from aiortc==0.9.28->syft==0.2.7) (0.6.6)\n",
            "Requirement already satisfied: MarkupSafe>=0.23 in /usr/local/lib/python3.6/dist-packages (from jinja2->notebook==5.7.8->syft==0.2.7) (1.1.1)\n",
            "Requirement already satisfied: python-dateutil>=2.1 in /usr/local/lib/python3.6/dist-packages (from jupyter-client>=5.2.0->notebook==5.7.8->syft==0.2.7) (2.8.1)\n",
            "Requirement already satisfied: jsonschema!=2.5.0,>=2.4 in /usr/local/lib/python3.6/dist-packages (from nbformat->notebook==5.7.8->syft==0.2.7) (2.6.0)\n",
            "Requirement already satisfied: ptyprocess; os_name != \"nt\" in /usr/local/lib/python3.6/dist-packages (from terminado>=0.8.1->notebook==5.7.8->syft==0.2.7) (0.6.0)\n",
            "Requirement already satisfied: pygments in /usr/local/lib/python3.6/dist-packages (from nbconvert->notebook==5.7.8->syft==0.2.7) (2.1.3)\n",
            "Requirement already satisfied: testpath in /usr/local/lib/python3.6/dist-packages (from nbconvert->notebook==5.7.8->syft==0.2.7) (0.4.4)\n",
            "Requirement already satisfied: mistune<2,>=0.8.1 in /usr/local/lib/python3.6/dist-packages (from nbconvert->notebook==5.7.8->syft==0.2.7) (0.8.4)\n",
            "Requirement already satisfied: bleach in /usr/local/lib/python3.6/dist-packages (from nbconvert->notebook==5.7.8->syft==0.2.7) (3.1.5)\n",
            "Requirement already satisfied: pandocfilters>=1.4.1 in /usr/local/lib/python3.6/dist-packages (from nbconvert->notebook==5.7.8->syft==0.2.7) (1.4.2)\n",
            "Requirement already satisfied: entrypoints>=0.2.2 in /usr/local/lib/python3.6/dist-packages (from nbconvert->notebook==5.7.8->syft==0.2.7) (0.3)\n",
            "Requirement already satisfied: defusedxml in /usr/local/lib/python3.6/dist-packages (from nbconvert->notebook==5.7.8->syft==0.2.7) (0.6.0)\n",
            "Requirement already satisfied: ipython>=4.0.0 in /usr/local/lib/python3.6/dist-packages (from ipykernel->notebook==5.7.8->syft==0.2.7) (5.5.0)\n",
            "Requirement already satisfied: decorator in /usr/local/lib/python3.6/dist-packages (from traitlets>=4.2.1->notebook==5.7.8->syft==0.2.7) (4.4.2)\n",
            "Requirement already satisfied: python-engineio>=3.13.0 in /usr/local/lib/python3.6/dist-packages/python_engineio-3.13.1-py3.6.egg (from python-socketio>=4.3.0->flask-socketio~=4.2.1->syft==0.2.7) (3.13.1)\n",
            "Requirement already satisfied: setuptools in /usr/local/lib/python3.6/dist-packages (from protobuf>=3.12.2->syft-proto==0.4.9->syft==0.2.7) (49.1.0)\n",
            "Requirement already satisfied: netifaces in /usr/local/lib/python3.6/dist-packages/netifaces-0.10.9-py3.6-linux-x86_64.egg (from aioice<0.7.0,>=0.6.17->aiortc==0.9.28->syft==0.2.7) (0.10.9)\n",
            "Requirement already satisfied: pycparser in /usr/local/lib/python3.6/dist-packages (from cffi>=1.0.0->aiortc==0.9.28->syft==0.2.7) (2.20)\n",
            "Requirement already satisfied: packaging in /usr/local/lib/python3.6/dist-packages (from bleach->nbconvert->notebook==5.7.8->syft==0.2.7) (20.4)\n",
            "Requirement already satisfied: webencodings in /usr/local/lib/python3.6/dist-packages (from bleach->nbconvert->notebook==5.7.8->syft==0.2.7) (0.5.1)\n",
            "Requirement already satisfied: pexpect; sys_platform != \"win32\" in /usr/local/lib/python3.6/dist-packages (from ipython>=4.0.0->ipykernel->notebook==5.7.8->syft==0.2.7) (4.8.0)\n",
            "Requirement already satisfied: pickleshare in /usr/local/lib/python3.6/dist-packages (from ipython>=4.0.0->ipykernel->notebook==5.7.8->syft==0.2.7) (0.7.5)\n",
            "Requirement already satisfied: prompt-toolkit<2.0.0,>=1.0.4 in /usr/local/lib/python3.6/dist-packages (from ipython>=4.0.0->ipykernel->notebook==5.7.8->syft==0.2.7) (1.0.18)\n",
            "Requirement already satisfied: simplegeneric>0.8 in /usr/local/lib/python3.6/dist-packages (from ipython>=4.0.0->ipykernel->notebook==5.7.8->syft==0.2.7) (0.8.1)\n",
            "Requirement already satisfied: pyparsing>=2.0.2 in /usr/local/lib/python3.6/dist-packages (from packaging->bleach->nbconvert->notebook==5.7.8->syft==0.2.7) (2.4.7)\n",
            "Requirement already satisfied: wcwidth in /usr/local/lib/python3.6/dist-packages (from prompt-toolkit<2.0.0,>=1.0.4->ipython>=4.0.0->ipykernel->notebook==5.7.8->syft==0.2.7) (0.2.5)\n",
            "Building wheels for collected packages: psutil\n",
            "  Building wheel for psutil (setup.py) ... \u001b[?25l\u001b[?25hdone\n",
            "  Created wheel for psutil: filename=psutil-5.7.0-cp36-cp36m-linux_x86_64.whl size=272671 sha256=c6157773131dd70c4ecdc96c690d67b7460c5d13bfb6b012980df6e25eaefcba\n",
            "  Stored in directory: /root/.cache/pip/wheels/d7/69/b4/3200b95828d1f0ddb3cb5699083717f4fdbd9b4223d0644c57\n",
            "Successfully built psutil\n",
            "\u001b[31mERROR: google-colab 1.0.0 has requirement notebook~=5.2.0, but you'll have notebook 5.7.8 which is incompatible.\u001b[0m\n",
            "\u001b[31mERROR: google-colab 1.0.0 has requirement requests~=2.23.0, but you'll have requests 2.22.0 which is incompatible.\u001b[0m\n",
            "\u001b[31mERROR: datascience 0.10.6 has requirement folium==0.2.1, but you'll have folium 0.8.3 which is incompatible.\u001b[0m\n",
            "\u001b[31mERROR: albumentations 0.1.12 has requirement imgaug<0.2.7,>=0.2.5, but you'll have imgaug 0.2.9 which is incompatible.\u001b[0m\n",
            "\u001b[31mERROR: syfertext 0.0.1 has requirement tqdm==4.36.1, but you'll have tqdm 4.41.1 which is incompatible.\u001b[0m\n",
            "Installing collected packages: Pillow, notebook, torch, torchvision, idna, requests, psutil, syft, protobuf\n",
            "  Found existing installation: Pillow 7.0.0\n",
            "    Uninstalling Pillow-7.0.0:\n",
            "      Successfully uninstalled Pillow-7.0.0\n",
            "  Found existing installation: notebook 5.2.2\n",
            "    Uninstalling notebook-5.2.2:\n",
            "      Successfully uninstalled notebook-5.2.2\n",
            "  Found existing installation: torch 1.5.1+cu101\n",
            "    Uninstalling torch-1.5.1+cu101:\n",
            "      Successfully uninstalled torch-1.5.1+cu101\n",
            "  Found existing installation: torchvision 0.6.1+cu101\n",
            "    Uninstalling torchvision-0.6.1+cu101:\n",
            "      Successfully uninstalled torchvision-0.6.1+cu101\n",
            "  Found existing installation: idna 2.10\n",
            "    Uninstalling idna-2.10:\n",
            "      Successfully uninstalled idna-2.10\n",
            "  Found existing installation: requests 2.23.0\n",
            "    Uninstalling requests-2.23.0:\n",
            "      Successfully uninstalled requests-2.23.0\n",
            "  Found existing installation: psutil 5.4.8\n",
            "    Uninstalling psutil-5.4.8:\n",
            "      Successfully uninstalled psutil-5.4.8\n",
            "  Found existing installation: syft 0.2.7\n",
            "    Uninstalling syft-0.2.7:\n",
            "      Successfully uninstalled syft-0.2.7\n",
            "  Running setup.py develop for syft\n",
            "  Found existing installation: protobuf 3.10.0\n",
            "    Uninstalling protobuf-3.10.0:\n",
            "      Successfully uninstalled protobuf-3.10.0\n",
            "Successfully installed Pillow-6.2.2 idna-2.8 notebook-5.7.8 protobuf-3.12.2 psutil-5.7.0 requests-2.22.0 syft torch-1.4.0 torchvision-0.5.0\n"
          ],
          "name": "stdout"
        },
        {
          "output_type": "display_data",
          "data": {
            "application/vnd.colab-display-data+json": {
              "pip_warning": {
                "packages": [
                  "PIL",
                  "google",
                  "idna",
                  "requests"
                ]
              }
            }
          },
          "metadata": {
            "tags": []
          }
        }
      ]
    },
    {
      "cell_type": "markdown",
      "metadata": {
        "id": "UBBB4mIvM7gn",
        "colab_type": "text"
      },
      "source": [
        "Restart the runtime/enviornment after this step"
      ]
    },
    {
      "cell_type": "markdown",
      "metadata": {
        "id": "2ogmEFsnM2cM",
        "colab_type": "text"
      },
      "source": [
        "Test The installation"
      ]
    },
    {
      "cell_type": "code",
      "metadata": {
        "id": "G9ZnoynbMupf",
        "colab_type": "code",
        "colab": {
          "base_uri": "https://localhost:8080/",
          "height": 87
        },
        "outputId": "2fc2b5b5-7a6b-40e0-9c59-c518de325f41"
      },
      "source": [
        "import syft as sy\n",
        "import torch\n",
        "\n",
        "import syfertext\n",
        "import numpy as np\n",
        "\n",
        "\n",
        "hook = sy.TorchHook(torch)\n",
        "me = hook.local_worker\n",
        "\n",
        "nlp = syfertext.load(\"en_core_web_lg\", owner=me)"
      ],
      "execution_count": 1,
      "outputs": [
        {
          "output_type": "stream",
          "text": [
            "WARNING:root:Torch was already hooked... skipping hooking process\n",
            "WARNING:root:Torch was already hooked... skipping hooking process\n",
            "WARNING:root:Torch was already hooked... skipping hooking process\n",
            "WARNING:root:Torch was already hooked... skipping hooking process\n"
          ],
          "name": "stderr"
        }
      ]
    },
    {
      "cell_type": "code",
      "metadata": {
        "id": "oW29GndfMw9v",
        "colab_type": "code",
        "colab": {
          "base_uri": "https://localhost:8080/",
          "height": 35
        },
        "outputId": "ea8d3f32-31ea-4209-8ad7-fdceb1446855"
      },
      "source": [
        "my_str = 'Dr. doom! is  ({token-izing a python! string'\n",
        "\n",
        "# Tokenization happens here\n",
        "doc = nlp(my_str)\n",
        "\n",
        "# A Doc object is returned\n",
        "type(doc), doc.owner, len(doc)"
      ],
      "execution_count": 2,
      "outputs": [
        {
          "output_type": "execute_result",
          "data": {
            "text/plain": [
              "(syfertext.doc.Doc, <VirtualWorker id:me #objects:0>, 14)"
            ]
          },
          "metadata": {
            "tags": []
          },
          "execution_count": 2
        }
      ]
    },
    {
      "cell_type": "code",
      "metadata": {
        "id": "IZXBrlMrMy0n",
        "colab_type": "code",
        "colab": {
          "base_uri": "https://localhost:8080/",
          "height": 260
        },
        "outputId": "c8dd360e-6825-465c-f67a-3438523c4d02"
      },
      "source": [
        "for token in doc:\n",
        "    print('%10s | %5s '%(token, token.space_after))"
      ],
      "execution_count": 5,
      "outputs": [
        {
          "output_type": "stream",
          "text": [
            "       Dr. |  True \n",
            "      doom | False \n",
            "         ! |  True \n",
            "        is |  True \n",
            "           | False \n",
            "         ( | False \n",
            "         { | False \n",
            "     token | False \n",
            "         - | False \n",
            "     izing |  True \n",
            "         a |  True \n",
            "    python | False \n",
            "         ! |  True \n",
            "    string | False \n"
          ],
          "name": "stdout"
        }
      ]
    },
    {
      "cell_type": "code",
      "metadata": {
        "id": "ccxVqhoruRus",
        "colab_type": "code",
        "colab": {}
      },
      "source": [
        ""
      ],
      "execution_count": null,
      "outputs": []
    }
  ]
}