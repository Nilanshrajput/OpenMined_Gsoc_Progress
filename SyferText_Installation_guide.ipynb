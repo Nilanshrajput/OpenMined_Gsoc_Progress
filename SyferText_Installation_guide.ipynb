{
  "nbformat": 4,
  "nbformat_minor": 0,
  "metadata": {
    "colab": {
      "name": "SyferText-Installation-guide.ipynb",
      "provenance": [],
      "authorship_tag": "ABX9TyO0oz5xvxQ6FzEnrBZhIdLj",
      "include_colab_link": true
    },
    "kernelspec": {
      "name": "python3",
      "display_name": "Python 3"
    }
  },
  "cells": [
    {
      "cell_type": "markdown",
      "metadata": {
        "id": "view-in-github",
        "colab_type": "text"
      },
      "source": [
        "<a href=\"https://colab.research.google.com/github/Nilanshrajput/OpenMined_Gsoc_Progress/blob/master/SyferText_Installation_guide.ipynb\" target=\"_parent\"><img src=\"https://colab.research.google.com/assets/colab-badge.svg\" alt=\"Open In Colab\"/></a>"
      ]
    },
    {
      "cell_type": "code",
      "metadata": {
        "id": "GsFUpap8MYW6",
        "colab_type": "code",
        "colab": {}
      },
      "source": [
        "# Install Git LFS\n",
        "!curl -s https://packagecloud.io/install/repositories/github/git-lfs/script.deb.sh | sudo bash\n",
        "!sudo apt-get install git-lfs\n",
        "!git lfs install\n",
        "\n",
        "# Install syfertext language model\n",
        "!pip install git+git://github.com/Nilanshrajput/syfertext_en_core_web_lg@master"
      ],
      "execution_count": 0,
      "outputs": []
    },
    {
      "cell_type": "code",
      "metadata": {
        "id": "-Ln5_gEqMlcI",
        "colab_type": "code",
        "colab": {}
      },
      "source": [
        "!git clone https://github.com/OpenMined/SyferText.git"
      ],
      "execution_count": 0,
      "outputs": []
    },
    {
      "cell_type": "code",
      "metadata": {
        "id": "-TnH8WXaMouw",
        "colab_type": "code",
        "colab": {}
      },
      "source": [
        "import os\n",
        "os.chdir('/SyferText')\n",
        "!python setup.py install"
      ],
      "execution_count": 0,
      "outputs": []
    },
    {
      "cell_type": "markdown",
      "metadata": {
        "id": "UBBB4mIvM7gn",
        "colab_type": "text"
      },
      "source": [
        "Restart the runtime/enviornment after this step"
      ]
    },
    {
      "cell_type": "markdown",
      "metadata": {
        "id": "2ogmEFsnM2cM",
        "colab_type": "text"
      },
      "source": [
        "Test The installation"
      ]
    },
    {
      "cell_type": "code",
      "metadata": {
        "id": "G9ZnoynbMupf",
        "colab_type": "code",
        "colab": {}
      },
      "source": [
        "import syft as sy\n",
        "import torch\n",
        "\n",
        "import syfertext\n",
        "import numpy as np\n",
        "\n",
        "\n",
        "hook = sy.TorchHook(torch)\n",
        "me = hook.local_worker\n",
        "\n",
        "nlp = syfertext.load(\"en_core_web_lg\", owner=me)"
      ],
      "execution_count": 0,
      "outputs": []
    },
    {
      "cell_type": "code",
      "metadata": {
        "id": "oW29GndfMw9v",
        "colab_type": "code",
        "colab": {}
      },
      "source": [
        "my_str = 'Dr. doom! is  ({token-izing a python! string'\n",
        "\n",
        "# Tokenization happens here\n",
        "doc = nlp(my_str)\n",
        "\n",
        "# A Doc object is returned\n",
        "type(doc), doc.owner, len(doc)"
      ],
      "execution_count": 0,
      "outputs": []
    },
    {
      "cell_type": "code",
      "metadata": {
        "id": "IZXBrlMrMy0n",
        "colab_type": "code",
        "colab": {}
      },
      "source": [
        "for token in doc:\n",
        "    print('%10s | %5s | %3s | %s'%(token, token.space_after, token.start_pos,token.stop_pos))"
      ],
      "execution_count": 0,
      "outputs": []
    }
  ]
}